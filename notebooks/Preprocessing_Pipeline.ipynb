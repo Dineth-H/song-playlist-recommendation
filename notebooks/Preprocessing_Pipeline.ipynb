{
 "cells": [
  {
   "cell_type": "code",
   "execution_count": null,
   "metadata": {
    "application/vnd.databricks.v1+cell": {
     "inputWidgets": {},
     "nuid": "f7619a07-4064-4b77-b6ca-a8b3e4562894",
     "showTitle": false,
     "title": ""
    }
   },
   "outputs": [
    {
     "data": {
      "text/html": [
       "<style scoped>\n",
       "  .ansiout {\n",
       "    display: block;\n",
       "    unicode-bidi: embed;\n",
       "    white-space: pre-wrap;\n",
       "    word-wrap: break-word;\n",
       "    word-break: break-all;\n",
       "    font-family: \"Source Code Pro\", \"Menlo\", monospace;;\n",
       "    font-size: 13px;\n",
       "    color: #555;\n",
       "    margin-left: 4px;\n",
       "    line-height: 19px;\n",
       "  }\n",
       "</style>\n",
       "<div class=\"ansiout\"></div>"
      ]
     },
     "metadata": {
      "application/vnd.databricks.v1+output": {
       "addedWidgets": {},
       "arguments": {},
       "data": "<div class=\"ansiout\"></div>",
       "datasetInfos": [],
       "metadata": {},
       "removedWidgets": [],
       "type": "html"
      }
     },
     "output_type": "display_data"
    }
   ],
   "source": [
    "# Libraries\n",
    "from pyspark.sql import SparkSession\n",
    "from pyspark.sql.functions import *\n",
    "from pyspark.sql.types import *\n",
    "from pyspark.sql.window import Window\n",
    "from datetime import datetime\n",
    "from pyspark.ml.feature import HashingTF, IDF, Tokenizer, CountVectorizer\n",
    "from pyspark.sql import SparkSession\n",
    "from pyspark.sql.types import *\n",
    "import os"
   ]
  },
  {
   "cell_type": "code",
   "execution_count": null,
   "metadata": {
    "application/vnd.databricks.v1+cell": {
     "inputWidgets": {},
     "nuid": "d62a98bd-6978-4d72-a740-93f0550fecde",
     "showTitle": false,
     "title": ""
    }
   },
   "outputs": [
    {
     "data": {
      "text/html": [
       "<style scoped>\n",
       "  .ansiout {\n",
       "    display: block;\n",
       "    unicode-bidi: embed;\n",
       "    white-space: pre-wrap;\n",
       "    word-wrap: break-word;\n",
       "    word-break: break-all;\n",
       "    font-family: \"Source Code Pro\", \"Menlo\", monospace;;\n",
       "    font-size: 13px;\n",
       "    color: #555;\n",
       "    margin-left: 4px;\n",
       "    line-height: 19px;\n",
       "  }\n",
       "</style>\n",
       "<div class=\"ansiout\"></div>"
      ]
     },
     "metadata": {
      "application/vnd.databricks.v1+output": {
       "addedWidgets": {},
       "arguments": {},
       "data": "<div class=\"ansiout\"></div>",
       "datasetInfos": [],
       "metadata": {},
       "removedWidgets": [],
       "type": "html"
      }
     },
     "output_type": "display_data"
    }
   ],
   "source": [
    "spark = SparkSession.builder.\\\n",
    "                    appName(\"spotify\").\\\n",
    "                    config(\"spark.jars.packages\", \"org.mongodb.spark:mongo-spark-connector_2.12:3.0.1\").\\\n",
    "                    config(\"spark.mongodb.input.uri\", \"mongodb+srv://**********\").\\\n",
    "                    config(\"spark.mongodb.output.uri\", \"mongodb+srv://**********\").\\\n",
    "                    config(\"spark.network.timeout\", \"7200s\").\\\n",
    "                    config(\"spark.executor.heartbeatInterval\", \"1200s\").\\\n",
    "                    getOrCreate()"
   ]
  },
  {
   "cell_type": "code",
   "execution_count": null,
   "metadata": {
    "application/vnd.databricks.v1+cell": {
     "inputWidgets": {},
     "nuid": "a758b007-9afa-4d9c-abab-cdebc389dacd",
     "showTitle": false,
     "title": ""
    }
   },
   "outputs": [
    {
     "data": {
      "text/html": [
       "<style scoped>\n",
       "  .ansiout {\n",
       "    display: block;\n",
       "    unicode-bidi: embed;\n",
       "    white-space: pre-wrap;\n",
       "    word-wrap: break-word;\n",
       "    word-break: break-all;\n",
       "    font-family: \"Source Code Pro\", \"Menlo\", monospace;;\n",
       "    font-size: 13px;\n",
       "    color: #555;\n",
       "    margin-left: 4px;\n",
       "    line-height: 19px;\n",
       "  }\n",
       "</style>\n",
       "<div class=\"ansiout\">Out[3]: </div>"
      ]
     },
     "metadata": {
      "application/vnd.databricks.v1+output": {
       "addedWidgets": {},
       "arguments": {},
       "data": "<div class=\"ansiout\">Out[3]: </div>",
       "datasetInfos": [],
       "metadata": {},
       "removedWidgets": [],
       "type": "html"
      }
     },
     "output_type": "display_data"
    },
    {
     "data": {
      "text/html": [
       "\n",
       "            <div>\n",
       "                <p><b>SparkSession - hive</b></p>\n",
       "                \n",
       "        <div>\n",
       "            <p><b>SparkContext</b></p>\n",
       "\n",
       "            <p><a href=\"/?o=2445419470604372#setting/sparkui/0227-195645-gnrlq5jp/driver-392933056725093859\">Spark UI</a></p>\n",
       "\n",
       "            <dl>\n",
       "              <dt>Version</dt>\n",
       "                <dd><code>v3.2.1</code></dd>\n",
       "              <dt>Master</dt>\n",
       "                <dd><code>spark://10.147.238.15:7077</code></dd>\n",
       "              <dt>AppName</dt>\n",
       "                <dd><code>Databricks Shell</code></dd>\n",
       "            </dl>\n",
       "        </div>\n",
       "        \n",
       "            </div>\n",
       "        "
      ]
     },
     "metadata": {
      "application/vnd.databricks.v1+output": {
       "addedWidgets": {},
       "arguments": {},
       "data": "\n            <div>\n                <p><b>SparkSession - hive</b></p>\n                \n        <div>\n            <p><b>SparkContext</b></p>\n\n            <p><a href=\"/?o=2445419470604372#setting/sparkui/0227-195645-gnrlq5jp/driver-392933056725093859\">Spark UI</a></p>\n\n            <dl>\n              <dt>Version</dt>\n                <dd><code>v3.2.1</code></dd>\n              <dt>Master</dt>\n                <dd><code>spark://10.147.238.15:7077</code></dd>\n              <dt>AppName</dt>\n                <dd><code>Databricks Shell</code></dd>\n            </dl>\n        </div>\n        \n            </div>\n        ",
       "datasetInfos": [],
       "metadata": {},
       "removedWidgets": [],
       "textData": null,
       "type": "htmlSandbox"
      }
     },
     "output_type": "display_data"
    }
   ],
   "source": [
    "spark"
   ]
  },
  {
   "cell_type": "markdown",
   "metadata": {
    "application/vnd.databricks.v1+cell": {
     "inputWidgets": {},
     "nuid": "55a16bd0-ae76-4231-aaf6-9488374ce9d6",
     "showTitle": false,
     "title": ""
    }
   },
   "source": [
    "Configuration for accessing S3"
   ]
  },
  {
   "cell_type": "code",
   "execution_count": null,
   "metadata": {
    "application/vnd.databricks.v1+cell": {
     "inputWidgets": {},
     "nuid": "5bdd84db-954c-47fe-9649-79497dfa92e0",
     "showTitle": false,
     "title": ""
    }
   },
   "outputs": [
    {
     "data": {
      "text/html": [
       "<style scoped>\n",
       "  .ansiout {\n",
       "    display: block;\n",
       "    unicode-bidi: embed;\n",
       "    white-space: pre-wrap;\n",
       "    word-wrap: break-word;\n",
       "    word-break: break-all;\n",
       "    font-family: \"Source Code Pro\", \"Menlo\", monospace;;\n",
       "    font-size: 13px;\n",
       "    color: #555;\n",
       "    margin-left: 4px;\n",
       "    line-height: 19px;\n",
       "  }\n",
       "</style>\n",
       "<div class=\"ansiout\"></div>"
      ]
     },
     "metadata": {
      "application/vnd.databricks.v1+output": {
       "addedWidgets": {},
       "arguments": {},
       "data": "<div class=\"ansiout\"></div>",
       "datasetInfos": [],
       "metadata": {},
       "removedWidgets": [],
       "type": "html"
      }
     },
     "output_type": "display_data"
    }
   ],
   "source": [
    "# Using Chandrish's access creds\n",
    "ACCESS_KEY = \"****\"\n",
    "SECRET_KEY = \"****\"\n",
    "spark._jsc.hadoopConfiguration().set(\"spark.jars.packages\", \"org.apache.hadoop:hadoop-aws:3.3.1\")\n",
    "spark._jsc.hadoopConfiguration().set(\"spark.hadoop.fs.s3a.impl\", \"org.apache.hadoop.fs.s3a.S3AFileSystem\")\n",
    "spark._jsc.hadoopConfiguration().set(\"fs.s3a.access.key\", ACCESS_KEY)\n",
    "spark._jsc.hadoopConfiguration().set(\"fs.s3a.secret.key\", SECRET_KEY)"
   ]
  },
  {
   "cell_type": "markdown",
   "metadata": {
    "application/vnd.databricks.v1+cell": {
     "inputWidgets": {},
     "nuid": "f31b8f88-e139-4dcc-bbc2-c3affef59032",
     "showTitle": false,
     "title": ""
    }
   },
   "source": [
    "Reading Data from S3"
   ]
  },
  {
   "cell_type": "markdown",
   "metadata": {
    "application/vnd.databricks.v1+cell": {
     "inputWidgets": {},
     "nuid": "7f195eed-c647-4724-83a8-7ee436a38781",
     "showTitle": false,
     "title": ""
    }
   },
   "source": [
    "#### Different Cluster settings\n",
    "We tried to read data with two cluster settings:\n",
    "- Cluster Setting 1: <br>\n",
    "  9.1 LTS (includes Apache Spark 3.1.2, Scala 2.12) <br> \n",
    "  md5.large: 8gb memory 2 cores <br>\n",
    "  Time: 7-8 mins (for reading data) <br>\n",
    "  \n",
    "- Cluster Setting 2: <br>\n",
    "  10.3 (includes Apache Spark 3.2.1, Scala 2.12) <br>\n",
    "  i3.2xlarge: 61 GB memory 8 cores <br>\n",
    "  Time: 2.17 minutes"
   ]
  },
  {
   "cell_type": "markdown",
   "metadata": {
    "application/vnd.databricks.v1+cell": {
     "inputWidgets": {},
     "nuid": "dbd911b5-40b8-4258-9f20-e54cc788ddad",
     "showTitle": false,
     "title": ""
    }
   },
   "source": [
    "Reading playlists file, which is around 33GB and in json format"
   ]
  },
  {
   "cell_type": "code",
   "execution_count": null,
   "metadata": {
    "application/vnd.databricks.v1+cell": {
     "inputWidgets": {},
     "nuid": "2a18ce36-ee32-484c-876f-9e63682dfff5",
     "showTitle": false,
     "title": ""
    }
   },
   "outputs": [
    {
     "data": {
      "text/html": [
       "<style scoped>\n",
       "  .ansiout {\n",
       "    display: block;\n",
       "    unicode-bidi: embed;\n",
       "    white-space: pre-wrap;\n",
       "    word-wrap: break-word;\n",
       "    word-break: break-all;\n",
       "    font-family: \"Source Code Pro\", \"Menlo\", monospace;;\n",
       "    font-size: 13px;\n",
       "    color: #555;\n",
       "    margin-left: 4px;\n",
       "    line-height: 19px;\n",
       "  }\n",
       "</style>\n",
       "<div class=\"ansiout\"></div>"
      ]
     },
     "metadata": {
      "application/vnd.databricks.v1+output": {
       "addedWidgets": {},
       "arguments": {},
       "data": "<div class=\"ansiout\"></div>",
       "datasetInfos": [],
       "metadata": {},
       "removedWidgets": [],
       "type": "html"
      }
     },
     "output_type": "display_data"
    }
   ],
   "source": [
    "# reading playlists file\n",
    "playlist_file = 's3a://spotify-recommendation/playlists'\n",
    "lyrics_file = 's3a://spotify-recommendation/lyrics'\n",
    "play_df = spark.read.option(\"multiline\", \"true\").json(playlist_file)"
   ]
  },
  {
   "cell_type": "markdown",
   "metadata": {
    "application/vnd.databricks.v1+cell": {
     "inputWidgets": {},
     "nuid": "1f6c6b4e-d746-4fcb-ae9f-45c719519c9a",
     "showTitle": false,
     "title": ""
    }
   },
   "source": [
    "Reading the lyrics file, which has lyrics for 130k songs"
   ]
  },
  {
   "cell_type": "code",
   "execution_count": null,
   "metadata": {
    "application/vnd.databricks.v1+cell": {
     "inputWidgets": {},
     "nuid": "d419d9af-a2b0-4cfe-bacb-0d99fee55585",
     "showTitle": false,
     "title": ""
    }
   },
   "outputs": [
    {
     "data": {
      "text/html": [
       "<style scoped>\n",
       "  .ansiout {\n",
       "    display: block;\n",
       "    unicode-bidi: embed;\n",
       "    white-space: pre-wrap;\n",
       "    word-wrap: break-word;\n",
       "    word-break: break-all;\n",
       "    font-family: \"Source Code Pro\", \"Menlo\", monospace;;\n",
       "    font-size: 13px;\n",
       "    color: #555;\n",
       "    margin-left: 4px;\n",
       "    line-height: 19px;\n",
       "  }\n",
       "</style>\n",
       "<div class=\"ansiout\"></div>"
      ]
     },
     "metadata": {
      "application/vnd.databricks.v1+output": {
       "addedWidgets": {},
       "arguments": {},
       "data": "<div class=\"ansiout\"></div>",
       "datasetInfos": [],
       "metadata": {},
       "removedWidgets": [],
       "type": "html"
      }
     },
     "output_type": "display_data"
    }
   ],
   "source": [
    "# reading lyrics file\n",
    "lyrics_df = spark.read.json(lyrics_file)\n",
    "lyrics_df = lyrics_df.select('track_uri', 'lyrics')"
   ]
  },
  {
   "cell_type": "markdown",
   "metadata": {
    "application/vnd.databricks.v1+cell": {
     "inputWidgets": {},
     "nuid": "9f707ae8-5263-4d4a-ba4e-649cd41ffece",
     "showTitle": false,
     "title": ""
    }
   },
   "source": [
    "We have a nested json structure for the playlists file, so were exploding it to columns to make the join easier"
   ]
  },
  {
   "cell_type": "code",
   "execution_count": null,
   "metadata": {
    "application/vnd.databricks.v1+cell": {
     "inputWidgets": {},
     "nuid": "1a8825df-6660-42a7-9955-5b39fb5d9029",
     "showTitle": false,
     "title": ""
    }
   },
   "outputs": [
    {
     "data": {
      "text/html": [
       "<style scoped>\n",
       "  .ansiout {\n",
       "    display: block;\n",
       "    unicode-bidi: embed;\n",
       "    white-space: pre-wrap;\n",
       "    word-wrap: break-word;\n",
       "    word-break: break-all;\n",
       "    font-family: \"Source Code Pro\", \"Menlo\", monospace;;\n",
       "    font-size: 13px;\n",
       "    color: #555;\n",
       "    margin-left: 4px;\n",
       "    line-height: 19px;\n",
       "  }\n",
       "</style>\n",
       "<div class=\"ansiout\"></div>"
      ]
     },
     "metadata": {
      "application/vnd.databricks.v1+output": {
       "addedWidgets": {},
       "arguments": {},
       "data": "<div class=\"ansiout\"></div>",
       "datasetInfos": [],
       "metadata": {},
       "removedWidgets": [],
       "type": "html"
      }
     },
     "output_type": "display_data"
    }
   ],
   "source": [
    "# reading elements of the playlist file\n",
    "playlist_df = play_df.select('playlists', explode('playlists')).\\\n",
    "                    select(explode('col.tracks'),'col.name','col.pid',\n",
    "                       'col.num_followers', 'col.num_tracks','col.duration_ms','col.num_artists').\\\n",
    "                        withColumnRenamed('col.num_followers', 'num_followers').\\\n",
    "                        withColumnRenamed('col.num_tracks', 'tracks').\\\n",
    "                        withColumnRenamed('col.duration_ms', 'duration_ms').\\\n",
    "                        withColumnRenamed('col.num_artists', 'num_artists').\\\n",
    "                        withColumnRenamed('col.pid', 'pid').\\\n",
    "                        withColumnRenamed('col.name', 'name').\\\n",
    "                        select('col.*','*').drop('col')"
   ]
  },
  {
   "cell_type": "markdown",
   "metadata": {
    "application/vnd.databricks.v1+cell": {
     "inputWidgets": {},
     "nuid": "fbce5182-0c94-4945-b6f2-7873430bd5e0",
     "showTitle": false,
     "title": ""
    }
   },
   "source": [
    "We are converting the lyrics string into list of tokenized words"
   ]
  },
  {
   "cell_type": "code",
   "execution_count": null,
   "metadata": {
    "application/vnd.databricks.v1+cell": {
     "inputWidgets": {},
     "nuid": "02bfb1b0-9960-439d-b433-c6c20b994639",
     "showTitle": false,
     "title": ""
    }
   },
   "outputs": [
    {
     "data": {
      "text/html": [
       "<style scoped>\n",
       "  .ansiout {\n",
       "    display: block;\n",
       "    unicode-bidi: embed;\n",
       "    white-space: pre-wrap;\n",
       "    word-wrap: break-word;\n",
       "    word-break: break-all;\n",
       "    font-family: \"Source Code Pro\", \"Menlo\", monospace;;\n",
       "    font-size: 13px;\n",
       "    color: #555;\n",
       "    margin-left: 4px;\n",
       "    line-height: 19px;\n",
       "  }\n",
       "</style>\n",
       "<div class=\"ansiout\"></div>"
      ]
     },
     "metadata": {
      "application/vnd.databricks.v1+output": {
       "addedWidgets": {},
       "arguments": {},
       "data": "<div class=\"ansiout\"></div>",
       "datasetInfos": [],
       "metadata": {},
       "removedWidgets": [],
       "type": "html"
      }
     },
     "output_type": "display_data"
    }
   ],
   "source": [
    "# tokenizing the lyrics\n",
    "tokenizer = Tokenizer(inputCol=\"lyrics\", outputCol=\"lyrics_words\")\n",
    "wordsData = tokenizer.transform(lyrics_df)"
   ]
  },
  {
   "cell_type": "markdown",
   "metadata": {
    "application/vnd.databricks.v1+cell": {
     "inputWidgets": {},
     "nuid": "f6b955b7-6fa5-45a4-9889-c96ad154cb0a",
     "showTitle": false,
     "title": ""
    }
   },
   "source": [
    "We are doing a left join of playlists data with lyrics data"
   ]
  },
  {
   "cell_type": "code",
   "execution_count": null,
   "metadata": {
    "application/vnd.databricks.v1+cell": {
     "inputWidgets": {},
     "nuid": "6b376f1b-b38a-4d2e-8682-729f438079dc",
     "showTitle": false,
     "title": ""
    }
   },
   "outputs": [
    {
     "data": {
      "text/html": [
       "<style scoped>\n",
       "  .ansiout {\n",
       "    display: block;\n",
       "    unicode-bidi: embed;\n",
       "    white-space: pre-wrap;\n",
       "    word-wrap: break-word;\n",
       "    word-break: break-all;\n",
       "    font-family: \"Source Code Pro\", \"Menlo\", monospace;;\n",
       "    font-size: 13px;\n",
       "    color: #555;\n",
       "    margin-left: 4px;\n",
       "    line-height: 19px;\n",
       "  }\n",
       "</style>\n",
       "<div class=\"ansiout\"></div>"
      ]
     },
     "metadata": {
      "application/vnd.databricks.v1+output": {
       "addedWidgets": {},
       "arguments": {},
       "data": "<div class=\"ansiout\"></div>",
       "datasetInfos": [],
       "metadata": {},
       "removedWidgets": [],
       "type": "html"
      }
     },
     "output_type": "display_data"
    }
   ],
   "source": [
    "# joining the two datasets\n",
    "master_data = playlist_df.join(wordsData, 'track_uri', 'left')"
   ]
  },
  {
   "cell_type": "markdown",
   "metadata": {
    "application/vnd.databricks.v1+cell": {
     "inputWidgets": {},
     "nuid": "1b7bbc32-7b1b-46a8-a119-910d0fd501a7",
     "showTitle": false,
     "title": ""
    }
   },
   "source": [
    "Data Quality Checks"
   ]
  },
  {
   "cell_type": "code",
   "execution_count": null,
   "metadata": {
    "application/vnd.databricks.v1+cell": {
     "inputWidgets": {},
     "nuid": "eff92930-81be-4410-b030-db5b47808539",
     "showTitle": false,
     "title": ""
    }
   },
   "outputs": [
    {
     "data": {
      "text/html": [
       "<style scoped>\n",
       "  .ansiout {\n",
       "    display: block;\n",
       "    unicode-bidi: embed;\n",
       "    white-space: pre-wrap;\n",
       "    word-wrap: break-word;\n",
       "    word-break: break-all;\n",
       "    font-family: \"Source Code Pro\", \"Menlo\", monospace;;\n",
       "    font-size: 13px;\n",
       "    color: #555;\n",
       "    margin-left: 4px;\n",
       "    line-height: 19px;\n",
       "  }\n",
       "</style>\n",
       "<div class=\"ansiout\">Out[10]: 137889</div>"
      ]
     },
     "metadata": {
      "application/vnd.databricks.v1+output": {
       "addedWidgets": {},
       "arguments": {},
       "data": "<div class=\"ansiout\">Out[10]: 137889</div>",
       "datasetInfos": [],
       "metadata": {},
       "removedWidgets": [],
       "type": "html"
      }
     },
     "output_type": "display_data"
    }
   ],
   "source": [
    "# checking the non null count for lyrics\n",
    "master_data.where(master_data['lyrics'].isNotNull()).select('track_uri').distinct().count()"
   ]
  },
  {
   "cell_type": "code",
   "execution_count": null,
   "metadata": {
    "application/vnd.databricks.v1+cell": {
     "inputWidgets": {},
     "nuid": "491c1ef4-6f32-4c92-8002-a2815f3331b8",
     "showTitle": false,
     "title": ""
    }
   },
   "outputs": [
    {
     "data": {
      "text/html": [
       "<style scoped>\n",
       "  .ansiout {\n",
       "    display: block;\n",
       "    unicode-bidi: embed;\n",
       "    white-space: pre-wrap;\n",
       "    word-wrap: break-word;\n",
       "    word-break: break-all;\n",
       "    font-family: \"Source Code Pro\", \"Menlo\", monospace;;\n",
       "    font-size: 13px;\n",
       "    color: #555;\n",
       "    margin-left: 4px;\n",
       "    line-height: 19px;\n",
       "  }\n",
       "</style>\n",
       "<div class=\"ansiout\">Out[128]: 2124403</div>"
      ]
     },
     "metadata": {
      "application/vnd.databricks.v1+output": {
       "addedWidgets": {},
       "arguments": {},
       "data": "<div class=\"ansiout\">Out[128]: 2124403</div>",
       "datasetInfos": [],
       "metadata": {},
       "removedWidgets": [],
       "type": "html"
      }
     },
     "output_type": "display_data"
    }
   ],
   "source": [
    "# checking the null count for lyrics\n",
    "master_data.where(master_data['lyrics'].isNull()).select('track_uri').distinct().count()"
   ]
  },
  {
   "cell_type": "code",
   "execution_count": null,
   "metadata": {
    "application/vnd.databricks.v1+cell": {
     "inputWidgets": {},
     "nuid": "6e47ff5b-b914-4cea-928b-9176622ec7e9",
     "showTitle": false,
     "title": ""
    }
   },
   "outputs": [
    {
     "data": {
      "text/html": [
       "<style scoped>\n",
       "  .ansiout {\n",
       "    display: block;\n",
       "    unicode-bidi: embed;\n",
       "    white-space: pre-wrap;\n",
       "    word-wrap: break-word;\n",
       "    word-break: break-all;\n",
       "    font-family: \"Source Code Pro\", \"Menlo\", monospace;;\n",
       "    font-size: 13px;\n",
       "    color: #555;\n",
       "    margin-left: 4px;\n",
       "    line-height: 19px;\n",
       "  }\n",
       "</style>\n",
       "<div class=\"ansiout\">+--------------------+--------------------+--------------------+--------------------+--------------------+-----------+---+------------------+-----------+------+-------------+----------+-----------+-----------+------+------------+\n",
       "           track_uri|          album_name|           album_uri|         artist_name|          artist_uri|duration_ms|pos|        track_name|       name|   pid|num_followers|num_tracks|duration_ms|num_artists|lyrics|lyrics_words|\n",
       "+--------------------+--------------------+--------------------+--------------------+--------------------+-----------+---+------------------+-----------+------+-------------+----------+-----------+-----------+------+------------+\n",
       "spotify:track:04M...|                 RKS|spotify:album:2aa...|Rainbow Kitten Su...|spotify:artist:4h...|     237493|  3|         Cold Love|     Sunday|381000|            1|       152|   31926486|          6|  null|        null|\n",
       "spotify:track:0ES...|Birds In The Trap...|spotify:album:42W...|        Travis Scott|spotify:artist:0Y...|     213863|  0| beibs in the trap|litty titty|115000|            1|       212|   51022342|         75|  null|        null|\n",
       "spotify:track:0KK...|           24K Magic|spotify:album:4Pg...|          Bruno Mars|spotify:artist:0d...|     206693|  0|That&#39;s What I Like|  Car Vibes|477000|            1|        57|   13897129|         40|  null|        null|\n",
       "+--------------------+--------------------+--------------------+--------------------+--------------------+-----------+---+------------------+-----------+------+-------------+----------+-----------+-----------+------+------------+\n",
       "only showing top 3 rows\n",
       "\n",
       "</div>"
      ]
     },
     "metadata": {
      "application/vnd.databricks.v1+output": {
       "addedWidgets": {},
       "arguments": {},
       "data": "<div class=\"ansiout\">+--------------------+--------------------+--------------------+--------------------+--------------------+-----------+---+------------------+-----------+------+-------------+----------+-----------+-----------+------+------------+\n|           track_uri|          album_name|           album_uri|         artist_name|          artist_uri|duration_ms|pos|        track_name|       name|   pid|num_followers|num_tracks|duration_ms|num_artists|lyrics|lyrics_words|\n+--------------------+--------------------+--------------------+--------------------+--------------------+-----------+---+------------------+-----------+------+-------------+----------+-----------+-----------+------+------------+\n|spotify:track:04M...|                 RKS|spotify:album:2aa...|Rainbow Kitten Su...|spotify:artist:4h...|     237493|  3|         Cold Love|     Sunday|381000|            1|       152|   31926486|          6|  null|        null|\n|spotify:track:0ES...|Birds In The Trap...|spotify:album:42W...|        Travis Scott|spotify:artist:0Y...|     213863|  0| beibs in the trap|litty titty|115000|            1|       212|   51022342|         75|  null|        null|\n|spotify:track:0KK...|           24K Magic|spotify:album:4Pg...|          Bruno Mars|spotify:artist:0d...|     206693|  0|That&#39;s What I Like|  Car Vibes|477000|            1|        57|   13897129|         40|  null|        null|\n+--------------------+--------------------+--------------------+--------------------+--------------------+-----------+---+------------------+-----------+------+-------------+----------+-----------+-----------+------+------------+\nonly showing top 3 rows\n\n</div>",
       "datasetInfos": [],
       "metadata": {},
       "removedWidgets": [],
       "type": "html"
      }
     },
     "output_type": "display_data"
    }
   ],
   "source": [
    "master_data.show(3)"
   ]
  },
  {
   "cell_type": "markdown",
   "metadata": {
    "application/vnd.databricks.v1+cell": {
     "inputWidgets": {},
     "nuid": "6ebe6f5f-7ae4-4e02-a922-db63f2f98fa5",
     "showTitle": false,
     "title": ""
    }
   },
   "source": [
    "### Setting up the connection string"
   ]
  },
  {
   "cell_type": "code",
   "execution_count": null,
   "metadata": {
    "application/vnd.databricks.v1+cell": {
     "inputWidgets": {},
     "nuid": "8390dfba-0769-4b7a-996f-476a37c151a0",
     "showTitle": false,
     "title": ""
    }
   },
   "outputs": [],
   "source": [
    "database = '*****'\n",
    "collection = '*****'\n",
    "user_name = '*****'\n",
    "password = '*****'\n",
    "address = '*****.mongodb.net'\n",
    "connection_string = f\"mongodb+srv://{user_name}:{password}@{address}/{database}.{collection}\""
   ]
  },
  {
   "cell_type": "markdown",
   "metadata": {
    "application/vnd.databricks.v1+cell": {
     "inputWidgets": {},
     "nuid": "e1ebf4fd-24bd-494f-899b-6ab3f1c4b152",
     "showTitle": false,
     "title": ""
    }
   },
   "source": [
    "Writing the files onto MongoDB: <br>\n",
    "Took 37 minutes with Cluster Setting 2"
   ]
  },
  {
   "cell_type": "code",
   "execution_count": null,
   "metadata": {
    "application/vnd.databricks.v1+cell": {
     "inputWidgets": {},
     "nuid": "d617c850-b3a2-4f32-b0be-47f4039e6434",
     "showTitle": false,
     "title": ""
    }
   },
   "outputs": [
    {
     "data": {
      "text/html": [
       "<style scoped>\n",
       "  .ansiout {\n",
       "    display: block;\n",
       "    unicode-bidi: embed;\n",
       "    white-space: pre-wrap;\n",
       "    word-wrap: break-word;\n",
       "    word-break: break-all;\n",
       "    font-family: \"Source Code Pro\", \"Menlo\", monospace;;\n",
       "    font-size: 13px;\n",
       "    color: #555;\n",
       "    margin-left: 4px;\n",
       "    line-height: 19px;\n",
       "  }\n",
       "</style>\n",
       "<div class=\"ansiout\"></div>"
      ]
     },
     "metadata": {
      "application/vnd.databricks.v1+output": {
       "addedWidgets": {},
       "arguments": {},
       "data": "<div class=\"ansiout\"></div>",
       "datasetInfos": [],
       "metadata": {},
       "removedWidgets": [],
       "type": "html"
      }
     },
     "output_type": "display_data"
    },
    {
     "data": {
      "text/html": [
       "<style scoped>\n",
       "  .ansiout {\n",
       "    display: block;\n",
       "    unicode-bidi: embed;\n",
       "    white-space: pre-wrap;\n",
       "    word-wrap: break-word;\n",
       "    word-break: break-all;\n",
       "    font-family: \"Source Code Pro\", \"Menlo\", monospace;;\n",
       "    font-size: 13px;\n",
       "    color: #555;\n",
       "    margin-left: 4px;\n",
       "    line-height: 19px;\n",
       "  }\n",
       "</style>\n",
       "<div class=\"ansiout\"><span class=\"ansi-red-fg\">---------------------------------------------------------------------------</span>\n",
       "<span class=\"ansi-red-fg\">NameError</span>                                 Traceback (most recent call last)\n",
       "<span class=\"ansi-green-fg\">&lt;command-4394306349138779&gt;</span> in <span class=\"ansi-cyan-fg\">&lt;module&gt;</span>\n",
       "<span class=\"ansi-green-fg\">----&gt; 1</span><span class=\"ansi-red-fg\"> </span>master_data<span class=\"ansi-blue-fg\">.</span>write<span class=\"ansi-blue-fg\">.</span>format<span class=\"ansi-blue-fg\">(</span><span class=\"ansi-blue-fg\">&#34;mongo&#34;</span><span class=\"ansi-blue-fg\">)</span><span class=\"ansi-blue-fg\">.</span>option<span class=\"ansi-blue-fg\">(</span><span class=\"ansi-blue-fg\">&#34;uri&#34;</span><span class=\"ansi-blue-fg\">,</span>connection_string<span class=\"ansi-blue-fg\">)</span><span class=\"ansi-blue-fg\">.</span>mode<span class=\"ansi-blue-fg\">(</span><span class=\"ansi-blue-fg\">&#34;append&#34;</span><span class=\"ansi-blue-fg\">)</span><span class=\"ansi-blue-fg\">.</span>save<span class=\"ansi-blue-fg\">(</span><span class=\"ansi-blue-fg\">)</span>\n",
       "\n",
       "<span class=\"ansi-red-fg\">NameError</span>: name &#39;master_data&#39; is not defined</div>"
      ]
     },
     "metadata": {
      "application/vnd.databricks.v1+output": {
       "arguments": {},
       "data": "<div class=\"ansiout\"><span class=\"ansi-red-fg\">---------------------------------------------------------------------------</span>\n<span class=\"ansi-red-fg\">NameError</span>                                 Traceback (most recent call last)\n<span class=\"ansi-green-fg\">&lt;command-4394306349138779&gt;</span> in <span class=\"ansi-cyan-fg\">&lt;module&gt;</span>\n<span class=\"ansi-green-fg\">----&gt; 1</span><span class=\"ansi-red-fg\"> </span>master_data<span class=\"ansi-blue-fg\">.</span>write<span class=\"ansi-blue-fg\">.</span>format<span class=\"ansi-blue-fg\">(</span><span class=\"ansi-blue-fg\">&#34;mongo&#34;</span><span class=\"ansi-blue-fg\">)</span><span class=\"ansi-blue-fg\">.</span>option<span class=\"ansi-blue-fg\">(</span><span class=\"ansi-blue-fg\">&#34;uri&#34;</span><span class=\"ansi-blue-fg\">,</span>connection_string<span class=\"ansi-blue-fg\">)</span><span class=\"ansi-blue-fg\">.</span>mode<span class=\"ansi-blue-fg\">(</span><span class=\"ansi-blue-fg\">&#34;append&#34;</span><span class=\"ansi-blue-fg\">)</span><span class=\"ansi-blue-fg\">.</span>save<span class=\"ansi-blue-fg\">(</span><span class=\"ansi-blue-fg\">)</span>\n\n<span class=\"ansi-red-fg\">NameError</span>: name &#39;master_data&#39; is not defined</div>",
       "errorSummary": "<span class=\"ansi-red-fg\">NameError</span>: name &#39;master_data&#39; is not defined",
       "errorTraceType": "html",
       "metadata": {},
       "type": "ipynbError"
      }
     },
     "output_type": "display_data"
    }
   ],
   "source": [
    "master_data.write.format(\"mongo\").option(\"uri\",connection_string).mode(\"append\").save()\n",
    "# it took 37 mins to write, when the notebook worked properly"
   ]
  },
  {
   "cell_type": "markdown",
   "metadata": {
    "application/vnd.databricks.v1+cell": {
     "inputWidgets": {},
     "nuid": "2dc7a207-509d-4e1b-8b76-e3f9f3311c66",
     "showTitle": false,
     "title": ""
    }
   },
   "source": [
    "Reading the data back from MongoDB"
   ]
  },
  {
   "cell_type": "code",
   "execution_count": null,
   "metadata": {
    "application/vnd.databricks.v1+cell": {
     "inputWidgets": {},
     "nuid": "769b7559-6f5e-40bb-b474-4410ec5351dc",
     "showTitle": false,
     "title": ""
    }
   },
   "outputs": [
    {
     "data": {
      "text/html": [
       "<style scoped>\n",
       "  .ansiout {\n",
       "    display: block;\n",
       "    unicode-bidi: embed;\n",
       "    white-space: pre-wrap;\n",
       "    word-wrap: break-word;\n",
       "    word-break: break-all;\n",
       "    font-family: \"Source Code Pro\", \"Menlo\", monospace;;\n",
       "    font-size: 13px;\n",
       "    color: #555;\n",
       "    margin-left: 4px;\n",
       "    line-height: 19px;\n",
       "  }\n",
       "</style>\n",
       "<div class=\"ansiout\"></div>"
      ]
     },
     "metadata": {
      "application/vnd.databricks.v1+output": {
       "addedWidgets": {},
       "arguments": {},
       "data": "<div class=\"ansiout\"></div>",
       "datasetInfos": [],
       "metadata": {},
       "removedWidgets": [],
       "type": "html"
      }
     },
     "output_type": "display_data"
    }
   ],
   "source": [
    "# reading the data back to check\n",
    "df = spark.read.format('mongo').option(\"uri\",connection_string).load()"
   ]
  },
  {
   "cell_type": "markdown",
   "metadata": {
    "application/vnd.databricks.v1+cell": {
     "inputWidgets": {},
     "nuid": "f8f537a1-4ea4-422d-8fc9-06e18d995aa5",
     "showTitle": false,
     "title": ""
    }
   },
   "source": [
    "Data Upload Checks"
   ]
  },
  {
   "cell_type": "code",
   "execution_count": null,
   "metadata": {
    "application/vnd.databricks.v1+cell": {
     "inputWidgets": {},
     "nuid": "449dd936-58b2-4523-b395-474683b603b1",
     "showTitle": false,
     "title": ""
    }
   },
   "outputs": [
    {
     "data": {
      "text/html": [
       "<style scoped>\n",
       "  .ansiout {\n",
       "    display: block;\n",
       "    unicode-bidi: embed;\n",
       "    white-space: pre-wrap;\n",
       "    word-wrap: break-word;\n",
       "    word-break: break-all;\n",
       "    font-family: \"Source Code Pro\", \"Menlo\", monospace;;\n",
       "    font-size: 13px;\n",
       "    color: #555;\n",
       "    margin-left: 4px;\n",
       "    line-height: 19px;\n",
       "  }\n",
       "</style>\n",
       "<div class=\"ansiout\">Out[8]: 137889</div>"
      ]
     },
     "metadata": {
      "application/vnd.databricks.v1+output": {
       "addedWidgets": {},
       "arguments": {},
       "data": "<div class=\"ansiout\">Out[8]: 137889</div>",
       "datasetInfos": [],
       "metadata": {},
       "removedWidgets": [],
       "type": "html"
      }
     },
     "output_type": "display_data"
    }
   ],
   "source": [
    "# checking the non null count and compare with previous result above\n",
    "df.where(df['lyrics'].isNotNull()).select('track_uri').distinct().count()"
   ]
  },
  {
   "cell_type": "code",
   "execution_count": null,
   "metadata": {
    "application/vnd.databricks.v1+cell": {
     "inputWidgets": {},
     "nuid": "68392be9-e2cf-4f6e-8dc0-bc6aac9ee658",
     "showTitle": false,
     "title": ""
    }
   },
   "outputs": [
    {
     "data": {
      "text/html": [
       "<style scoped>\n",
       "  .ansiout {\n",
       "    display: block;\n",
       "    unicode-bidi: embed;\n",
       "    white-space: pre-wrap;\n",
       "    word-wrap: break-word;\n",
       "    word-break: break-all;\n",
       "    font-family: \"Source Code Pro\", \"Menlo\", monospace;;\n",
       "    font-size: 13px;\n",
       "    color: #555;\n",
       "    margin-left: 4px;\n",
       "    line-height: 19px;\n",
       "  }\n",
       "</style>\n",
       "<div class=\"ansiout\">+--------------------+--------------------+--------------------+-----------------+--------------------+-----------+--------------------+--------------------+--------------------+-----------+-------------+----------+------+---+--------------------+--------------------+\n",
       "                 _id|          album_name|           album_uri|      artist_name|          artist_uri|duration_ms|              lyrics|        lyrics_words|                name|num_artists|num_followers|num_tracks|   pid|pos|          track_name|           track_uri|\n",
       "+--------------------+--------------------+--------------------+-----------------+--------------------+-----------+--------------------+--------------------+--------------------+-----------+-------------+----------+------+---+--------------------+--------------------+\n",
       "{621bb23d5f573454...|     Billy Talent II|spotify:album:0cT...|     Billy Talent|spotify:artist:08...|   46045590|All we shared was...|[all, we, shared,...|                 Sam|         54|            7|       181| 62734| 27|       Perfect World|spotify:track:00W...|\n",
       "{621bb23d5f573454...|     Billy Talent II|spotify:album:0cT...|     Billy Talent|spotify:artist:08...|   41307347|All we shared was...|[all, we, shared,...|          Chill jams|        124|            2|       190|514425| 20|       Perfect World|spotify:track:00W...|\n",
       "{621bb23d5f573454...|     Billy Talent II|spotify:album:0cT...|     Billy Talent|spotify:artist:08...|   55100801|All we shared was...|[all, we, shared,...|            Playlist|        103|            1|       242|718221| 46|       Perfect World|spotify:track:00W...|\n",
       "{621bb23d5f573454...|     Billy Talent II|spotify:album:0cT...|     Billy Talent|spotify:artist:08...|   18944057|All we shared was...|[all, we, shared,...|                Yeah|         31|            1|        81|452925| 54|       Perfect World|spotify:track:00W...|\n",
       "{621bb23d5f573454...|     Billy Talent II|spotify:album:0cT...|     Billy Talent|spotify:artist:08...|   33700896|All we shared was...|[all, we, shared,...|           Seventeen|         16|            1|       158|628746| 37|       Perfect World|spotify:track:00W...|\n",
       "{621bb23d5f573454...|     Billy Talent II|spotify:album:0cT...|     Billy Talent|spotify:artist:08...|   53670133|All we shared was...|[all, we, shared,...|         earworms ~~|         56|            1|       219|378192|131|       Perfect World|spotify:track:00W...|\n",
       "{621bb23d5f573454...|     Billy Talent II|spotify:album:0cT...|     Billy Talent|spotify:artist:08...|   55808261|All we shared was...|[all, we, shared,...|      Throwback Jams|         30|            1|       247|522391|243|       Perfect World|spotify:track:00W...|\n",
       "{621bb23d5f573454...|     Billy Talent II|spotify:album:0cT...|     Billy Talent|spotify:artist:08...|   31984959|All we shared was...|[all, we, shared,...|              Viajar|         21|            1|       123|805358| 49|       Perfect World|spotify:track:00W...|\n",
       "{621bb23d5f573454...|     Billy Talent II|spotify:album:0cT...|     Billy Talent|spotify:artist:08...|   23208653|All we shared was...|[all, we, shared,...|                Rock|          9|            2|        99| 16994| 10|       Perfect World|spotify:track:00W...|\n",
       "{621bb23d5f573454...|     Billy Talent II|spotify:album:0cT...|     Billy Talent|spotify:artist:08...|   30209731|All we shared was...|[all, we, shared,...|   Bit of Everything|         68|            1|       131|429248| 41|       Perfect World|spotify:track:00W...|\n",
       "{621bb23d5f573454...|     Billy Talent II|spotify:album:0cT...|     Billy Talent|spotify:artist:08...|   17145562|All we shared was...|[all, we, shared,...|                Punk|         40|            2|        96|434333| 38|       Perfect World|spotify:track:00W...|\n",
       "{621bb23d5f573454...|     Billy Talent II|spotify:album:0cT...|     Billy Talent|spotify:artist:08...|   48059426|All we shared was...|[all, we, shared,...|                art |        131|            1|       210|515425| 42|       Perfect World|spotify:track:00W...|\n",
       "{621bb23d5f573454...|     Billy Talent II|spotify:album:0cT...|     Billy Talent|spotify:artist:08...|   48303250|All we shared was...|[all, we, shared,...|    Perfect Playlist|        201|            2|       207|541589|142|       Perfect World|spotify:track:00W...|\n",
       "{621bb23d5f573454...|     Billy Talent II|spotify:album:0cT...|     Billy Talent|spotify:artist:08...|   44283379|All we shared was...|[all, we, shared,...|              Gaming|         65|            2|       176|440012| 16|       Perfect World|spotify:track:00W...|\n",
       "{621bb23d5f573454...|     Billy Talent II|spotify:album:0cT...|     Billy Talent|spotify:artist:08...|   10102981|All we shared was...|[all, we, shared,...|               bored|         37|            2|        46|440800| 24|       Perfect World|spotify:track:00W...|\n",
       "{621bb23d5f573454...|Sing Sing Death H...|spotify:album:4Vr...|   The Distillers|spotify:artist:7M...|   32678273|Pulled the fuckin...|[pulled, the, fuc...|       Playlist 2017|         66|            1|       147|585356| 99|      Sick Of It All|spotify:track:00d...|\n",
       "{621bb23d5f573454...|Sing Sing Death H...|spotify:album:4Vr...|   The Distillers|spotify:artist:7M...|   43761604|Pulled the fuckin...|[pulled, the, fuc...|            Cleaning|         86|            2|       193|581399| 85|      Sick Of It All|spotify:track:00d...|\n",
       "{621bb23d5f573454...|Sing Sing Death H...|spotify:album:4Vr...|   The Distillers|spotify:artist:7M...|   31049183|Pulled the fuckin...|[pulled, the, fuc...|                PUNK|         44|            1|       183|945673| 72|      Sick Of It All|spotify:track:00d...|\n",
       "{621bb23d5f573454...|Sing Sing Death H...|spotify:album:4Vr...|   The Distillers|spotify:artist:7M...|    6154344|Pulled the fuckin...|[pulled, the, fuc...|           Throwback|         24|            1|        28|773937| 27|      Sick Of It All|spotify:track:00d...|\n",
       "{621bb23d5f573454...|Sing Sing Death H...|spotify:album:4Vr...|   The Distillers|spotify:artist:7M...|   10538888|Pulled the fuckin...|[pulled, the, fuc...|                punk|         24|            1|        64|185564| 56|      Sick Of It All|spotify:track:00d...|\n",
       "{621bb23d5f573454...|Sing Sing Death H...|spotify:album:4Vr...|   The Distillers|spotify:artist:7M...|    4482389|Pulled the fuckin...|[pulled, the, fuc...|           Punk Rock|         22|            1|        29|376683|  0|      Sick Of It All|spotify:track:00d...|\n",
       "{621bb23d5f573454...|Sing Sing Death H...|spotify:album:4Vr...|   The Distillers|spotify:artist:7M...|   28148488|Pulled the fuckin...|[pulled, the, fuc...|          TURN IT UP|        104|            1|       165|866665| 73|      Sick Of It All|spotify:track:00d...|\n",
       "{621bb23d5f573454...|Sing Sing Death H...|spotify:album:4Vr...|   The Distillers|spotify:artist:7M...|   21364080|Pulled the fuckin...|[pulled, the, fuc...|               hmm..|         52|            1|        88|947757| 66|      Sick Of It All|spotify:track:00d...|\n",
       "{621bb23d5f573454...|Sing Sing Death H...|spotify:album:4Vr...|   The Distillers|spotify:artist:7M...|   27575136|Pulled the fuckin...|[pulled, the, fuc...|           Punk Rock|         58|            1|       169|903885|156|      Sick Of It All|spotify:track:00d...|\n",
       "{621bb23d5f573454...|Sing Sing Death H...|spotify:album:4Vr...|   The Distillers|spotify:artist:7M...|   25237988|Pulled the fuckin...|[pulled, the, fuc...|              Robert|         95|            1|       129|966941|  6|      Sick Of It All|spotify:track:00d...|\n",
       "{621bb23d5f573454...|Sing Sing Death H...|spotify:album:4Vr...|   The Distillers|spotify:artist:7M...|   50370602|Pulled the fuckin...|[pulled, the, fuc...|  Middle school jams|          6|            1|       234|623484| 28|      Sick Of It All|spotify:track:00d...|\n",
       "{621bb23d5f573454...|Sing Sing Death H...|spotify:album:4Vr...|   The Distillers|spotify:artist:7M...|   29640979|Pulled the fuckin...|[pulled, the, fuc...|        thanksgiving|         30|            1|       169|195756|146|      Sick Of It All|spotify:track:00d...|\n",
       "{621bb23d5f573454...|Sing Sing Death H...|spotify:album:4Vr...|   The Distillers|spotify:artist:7M...|   31546496|Pulled the fuckin...|[pulled, the, fuc...|                Punk|         37|            1|       189|149791| 75|      Sick Of It All|spotify:track:00d...|\n",
       "{621bb23d5f573454...|Sing Sing Death H...|spotify:album:4Vr...|   The Distillers|spotify:artist:7M...|   54084588|Pulled the fuckin...|[pulled, the, fuc...|         Get Psyched|        121|            1|       213|391576| 68|      Sick Of It All|spotify:track:00d...|\n",
       "{621bb23d5f573454...|Sing Sing Death H...|spotify:album:4Vr...|   The Distillers|spotify:artist:7M...|    7949987|Pulled the fuckin...|[pulled, the, fuc...|            Workout |          7|            1|        37|457221|  6|      Sick Of It All|spotify:track:00d...|\n",
       "{621bb23d5f573454...|Sing Sing Death H...|spotify:album:4Vr...|   The Distillers|spotify:artist:7M...|   26149572|Pulled the fuckin...|[pulled, the, fuc...|                pUnK|         57|            1|       161|897256|121|      Sick Of It All|spotify:track:00d...|\n",
       "{621bb23d5f573454...|   In Fear And Faith|spotify:album:38C...|In Fear And Faith|spotify:artist:19...|   18776470|When the light di...|[when, the, light...|            Gym Rock|         49|            1|        83| 63916| 81|   Last Man Stranded|spotify:track:00w...|\n",
       "{621bb23d5f573454...|   In Fear And Faith|spotify:album:38C...|In Fear And Faith|spotify:artist:19...|   49233445|When the light di...|[when, the, light...|                 gym|         28|            1|       225|139502| 78|   Last Man Stranded|spotify:track:00w...|\n",
       "{621bb23d5f573454...|   In Fear And Faith|spotify:album:38C...|In Fear And Faith|spotify:artist:19...|   37100303|When the light di...|[when, the, light...|               Rock |         43|            1|       165|868740|139|   Last Man Stranded|spotify:track:00w...|\n",
       "{621bb23d5f573454...|   In Fear And Faith|spotify:album:38C...|In Fear And Faith|spotify:artist:19...|   45899696|When the light di...|[when, the, light...|           Metalcore|         44|            1|       199|174052| 87|   Last Man Stranded|spotify:track:00w...|\n",
       "{621bb23d5f573454...|   In Fear And Faith|spotify:album:38C...|In Fear And Faith|spotify:artist:19...|   27226600|When the light di...|[when, the, light...|           old music|         58|            1|       116|303846| 10|   Last Man Stranded|spotify:track:00w...|\n",
       "{621bb23d5f573454...|   In Fear And Faith|spotify:album:38C...|In Fear And Faith|spotify:artist:19...|   31173107|When the light di...|[when, the, light...|               Metal|         37|            1|       123|926692| 39|   Last Man Stranded|spotify:track:00w...|\n",
       "{621bb23d5f573454...|   In Fear And Faith|spotify:album:38C...|In Fear And Faith|spotify:artist:19...|   20065340|When the light di...|[when, the, light...|             Push it|          6|            1|        83|773666| 39|   Last Man Stranded|spotify:track:00w...|\n",
       "{621bb23d5f573454...|   In Fear And Faith|spotify:album:38C...|In Fear And Faith|spotify:artist:19...|   42521299|When the light di...|[when, the, light...|                rock|         69|            1|       187|  2832|165|   Last Man Stranded|spotify:track:00w...|\n",
       "{621bb23d5f573454...|   In Fear And Faith|spotify:album:38C...|In Fear And Faith|spotify:artist:19...|    9555370|When the light di...|[when, the, light...|              yeah..|         16|            1|        35| 80128| 18|   Last Man Stranded|spotify:track:00w...|\n",
       "{621bb23d5f573454...|   In Fear And Faith|spotify:album:38C...|In Fear And Faith|spotify:artist:19...|    8808099|When the light di...|[when, the, light...|           The Feels|         10|            1|        39|960203|  7|   Last Man Stranded|spotify:track:00w...|\n",
       "{621bb23d5f573454...|   In Fear And Faith|spotify:album:38C...|In Fear And Faith|spotify:artist:19...|    3302644|When the light di...|[when, the, light...|               Drums|         14|            1|        14|341520|  4|   Last Man Stranded|spotify:track:00w...|\n",
       "{621bb23d5f573454...|   In Fear And Faith|spotify:album:38C...|In Fear And Faith|spotify:artist:19...|   10295685|When the light di...|[when, the, light...|                 sad|         34|            1|        41| 49111| 22|   Last Man Stranded|spotify:track:00w...|\n",
       "{621bb23d5f573454...|   In Fear And Faith|spotify:album:38C...|In Fear And Faith|spotify:artist:19...|   28007441|When the light di...|[when, the, light...|              Gaming|         82|            1|       113|115388| 98|   Last Man Stranded|spotify:track:00w...|\n",
       "{621bb23d5f573454...|   In Fear And Faith|spotify:album:38C...|In Fear And Faith|spotify:artist:19...|   33621913|When the light di...|[when, the, light...|                  TP|         16|            1|       158|384250|126|   Last Man Stranded|spotify:track:00w...|\n",
       "{621bb23d5f573454...|   In Fear And Faith|spotify:album:38C...|In Fear And Faith|spotify:artist:19...|   18311703|When the light di...|[when, the, light...|              Rocket|         36|            1|        80|294069| 46|   Last Man Stranded|spotify:track:00w...|\n",
       "{621bb23d5f573454...|   In Fear And Faith|spotify:album:38C...|In Fear And Faith|spotify:artist:19...|   20579305|When the light di...|[when, the, light...|              Mellow|         61|            1|        75|234450| 37|   Last Man Stranded|spotify:track:00w...|\n",
       "{621bb23d5f573454...|   In Fear And Faith|spotify:album:38C...|In Fear And Faith|spotify:artist:19...|   30026406|When the light di...|[when, the, light...|            Screamo |         24|            1|       127|623546| 39|   Last Man Stranded|spotify:track:00w...|\n",
       "{621bb23d5f573454...|   In Fear And Faith|spotify:album:38C...|In Fear And Faith|spotify:artist:19...|   22491082|When the light di...|[when, the, light...|                🤘🏻|         41|            1|        98|962719| 19|   Last Man Stranded|spotify:track:00w...|\n",
       "{621bb23d5f573454...|             5 on It|spotify:album:3Od...|     Khleo Thomas|spotify:artist:1X...|   23272968|So all I got is 5...|[so, all, i, got,...|                 RAP|         76|            1|        98|240978| 58|             5 on It|spotify:track:00x...|\n",
       "{621bb23d5f573454...|             5 on It|spotify:album:3Od...|     Khleo Thomas|spotify:artist:1X...|   45573700|So all I got is 5...|[so, all, i, got,...|                 Gym|        132|            1|       200|932205|143|             5 on It|spotify:track:00x...|\n",
       "{621bb23d5f573454...|             5 on It|spotify:album:3Od...|     Khleo Thomas|spotify:artist:1X...|   37127516|So all I got is 5...|[so, all, i, got,...|            Car Jams|         98|            1|       158|725933|136|             5 on It|spotify:track:00x...|\n",
       "{621bb23d5f573454...|             5 on It|spotify:album:3Od...|     Khleo Thomas|spotify:artist:1X...|   38122596|So all I got is 5...|[so, all, i, got,...|           Turn Up!!|         84|            2|       161|461279|147|             5 on It|spotify:track:00x...|\n",
       "{621bb23d5f573454...|             5 on It|spotify:album:3Od...|     Khleo Thomas|spotify:artist:1X...|   26003603|So all I got is 5...|[so, all, i, got,...|            new jamz|         92|            1|       116|137793|111|             5 on It|spotify:track:00x...|\n",
       "{621bb23d5f573454...|             5 on It|spotify:album:3Od...|     Khleo Thomas|spotify:artist:1X...|   41911949|So all I got is 5...|[so, all, i, got,...|            The Best|        126|            2|       184|156872|105|             5 on It|spotify:track:00x...|\n",
       "{621bb23d5f573454...|             5 on It|spotify:album:3Od...|     Khleo Thomas|spotify:artist:1X...|   20008174|So all I got is 5...|[so, all, i, got,...|          happy hour|         77|            1|        87|930276|  6|             5 on It|spotify:track:00x...|\n",
       "{621bb23d5f573454...|             5 on It|spotify:album:3Od...|     Khleo Thomas|spotify:artist:1X...|   21078757|So all I got is 5...|[so, all, i, got,...|         Spring 2016|         84|            3|        95|182341|  1|             5 on It|spotify:track:00x...|\n",
       "{621bb23d5f573454...|             5 on It|spotify:album:3Od...|     Khleo Thomas|spotify:artist:1X...|   55780964|So all I got is 5...|[so, all, i, got,...|               beach|        186|            1|       244|892989|105|             5 on It|spotify:track:00x...|\n",
       "{621bb23d5f573454...|             5 on It|spotify:album:3Od...|     Khleo Thomas|spotify:artist:1X...|   44477901|So all I got is 5...|[so, all, i, got,...|               Turnt|        125|            1|       197|732085| 87|             5 on It|spotify:track:00x...|\n",
       "{621bb23d5f573454...|             5 on It|spotify:album:3Od...|     Khleo Thomas|spotify:artist:1X...|   39083604|So all I got is 5...|[so, all, i, got,...|                 abs|        104|            4|       174|  7021|163|             5 on It|spotify:track:00x...|\n",
       "{621bb23d5f573454...|             5 on It|spotify:album:3Od...|     Khleo Thomas|spotify:artist:1X...|   43005155|So all I got is 5...|[so, all, i, got,...|          Lets Party|        125|            1|       195|839443|146|             5 on It|spotify:track:00x...|\n",
       "{621bb23d5f573454...|             5 on It|spotify:album:3Od...|     Khleo Thomas|spotify:artist:1X...|   11938636|So all I got is 5...|[so, all, i, got,...|        Early 2000&#39;s|         44|            1|        50|301460| 25|             5 on It|spotify:track:00x...|\n",
       "{621bb23d5f573454...|             5 on It|spotify:album:3Od...|     Khleo Thomas|spotify:artist:1X...|   26513333|So all I got is 5...|[so, all, i, got,...|       Rap Playlist |         51|            1|       117|433969| 66|             5 on It|spotify:track:00x...|\n",
       "{621bb23d5f573454...|             5 on It|spotify:album:3Od...|     Khleo Thomas|spotify:artist:1X...|   33047470|So all I got is 5...|[so, all, i, got,...|                wrap|         66|            1|       140|598075| 42|             5 on It|spotify:track:00x...|\n",
       "{621bb23d5f573454...|             5 on It|spotify:album:3Od...|     Khleo Thomas|spotify:artist:1X...|   25143165|So all I got is 5...|[so, all, i, got,...|             Gym💪🏻|         96|            1|       114|878907| 37|             5 on It|spotify:track:00x...|\n",
       "{621bb23d5f573454...|             5 on It|spotify:album:3Od...|     Khleo Thomas|spotify:artist:1X...|   37948892|So all I got is 5...|[so, all, i, got,...|          Good Songs|        106|            2|       170|664921|133|             5 on It|spotify:track:00x...|\n",
       "{621bb23d5f573454...|             5 on It|spotify:album:3Od...|     Khleo Thomas|spotify:artist:1X...|   32419628|So all I got is 5...|[so, all, i, got,...|                 rap|         78|            1|       134|124848| 25|             5 on It|spotify:track:00x...|\n",
       "{621bb23d5f573454...|             5 on It|spotify:album:3Od...|     Khleo Thomas|spotify:artist:1X...|   47640353|So all I got is 5...|[so, all, i, got,...|            chill af|        113|            1|       209|942936|129|             5 on It|spotify:track:00x...|\n",
       "{621bb23d5f573454...|             5 on It|spotify:album:3Od...|     Khleo Thomas|spotify:artist:1X...|   25940826|So all I got is 5...|[so, all, i, got,...|               PARTY|         82|            1|       113|324417| 40|             5 on It|spotify:track:00x...|\n",
       "{621bb23d5f573454...|             5 on It|spotify:album:3Od...|     Khleo Thomas|spotify:artist:1X...|   36207630|So all I got is 5...|[so, all, i, got,...|                yooo|         82|            2|       155| 84863|117|             5 on It|spotify:track:00x...|\n",
       "{621bb23d5f573454...|             5 on It|spotify:album:3Od...|     Khleo Thomas|spotify:artist:1X...|    3987960|So all I got is 5...|[so, all, i, got,...|                werk|         15|            1|        17|273564| 10|             5 on It|spotify:track:00x...|\n",
       "{621bb23d5f573454...|             5 on It|spotify:album:3Od...|     Khleo Thomas|spotify:artist:1X...|   21331948|So all I got is 5...|[so, all, i, got,...|         SUMMER 2015|         83|            2|        91|976646| 50|             5 on It|spotify:track:00x...|\n",
       "{621bb23d5f573454...|             5 on It|spotify:album:3Od...|     Khleo Thomas|spotify:artist:1X...|   19777682|So all I got is 5...|[so, all, i, got,...|               Lit🔥|         70|            1|        94|387467| 46|             5 on It|spotify:track:00x...|\n",
       "{621bb23d5f573454...|             5 on It|spotify:album:3Od...|     Khleo Thomas|spotify:artist:1X...|   17518400|So all I got is 5...|[so, all, i, got,...|            Car jams|         56|            1|        76|889722| 67|             5 on It|spotify:track:00x...|\n",
       "{621bb23d5f573454...|             5 on It|spotify:album:3Od...|     Khleo Thomas|spotify:artist:1X...|   24842418|So all I got is 5...|[so, all, i, got,...|              vibes |         81|            2|       108|885754|  5|             5 on It|spotify:track:00x...|\n",
       "{621bb23d5f573454...|             5 on It|spotify:album:3Od...|     Khleo Thomas|spotify:artist:1X...|   28328206|So all I got is 5...|[so, all, i, got,...|             Wake Up|         74|            1|       127|327380|  7|             5 on It|spotify:track:00x...|\n",
       "{621bb23d5f573454...|             5 on It|spotify:album:3Od...|     Khleo Thomas|spotify:artist:1X...|   21643998|So all I got is 5...|[so, all, i, got,...|               PARTY|         63|            1|        97|189454| 94|             5 on It|spotify:track:00x...|\n",
       "{621bb23d5f573454...|             5 on It|spotify:album:3Od...|     Khleo Thomas|spotify:artist:1X...|   30128390|So all I got is 5...|[so, all, i, got,...|       All summer 16|        124|            2|       138|309702| 83|             5 on It|spotify:track:00x...|\n",
       "{621bb23d5f573454...|             5 on It|spotify:album:3Od...|     Khleo Thomas|spotify:artist:1X...|    5153590|So all I got is 5...|[so, all, i, got,...|             Workout|         16|            1|        23|309743| 20|             5 on It|spotify:track:00x...|\n",
       "{621bb23d5f573454...|             5 on It|spotify:album:3Od...|     Khleo Thomas|spotify:artist:1X...|   31993976|So all I got is 5...|[so, all, i, got,...|                 Rap|         79|            1|       136|288568| 98|             5 on It|spotify:track:00x...|\n",
       "{621bb23d5f573454...|             5 on It|spotify:album:3Od...|     Khleo Thomas|spotify:artist:1X...|   47385872|So all I got is 5...|[so, all, i, got,...|           Party Bus|        152|           14|       212|525033|208|             5 on It|spotify:track:00x...|\n",
       "{621bb23d5f573454...|             5 on It|spotify:album:3Od...|     Khleo Thomas|spotify:artist:1X...|   21343093|So all I got is 5...|[so, all, i, got,...|   Wedding reception|         72|            1|        92|185646| 52|             5 on It|spotify:track:00x...|\n",
       "{621bb23d5f573454...|             5 on It|spotify:album:3Od...|     Khleo Thomas|spotify:artist:1X...|   15554945|So all I got is 5...|[so, all, i, got,...|              Marie |         62|            1|        71|508527| 47|             5 on It|spotify:track:00x...|\n",
       "{621bb23d5f573454...|             5 on It|spotify:album:3Od...|     Khleo Thomas|spotify:artist:1X...|   18142650|So all I got is 5...|[so, all, i, got,...|               Trap |         37|            1|        77|260869| 23|             5 on It|spotify:track:00x...|\n",
       "{621bb23d5f573454...|             5 on It|spotify:album:3Od...|     Khleo Thomas|spotify:artist:1X...|    7866885|So all I got is 5...|[so, all, i, got,...|              Smokin|         23|            1|        34|596016| 15|             5 on It|spotify:track:00x...|\n",
       "{621bb23d5f573454...|             5 on It|spotify:album:3Od...|     Khleo Thomas|spotify:artist:1X...|   18264250|So all I got is 5...|[so, all, i, got,...|                 pop|         44|            1|        79|963129| 48|             5 on It|spotify:track:00x...|\n",
       "{621bb23d5f573454...|             5 on It|spotify:album:3Od...|     Khleo Thomas|spotify:artist:1X...|   23650799|So all I got is 5...|[so, all, i, got,...|                snow|         89|            1|       105|963987| 73|             5 on It|spotify:track:00x...|\n",
       "{621bb23d5f573454...|             5 on It|spotify:album:3Od...|     Khleo Thomas|spotify:artist:1X...|   51811547|So all I got is 5...|[so, all, i, got,...|                Bass|        155|            1|       214|845225|176|             5 on It|spotify:track:00x...|\n",
       "{621bb23d5f573454...|             5 on It|spotify:album:3Od...|     Khleo Thomas|spotify:artist:1X...|   13843267|So all I got is 5...|[so, all, i, got,...|         new bangers|         42|            1|        59|578632| 11|             5 on It|spotify:track:00x...|\n",
       "{621bb23d5f573454...|             5 on It|spotify:album:3Od...|     Khleo Thomas|spotify:artist:1X...|   28090198|So all I got is 5...|[so, all, i, got,...|                2k16|        109|            1|       128|776292| 74|             5 on It|spotify:track:00x...|\n",
       "\n",
       "*** WARNING: skipped 220303 bytes of output ***\n",
       "\n",
       "{621bb23e174bc05a...|      Two of a Crime|spotify:album:0Yn...|  Miranda Lambert|spotify:artist:66...|   16440834|May Rose I pay a ...|[may, rose, i, pa...|        For the kids|         56|            1|        80|567627| 40|      Two of a Crime|spotify:track:011...|\n",
       "{621bb23e174bc05a...|      Two of a Crime|spotify:album:0Yn...|  Miranda Lambert|spotify:artist:66...|   36253863|May Rose I pay a ...|[may, rose, i, pa...|     Miranda Lambert|         25|            3|       171|125833| 45|      Two of a Crime|spotify:track:011...|\n",
       "{621bb23e174bc05a...|      Two of a Crime|spotify:album:0Yn...|  Miranda Lambert|spotify:artist:66...|   23945696|May Rose I pay a ...|[may, rose, i, pa...|             Country|         58|            4|       109| 69524| 77|      Two of a Crime|spotify:track:011...|\n",
       "{621bb23e174bc05a...|      Two of a Crime|spotify:album:0Yn...|  Miranda Lambert|spotify:artist:66...|   23125350|May Rose I pay a ...|[may, rose, i, pa...|     Miranda Lambert|          3|          208|       104|461206| 73|      Two of a Crime|spotify:track:011...|\n",
       "{621bb23e174bc05a...|      Two of a Crime|spotify:album:0Yn...|  Miranda Lambert|spotify:artist:66...|   54812263|May Rose I pay a ...|[may, rose, i, pa...|             Country|         57|            1|       241|830984|205|      Two of a Crime|spotify:track:011...|\n",
       "{621bb23e174bc05a...|      Two of a Crime|spotify:album:0Yn...|  Miranda Lambert|spotify:artist:66...|   47689773|May Rose I pay a ...|[may, rose, i, pa...|             Country|         61|            1|       218|731204|139|      Two of a Crime|spotify:track:011...|\n",
       "{621bb23e174bc05a...|      Two of a Crime|spotify:album:0Yn...|  Miranda Lambert|spotify:artist:66...|   50703677|May Rose I pay a ...|[may, rose, i, pa...|             Country|        106|            5|       232|139725|115|      Two of a Crime|spotify:track:011...|\n",
       "{621bb23e174bc05a...|             Leo Dan|spotify:album:3gB...|          Leo Dan|spotify:artist:6q...|   22300764|hablamos de pasió...|[hablamos, de, pa...|            Viejitas|         26|            1|       113|814865| 93|               Celia|spotify:track:01M...|\n",
       "{621bb23e174bc05a...|             Leo Dan|spotify:album:3gB...|          Leo Dan|spotify:artist:6q...|   22717925|hablamos de pasió...|[hablamos, de, pa...|                 Mom|         33|            2|       111|268358| 69|               Celia|spotify:track:01M...|\n",
       "{621bb23e174bc05a...|             Leo Dan|spotify:album:3gB...|          Leo Dan|spotify:artist:6q...|   34617294|hablamos de pasió...|[hablamos, de, pa...|             Spanish|         91|            1|       153|120467|  4|               Celia|spotify:track:01M...|\n",
       "{621bb23e174bc05a...|             Leo Dan|spotify:album:3gB...|          Leo Dan|spotify:artist:6q...|   54425420|hablamos de pasió...|[hablamos, de, pa...|              Monica|        117|            1|       227| 20569| 78|               Celia|spotify:track:01M...|\n",
       "{621bb23e174bc05a...|             Leo Dan|spotify:album:3gB...|          Leo Dan|spotify:artist:6q...|   44127651|hablamos de pasió...|[hablamos, de, pa...|            viejitas|        120|            1|       210|817634| 31|               Celia|spotify:track:01M...|\n",
       "{621bb23e174bc05a...|             Leo Dan|spotify:album:3gB...|          Leo Dan|spotify:artist:6q...|   25011136|hablamos de pasió...|[hablamos, de, pa...|Romanticas en esp...|         22|            4|       116|426240| 28|               Celia|spotify:track:01M...|\n",
       "{621bb23e174bc05a...|             Leo Dan|spotify:album:3gB...|          Leo Dan|spotify:artist:6q...|   31529068|hablamos de pasió...|[hablamos, de, pa...|             Boleros|         44|            1|       133|719255| 71|               Celia|spotify:track:01M...|\n",
       "{621bb23e174bc05a...|             Leo Dan|spotify:album:3gB...|          Leo Dan|spotify:artist:6q...|    1569985|hablamos de pasió...|[hablamos, de, pa...|            Clasicas|          6|            1|         7|887185|  5|               Celia|spotify:track:01M...|\n",
       "{621bb23e174bc05a...|             Leo Dan|spotify:album:3gB...|          Leo Dan|spotify:artist:6q...|   42332738|hablamos de pasió...|[hablamos, de, pa...|                JOSE|        130|            1|       175|317421| 37|               Celia|spotify:track:01M...|\n",
       "{621bb23e174bc05a...|             Leo Dan|spotify:album:3gB...|          Leo Dan|spotify:artist:6q...|   14727129|hablamos de pasió...|[hablamos, de, pa...|       Camilo Sesto |         16|            2|        68|196844| 62|               Celia|spotify:track:01M...|\n",
       "{621bb23e174bc05a...|             Leo Dan|spotify:album:3gB...|          Leo Dan|spotify:artist:6q...|   32965277|hablamos de pasió...|[hablamos, de, pa...|viejitas pero bon...|         48|            2|       163|271170| 76|               Celia|spotify:track:01M...|\n",
       "{621bb23e174bc05a...|             Leo Dan|spotify:album:3gB...|          Leo Dan|spotify:artist:6q...|    9633631|hablamos de pasió...|[hablamos, de, pa...|              Viejas|         15|            1|        49|837033|  9|               Celia|spotify:track:01M...|\n",
       "{621bb23e174bc05a...|             Leo Dan|spotify:album:3gB...|          Leo Dan|spotify:artist:6q...|   35145800|hablamos de pasió...|[hablamos, de, pa...|          Romanticos|         74|            1|       149|211735|  8|               Celia|spotify:track:01M...|\n",
       "{621bb23e174bc05a...|             Leo Dan|spotify:album:3gB...|          Leo Dan|spotify:artist:6q...|    7689169|hablamos de pasió...|[hablamos, de, pa...|             Mexican|         13|            1|        39|382113| 27|               Celia|spotify:track:01M...|\n",
       "{621bb23e174bc05a...|             Leo Dan|spotify:album:3gB...|          Leo Dan|spotify:artist:6q...|    9329795|hablamos de pasió...|[hablamos, de, pa...|                 #LD|          6|            2|        56|402869| 25|               Celia|spotify:track:01M...|\n",
       "{621bb23e174bc05a...|             Leo Dan|spotify:album:3gB...|          Leo Dan|spotify:artist:6q...|    6969657|hablamos de pasió...|[hablamos, de, pa...|            viejitas|         12|            2|        36|523737|  6|               Celia|spotify:track:01M...|\n",
       "{621bb23e174bc05a...|             Leo Dan|spotify:album:3gB...|          Leo Dan|spotify:artist:6q...|    9437005|hablamos de pasió...|[hablamos, de, pa...|            Clasicos|         12|            1|        50|341493|  1|               Celia|spotify:track:01M...|\n",
       "{621bb23e174bc05a...|             Leo Dan|spotify:album:3gB...|          Leo Dan|spotify:artist:6q...|   26667834|hablamos de pasió...|[hablamos, de, pa...|     oldies español |         22|            1|       126|109583| 19|               Celia|spotify:track:01M...|\n",
       "{621bb23e174bc05a...|             Leo Dan|spotify:album:3gB...|          Leo Dan|spotify:artist:6q...|   20747905|hablamos de pasió...|[hablamos, de, pa...|           Viejitas |         45|            2|        99|357027| 21|               Celia|spotify:track:01M...|\n",
       "{621bb23e174bc05a...|             Leo Dan|spotify:album:3gB...|          Leo Dan|spotify:artist:6q...|   51021415|hablamos de pasió...|[hablamos, de, pa...|                 All|        147|            1|       206|214891|154|               Celia|spotify:track:01M...|\n",
       "{621bb23e174bc05a...|             Leo Dan|spotify:album:3gB...|          Leo Dan|spotify:artist:6q...|   41283329|hablamos de pasió...|[hablamos, de, pa...|                Peru|         60|            2|       185|166300|118|               Celia|spotify:track:01M...|\n",
       "{621bb23e174bc05a...|             Leo Dan|spotify:album:3gB...|          Leo Dan|spotify:artist:6q...|    3978669|hablamos de pasió...|[hablamos, de, pa...|            Antiguas|          8|            2|        21| 87967|  1|               Celia|spotify:track:01M...|\n",
       "{621bb23e174bc05a...|             Leo Dan|spotify:album:3gB...|          Leo Dan|spotify:artist:6q...|   35756695|hablamos de pasió...|[hablamos, de, pa...|              poison|         43|            1|       144|562978| 78|               Celia|spotify:track:01M...|\n",
       "{621bb23e174bc05a...|             Leo Dan|spotify:album:3gB...|          Leo Dan|spotify:artist:6q...|   31690859|hablamos de pasió...|[hablamos, de, pa...|Viejitas pero bon...|         15|            1|       162| 97937|142|               Celia|spotify:track:01M...|\n",
       "{621bb23e174bc05a...|             Leo Dan|spotify:album:3gB...|          Leo Dan|spotify:artist:6q...|   47234579|hablamos de pasió...|[hablamos, de, pa...|Viejitas Pero Bon...|         95|            1|       211|890791| 66|               Celia|spotify:track:01M...|\n",
       "{621bb23e174bc05a...|             Leo Dan|spotify:album:3gB...|          Leo Dan|spotify:artist:6q...|   12894372|hablamos de pasió...|[hablamos, de, pa...|      Musica antigua|         33|            2|        67|253471| 12|               Celia|spotify:track:01M...|\n",
       "{621bb23e174bc05a...|             Leo Dan|spotify:album:3gB...|          Leo Dan|spotify:artist:6q...|   18900661|hablamos de pasió...|[hablamos, de, pa...|             Baladas|         24|            1|        83|539126| 70|               Celia|spotify:track:01M...|\n",
       "{621bb23e174bc05a...|             Leo Dan|spotify:album:3gB...|          Leo Dan|spotify:artist:6q...|   39217179|hablamos de pasió...|[hablamos, de, pa...|        Del Recuerdo|         38|            2|       199|946225| 93|               Celia|spotify:track:01M...|\n",
       "{621bb23e174bc05a...|         Told You So|spotify:album:5fn...|      Christopher|spotify:artist:3z...|   18398883|Little sunshine o...|[little, sunshine...|           Romantic |         65|            4|        75|807335| 61|     Little Sunshine|spotify:track:01Q...|\n",
       "{621bb23e174bc05a...|         Told You So|spotify:album:5fn...|      Christopher|spotify:artist:3z...|    7850792|Little sunshine o...|[little, sunshine...|            Cruising|         28|            1|        37|807823| 33|     Little Sunshine|spotify:track:01Q...|\n",
       "{621bb23e174bc05a...|         Told You So|spotify:album:5fn...|      Christopher|spotify:artist:3z...|   26407918|Little sunshine o...|[little, sunshine...|              Hunter|         81|            1|       112|274568|101|     Little Sunshine|spotify:track:01Q...|\n",
       "{621bb23e174bc05a...|         Told You So|spotify:album:5fn...|      Christopher|spotify:artist:3z...|   36116770|Little sunshine o...|[little, sunshine...|             singing|        123|            2|       160|981435|  1|     Little Sunshine|spotify:track:01Q...|\n",
       "{621bb23e174bc05a...|         Told You So|spotify:album:5fn...|      Christopher|spotify:artist:3z...|   31942970|Little sunshine o...|[little, sunshine...|          evergreens|         99|            1|       136|902609|117|     Little Sunshine|spotify:track:01Q...|\n",
       "{621bb23e174bc05a...|               Kid A|spotify:album:19R...|        Radiohead|spotify:artist:4Z...|   58202072|Everyone\\nEveryon...|[everyone, everyo...|               Poker|        120|            1|       240|767676|196| The National Anthem|spotify:track:01U...|\n",
       "{621bb23e174bc05a...|               Kid A|spotify:album:19R...|        Radiohead|spotify:artist:4Z...|   29621375|Everyone\\nEveryon...|[everyone, everyo...|           New loves|         13|            1|       103|850548| 46| The National Anthem|spotify:track:01U...|\n",
       "{621bb23e174bc05a...|               Kid A|spotify:album:19R...|        Radiohead|spotify:artist:4Z...|    6744966|Everyone\\nEveryon...|[everyone, everyo...|       Sunday Brunch|         24|            2|        29|759065| 21| The National Anthem|spotify:track:01U...|\n",
       "{621bb23e174bc05a...|               Kid A|spotify:album:19R...|        Radiohead|spotify:artist:4Z...|   38651391|Everyone\\nEveryon...|[everyone, everyo...|           alternate|         32|            1|       159|218252| 92| The National Anthem|spotify:track:01U...|\n",
       "{621bb23e174bc05a...|               Kid A|spotify:album:19R...|        Radiohead|spotify:artist:4Z...|   44049327|Everyone\\nEveryon...|[everyone, everyo...|               LOLla|         37|            1|       181|218357|  2| The National Anthem|spotify:track:01U...|\n",
       "{621bb23e174bc05a...|               Kid A|spotify:album:19R...|        Radiohead|spotify:artist:4Z...|   21487050|Everyone\\nEveryon...|[everyone, everyo...|          2016 faves|         31|            1|        73|126370| 49| The National Anthem|spotify:track:01U...|\n",
       "{621bb23e174bc05a...|               Kid A|spotify:album:19R...|        Radiohead|spotify:artist:4Z...|   27428757|Everyone\\nEveryon...|[everyone, everyo...|Adventure Of A Li...|         51|            1|       109|509584| 58| The National Anthem|spotify:track:01U...|\n",
       "{621bb23e174bc05a...|               Kid A|spotify:album:19R...|        Radiohead|spotify:artist:4Z...|   51479814|Everyone\\nEveryon...|[everyone, everyo...|    Alternative rock|         13|            1|       211|509604| 36| The National Anthem|spotify:track:01U...|\n",
       "{621bb23e174bc05a...|               Kid A|spotify:album:19R...|        Radiohead|spotify:artist:4Z...|   43291576|Everyone\\nEveryon...|[everyone, everyo...|                Rock|         54|            1|       167|807476|153| The National Anthem|spotify:track:01U...|\n",
       "{621bb23e174bc05a...|               Kid A|spotify:album:19R...|        Radiohead|spotify:artist:4Z...|   12920815|Everyone\\nEveryon...|[everyone, everyo...|               drive|         17|            1|        49|734468| 27| The National Anthem|spotify:track:01U...|\n",
       "{621bb23e174bc05a...|               Kid A|spotify:album:19R...|        Radiohead|spotify:artist:4Z...|   16366202|Everyone\\nEveryon...|[everyone, everyo...|        Stuff I like|         59|            1|        64|771633| 20| The National Anthem|spotify:track:01U...|\n",
       "{621bb23e174bc05a...|               Kid A|spotify:album:19R...|        Radiohead|spotify:artist:4Z...|   12075125|Everyone\\nEveryon...|[everyone, everyo...|          On the way|         17|            1|        47|959958| 31| The National Anthem|spotify:track:01U...|\n",
       "{621bb23e174bc05a...|               Kid A|spotify:album:19R...|        Radiohead|spotify:artist:4Z...|   19095229|Everyone\\nEveryon...|[everyone, everyo...|          good tunes|         37|            1|        71|922067| 23| The National Anthem|spotify:track:01U...|\n",
       "{621bb23e174bc05a...|               Kid A|spotify:album:19R...|        Radiohead|spotify:artist:4Z...|   10275216|Everyone\\nEveryon...|[everyone, everyo...|         Quiet Times|         28|            1|        41|789328|  5| The National Anthem|spotify:track:01U...|\n",
       "{621bb23e174bc05a...|               Kid A|spotify:album:19R...|        Radiohead|spotify:artist:4Z...|    4828766|Everyone\\nEveryon...|[everyone, everyo...|     Acoustic covers|         10|            1|        19|176287| 18| The National Anthem|spotify:track:01U...|\n",
       "{621bb23e174bc05a...|               Kid A|spotify:album:19R...|        Radiohead|spotify:artist:4Z...|   61086898|Everyone\\nEveryon...|[everyone, everyo...|                merp|        120|            2|       248|294142|110| The National Anthem|spotify:track:01U...|\n",
       "{621bb23e174bc05a...|               Kid A|spotify:album:19R...|        Radiohead|spotify:artist:4Z...|   13402776|Everyone\\nEveryon...|[everyone, everyo...|                Life|         33|            1|        45|888958| 22| The National Anthem|spotify:track:01U...|\n",
       "{621bb23e174bc05a...|               Kid A|spotify:album:19R...|        Radiohead|spotify:artist:4Z...|   22469192|Everyone\\nEveryon...|[everyone, everyo...|                2000|          8|            1|       103|144920| 34| The National Anthem|spotify:track:01U...|\n",
       "{621bb23e174bc05a...|               Kid A|spotify:album:19R...|        Radiohead|spotify:artist:4Z...|   32392876|Everyone\\nEveryon...|[everyone, everyo...|             Top 100|         98|            1|       125|747021| 21| The National Anthem|spotify:track:01U...|\n",
       "{621bb23e174bc05a...|               Kid A|spotify:album:19R...|        Radiohead|spotify:artist:4Z...|   15959018|Everyone\\nEveryon...|[everyone, everyo...|                Melt|         55|            3|        64|318519| 36| The National Anthem|spotify:track:01U...|\n",
       "{621bb23e174bc05a...|               Kid A|spotify:album:19R...|        Radiohead|spotify:artist:4Z...|   48309321|Everyone\\nEveryon...|[everyone, everyo...|             Ambient|        112|            1|       173| 82970| 27| The National Anthem|spotify:track:01U...|\n",
       "{621bb23e174bc05a...|               Kid A|spotify:album:19R...|        Radiohead|spotify:artist:4Z...|   59211646|Everyone\\nEveryon...|[everyone, everyo...|        Road Trippin|        146|            2|       247|332399|128| The National Anthem|spotify:track:01U...|\n",
       "{621bb23e174bc05a...|               Kid A|spotify:album:19R...|        Radiohead|spotify:artist:4Z...|    5128667|Everyone\\nEveryon...|[everyone, everyo...|               Water|         15|            1|        24|738440|  1| The National Anthem|spotify:track:01U...|\n",
       "{621bb23e174bc05a...|               Kid A|spotify:album:19R...|        Radiohead|spotify:artist:4Z...|   54552736|Everyone\\nEveryon...|[everyone, everyo...|           nostalgia|        128|            1|       219|595312|149| The National Anthem|spotify:track:01U...|\n",
       "{621bb23e174bc05a...|               Kid A|spotify:album:19R...|        Radiohead|spotify:artist:4Z...|   54355990|Everyone\\nEveryon...|[everyone, everyo...|      Favorite Songs|         88|            1|       229|979489| 22| The National Anthem|spotify:track:01U...|\n",
       "{621bb23e174bc05a...|               Kid A|spotify:album:19R...|        Radiohead|spotify:artist:4Z...|   21316736|Everyone\\nEveryon...|[everyone, everyo...|                zone|         25|            1|        71|937529| 63| The National Anthem|spotify:track:01U...|\n",
       "{621bb23e174bc05a...|               Kid A|spotify:album:19R...|        Radiohead|spotify:artist:4Z...|   35814166|Everyone\\nEveryon...|[everyone, everyo...|         Running mix|        100|            1|       142|131695| 10| The National Anthem|spotify:track:01U...|\n",
       "{621bb23e174bc05a...|               Kid A|spotify:album:19R...|        Radiohead|spotify:artist:4Z...|   44099584|Everyone\\nEveryon...|[everyone, everyo...|            new rock|         66|            1|       170| 57116| 66| The National Anthem|spotify:track:01U...|\n",
       "{621bb23e174bc05a...|               Kid A|spotify:album:19R...|        Radiohead|spotify:artist:4Z...|   34993755|Everyone\\nEveryon...|[everyone, everyo...|              Stream|         25|            2|       144|410032| 69| The National Anthem|spotify:track:01U...|\n",
       "{621bb23e174bc05a...|               Kid A|spotify:album:19R...|        Radiohead|spotify:artist:4Z...|   12540621|Everyone\\nEveryon...|[everyone, everyo...|             Roomies|         26|            1|        49| 32053| 32| The National Anthem|spotify:track:01U...|\n",
       "{621bb23e174bc05a...|               Kid A|spotify:album:19R...|        Radiohead|spotify:artist:4Z...|   24816032|Everyone\\nEveryon...|[everyone, everyo...|        Alternative |         58|            1|       103|843376| 88| The National Anthem|spotify:track:01U...|\n",
       "{621bb23e174bc05a...|               Kid A|spotify:album:19R...|        Radiohead|spotify:artist:4Z...|    8670574|Everyone\\nEveryon...|[everyone, everyo...|          Bass songs|         13|            1|        34|973063|  3| The National Anthem|spotify:track:01U...|\n",
       "{621bb23e174bc05a...|               Kid A|spotify:album:19R...|        Radiohead|spotify:artist:4Z...|   47266735|Everyone\\nEveryon...|[everyone, everyo...|               Party|        145|            1|       189|766932|109| The National Anthem|spotify:track:01U...|\n",
       "{621bb23e174bc05a...|               Kid A|spotify:album:19R...|        Radiohead|spotify:artist:4Z...|   41787212|Everyone\\nEveryon...|[everyone, everyo...|                  CV|         45|            1|       141|206287| 34| The National Anthem|spotify:track:01U...|\n",
       "{621bb23e174bc05a...|               Kid A|spotify:album:19R...|        Radiohead|spotify:artist:4Z...|   54243569|Everyone\\nEveryon...|[everyone, everyo...|               yasss|        111|            1|       217|693058|162| The National Anthem|spotify:track:01U...|\n",
       "{621bb23e174bc05a...|               Kid A|spotify:album:19R...|        Radiohead|spotify:artist:4Z...|   47461394|Everyone\\nEveryon...|[everyone, everyo...|            The List|        107|            1|       177|411383| 69| The National Anthem|spotify:track:01U...|\n",
       "{621bb23e174bc05a...|               Kid A|spotify:album:19R...|        Radiohead|spotify:artist:4Z...|   15067523|Everyone\\nEveryon...|[everyone, everyo...|                Work|          8|            1|        50| 16159| 27| The National Anthem|spotify:track:01U...|\n",
       "{621bb23e174bc05a...|               Kid A|spotify:album:19R...|        Radiohead|spotify:artist:4Z...|   56656100|Everyone\\nEveryon...|[everyone, everyo...|         RUN RUN RUN|        158|            1|       213| 16627| 21| The National Anthem|spotify:track:01U...|\n",
       "{621bb23e174bc05a...|               Kid A|spotify:album:19R...|        Radiohead|spotify:artist:4Z...|   14004768|Everyone\\nEveryon...|[everyone, everyo...|               Train|         38|            1|        53|114679| 43| The National Anthem|spotify:track:01U...|\n",
       "{621bb23e174bc05a...|               Kid A|spotify:album:19R...|        Radiohead|spotify:artist:4Z...|   18769423|Everyone\\nEveryon...|[everyone, everyo...|              Badass|         45|            1|        68| 56383| 64| The National Anthem|spotify:track:01U...|\n",
       "{621bb23e174bc05a...|               Kid A|spotify:album:19R...|        Radiohead|spotify:artist:4Z...|    9487249|Everyone\\nEveryon...|[everyone, everyo...|             Gym mix|         29|            2|        36|259033| 29| The National Anthem|spotify:track:01U...|\n",
       "{621bb23e174bc05a...|               Kid A|spotify:album:19R...|        Radiohead|spotify:artist:4Z...|   11327739|Everyone\\nEveryon...|[everyone, everyo...|              summer|         42|            1|        44|259213| 12| The National Anthem|spotify:track:01U...|\n",
       "{621bb23e174bc05a...|               Kid A|spotify:album:19R...|        Radiohead|spotify:artist:4Z...|   18926702|Everyone\\nEveryon...|[everyone, everyo...|               Mambo|         10|            1|        79|331754| 17| The National Anthem|spotify:track:01U...|\n",
       "{621bb23e174bc05a...|               Kid A|spotify:album:19R...|        Radiohead|spotify:artist:4Z...|   25352841|Everyone\\nEveryon...|[everyone, everyo...|              trippy|         54|            1|        71|905991| 16| The National Anthem|spotify:track:01U...|\n",
       "{621bb23e174bc05a...|               Kid A|spotify:album:19R...|        Radiohead|spotify:artist:4Z...|   58560740|Everyone\\nEveryon...|[everyone, everyo...|            sad girl|         29|            1|       243|306808|190| The National Anthem|spotify:track:01U...|\n",
       "{621bb23e174bc05a...|               Kid A|spotify:album:19R...|        Radiohead|spotify:artist:4Z...|   48730875|Everyone\\nEveryon...|[everyone, everyo...|             Library|        100|            1|       206| 10993| 11| The National Anthem|spotify:track:01U...|\n",
       "{621bb23e174bc05a...|               Kid A|spotify:album:19R...|        Radiohead|spotify:artist:4Z...|   39643857|Everyone\\nEveryon...|[everyone, everyo...|            work out|        107|            1|       164|312573|102| The National Anthem|spotify:track:01U...|\n",
       "{621bb23e174bc05a...|               Kid A|spotify:album:19R...|        Radiohead|spotify:artist:4Z...|   15330708|Everyone\\nEveryon...|[everyone, everyo...|                Camp|         27|            1|        63|804057| 58| The National Anthem|spotify:track:01U...|\n",
       "{621bb23e174bc05a...|               Kid A|spotify:album:19R...|        Radiohead|spotify:artist:4Z...|   25080960|Everyone\\nEveryon...|[everyone, everyo...|              Part 1|         59|            1|        93|252873| 42| The National Anthem|spotify:track:01U...|\n",
       "{621bb23e174bc05a...|               Kid A|spotify:album:19R...|        Radiohead|spotify:artist:4Z...|   57067377|Everyone\\nEveryon...|[everyone, everyo...|       Work Playlist|        185|            1|       232|427932| 48| The National Anthem|spotify:track:01U...|\n",
       "{621bb23e174bc05a...|               Kid A|spotify:album:19R...|        Radiohead|spotify:artist:4Z...|   43555591|Everyone\\nEveryon...|[everyone, everyo...|             driving|        126|            1|       182|314474|122| The National Anthem|spotify:track:01U...|\n",
       "+--------------------+--------------------+--------------------+-----------------+--------------------+-----------+--------------------+--------------------+--------------------+-----------+-------------+----------+------+---+--------------------+--------------------+\n",
       "only showing top 1000 rows\n",
       "\n",
       "</div>"
      ]
     },
     "metadata": {
      "application/vnd.databricks.v1+output": {
       "addedWidgets": {},
       "arguments": {},
       "data": "<div class=\"ansiout\">+--------------------+--------------------+--------------------+-----------------+--------------------+-----------+--------------------+--------------------+--------------------+-----------+-------------+----------+------+---+--------------------+--------------------+\n|                 _id|          album_name|           album_uri|      artist_name|          artist_uri|duration_ms|              lyrics|        lyrics_words|                name|num_artists|num_followers|num_tracks|   pid|pos|          track_name|           track_uri|\n+--------------------+--------------------+--------------------+-----------------+--------------------+-----------+--------------------+--------------------+--------------------+-----------+-------------+----------+------+---+--------------------+--------------------+\n|{621bb23d5f573454...|     Billy Talent II|spotify:album:0cT...|     Billy Talent|spotify:artist:08...|   46045590|All we shared was...|[all, we, shared,...|                 Sam|         54|            7|       181| 62734| 27|       Perfect World|spotify:track:00W...|\n|{621bb23d5f573454...|     Billy Talent II|spotify:album:0cT...|     Billy Talent|spotify:artist:08...|   41307347|All we shared was...|[all, we, shared,...|          Chill jams|        124|            2|       190|514425| 20|       Perfect World|spotify:track:00W...|\n|{621bb23d5f573454...|     Billy Talent II|spotify:album:0cT...|     Billy Talent|spotify:artist:08...|   55100801|All we shared was...|[all, we, shared,...|            Playlist|        103|            1|       242|718221| 46|       Perfect World|spotify:track:00W...|\n|{621bb23d5f573454...|     Billy Talent II|spotify:album:0cT...|     Billy Talent|spotify:artist:08...|   18944057|All we shared was...|[all, we, shared,...|                Yeah|         31|            1|        81|452925| 54|       Perfect World|spotify:track:00W...|\n|{621bb23d5f573454...|     Billy Talent II|spotify:album:0cT...|     Billy Talent|spotify:artist:08...|   33700896|All we shared was...|[all, we, shared,...|           Seventeen|         16|            1|       158|628746| 37|       Perfect World|spotify:track:00W...|\n|{621bb23d5f573454...|     Billy Talent II|spotify:album:0cT...|     Billy Talent|spotify:artist:08...|   53670133|All we shared was...|[all, we, shared,...|         earworms ~~|         56|            1|       219|378192|131|       Perfect World|spotify:track:00W...|\n|{621bb23d5f573454...|     Billy Talent II|spotify:album:0cT...|     Billy Talent|spotify:artist:08...|   55808261|All we shared was...|[all, we, shared,...|      Throwback Jams|         30|            1|       247|522391|243|       Perfect World|spotify:track:00W...|\n|{621bb23d5f573454...|     Billy Talent II|spotify:album:0cT...|     Billy Talent|spotify:artist:08...|   31984959|All we shared was...|[all, we, shared,...|              Viajar|         21|            1|       123|805358| 49|       Perfect World|spotify:track:00W...|\n|{621bb23d5f573454...|     Billy Talent II|spotify:album:0cT...|     Billy Talent|spotify:artist:08...|   23208653|All we shared was...|[all, we, shared,...|                Rock|          9|            2|        99| 16994| 10|       Perfect World|spotify:track:00W...|\n|{621bb23d5f573454...|     Billy Talent II|spotify:album:0cT...|     Billy Talent|spotify:artist:08...|   30209731|All we shared was...|[all, we, shared,...|   Bit of Everything|         68|            1|       131|429248| 41|       Perfect World|spotify:track:00W...|\n|{621bb23d5f573454...|     Billy Talent II|spotify:album:0cT...|     Billy Talent|spotify:artist:08...|   17145562|All we shared was...|[all, we, shared,...|                Punk|         40|            2|        96|434333| 38|       Perfect World|spotify:track:00W...|\n|{621bb23d5f573454...|     Billy Talent II|spotify:album:0cT...|     Billy Talent|spotify:artist:08...|   48059426|All we shared was...|[all, we, shared,...|                art |        131|            1|       210|515425| 42|       Perfect World|spotify:track:00W...|\n|{621bb23d5f573454...|     Billy Talent II|spotify:album:0cT...|     Billy Talent|spotify:artist:08...|   48303250|All we shared was...|[all, we, shared,...|    Perfect Playlist|        201|            2|       207|541589|142|       Perfect World|spotify:track:00W...|\n|{621bb23d5f573454...|     Billy Talent II|spotify:album:0cT...|     Billy Talent|spotify:artist:08...|   44283379|All we shared was...|[all, we, shared,...|              Gaming|         65|            2|       176|440012| 16|       Perfect World|spotify:track:00W...|\n|{621bb23d5f573454...|     Billy Talent II|spotify:album:0cT...|     Billy Talent|spotify:artist:08...|   10102981|All we shared was...|[all, we, shared,...|               bored|         37|            2|        46|440800| 24|       Perfect World|spotify:track:00W...|\n|{621bb23d5f573454...|Sing Sing Death H...|spotify:album:4Vr...|   The Distillers|spotify:artist:7M...|   32678273|Pulled the fuckin...|[pulled, the, fuc...|       Playlist 2017|         66|            1|       147|585356| 99|      Sick Of It All|spotify:track:00d...|\n|{621bb23d5f573454...|Sing Sing Death H...|spotify:album:4Vr...|   The Distillers|spotify:artist:7M...|   43761604|Pulled the fuckin...|[pulled, the, fuc...|            Cleaning|         86|            2|       193|581399| 85|      Sick Of It All|spotify:track:00d...|\n|{621bb23d5f573454...|Sing Sing Death H...|spotify:album:4Vr...|   The Distillers|spotify:artist:7M...|   31049183|Pulled the fuckin...|[pulled, the, fuc...|                PUNK|         44|            1|       183|945673| 72|      Sick Of It All|spotify:track:00d...|\n|{621bb23d5f573454...|Sing Sing Death H...|spotify:album:4Vr...|   The Distillers|spotify:artist:7M...|    6154344|Pulled the fuckin...|[pulled, the, fuc...|           Throwback|         24|            1|        28|773937| 27|      Sick Of It All|spotify:track:00d...|\n|{621bb23d5f573454...|Sing Sing Death H...|spotify:album:4Vr...|   The Distillers|spotify:artist:7M...|   10538888|Pulled the fuckin...|[pulled, the, fuc...|                punk|         24|            1|        64|185564| 56|      Sick Of It All|spotify:track:00d...|\n|{621bb23d5f573454...|Sing Sing Death H...|spotify:album:4Vr...|   The Distillers|spotify:artist:7M...|    4482389|Pulled the fuckin...|[pulled, the, fuc...|           Punk Rock|         22|            1|        29|376683|  0|      Sick Of It All|spotify:track:00d...|\n|{621bb23d5f573454...|Sing Sing Death H...|spotify:album:4Vr...|   The Distillers|spotify:artist:7M...|   28148488|Pulled the fuckin...|[pulled, the, fuc...|          TURN IT UP|        104|            1|       165|866665| 73|      Sick Of It All|spotify:track:00d...|\n|{621bb23d5f573454...|Sing Sing Death H...|spotify:album:4Vr...|   The Distillers|spotify:artist:7M...|   21364080|Pulled the fuckin...|[pulled, the, fuc...|               hmm..|         52|            1|        88|947757| 66|      Sick Of It All|spotify:track:00d...|\n|{621bb23d5f573454...|Sing Sing Death H...|spotify:album:4Vr...|   The Distillers|spotify:artist:7M...|   27575136|Pulled the fuckin...|[pulled, the, fuc...|           Punk Rock|         58|            1|       169|903885|156|      Sick Of It All|spotify:track:00d...|\n|{621bb23d5f573454...|Sing Sing Death H...|spotify:album:4Vr...|   The Distillers|spotify:artist:7M...|   25237988|Pulled the fuckin...|[pulled, the, fuc...|              Robert|         95|            1|       129|966941|  6|      Sick Of It All|spotify:track:00d...|\n|{621bb23d5f573454...|Sing Sing Death H...|spotify:album:4Vr...|   The Distillers|spotify:artist:7M...|   50370602|Pulled the fuckin...|[pulled, the, fuc...|  Middle school jams|          6|            1|       234|623484| 28|      Sick Of It All|spotify:track:00d...|\n|{621bb23d5f573454...|Sing Sing Death H...|spotify:album:4Vr...|   The Distillers|spotify:artist:7M...|   29640979|Pulled the fuckin...|[pulled, the, fuc...|        thanksgiving|         30|            1|       169|195756|146|      Sick Of It All|spotify:track:00d...|\n|{621bb23d5f573454...|Sing Sing Death H...|spotify:album:4Vr...|   The Distillers|spotify:artist:7M...|   31546496|Pulled the fuckin...|[pulled, the, fuc...|                Punk|         37|            1|       189|149791| 75|      Sick Of It All|spotify:track:00d...|\n|{621bb23d5f573454...|Sing Sing Death H...|spotify:album:4Vr...|   The Distillers|spotify:artist:7M...|   54084588|Pulled the fuckin...|[pulled, the, fuc...|         Get Psyched|        121|            1|       213|391576| 68|      Sick Of It All|spotify:track:00d...|\n|{621bb23d5f573454...|Sing Sing Death H...|spotify:album:4Vr...|   The Distillers|spotify:artist:7M...|    7949987|Pulled the fuckin...|[pulled, the, fuc...|            Workout |          7|            1|        37|457221|  6|      Sick Of It All|spotify:track:00d...|\n|{621bb23d5f573454...|Sing Sing Death H...|spotify:album:4Vr...|   The Distillers|spotify:artist:7M...|   26149572|Pulled the fuckin...|[pulled, the, fuc...|                pUnK|         57|            1|       161|897256|121|      Sick Of It All|spotify:track:00d...|\n|{621bb23d5f573454...|   In Fear And Faith|spotify:album:38C...|In Fear And Faith|spotify:artist:19...|   18776470|When the light di...|[when, the, light...|            Gym Rock|         49|            1|        83| 63916| 81|   Last Man Stranded|spotify:track:00w...|\n|{621bb23d5f573454...|   In Fear And Faith|spotify:album:38C...|In Fear And Faith|spotify:artist:19...|   49233445|When the light di...|[when, the, light...|                 gym|         28|            1|       225|139502| 78|   Last Man Stranded|spotify:track:00w...|\n|{621bb23d5f573454...|   In Fear And Faith|spotify:album:38C...|In Fear And Faith|spotify:artist:19...|   37100303|When the light di...|[when, the, light...|               Rock |         43|            1|       165|868740|139|   Last Man Stranded|spotify:track:00w...|\n|{621bb23d5f573454...|   In Fear And Faith|spotify:album:38C...|In Fear And Faith|spotify:artist:19...|   45899696|When the light di...|[when, the, light...|           Metalcore|         44|            1|       199|174052| 87|   Last Man Stranded|spotify:track:00w...|\n|{621bb23d5f573454...|   In Fear And Faith|spotify:album:38C...|In Fear And Faith|spotify:artist:19...|   27226600|When the light di...|[when, the, light...|           old music|         58|            1|       116|303846| 10|   Last Man Stranded|spotify:track:00w...|\n|{621bb23d5f573454...|   In Fear And Faith|spotify:album:38C...|In Fear And Faith|spotify:artist:19...|   31173107|When the light di...|[when, the, light...|               Metal|         37|            1|       123|926692| 39|   Last Man Stranded|spotify:track:00w...|\n|{621bb23d5f573454...|   In Fear And Faith|spotify:album:38C...|In Fear And Faith|spotify:artist:19...|   20065340|When the light di...|[when, the, light...|             Push it|          6|            1|        83|773666| 39|   Last Man Stranded|spotify:track:00w...|\n|{621bb23d5f573454...|   In Fear And Faith|spotify:album:38C...|In Fear And Faith|spotify:artist:19...|   42521299|When the light di...|[when, the, light...|                rock|         69|            1|       187|  2832|165|   Last Man Stranded|spotify:track:00w...|\n|{621bb23d5f573454...|   In Fear And Faith|spotify:album:38C...|In Fear And Faith|spotify:artist:19...|    9555370|When the light di...|[when, the, light...|              yeah..|         16|            1|        35| 80128| 18|   Last Man Stranded|spotify:track:00w...|\n|{621bb23d5f573454...|   In Fear And Faith|spotify:album:38C...|In Fear And Faith|spotify:artist:19...|    8808099|When the light di...|[when, the, light...|           The Feels|         10|            1|        39|960203|  7|   Last Man Stranded|spotify:track:00w...|\n|{621bb23d5f573454...|   In Fear And Faith|spotify:album:38C...|In Fear And Faith|spotify:artist:19...|    3302644|When the light di...|[when, the, light...|               Drums|         14|            1|        14|341520|  4|   Last Man Stranded|spotify:track:00w...|\n|{621bb23d5f573454...|   In Fear And Faith|spotify:album:38C...|In Fear And Faith|spotify:artist:19...|   10295685|When the light di...|[when, the, light...|                 sad|         34|            1|        41| 49111| 22|   Last Man Stranded|spotify:track:00w...|\n|{621bb23d5f573454...|   In Fear And Faith|spotify:album:38C...|In Fear And Faith|spotify:artist:19...|   28007441|When the light di...|[when, the, light...|              Gaming|         82|            1|       113|115388| 98|   Last Man Stranded|spotify:track:00w...|\n|{621bb23d5f573454...|   In Fear And Faith|spotify:album:38C...|In Fear And Faith|spotify:artist:19...|   33621913|When the light di...|[when, the, light...|                  TP|         16|            1|       158|384250|126|   Last Man Stranded|spotify:track:00w...|\n|{621bb23d5f573454...|   In Fear And Faith|spotify:album:38C...|In Fear And Faith|spotify:artist:19...|   18311703|When the light di...|[when, the, light...|              Rocket|         36|            1|        80|294069| 46|   Last Man Stranded|spotify:track:00w...|\n|{621bb23d5f573454...|   In Fear And Faith|spotify:album:38C...|In Fear And Faith|spotify:artist:19...|   20579305|When the light di...|[when, the, light...|              Mellow|         61|            1|        75|234450| 37|   Last Man Stranded|spotify:track:00w...|\n|{621bb23d5f573454...|   In Fear And Faith|spotify:album:38C...|In Fear And Faith|spotify:artist:19...|   30026406|When the light di...|[when, the, light...|            Screamo |         24|            1|       127|623546| 39|   Last Man Stranded|spotify:track:00w...|\n|{621bb23d5f573454...|   In Fear And Faith|spotify:album:38C...|In Fear And Faith|spotify:artist:19...|   22491082|When the light di...|[when, the, light...|                🤘🏻|         41|            1|        98|962719| 19|   Last Man Stranded|spotify:track:00w...|\n|{621bb23d5f573454...|             5 on It|spotify:album:3Od...|     Khleo Thomas|spotify:artist:1X...|   23272968|So all I got is 5...|[so, all, i, got,...|                 RAP|         76|            1|        98|240978| 58|             5 on It|spotify:track:00x...|\n|{621bb23d5f573454...|             5 on It|spotify:album:3Od...|     Khleo Thomas|spotify:artist:1X...|   45573700|So all I got is 5...|[so, all, i, got,...|                 Gym|        132|            1|       200|932205|143|             5 on It|spotify:track:00x...|\n|{621bb23d5f573454...|             5 on It|spotify:album:3Od...|     Khleo Thomas|spotify:artist:1X...|   37127516|So all I got is 5...|[so, all, i, got,...|            Car Jams|         98|            1|       158|725933|136|             5 on It|spotify:track:00x...|\n|{621bb23d5f573454...|             5 on It|spotify:album:3Od...|     Khleo Thomas|spotify:artist:1X...|   38122596|So all I got is 5...|[so, all, i, got,...|           Turn Up!!|         84|            2|       161|461279|147|             5 on It|spotify:track:00x...|\n|{621bb23d5f573454...|             5 on It|spotify:album:3Od...|     Khleo Thomas|spotify:artist:1X...|   26003603|So all I got is 5...|[so, all, i, got,...|            new jamz|         92|            1|       116|137793|111|             5 on It|spotify:track:00x...|\n|{621bb23d5f573454...|             5 on It|spotify:album:3Od...|     Khleo Thomas|spotify:artist:1X...|   41911949|So all I got is 5...|[so, all, i, got,...|            The Best|        126|            2|       184|156872|105|             5 on It|spotify:track:00x...|\n|{621bb23d5f573454...|             5 on It|spotify:album:3Od...|     Khleo Thomas|spotify:artist:1X...|   20008174|So all I got is 5...|[so, all, i, got,...|          happy hour|         77|            1|        87|930276|  6|             5 on It|spotify:track:00x...|\n|{621bb23d5f573454...|             5 on It|spotify:album:3Od...|     Khleo Thomas|spotify:artist:1X...|   21078757|So all I got is 5...|[so, all, i, got,...|         Spring 2016|         84|            3|        95|182341|  1|             5 on It|spotify:track:00x...|\n|{621bb23d5f573454...|             5 on It|spotify:album:3Od...|     Khleo Thomas|spotify:artist:1X...|   55780964|So all I got is 5...|[so, all, i, got,...|               beach|        186|            1|       244|892989|105|             5 on It|spotify:track:00x...|\n|{621bb23d5f573454...|             5 on It|spotify:album:3Od...|     Khleo Thomas|spotify:artist:1X...|   44477901|So all I got is 5...|[so, all, i, got,...|               Turnt|        125|            1|       197|732085| 87|             5 on It|spotify:track:00x...|\n|{621bb23d5f573454...|             5 on It|spotify:album:3Od...|     Khleo Thomas|spotify:artist:1X...|   39083604|So all I got is 5...|[so, all, i, got,...|                 abs|        104|            4|       174|  7021|163|             5 on It|spotify:track:00x...|\n|{621bb23d5f573454...|             5 on It|spotify:album:3Od...|     Khleo Thomas|spotify:artist:1X...|   43005155|So all I got is 5...|[so, all, i, got,...|          Lets Party|        125|            1|       195|839443|146|             5 on It|spotify:track:00x...|\n|{621bb23d5f573454...|             5 on It|spotify:album:3Od...|     Khleo Thomas|spotify:artist:1X...|   11938636|So all I got is 5...|[so, all, i, got,...|        Early 2000&#39;s|         44|            1|        50|301460| 25|             5 on It|spotify:track:00x...|\n|{621bb23d5f573454...|             5 on It|spotify:album:3Od...|     Khleo Thomas|spotify:artist:1X...|   26513333|So all I got is 5...|[so, all, i, got,...|       Rap Playlist |         51|            1|       117|433969| 66|             5 on It|spotify:track:00x...|\n|{621bb23d5f573454...|             5 on It|spotify:album:3Od...|     Khleo Thomas|spotify:artist:1X...|   33047470|So all I got is 5...|[so, all, i, got,...|                wrap|         66|            1|       140|598075| 42|             5 on It|spotify:track:00x...|\n|{621bb23d5f573454...|             5 on It|spotify:album:3Od...|     Khleo Thomas|spotify:artist:1X...|   25143165|So all I got is 5...|[so, all, i, got,...|             Gym💪🏻|         96|            1|       114|878907| 37|             5 on It|spotify:track:00x...|\n|{621bb23d5f573454...|             5 on It|spotify:album:3Od...|     Khleo Thomas|spotify:artist:1X...|   37948892|So all I got is 5...|[so, all, i, got,...|          Good Songs|        106|            2|       170|664921|133|             5 on It|spotify:track:00x...|\n|{621bb23d5f573454...|             5 on It|spotify:album:3Od...|     Khleo Thomas|spotify:artist:1X...|   32419628|So all I got is 5...|[so, all, i, got,...|                 rap|         78|            1|       134|124848| 25|             5 on It|spotify:track:00x...|\n|{621bb23d5f573454...|             5 on It|spotify:album:3Od...|     Khleo Thomas|spotify:artist:1X...|   47640353|So all I got is 5...|[so, all, i, got,...|            chill af|        113|            1|       209|942936|129|             5 on It|spotify:track:00x...|\n|{621bb23d5f573454...|             5 on It|spotify:album:3Od...|     Khleo Thomas|spotify:artist:1X...|   25940826|So all I got is 5...|[so, all, i, got,...|               PARTY|         82|            1|       113|324417| 40|             5 on It|spotify:track:00x...|\n|{621bb23d5f573454...|             5 on It|spotify:album:3Od...|     Khleo Thomas|spotify:artist:1X...|   36207630|So all I got is 5...|[so, all, i, got,...|                yooo|         82|            2|       155| 84863|117|             5 on It|spotify:track:00x...|\n|{621bb23d5f573454...|             5 on It|spotify:album:3Od...|     Khleo Thomas|spotify:artist:1X...|    3987960|So all I got is 5...|[so, all, i, got,...|                werk|         15|            1|        17|273564| 10|             5 on It|spotify:track:00x...|\n|{621bb23d5f573454...|             5 on It|spotify:album:3Od...|     Khleo Thomas|spotify:artist:1X...|   21331948|So all I got is 5...|[so, all, i, got,...|         SUMMER 2015|         83|            2|        91|976646| 50|             5 on It|spotify:track:00x...|\n|{621bb23d5f573454...|             5 on It|spotify:album:3Od...|     Khleo Thomas|spotify:artist:1X...|   19777682|So all I got is 5...|[so, all, i, got,...|               Lit🔥|         70|            1|        94|387467| 46|             5 on It|spotify:track:00x...|\n|{621bb23d5f573454...|             5 on It|spotify:album:3Od...|     Khleo Thomas|spotify:artist:1X...|   17518400|So all I got is 5...|[so, all, i, got,...|            Car jams|         56|            1|        76|889722| 67|             5 on It|spotify:track:00x...|\n|{621bb23d5f573454...|             5 on It|spotify:album:3Od...|     Khleo Thomas|spotify:artist:1X...|   24842418|So all I got is 5...|[so, all, i, got,...|              vibes |         81|            2|       108|885754|  5|             5 on It|spotify:track:00x...|\n|{621bb23d5f573454...|             5 on It|spotify:album:3Od...|     Khleo Thomas|spotify:artist:1X...|   28328206|So all I got is 5...|[so, all, i, got,...|             Wake Up|         74|            1|       127|327380|  7|             5 on It|spotify:track:00x...|\n|{621bb23d5f573454...|             5 on It|spotify:album:3Od...|     Khleo Thomas|spotify:artist:1X...|   21643998|So all I got is 5...|[so, all, i, got,...|               PARTY|         63|            1|        97|189454| 94|             5 on It|spotify:track:00x...|\n|{621bb23d5f573454...|             5 on It|spotify:album:3Od...|     Khleo Thomas|spotify:artist:1X...|   30128390|So all I got is 5...|[so, all, i, got,...|       All summer 16|        124|            2|       138|309702| 83|             5 on It|spotify:track:00x...|\n|{621bb23d5f573454...|             5 on It|spotify:album:3Od...|     Khleo Thomas|spotify:artist:1X...|    5153590|So all I got is 5...|[so, all, i, got,...|             Workout|         16|            1|        23|309743| 20|             5 on It|spotify:track:00x...|\n|{621bb23d5f573454...|             5 on It|spotify:album:3Od...|     Khleo Thomas|spotify:artist:1X...|   31993976|So all I got is 5...|[so, all, i, got,...|                 Rap|         79|            1|       136|288568| 98|             5 on It|spotify:track:00x...|\n|{621bb23d5f573454...|             5 on It|spotify:album:3Od...|     Khleo Thomas|spotify:artist:1X...|   47385872|So all I got is 5...|[so, all, i, got,...|           Party Bus|        152|           14|       212|525033|208|             5 on It|spotify:track:00x...|\n|{621bb23d5f573454...|             5 on It|spotify:album:3Od...|     Khleo Thomas|spotify:artist:1X...|   21343093|So all I got is 5...|[so, all, i, got,...|   Wedding reception|         72|            1|        92|185646| 52|             5 on It|spotify:track:00x...|\n|{621bb23d5f573454...|             5 on It|spotify:album:3Od...|     Khleo Thomas|spotify:artist:1X...|   15554945|So all I got is 5...|[so, all, i, got,...|              Marie |         62|            1|        71|508527| 47|             5 on It|spotify:track:00x...|\n|{621bb23d5f573454...|             5 on It|spotify:album:3Od...|     Khleo Thomas|spotify:artist:1X...|   18142650|So all I got is 5...|[so, all, i, got,...|               Trap |         37|            1|        77|260869| 23|             5 on It|spotify:track:00x...|\n|{621bb23d5f573454...|             5 on It|spotify:album:3Od...|     Khleo Thomas|spotify:artist:1X...|    7866885|So all I got is 5...|[so, all, i, got,...|              Smokin|         23|            1|        34|596016| 15|             5 on It|spotify:track:00x...|\n|{621bb23d5f573454...|             5 on It|spotify:album:3Od...|     Khleo Thomas|spotify:artist:1X...|   18264250|So all I got is 5...|[so, all, i, got,...|                 pop|         44|            1|        79|963129| 48|             5 on It|spotify:track:00x...|\n|{621bb23d5f573454...|             5 on It|spotify:album:3Od...|     Khleo Thomas|spotify:artist:1X...|   23650799|So all I got is 5...|[so, all, i, got,...|                snow|         89|            1|       105|963987| 73|             5 on It|spotify:track:00x...|\n|{621bb23d5f573454...|             5 on It|spotify:album:3Od...|     Khleo Thomas|spotify:artist:1X...|   51811547|So all I got is 5...|[so, all, i, got,...|                Bass|        155|            1|       214|845225|176|             5 on It|spotify:track:00x...|\n|{621bb23d5f573454...|             5 on It|spotify:album:3Od...|     Khleo Thomas|spotify:artist:1X...|   13843267|So all I got is 5...|[so, all, i, got,...|         new bangers|         42|            1|        59|578632| 11|             5 on It|spotify:track:00x...|\n|{621bb23d5f573454...|             5 on It|spotify:album:3Od...|     Khleo Thomas|spotify:artist:1X...|   28090198|So all I got is 5...|[so, all, i, got,...|                2k16|        109|            1|       128|776292| 74|             5 on It|spotify:track:00x...|\n\n*** WARNING: skipped 220303 bytes of output ***\n\n|{621bb23e174bc05a...|      Two of a Crime|spotify:album:0Yn...|  Miranda Lambert|spotify:artist:66...|   16440834|May Rose I pay a ...|[may, rose, i, pa...|        For the kids|         56|            1|        80|567627| 40|      Two of a Crime|spotify:track:011...|\n|{621bb23e174bc05a...|      Two of a Crime|spotify:album:0Yn...|  Miranda Lambert|spotify:artist:66...|   36253863|May Rose I pay a ...|[may, rose, i, pa...|     Miranda Lambert|         25|            3|       171|125833| 45|      Two of a Crime|spotify:track:011...|\n|{621bb23e174bc05a...|      Two of a Crime|spotify:album:0Yn...|  Miranda Lambert|spotify:artist:66...|   23945696|May Rose I pay a ...|[may, rose, i, pa...|             Country|         58|            4|       109| 69524| 77|      Two of a Crime|spotify:track:011...|\n|{621bb23e174bc05a...|      Two of a Crime|spotify:album:0Yn...|  Miranda Lambert|spotify:artist:66...|   23125350|May Rose I pay a ...|[may, rose, i, pa...|     Miranda Lambert|          3|          208|       104|461206| 73|      Two of a Crime|spotify:track:011...|\n|{621bb23e174bc05a...|      Two of a Crime|spotify:album:0Yn...|  Miranda Lambert|spotify:artist:66...|   54812263|May Rose I pay a ...|[may, rose, i, pa...|             Country|         57|            1|       241|830984|205|      Two of a Crime|spotify:track:011...|\n|{621bb23e174bc05a...|      Two of a Crime|spotify:album:0Yn...|  Miranda Lambert|spotify:artist:66...|   47689773|May Rose I pay a ...|[may, rose, i, pa...|             Country|         61|            1|       218|731204|139|      Two of a Crime|spotify:track:011...|\n|{621bb23e174bc05a...|      Two of a Crime|spotify:album:0Yn...|  Miranda Lambert|spotify:artist:66...|   50703677|May Rose I pay a ...|[may, rose, i, pa...|             Country|        106|            5|       232|139725|115|      Two of a Crime|spotify:track:011...|\n|{621bb23e174bc05a...|             Leo Dan|spotify:album:3gB...|          Leo Dan|spotify:artist:6q...|   22300764|hablamos de pasió...|[hablamos, de, pa...|            Viejitas|         26|            1|       113|814865| 93|               Celia|spotify:track:01M...|\n|{621bb23e174bc05a...|             Leo Dan|spotify:album:3gB...|          Leo Dan|spotify:artist:6q...|   22717925|hablamos de pasió...|[hablamos, de, pa...|                 Mom|         33|            2|       111|268358| 69|               Celia|spotify:track:01M...|\n|{621bb23e174bc05a...|             Leo Dan|spotify:album:3gB...|          Leo Dan|spotify:artist:6q...|   34617294|hablamos de pasió...|[hablamos, de, pa...|             Spanish|         91|            1|       153|120467|  4|               Celia|spotify:track:01M...|\n|{621bb23e174bc05a...|             Leo Dan|spotify:album:3gB...|          Leo Dan|spotify:artist:6q...|   54425420|hablamos de pasió...|[hablamos, de, pa...|              Monica|        117|            1|       227| 20569| 78|               Celia|spotify:track:01M...|\n|{621bb23e174bc05a...|             Leo Dan|spotify:album:3gB...|          Leo Dan|spotify:artist:6q...|   44127651|hablamos de pasió...|[hablamos, de, pa...|            viejitas|        120|            1|       210|817634| 31|               Celia|spotify:track:01M...|\n|{621bb23e174bc05a...|             Leo Dan|spotify:album:3gB...|          Leo Dan|spotify:artist:6q...|   25011136|hablamos de pasió...|[hablamos, de, pa...|Romanticas en esp...|         22|            4|       116|426240| 28|               Celia|spotify:track:01M...|\n|{621bb23e174bc05a...|             Leo Dan|spotify:album:3gB...|          Leo Dan|spotify:artist:6q...|   31529068|hablamos de pasió...|[hablamos, de, pa...|             Boleros|         44|            1|       133|719255| 71|               Celia|spotify:track:01M...|\n|{621bb23e174bc05a...|             Leo Dan|spotify:album:3gB...|          Leo Dan|spotify:artist:6q...|    1569985|hablamos de pasió...|[hablamos, de, pa...|            Clasicas|          6|            1|         7|887185|  5|               Celia|spotify:track:01M...|\n|{621bb23e174bc05a...|             Leo Dan|spotify:album:3gB...|          Leo Dan|spotify:artist:6q...|   42332738|hablamos de pasió...|[hablamos, de, pa...|                JOSE|        130|            1|       175|317421| 37|               Celia|spotify:track:01M...|\n|{621bb23e174bc05a...|             Leo Dan|spotify:album:3gB...|          Leo Dan|spotify:artist:6q...|   14727129|hablamos de pasió...|[hablamos, de, pa...|       Camilo Sesto |         16|            2|        68|196844| 62|               Celia|spotify:track:01M...|\n|{621bb23e174bc05a...|             Leo Dan|spotify:album:3gB...|          Leo Dan|spotify:artist:6q...|   32965277|hablamos de pasió...|[hablamos, de, pa...|viejitas pero bon...|         48|            2|       163|271170| 76|               Celia|spotify:track:01M...|\n|{621bb23e174bc05a...|             Leo Dan|spotify:album:3gB...|          Leo Dan|spotify:artist:6q...|    9633631|hablamos de pasió...|[hablamos, de, pa...|              Viejas|         15|            1|        49|837033|  9|               Celia|spotify:track:01M...|\n|{621bb23e174bc05a...|             Leo Dan|spotify:album:3gB...|          Leo Dan|spotify:artist:6q...|   35145800|hablamos de pasió...|[hablamos, de, pa...|          Romanticos|         74|            1|       149|211735|  8|               Celia|spotify:track:01M...|\n|{621bb23e174bc05a...|             Leo Dan|spotify:album:3gB...|          Leo Dan|spotify:artist:6q...|    7689169|hablamos de pasió...|[hablamos, de, pa...|             Mexican|         13|            1|        39|382113| 27|               Celia|spotify:track:01M...|\n|{621bb23e174bc05a...|             Leo Dan|spotify:album:3gB...|          Leo Dan|spotify:artist:6q...|    9329795|hablamos de pasió...|[hablamos, de, pa...|                 #LD|          6|            2|        56|402869| 25|               Celia|spotify:track:01M...|\n|{621bb23e174bc05a...|             Leo Dan|spotify:album:3gB...|          Leo Dan|spotify:artist:6q...|    6969657|hablamos de pasió...|[hablamos, de, pa...|            viejitas|         12|            2|        36|523737|  6|               Celia|spotify:track:01M...|\n|{621bb23e174bc05a...|             Leo Dan|spotify:album:3gB...|          Leo Dan|spotify:artist:6q...|    9437005|hablamos de pasió...|[hablamos, de, pa...|            Clasicos|         12|            1|        50|341493|  1|               Celia|spotify:track:01M...|\n|{621bb23e174bc05a...|             Leo Dan|spotify:album:3gB...|          Leo Dan|spotify:artist:6q...|   26667834|hablamos de pasió...|[hablamos, de, pa...|     oldies español |         22|            1|       126|109583| 19|               Celia|spotify:track:01M...|\n|{621bb23e174bc05a...|             Leo Dan|spotify:album:3gB...|          Leo Dan|spotify:artist:6q...|   20747905|hablamos de pasió...|[hablamos, de, pa...|           Viejitas |         45|            2|        99|357027| 21|               Celia|spotify:track:01M...|\n|{621bb23e174bc05a...|             Leo Dan|spotify:album:3gB...|          Leo Dan|spotify:artist:6q...|   51021415|hablamos de pasió...|[hablamos, de, pa...|                 All|        147|            1|       206|214891|154|               Celia|spotify:track:01M...|\n|{621bb23e174bc05a...|             Leo Dan|spotify:album:3gB...|          Leo Dan|spotify:artist:6q...|   41283329|hablamos de pasió...|[hablamos, de, pa...|                Peru|         60|            2|       185|166300|118|               Celia|spotify:track:01M...|\n|{621bb23e174bc05a...|             Leo Dan|spotify:album:3gB...|          Leo Dan|spotify:artist:6q...|    3978669|hablamos de pasió...|[hablamos, de, pa...|            Antiguas|          8|            2|        21| 87967|  1|               Celia|spotify:track:01M...|\n|{621bb23e174bc05a...|             Leo Dan|spotify:album:3gB...|          Leo Dan|spotify:artist:6q...|   35756695|hablamos de pasió...|[hablamos, de, pa...|              poison|         43|            1|       144|562978| 78|               Celia|spotify:track:01M...|\n|{621bb23e174bc05a...|             Leo Dan|spotify:album:3gB...|          Leo Dan|spotify:artist:6q...|   31690859|hablamos de pasió...|[hablamos, de, pa...|Viejitas pero bon...|         15|            1|       162| 97937|142|               Celia|spotify:track:01M...|\n|{621bb23e174bc05a...|             Leo Dan|spotify:album:3gB...|          Leo Dan|spotify:artist:6q...|   47234579|hablamos de pasió...|[hablamos, de, pa...|Viejitas Pero Bon...|         95|            1|       211|890791| 66|               Celia|spotify:track:01M...|\n|{621bb23e174bc05a...|             Leo Dan|spotify:album:3gB...|          Leo Dan|spotify:artist:6q...|   12894372|hablamos de pasió...|[hablamos, de, pa...|      Musica antigua|         33|            2|        67|253471| 12|               Celia|spotify:track:01M...|\n|{621bb23e174bc05a...|             Leo Dan|spotify:album:3gB...|          Leo Dan|spotify:artist:6q...|   18900661|hablamos de pasió...|[hablamos, de, pa...|             Baladas|         24|            1|        83|539126| 70|               Celia|spotify:track:01M...|\n|{621bb23e174bc05a...|             Leo Dan|spotify:album:3gB...|          Leo Dan|spotify:artist:6q...|   39217179|hablamos de pasió...|[hablamos, de, pa...|        Del Recuerdo|         38|            2|       199|946225| 93|               Celia|spotify:track:01M...|\n|{621bb23e174bc05a...|         Told You So|spotify:album:5fn...|      Christopher|spotify:artist:3z...|   18398883|Little sunshine o...|[little, sunshine...|           Romantic |         65|            4|        75|807335| 61|     Little Sunshine|spotify:track:01Q...|\n|{621bb23e174bc05a...|         Told You So|spotify:album:5fn...|      Christopher|spotify:artist:3z...|    7850792|Little sunshine o...|[little, sunshine...|            Cruising|         28|            1|        37|807823| 33|     Little Sunshine|spotify:track:01Q...|\n|{621bb23e174bc05a...|         Told You So|spotify:album:5fn...|      Christopher|spotify:artist:3z...|   26407918|Little sunshine o...|[little, sunshine...|              Hunter|         81|            1|       112|274568|101|     Little Sunshine|spotify:track:01Q...|\n|{621bb23e174bc05a...|         Told You So|spotify:album:5fn...|      Christopher|spotify:artist:3z...|   36116770|Little sunshine o...|[little, sunshine...|             singing|        123|            2|       160|981435|  1|     Little Sunshine|spotify:track:01Q...|\n|{621bb23e174bc05a...|         Told You So|spotify:album:5fn...|      Christopher|spotify:artist:3z...|   31942970|Little sunshine o...|[little, sunshine...|          evergreens|         99|            1|       136|902609|117|     Little Sunshine|spotify:track:01Q...|\n|{621bb23e174bc05a...|               Kid A|spotify:album:19R...|        Radiohead|spotify:artist:4Z...|   58202072|Everyone\\nEveryon...|[everyone, everyo...|               Poker|        120|            1|       240|767676|196| The National Anthem|spotify:track:01U...|\n|{621bb23e174bc05a...|               Kid A|spotify:album:19R...|        Radiohead|spotify:artist:4Z...|   29621375|Everyone\\nEveryon...|[everyone, everyo...|           New loves|         13|            1|       103|850548| 46| The National Anthem|spotify:track:01U...|\n|{621bb23e174bc05a...|               Kid A|spotify:album:19R...|        Radiohead|spotify:artist:4Z...|    6744966|Everyone\\nEveryon...|[everyone, everyo...|       Sunday Brunch|         24|            2|        29|759065| 21| The National Anthem|spotify:track:01U...|\n|{621bb23e174bc05a...|               Kid A|spotify:album:19R...|        Radiohead|spotify:artist:4Z...|   38651391|Everyone\\nEveryon...|[everyone, everyo...|           alternate|         32|            1|       159|218252| 92| The National Anthem|spotify:track:01U...|\n|{621bb23e174bc05a...|               Kid A|spotify:album:19R...|        Radiohead|spotify:artist:4Z...|   44049327|Everyone\\nEveryon...|[everyone, everyo...|               LOLla|         37|            1|       181|218357|  2| The National Anthem|spotify:track:01U...|\n|{621bb23e174bc05a...|               Kid A|spotify:album:19R...|        Radiohead|spotify:artist:4Z...|   21487050|Everyone\\nEveryon...|[everyone, everyo...|          2016 faves|         31|            1|        73|126370| 49| The National Anthem|spotify:track:01U...|\n|{621bb23e174bc05a...|               Kid A|spotify:album:19R...|        Radiohead|spotify:artist:4Z...|   27428757|Everyone\\nEveryon...|[everyone, everyo...|Adventure Of A Li...|         51|            1|       109|509584| 58| The National Anthem|spotify:track:01U...|\n|{621bb23e174bc05a...|               Kid A|spotify:album:19R...|        Radiohead|spotify:artist:4Z...|   51479814|Everyone\\nEveryon...|[everyone, everyo...|    Alternative rock|         13|            1|       211|509604| 36| The National Anthem|spotify:track:01U...|\n|{621bb23e174bc05a...|               Kid A|spotify:album:19R...|        Radiohead|spotify:artist:4Z...|   43291576|Everyone\\nEveryon...|[everyone, everyo...|                Rock|         54|            1|       167|807476|153| The National Anthem|spotify:track:01U...|\n|{621bb23e174bc05a...|               Kid A|spotify:album:19R...|        Radiohead|spotify:artist:4Z...|   12920815|Everyone\\nEveryon...|[everyone, everyo...|               drive|         17|            1|        49|734468| 27| The National Anthem|spotify:track:01U...|\n|{621bb23e174bc05a...|               Kid A|spotify:album:19R...|        Radiohead|spotify:artist:4Z...|   16366202|Everyone\\nEveryon...|[everyone, everyo...|        Stuff I like|         59|            1|        64|771633| 20| The National Anthem|spotify:track:01U...|\n|{621bb23e174bc05a...|               Kid A|spotify:album:19R...|        Radiohead|spotify:artist:4Z...|   12075125|Everyone\\nEveryon...|[everyone, everyo...|          On the way|         17|            1|        47|959958| 31| The National Anthem|spotify:track:01U...|\n|{621bb23e174bc05a...|               Kid A|spotify:album:19R...|        Radiohead|spotify:artist:4Z...|   19095229|Everyone\\nEveryon...|[everyone, everyo...|          good tunes|         37|            1|        71|922067| 23| The National Anthem|spotify:track:01U...|\n|{621bb23e174bc05a...|               Kid A|spotify:album:19R...|        Radiohead|spotify:artist:4Z...|   10275216|Everyone\\nEveryon...|[everyone, everyo...|         Quiet Times|         28|            1|        41|789328|  5| The National Anthem|spotify:track:01U...|\n|{621bb23e174bc05a...|               Kid A|spotify:album:19R...|        Radiohead|spotify:artist:4Z...|    4828766|Everyone\\nEveryon...|[everyone, everyo...|     Acoustic covers|         10|            1|        19|176287| 18| The National Anthem|spotify:track:01U...|\n|{621bb23e174bc05a...|               Kid A|spotify:album:19R...|        Radiohead|spotify:artist:4Z...|   61086898|Everyone\\nEveryon...|[everyone, everyo...|                merp|        120|            2|       248|294142|110| The National Anthem|spotify:track:01U...|\n|{621bb23e174bc05a...|               Kid A|spotify:album:19R...|        Radiohead|spotify:artist:4Z...|   13402776|Everyone\\nEveryon...|[everyone, everyo...|                Life|         33|            1|        45|888958| 22| The National Anthem|spotify:track:01U...|\n|{621bb23e174bc05a...|               Kid A|spotify:album:19R...|        Radiohead|spotify:artist:4Z...|   22469192|Everyone\\nEveryon...|[everyone, everyo...|                2000|          8|            1|       103|144920| 34| The National Anthem|spotify:track:01U...|\n|{621bb23e174bc05a...|               Kid A|spotify:album:19R...|        Radiohead|spotify:artist:4Z...|   32392876|Everyone\\nEveryon...|[everyone, everyo...|             Top 100|         98|            1|       125|747021| 21| The National Anthem|spotify:track:01U...|\n|{621bb23e174bc05a...|               Kid A|spotify:album:19R...|        Radiohead|spotify:artist:4Z...|   15959018|Everyone\\nEveryon...|[everyone, everyo...|                Melt|         55|            3|        64|318519| 36| The National Anthem|spotify:track:01U...|\n|{621bb23e174bc05a...|               Kid A|spotify:album:19R...|        Radiohead|spotify:artist:4Z...|   48309321|Everyone\\nEveryon...|[everyone, everyo...|             Ambient|        112|            1|       173| 82970| 27| The National Anthem|spotify:track:01U...|\n|{621bb23e174bc05a...|               Kid A|spotify:album:19R...|        Radiohead|spotify:artist:4Z...|   59211646|Everyone\\nEveryon...|[everyone, everyo...|        Road Trippin|        146|            2|       247|332399|128| The National Anthem|spotify:track:01U...|\n|{621bb23e174bc05a...|               Kid A|spotify:album:19R...|        Radiohead|spotify:artist:4Z...|    5128667|Everyone\\nEveryon...|[everyone, everyo...|               Water|         15|            1|        24|738440|  1| The National Anthem|spotify:track:01U...|\n|{621bb23e174bc05a...|               Kid A|spotify:album:19R...|        Radiohead|spotify:artist:4Z...|   54552736|Everyone\\nEveryon...|[everyone, everyo...|           nostalgia|        128|            1|       219|595312|149| The National Anthem|spotify:track:01U...|\n|{621bb23e174bc05a...|               Kid A|spotify:album:19R...|        Radiohead|spotify:artist:4Z...|   54355990|Everyone\\nEveryon...|[everyone, everyo...|      Favorite Songs|         88|            1|       229|979489| 22| The National Anthem|spotify:track:01U...|\n|{621bb23e174bc05a...|               Kid A|spotify:album:19R...|        Radiohead|spotify:artist:4Z...|   21316736|Everyone\\nEveryon...|[everyone, everyo...|                zone|         25|            1|        71|937529| 63| The National Anthem|spotify:track:01U...|\n|{621bb23e174bc05a...|               Kid A|spotify:album:19R...|        Radiohead|spotify:artist:4Z...|   35814166|Everyone\\nEveryon...|[everyone, everyo...|         Running mix|        100|            1|       142|131695| 10| The National Anthem|spotify:track:01U...|\n|{621bb23e174bc05a...|               Kid A|spotify:album:19R...|        Radiohead|spotify:artist:4Z...|   44099584|Everyone\\nEveryon...|[everyone, everyo...|            new rock|         66|            1|       170| 57116| 66| The National Anthem|spotify:track:01U...|\n|{621bb23e174bc05a...|               Kid A|spotify:album:19R...|        Radiohead|spotify:artist:4Z...|   34993755|Everyone\\nEveryon...|[everyone, everyo...|              Stream|         25|            2|       144|410032| 69| The National Anthem|spotify:track:01U...|\n|{621bb23e174bc05a...|               Kid A|spotify:album:19R...|        Radiohead|spotify:artist:4Z...|   12540621|Everyone\\nEveryon...|[everyone, everyo...|             Roomies|         26|            1|        49| 32053| 32| The National Anthem|spotify:track:01U...|\n|{621bb23e174bc05a...|               Kid A|spotify:album:19R...|        Radiohead|spotify:artist:4Z...|   24816032|Everyone\\nEveryon...|[everyone, everyo...|        Alternative |         58|            1|       103|843376| 88| The National Anthem|spotify:track:01U...|\n|{621bb23e174bc05a...|               Kid A|spotify:album:19R...|        Radiohead|spotify:artist:4Z...|    8670574|Everyone\\nEveryon...|[everyone, everyo...|          Bass songs|         13|            1|        34|973063|  3| The National Anthem|spotify:track:01U...|\n|{621bb23e174bc05a...|               Kid A|spotify:album:19R...|        Radiohead|spotify:artist:4Z...|   47266735|Everyone\\nEveryon...|[everyone, everyo...|               Party|        145|            1|       189|766932|109| The National Anthem|spotify:track:01U...|\n|{621bb23e174bc05a...|               Kid A|spotify:album:19R...|        Radiohead|spotify:artist:4Z...|   41787212|Everyone\\nEveryon...|[everyone, everyo...|                  CV|         45|            1|       141|206287| 34| The National Anthem|spotify:track:01U...|\n|{621bb23e174bc05a...|               Kid A|spotify:album:19R...|        Radiohead|spotify:artist:4Z...|   54243569|Everyone\\nEveryon...|[everyone, everyo...|               yasss|        111|            1|       217|693058|162| The National Anthem|spotify:track:01U...|\n|{621bb23e174bc05a...|               Kid A|spotify:album:19R...|        Radiohead|spotify:artist:4Z...|   47461394|Everyone\\nEveryon...|[everyone, everyo...|            The List|        107|            1|       177|411383| 69| The National Anthem|spotify:track:01U...|\n|{621bb23e174bc05a...|               Kid A|spotify:album:19R...|        Radiohead|spotify:artist:4Z...|   15067523|Everyone\\nEveryon...|[everyone, everyo...|                Work|          8|            1|        50| 16159| 27| The National Anthem|spotify:track:01U...|\n|{621bb23e174bc05a...|               Kid A|spotify:album:19R...|        Radiohead|spotify:artist:4Z...|   56656100|Everyone\\nEveryon...|[everyone, everyo...|         RUN RUN RUN|        158|            1|       213| 16627| 21| The National Anthem|spotify:track:01U...|\n|{621bb23e174bc05a...|               Kid A|spotify:album:19R...|        Radiohead|spotify:artist:4Z...|   14004768|Everyone\\nEveryon...|[everyone, everyo...|               Train|         38|            1|        53|114679| 43| The National Anthem|spotify:track:01U...|\n|{621bb23e174bc05a...|               Kid A|spotify:album:19R...|        Radiohead|spotify:artist:4Z...|   18769423|Everyone\\nEveryon...|[everyone, everyo...|              Badass|         45|            1|        68| 56383| 64| The National Anthem|spotify:track:01U...|\n|{621bb23e174bc05a...|               Kid A|spotify:album:19R...|        Radiohead|spotify:artist:4Z...|    9487249|Everyone\\nEveryon...|[everyone, everyo...|             Gym mix|         29|            2|        36|259033| 29| The National Anthem|spotify:track:01U...|\n|{621bb23e174bc05a...|               Kid A|spotify:album:19R...|        Radiohead|spotify:artist:4Z...|   11327739|Everyone\\nEveryon...|[everyone, everyo...|              summer|         42|            1|        44|259213| 12| The National Anthem|spotify:track:01U...|\n|{621bb23e174bc05a...|               Kid A|spotify:album:19R...|        Radiohead|spotify:artist:4Z...|   18926702|Everyone\\nEveryon...|[everyone, everyo...|               Mambo|         10|            1|        79|331754| 17| The National Anthem|spotify:track:01U...|\n|{621bb23e174bc05a...|               Kid A|spotify:album:19R...|        Radiohead|spotify:artist:4Z...|   25352841|Everyone\\nEveryon...|[everyone, everyo...|              trippy|         54|            1|        71|905991| 16| The National Anthem|spotify:track:01U...|\n|{621bb23e174bc05a...|               Kid A|spotify:album:19R...|        Radiohead|spotify:artist:4Z...|   58560740|Everyone\\nEveryon...|[everyone, everyo...|            sad girl|         29|            1|       243|306808|190| The National Anthem|spotify:track:01U...|\n|{621bb23e174bc05a...|               Kid A|spotify:album:19R...|        Radiohead|spotify:artist:4Z...|   48730875|Everyone\\nEveryon...|[everyone, everyo...|             Library|        100|            1|       206| 10993| 11| The National Anthem|spotify:track:01U...|\n|{621bb23e174bc05a...|               Kid A|spotify:album:19R...|        Radiohead|spotify:artist:4Z...|   39643857|Everyone\\nEveryon...|[everyone, everyo...|            work out|        107|            1|       164|312573|102| The National Anthem|spotify:track:01U...|\n|{621bb23e174bc05a...|               Kid A|spotify:album:19R...|        Radiohead|spotify:artist:4Z...|   15330708|Everyone\\nEveryon...|[everyone, everyo...|                Camp|         27|            1|        63|804057| 58| The National Anthem|spotify:track:01U...|\n|{621bb23e174bc05a...|               Kid A|spotify:album:19R...|        Radiohead|spotify:artist:4Z...|   25080960|Everyone\\nEveryon...|[everyone, everyo...|              Part 1|         59|            1|        93|252873| 42| The National Anthem|spotify:track:01U...|\n|{621bb23e174bc05a...|               Kid A|spotify:album:19R...|        Radiohead|spotify:artist:4Z...|   57067377|Everyone\\nEveryon...|[everyone, everyo...|       Work Playlist|        185|            1|       232|427932| 48| The National Anthem|spotify:track:01U...|\n|{621bb23e174bc05a...|               Kid A|spotify:album:19R...|        Radiohead|spotify:artist:4Z...|   43555591|Everyone\\nEveryon...|[everyone, everyo...|             driving|        126|            1|       182|314474|122| The National Anthem|spotify:track:01U...|\n+--------------------+--------------------+--------------------+-----------------+--------------------+-----------+--------------------+--------------------+--------------------+-----------+-------------+----------+------+---+--------------------+--------------------+\nonly showing top 1000 rows\n\n</div>",
       "datasetInfos": [],
       "metadata": {},
       "removedWidgets": [],
       "type": "html"
      }
     },
     "output_type": "display_data"
    }
   ],
   "source": [
    "# seeing how lyrics looks in the database\n",
    "df.where(df['lyrics'].isNotNull()).show(1000)"
   ]
  }
 ],
 "metadata": {
  "application/vnd.databricks.v1+notebook": {
   "dashboards": [],
   "language": "python",
   "notebookMetadata": {
    "pythonIndentUnit": 4
   },
   "notebookName": "Preprocessing_Pipeline",
   "notebookOrigID": 1615676888956993,
   "widgets": {}
  },
  "kernelspec": {
   "display_name": "",
   "name": ""
  },
  "language_info": {
   "name": ""
  }
 },
 "nbformat": 4,
 "nbformat_minor": 4
}
