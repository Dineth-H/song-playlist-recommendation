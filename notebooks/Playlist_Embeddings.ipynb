{
 "cells": [
  {
   "cell_type": "code",
   "execution_count": null,
   "metadata": {
    "application/vnd.databricks.v1+cell": {
     "inputWidgets": {},
     "nuid": "d68340ff-1e3e-45a4-b040-fa51fbdf8613",
     "showTitle": false,
     "title": ""
    }
   },
   "outputs": [
    {
     "data": {
      "text/html": [
       "<style scoped>\n",
       "  .ansiout {\n",
       "    display: block;\n",
       "    unicode-bidi: embed;\n",
       "    white-space: pre-wrap;\n",
       "    word-wrap: break-word;\n",
       "    word-break: break-all;\n",
       "    font-family: \"Source Code Pro\", \"Menlo\", monospace;;\n",
       "    font-size: 13px;\n",
       "    color: #555;\n",
       "    margin-left: 4px;\n",
       "    line-height: 19px;\n",
       "  }\n",
       "</style>\n",
       "<div class=\"ansiout\"></div>"
      ]
     },
     "metadata": {
      "application/vnd.databricks.v1+output": {
       "addedWidgets": {},
       "arguments": {},
       "data": "<div class=\"ansiout\"></div>",
       "datasetInfos": [],
       "metadata": {},
       "removedWidgets": [],
       "type": "html"
      }
     },
     "output_type": "display_data"
    }
   ],
   "source": [
    "# Libraries\n",
    "from pyspark.sql import SparkSession\n",
    "from pyspark.sql.functions import *\n",
    "from pyspark.sql.types import *\n",
    "from pyspark.sql.window import Window\n",
    "from datetime import datetime\n",
    "from pyspark.ml.feature import HashingTF, IDF, Tokenizer, CountVectorizer\n",
    "from pyspark.sql import SparkSession\n",
    "from pyspark.sql.types import *\n",
    "from pyspark.sql.types import StructType,StructField\n",
    "import os\n",
    "import numpy as np"
   ]
  },
  {
   "cell_type": "code",
   "execution_count": null,
   "metadata": {
    "application/vnd.databricks.v1+cell": {
     "inputWidgets": {},
     "nuid": "18e72f31-4b66-4602-8871-1c528ab6b798",
     "showTitle": false,
     "title": ""
    }
   },
   "outputs": [
    {
     "data": {
      "text/html": [
       "<style scoped>\n",
       "  .ansiout {\n",
       "    display: block;\n",
       "    unicode-bidi: embed;\n",
       "    white-space: pre-wrap;\n",
       "    word-wrap: break-word;\n",
       "    word-break: break-all;\n",
       "    font-family: \"Source Code Pro\", \"Menlo\", monospace;;\n",
       "    font-size: 13px;\n",
       "    color: #555;\n",
       "    margin-left: 4px;\n",
       "    line-height: 19px;\n",
       "  }\n",
       "</style>\n",
       "<div class=\"ansiout\"></div>"
      ]
     },
     "metadata": {
      "application/vnd.databricks.v1+output": {
       "addedWidgets": {},
       "arguments": {},
       "data": "<div class=\"ansiout\"></div>",
       "datasetInfos": [],
       "metadata": {},
       "removedWidgets": [],
       "type": "html"
      }
     },
     "output_type": "display_data"
    }
   ],
   "source": [
    "spark = SparkSession.builder.\\\n",
    "                    appName(\"spotify\").\\\n",
    "                    config(\"spark.jars.packages\", \"org.mongodb.spark:mongo-spark-connector_2.12:3.0.1\").\\\n",
    "                    config(\"spark.mongodb.input.uri\", \"mongodb+srv://**********\").\\\n",
    "                    config(\"spark.mongodb.output.uri\", \"mongodb+srv://**********\").\\\n",
    "                    config(\"spark.network.timeout\", \"7200s\").\\\n",
    "                    config(\"spark.executor.heartbeatInterval\", \"1200s\").\\\n",
    "                    config(\"spark.driver.maxResultSize\", \"24120\").\\\n",
    "                    getOrCreate()"
   ]
  },
  {
   "cell_type": "code",
   "execution_count": null,
   "metadata": {
    "application/vnd.databricks.v1+cell": {
     "inputWidgets": {},
     "nuid": "7a55e0d9-798a-4c56-bef7-c9429517184b",
     "showTitle": false,
     "title": ""
    }
   },
   "outputs": [
    {
     "data": {
      "text/html": [
       "<style scoped>\n",
       "  .ansiout {\n",
       "    display: block;\n",
       "    unicode-bidi: embed;\n",
       "    white-space: pre-wrap;\n",
       "    word-wrap: break-word;\n",
       "    word-break: break-all;\n",
       "    font-family: \"Source Code Pro\", \"Menlo\", monospace;;\n",
       "    font-size: 13px;\n",
       "    color: #555;\n",
       "    margin-left: 4px;\n",
       "    line-height: 19px;\n",
       "  }\n",
       "</style>\n",
       "<div class=\"ansiout\"></div>"
      ]
     },
     "metadata": {
      "application/vnd.databricks.v1+output": {
       "addedWidgets": {},
       "arguments": {},
       "data": "<div class=\"ansiout\"></div>",
       "datasetInfos": [],
       "metadata": {},
       "removedWidgets": [],
       "type": "html"
      }
     },
     "output_type": "display_data"
    }
   ],
   "source": [
    "# Connection info\n",
    "database = '*****'\n",
    "collection = 'songs_lyrics'\n",
    "user_name = '*****'\n",
    "password = '*****'\n",
    "address = '**********.mongodb.net'\n",
    "connection_string = f\"mongodb+srv://{user_name}:{password}@{address}/{database}.{collection}\""
   ]
  },
  {
   "cell_type": "markdown",
   "metadata": {
    "application/vnd.databricks.v1+cell": {
     "inputWidgets": {},
     "nuid": "8bda2d9c-dc83-40be-a712-2674a5e048fa",
     "showTitle": false,
     "title": ""
    }
   },
   "source": [
    "### Reading the main song dataframe"
   ]
  },
  {
   "cell_type": "code",
   "execution_count": null,
   "metadata": {
    "application/vnd.databricks.v1+cell": {
     "inputWidgets": {},
     "nuid": "66f17117-50f3-4abf-8e0d-f863af4a57dc",
     "showTitle": false,
     "title": ""
    }
   },
   "outputs": [
    {
     "data": {
      "text/html": [
       "<style scoped>\n",
       "  .ansiout {\n",
       "    display: block;\n",
       "    unicode-bidi: embed;\n",
       "    white-space: pre-wrap;\n",
       "    word-wrap: break-word;\n",
       "    word-break: break-all;\n",
       "    font-family: \"Source Code Pro\", \"Menlo\", monospace;;\n",
       "    font-size: 13px;\n",
       "    color: #555;\n",
       "    margin-left: 4px;\n",
       "    line-height: 19px;\n",
       "  }\n",
       "</style>\n",
       "<div class=\"ansiout\"></div>"
      ]
     },
     "metadata": {
      "application/vnd.databricks.v1+output": {
       "addedWidgets": {},
       "arguments": {},
       "data": "<div class=\"ansiout\"></div>",
       "datasetInfos": [],
       "metadata": {},
       "removedWidgets": [],
       "type": "html"
      }
     },
     "output_type": "display_data"
    }
   ],
   "source": [
    "df = spark.read.format('mongo').option(\"uri\", connection_string).load()"
   ]
  },
  {
   "cell_type": "code",
   "execution_count": null,
   "metadata": {
    "application/vnd.databricks.v1+cell": {
     "inputWidgets": {},
     "nuid": "e4567655-f50e-4957-bc79-b92e8b38be35",
     "showTitle": false,
     "title": ""
    }
   },
   "outputs": [
    {
     "data": {
      "text/html": [
       "<style scoped>\n",
       "  .ansiout {\n",
       "    display: block;\n",
       "    unicode-bidi: embed;\n",
       "    white-space: pre-wrap;\n",
       "    word-wrap: break-word;\n",
       "    word-break: break-all;\n",
       "    font-family: \"Source Code Pro\", \"Menlo\", monospace;;\n",
       "    font-size: 13px;\n",
       "    color: #555;\n",
       "    margin-left: 4px;\n",
       "    line-height: 19px;\n",
       "  }\n",
       "</style>\n",
       "<div class=\"ansiout\"></div>"
      ]
     },
     "metadata": {
      "application/vnd.databricks.v1+output": {
       "addedWidgets": {},
       "arguments": {},
       "data": "<div class=\"ansiout\"></div>",
       "datasetInfos": [],
       "metadata": {},
       "removedWidgets": [],
       "type": "html"
      }
     },
     "output_type": "display_data"
    }
   ],
   "source": [
    "df_with_lyrics = df.where(df['lyrics'].isNotNull()).select('track_uri','lyrics', 'lyrics_words').distinct().cache()"
   ]
  },
  {
   "cell_type": "code",
   "execution_count": null,
   "metadata": {
    "application/vnd.databricks.v1+cell": {
     "inputWidgets": {},
     "nuid": "c44e1c30-c0a8-43a2-b124-480fa393946d",
     "showTitle": false,
     "title": ""
    }
   },
   "outputs": [
    {
     "data": {
      "text/html": [
       "<style scoped>\n",
       "  .ansiout {\n",
       "    display: block;\n",
       "    unicode-bidi: embed;\n",
       "    white-space: pre-wrap;\n",
       "    word-wrap: break-word;\n",
       "    word-break: break-all;\n",
       "    font-family: \"Source Code Pro\", \"Menlo\", monospace;;\n",
       "    font-size: 13px;\n",
       "    color: #555;\n",
       "    margin-left: 4px;\n",
       "    line-height: 19px;\n",
       "  }\n",
       "</style>\n",
       "<div class=\"ansiout\"></div>"
      ]
     },
     "metadata": {
      "application/vnd.databricks.v1+output": {
       "addedWidgets": {},
       "arguments": {},
       "data": "<div class=\"ansiout\"></div>",
       "datasetInfos": [],
       "metadata": {},
       "removedWidgets": [],
       "type": "html"
      }
     },
     "output_type": "display_data"
    }
   ],
   "source": [
    "def get_me_tf_idf_scores(df_with_lyrics):\n",
    "    \"\"\"\n",
    "    Input: Pass in a songs dataframe with lyrics \n",
    "    \n",
    "    Output: dataframe with two columns: \"track uri\" and \"word_and_tf_idf\", which \n",
    "    contain lyric words and tf-idf scores in a list\n",
    "    \"\"\"\n",
    "    \n",
    "    hashingTF = HashingTF(inputCol=\"lyrics_words\", outputCol=\"lyrical_features\", numFeatures=16777216)\n",
    "    featurized_data = hashingTF.transform(df_with_lyrics)\n",
    "    idf = IDF(inputCol=\"lyrical_features\", outputCol=\"lyrical_features_idf\")\n",
    "    idfModel = idf.fit(featurized_data)\n",
    "    rescaledData = idfModel.transform(featurized_data)\n",
    "    \n",
    "    ### Finding hash of word\n",
    "    ndf = df_with_lyrics.select('track_uri', explode('lyrics_words').alias('words')).\\\n",
    "                                            withColumn('lyrics_words', array('words'))\n",
    "\n",
    "    hashudf = udf(lambda x: x.indices.tolist()[0], StringType())\n",
    "\n",
    "    wordhash = hashingTF.transform(ndf).withColumn('word_hash', hashudf('lyrical_features'))\n",
    "\n",
    "    ### Finding tfidf value of each word\n",
    "    tfidfvalues = udf(lambda x: dict(zip(x.indices.tolist(),x.values.tolist())), MapType(StringType(), DoubleType()))\n",
    "\n",
    "    wordtfidf = rescaledData.select('track_uri', explode(tfidfvalues('lyrical_features_idf'))).\\\n",
    "                             withColumnRenamed('key','word_hash').\\\n",
    "                             withColumnRenamed('value', 'word_tf_idf_score').distinct()\n",
    "\n",
    "    ### Ranking tf idf scores\n",
    "    w = Window.partitionBy('track_uri').orderBy(desc('word_tf_idf_score'))\n",
    "\n",
    "\n",
    "    ### Joining with word hash value to get words                                                                                 \n",
    "    final_df = wordhash.join(wordtfidf,['track_uri', 'word_hash'], 'left').\\\n",
    "                     withColumn('word_and_tf_idf', concat('word_tf_idf_score',lit(\":\"),'words')).distinct()\n",
    "\n",
    "    ### Creating a list of word and tfidf score per song\n",
    "    final = final_df.select('track_uri','word_and_tf_idf').\\\n",
    "                  groupBy('track_uri').\\\n",
    "                  agg(sort_array(collect_list('word_and_tf_idf'),asc=False).alias('tf_idf_and_word'))\n",
    "    return final"
   ]
  },
  {
   "cell_type": "code",
   "execution_count": null,
   "metadata": {
    "application/vnd.databricks.v1+cell": {
     "inputWidgets": {},
     "nuid": "acb52986-2731-4fd7-8522-037c57fb4864",
     "showTitle": false,
     "title": ""
    }
   },
   "outputs": [
    {
     "data": {
      "text/html": [
       "<style scoped>\n",
       "  .ansiout {\n",
       "    display: block;\n",
       "    unicode-bidi: embed;\n",
       "    white-space: pre-wrap;\n",
       "    word-wrap: break-word;\n",
       "    word-break: break-all;\n",
       "    font-family: \"Source Code Pro\", \"Menlo\", monospace;;\n",
       "    font-size: 13px;\n",
       "    color: #555;\n",
       "    margin-left: 4px;\n",
       "    line-height: 19px;\n",
       "  }\n",
       "</style>\n",
       "<div class=\"ansiout\"></div>"
      ]
     },
     "metadata": {
      "application/vnd.databricks.v1+output": {
       "addedWidgets": {},
       "arguments": {},
       "data": "<div class=\"ansiout\"></div>",
       "datasetInfos": [],
       "metadata": {},
       "removedWidgets": [],
       "type": "html"
      }
     },
     "output_type": "display_data"
    }
   ],
   "source": [
    "final = get_me_tf_idf_scores(df_with_lyrics)"
   ]
  },
  {
   "cell_type": "markdown",
   "metadata": {
    "application/vnd.databricks.v1+cell": {
     "inputWidgets": {},
     "nuid": "28b43996-3778-4654-8f48-2303743c9dfb",
     "showTitle": false,
     "title": ""
    }
   },
   "source": [
    "#### Storing TF-IDF scores in word_tf_idf_score collection in mongo db"
   ]
  },
  {
   "cell_type": "code",
   "execution_count": null,
   "metadata": {
    "application/vnd.databricks.v1+cell": {
     "inputWidgets": {},
     "nuid": "5801b028-8613-4f15-a3d3-e0a801c93f3b",
     "showTitle": false,
     "title": ""
    }
   },
   "outputs": [
    {
     "data": {
      "text/html": [
       "<style scoped>\n",
       "  .ansiout {\n",
       "    display: block;\n",
       "    unicode-bidi: embed;\n",
       "    white-space: pre-wrap;\n",
       "    word-wrap: break-word;\n",
       "    word-break: break-all;\n",
       "    font-family: \"Source Code Pro\", \"Menlo\", monospace;;\n",
       "    font-size: 13px;\n",
       "    color: #555;\n",
       "    margin-left: 4px;\n",
       "    line-height: 19px;\n",
       "  }\n",
       "</style>\n",
       "<div class=\"ansiout\"></div>"
      ]
     },
     "metadata": {
      "application/vnd.databricks.v1+output": {
       "addedWidgets": {},
       "arguments": {},
       "data": "<div class=\"ansiout\"></div>",
       "datasetInfos": [],
       "metadata": {},
       "removedWidgets": [],
       "type": "html"
      }
     },
     "output_type": "display_data"
    },
    {
     "data": {
      "text/html": [
       "<style scoped>\n",
       "  .ansiout {\n",
       "    display: block;\n",
       "    unicode-bidi: embed;\n",
       "    white-space: pre-wrap;\n",
       "    word-wrap: break-word;\n",
       "    word-break: break-all;\n",
       "    font-family: \"Source Code Pro\", \"Menlo\", monospace;;\n",
       "    font-size: 13px;\n",
       "    color: #555;\n",
       "    margin-left: 4px;\n",
       "    line-height: 19px;\n",
       "  }\n",
       "</style>\n",
       "<div class=\"ansiout\"><span class=\"ansi-red-fg\">---------------------------------------------------------------------------</span>\n",
       "<span class=\"ansi-red-fg\">NameError</span>                                 Traceback (most recent call last)\n",
       "<span class=\"ansi-green-fg\">&lt;command-548855102382580&gt;</span> in <span class=\"ansi-cyan-fg\">&lt;module&gt;</span>\n",
       "<span class=\"ansi-green-intense-fg ansi-bold\">      5</span> address <span class=\"ansi-blue-fg\">=</span> <span class=\"ansi-blue-fg\">&#39;msds-697.a2nrn.mongodb.net&#39;</span>\n",
       "<span class=\"ansi-green-intense-fg ansi-bold\">      6</span> connection_string <span class=\"ansi-blue-fg\">=</span> <span class=\"ansi-blue-fg\">f&#34;mongodb+srv://{user_name}:{password}@{address}/{database}.{collection}&#34;</span>\n",
       "<span class=\"ansi-green-fg\">----&gt; 7</span><span class=\"ansi-red-fg\"> </span>final<span class=\"ansi-blue-fg\">.</span>write<span class=\"ansi-blue-fg\">.</span>format<span class=\"ansi-blue-fg\">(</span><span class=\"ansi-blue-fg\">&#34;mongo&#34;</span><span class=\"ansi-blue-fg\">)</span><span class=\"ansi-blue-fg\">.</span>option<span class=\"ansi-blue-fg\">(</span><span class=\"ansi-blue-fg\">&#34;uri&#34;</span><span class=\"ansi-blue-fg\">,</span>connection_string<span class=\"ansi-blue-fg\">)</span><span class=\"ansi-blue-fg\">.</span>mode<span class=\"ansi-blue-fg\">(</span><span class=\"ansi-blue-fg\">&#34;append&#34;</span><span class=\"ansi-blue-fg\">)</span><span class=\"ansi-blue-fg\">.</span>save<span class=\"ansi-blue-fg\">(</span><span class=\"ansi-blue-fg\">)</span>\n",
       "\n",
       "<span class=\"ansi-red-fg\">NameError</span>: name &#39;final&#39; is not defined</div>"
      ]
     },
     "metadata": {
      "application/vnd.databricks.v1+output": {
       "arguments": {},
       "data": "<div class=\"ansiout\"><span class=\"ansi-red-fg\">---------------------------------------------------------------------------</span>\n<span class=\"ansi-red-fg\">NameError</span>                                 Traceback (most recent call last)\n<span class=\"ansi-green-fg\">&lt;command-548855102382580&gt;</span> in <span class=\"ansi-cyan-fg\">&lt;module&gt;</span>\n<span class=\"ansi-green-intense-fg ansi-bold\">      5</span> address <span class=\"ansi-blue-fg\">=</span> <span class=\"ansi-blue-fg\">&#39;msds-697.a2nrn.mongodb.net&#39;</span>\n<span class=\"ansi-green-intense-fg ansi-bold\">      6</span> connection_string <span class=\"ansi-blue-fg\">=</span> <span class=\"ansi-blue-fg\">f&#34;mongodb+srv://{user_name}:{password}@{address}/{database}.{collection}&#34;</span>\n<span class=\"ansi-green-fg\">----&gt; 7</span><span class=\"ansi-red-fg\"> </span>final<span class=\"ansi-blue-fg\">.</span>write<span class=\"ansi-blue-fg\">.</span>format<span class=\"ansi-blue-fg\">(</span><span class=\"ansi-blue-fg\">&#34;mongo&#34;</span><span class=\"ansi-blue-fg\">)</span><span class=\"ansi-blue-fg\">.</span>option<span class=\"ansi-blue-fg\">(</span><span class=\"ansi-blue-fg\">&#34;uri&#34;</span><span class=\"ansi-blue-fg\">,</span>connection_string<span class=\"ansi-blue-fg\">)</span><span class=\"ansi-blue-fg\">.</span>mode<span class=\"ansi-blue-fg\">(</span><span class=\"ansi-blue-fg\">&#34;append&#34;</span><span class=\"ansi-blue-fg\">)</span><span class=\"ansi-blue-fg\">.</span>save<span class=\"ansi-blue-fg\">(</span><span class=\"ansi-blue-fg\">)</span>\n\n<span class=\"ansi-red-fg\">NameError</span>: name &#39;final&#39; is not defined</div>",
       "errorSummary": "<span class=\"ansi-red-fg\">NameError</span>: name &#39;final&#39; is not defined",
       "errorTraceType": "html",
       "metadata": {},
       "type": "ipynbError"
      }
     },
     "output_type": "display_data"
    }
   ],
   "source": [
    "database = '*****'\n",
    "collection = 'word_tf_idf_score'\n",
    "user_name = '*****'\n",
    "password = '*****'\n",
    "address = '**********.mongodb.net'\n",
    "connection_string = f\"mongodb+srv://{user_name}:{password}@{address}/{database}.{collection}\"\n",
    "final.write.format(\"mongo\").option(\"uri\",connection_string).mode(\"append\").save()"
   ]
  },
  {
   "cell_type": "markdown",
   "metadata": {
    "application/vnd.databricks.v1+cell": {
     "inputWidgets": {},
     "nuid": "45c62ab5-8050-4971-82ad-525c69a22aed",
     "showTitle": false,
     "title": ""
    }
   },
   "source": [
    "### Getting the song embedding trained by Chandrish"
   ]
  },
  {
   "cell_type": "code",
   "execution_count": null,
   "metadata": {
    "application/vnd.databricks.v1+cell": {
     "inputWidgets": {},
     "nuid": "7b1e40b2-5bcb-4aa2-aaad-8505ecd16d05",
     "showTitle": false,
     "title": ""
    }
   },
   "outputs": [
    {
     "data": {
      "text/html": [
       "<style scoped>\n",
       "  .ansiout {\n",
       "    display: block;\n",
       "    unicode-bidi: embed;\n",
       "    white-space: pre-wrap;\n",
       "    word-wrap: break-word;\n",
       "    word-break: break-all;\n",
       "    font-family: \"Source Code Pro\", \"Menlo\", monospace;;\n",
       "    font-size: 13px;\n",
       "    color: #555;\n",
       "    margin-left: 4px;\n",
       "    line-height: 19px;\n",
       "  }\n",
       "</style>\n",
       "<div class=\"ansiout\"></div>"
      ]
     },
     "metadata": {
      "application/vnd.databricks.v1+output": {
       "addedWidgets": {},
       "arguments": {},
       "data": "<div class=\"ansiout\"></div>",
       "datasetInfos": [],
       "metadata": {},
       "removedWidgets": [],
       "type": "html"
      }
     },
     "output_type": "display_data"
    }
   ],
   "source": [
    "database = '*****'\n",
    "collection = 'song_vectors'\n",
    "user_name = '*****'\n",
    "password = '*****'\n",
    "address = '**********.mongodb.net'\n",
    "connection_string = f\"mongodb+srv://{user_name}:{password}@{address}/{database}.{collection}\"\n",
    "song_df = spark.read.format('mongo').option(\"uri\", connection_string).load()"
   ]
  },
  {
   "cell_type": "markdown",
   "metadata": {
    "application/vnd.databricks.v1+cell": {
     "inputWidgets": {},
     "nuid": "179b26b8-0714-421c-8507-3081b6eb698c",
     "showTitle": false,
     "title": ""
    }
   },
   "source": [
    "### Joining the songs dataframe with the song embeddings on track uri"
   ]
  },
  {
   "cell_type": "code",
   "execution_count": null,
   "metadata": {
    "application/vnd.databricks.v1+cell": {
     "inputWidgets": {},
     "nuid": "c30cd8be-0180-4fbb-bbf8-cab27c7a798c",
     "showTitle": false,
     "title": ""
    }
   },
   "outputs": [
    {
     "data": {
      "text/html": [
       "<style scoped>\n",
       "  .ansiout {\n",
       "    display: block;\n",
       "    unicode-bidi: embed;\n",
       "    white-space: pre-wrap;\n",
       "    word-wrap: break-word;\n",
       "    word-break: break-all;\n",
       "    font-family: \"Source Code Pro\", \"Menlo\", monospace;;\n",
       "    font-size: 13px;\n",
       "    color: #555;\n",
       "    margin-left: 4px;\n",
       "    line-height: 19px;\n",
       "  }\n",
       "</style>\n",
       "<div class=\"ansiout\"></div>"
      ]
     },
     "metadata": {
      "application/vnd.databricks.v1+output": {
       "addedWidgets": {},
       "arguments": {},
       "data": "<div class=\"ansiout\"></div>",
       "datasetInfos": [],
       "metadata": {},
       "removedWidgets": [],
       "type": "html"
      }
     },
     "output_type": "display_data"
    }
   ],
   "source": [
    "win = Window.partitionBy('pid','track_uri').orderBy('track_uri')\n",
    "\n",
    "df = df.withColumn('num_occurences_in_playlist', row_number().over(win)) \n",
    "\n",
    "track_occurences = df.select('track_uri','pid','num_occurences_in_playlist').distinct()\n",
    "\n",
    "song_embeddings_playlists = df.select('name','pid','track_uri','track_name','artist_name').distinct().\\\n",
    "                    join(song_df, 'track_uri', 'left').\\\n",
    "                    join(track_occurences, ['track_uri','pid'], 'left').cache()\n"
   ]
  },
  {
   "cell_type": "code",
   "execution_count": null,
   "metadata": {
    "application/vnd.databricks.v1+cell": {
     "inputWidgets": {},
     "nuid": "3540f6d2-5060-4400-bee5-c044dc4ab235",
     "showTitle": false,
     "title": ""
    }
   },
   "outputs": [
    {
     "data": {
      "text/html": [
       "<style scoped>\n",
       "  .ansiout {\n",
       "    display: block;\n",
       "    unicode-bidi: embed;\n",
       "    white-space: pre-wrap;\n",
       "    word-wrap: break-word;\n",
       "    word-break: break-all;\n",
       "    font-family: \"Source Code Pro\", \"Menlo\", monospace;;\n",
       "    font-size: 13px;\n",
       "    color: #555;\n",
       "    margin-left: 4px;\n",
       "    line-height: 19px;\n",
       "  }\n",
       "</style>\n",
       "<div class=\"ansiout\"></div>"
      ]
     },
     "metadata": {
      "application/vnd.databricks.v1+output": {
       "addedWidgets": {},
       "arguments": {},
       "data": "<div class=\"ansiout\"></div>",
       "datasetInfos": [],
       "metadata": {},
       "removedWidgets": [],
       "type": "html"
      }
     },
     "output_type": "display_data"
    }
   ],
   "source": [
    "def id_sentiment(x):\n",
    "    try :\n",
    "        return (x[0], x[1])\n",
    "    except:\n",
    "        None"
   ]
  },
  {
   "cell_type": "code",
   "execution_count": null,
   "metadata": {
    "application/vnd.databricks.v1+cell": {
     "inputWidgets": {},
     "nuid": "1c1ab2d7-bf46-47af-b635-b7c67a3d6b0e",
     "showTitle": false,
     "title": ""
    }
   },
   "outputs": [
    {
     "data": {
      "text/html": [
       "<style scoped>\n",
       "  .ansiout {\n",
       "    display: block;\n",
       "    unicode-bidi: embed;\n",
       "    white-space: pre-wrap;\n",
       "    word-wrap: break-word;\n",
       "    word-break: break-all;\n",
       "    font-family: \"Source Code Pro\", \"Menlo\", monospace;;\n",
       "    font-size: 13px;\n",
       "    color: #555;\n",
       "    margin-left: 4px;\n",
       "    line-height: 19px;\n",
       "  }\n",
       "</style>\n",
       "<div class=\"ansiout\"></div>"
      ]
     },
     "metadata": {
      "application/vnd.databricks.v1+output": {
       "addedWidgets": {},
       "arguments": {},
       "data": "<div class=\"ansiout\"></div>",
       "datasetInfos": [],
       "metadata": {},
       "removedWidgets": [],
       "type": "html"
      }
     },
     "output_type": "display_data"
    }
   ],
   "source": [
    "temp = song_embeddings_playlists.select('name', 'values').rdd.map(lambda x: id_sentiment(x)).cache().groupByKey().\\\n",
    "                                       map(lambda x: (x[0], [float(x) for x in (np.mean(list(x[1]),axis = 0))])).\\\n",
    "                                       map(lambda x: (x[0],list(x[1])))\n"
   ]
  },
  {
   "cell_type": "code",
   "execution_count": null,
   "metadata": {
    "application/vnd.databricks.v1+cell": {
     "inputWidgets": {},
     "nuid": "223e292b-c34b-4ec4-9c8f-424168117eec",
     "showTitle": false,
     "title": ""
    }
   },
   "outputs": [
    {
     "data": {
      "text/html": [
       "<style scoped>\n",
       "  .ansiout {\n",
       "    display: block;\n",
       "    unicode-bidi: embed;\n",
       "    white-space: pre-wrap;\n",
       "    word-wrap: break-word;\n",
       "    word-break: break-all;\n",
       "    font-family: \"Source Code Pro\", \"Menlo\", monospace;;\n",
       "    font-size: 13px;\n",
       "    color: #555;\n",
       "    margin-left: 4px;\n",
       "    line-height: 19px;\n",
       "  }\n",
       "</style>\n",
       "<div class=\"ansiout\"></div>"
      ]
     },
     "metadata": {
      "application/vnd.databricks.v1+output": {
       "addedWidgets": {},
       "arguments": {},
       "data": "<div class=\"ansiout\"></div>",
       "datasetInfos": [],
       "metadata": {},
       "removedWidgets": [],
       "type": "html"
      }
     },
     "output_type": "display_data"
    }
   ],
   "source": [
    "struct1 = StructType([StructField('name',StringType(),True),StructField('playlist_embedding',ArrayType(FloatType()),True)])\n",
    "playlist_avg_embedding = spark.createDataFrame(temp,struct1)"
   ]
  },
  {
   "cell_type": "markdown",
   "metadata": {
    "application/vnd.databricks.v1+cell": {
     "inputWidgets": {},
     "nuid": "72f61cd9-8943-491a-9789-587de40a950f",
     "showTitle": false,
     "title": ""
    }
   },
   "source": [
    "### Calculate Euclidean distance between the playlist embedding and song embedding"
   ]
  },
  {
   "cell_type": "code",
   "execution_count": null,
   "metadata": {
    "application/vnd.databricks.v1+cell": {
     "inputWidgets": {},
     "nuid": "9da60971-37ff-4107-8e3f-e67882de44e6",
     "showTitle": false,
     "title": ""
    }
   },
   "outputs": [
    {
     "data": {
      "text/html": [
       "<style scoped>\n",
       "  .ansiout {\n",
       "    display: block;\n",
       "    unicode-bidi: embed;\n",
       "    white-space: pre-wrap;\n",
       "    word-wrap: break-word;\n",
       "    word-break: break-all;\n",
       "    font-family: \"Source Code Pro\", \"Menlo\", monospace;;\n",
       "    font-size: 13px;\n",
       "    color: #555;\n",
       "    margin-left: 4px;\n",
       "    line-height: 19px;\n",
       "  }\n",
       "</style>\n",
       "<div class=\"ansiout\"></div>"
      ]
     },
     "metadata": {
      "application/vnd.databricks.v1+output": {
       "addedWidgets": {},
       "arguments": {},
       "data": "<div class=\"ansiout\"></div>",
       "datasetInfos": [],
       "metadata": {},
       "removedWidgets": [],
       "type": "html"
      }
     },
     "output_type": "display_data"
    }
   ],
   "source": [
    "def calculate_distance(arr_1, arr_2):\n",
    "    # Calculate the distance between two lists.\n",
    "    try:\n",
    "        arr_1, arr_2 = np.array(arr_1), np.array(arr_2)\n",
    "        return float(np.linalg.norm(arr_1 - arr_2))\n",
    "    except:\n",
    "        return -99999.99\n",
    "\n",
    "distance = udf(lambda x, y: calculate_distance(x, y), FloatType())\n",
    "    \n",
    "song_embeddings_playlists =  song_embeddings_playlists.join(playlist_avg_embedding, ['name'],'left')\n",
    "\n",
    "\n",
    "win_play = Window.partitionBy('name').orderBy('song_playlist_distance')\n"
   ]
  },
  {
   "cell_type": "code",
   "execution_count": null,
   "metadata": {
    "application/vnd.databricks.v1+cell": {
     "inputWidgets": {},
     "nuid": "5a20a7e4-7eb4-43a0-8f31-bfc29f43591a",
     "showTitle": false,
     "title": ""
    }
   },
   "outputs": [
    {
     "data": {
      "text/html": [
       "<style scoped>\n",
       "  .ansiout {\n",
       "    display: block;\n",
       "    unicode-bidi: embed;\n",
       "    white-space: pre-wrap;\n",
       "    word-wrap: break-word;\n",
       "    word-break: break-all;\n",
       "    font-family: \"Source Code Pro\", \"Menlo\", monospace;;\n",
       "    font-size: 13px;\n",
       "    color: #555;\n",
       "    margin-left: 4px;\n",
       "    line-height: 19px;\n",
       "  }\n",
       "</style>\n",
       "<div class=\"ansiout\"></div>"
      ]
     },
     "metadata": {
      "application/vnd.databricks.v1+output": {
       "addedWidgets": {},
       "arguments": {},
       "data": "<div class=\"ansiout\"></div>",
       "datasetInfos": [],
       "metadata": {},
       "removedWidgets": [],
       "type": "html"
      }
     },
     "output_type": "display_data"
    }
   ],
   "source": [
    "song_embeddings_playlists = song_embeddings_playlists.withColumnRenamed('values', 'song_embedding')\n",
    "                                    \n",
    "song_embeddings_playlists = song_embeddings_playlists. withColumn('song_playlist_distance', distance(song_embeddings_playlists['song_embedding'],\n",
    "                                    song_embeddings_playlists['playlist_embedding'])).withColumn('rank', rank().over(win_play)).cache()"
   ]
  },
  {
   "cell_type": "code",
   "execution_count": null,
   "metadata": {
    "application/vnd.databricks.v1+cell": {
     "inputWidgets": {},
     "nuid": "34547dbc-f6f2-4523-9bec-f42ae69a1219",
     "showTitle": false,
     "title": ""
    }
   },
   "outputs": [
    {
     "data": {
      "text/html": [
       "<style scoped>\n",
       "  .ansiout {\n",
       "    display: block;\n",
       "    unicode-bidi: embed;\n",
       "    white-space: pre-wrap;\n",
       "    word-wrap: break-word;\n",
       "    word-break: break-all;\n",
       "    font-family: \"Source Code Pro\", \"Menlo\", monospace;;\n",
       "    font-size: 13px;\n",
       "    color: #555;\n",
       "    margin-left: 4px;\n",
       "    line-height: 19px;\n",
       "  }\n",
       "</style>\n",
       "<div class=\"ansiout\"></div>"
      ]
     },
     "metadata": {
      "application/vnd.databricks.v1+output": {
       "addedWidgets": {},
       "arguments": {},
       "data": "<div class=\"ansiout\"></div>",
       "datasetInfos": [],
       "metadata": {},
       "removedWidgets": [],
       "type": "html"
      }
     },
     "output_type": "display_data"
    }
   ],
   "source": [
    "playlist_embeddings_final = song_embeddings_playlists.select('name','playlist_embedding').distinct()"
   ]
  },
  {
   "cell_type": "code",
   "execution_count": null,
   "metadata": {
    "application/vnd.databricks.v1+cell": {
     "inputWidgets": {},
     "nuid": "79b5dca9-3d06-4d09-9b49-aa3743ff6d8d",
     "showTitle": false,
     "title": ""
    }
   },
   "outputs": [
    {
     "data": {
      "text/html": [
       "<style scoped>\n",
       "  .ansiout {\n",
       "    display: block;\n",
       "    unicode-bidi: embed;\n",
       "    white-space: pre-wrap;\n",
       "    word-wrap: break-word;\n",
       "    word-break: break-all;\n",
       "    font-family: \"Source Code Pro\", \"Menlo\", monospace;;\n",
       "    font-size: 13px;\n",
       "    color: #555;\n",
       "    margin-left: 4px;\n",
       "    line-height: 19px;\n",
       "  }\n",
       "</style>\n",
       "<div class=\"ansiout\"></div>"
      ]
     },
     "metadata": {
      "application/vnd.databricks.v1+output": {
       "addedWidgets": {},
       "arguments": {},
       "data": "<div class=\"ansiout\"></div>",
       "datasetInfos": [],
       "metadata": {},
       "removedWidgets": [],
       "type": "html"
      }
     },
     "output_type": "display_data"
    },
    {
     "data": {
      "text/html": [
       "<style scoped>\n",
       "  .ansiout {\n",
       "    display: block;\n",
       "    unicode-bidi: embed;\n",
       "    white-space: pre-wrap;\n",
       "    word-wrap: break-word;\n",
       "    word-break: break-all;\n",
       "    font-family: \"Source Code Pro\", \"Menlo\", monospace;;\n",
       "    font-size: 13px;\n",
       "    color: #555;\n",
       "    margin-left: 4px;\n",
       "    line-height: 19px;\n",
       "  }\n",
       "</style>\n",
       "<div class=\"ansiout\"><span class=\"ansi-red-fg\">---------------------------------------------------------------------------</span>\n",
       "<span class=\"ansi-red-fg\">NameError</span>                                 Traceback (most recent call last)\n",
       "<span class=\"ansi-green-fg\">&lt;command-3164413804761074&gt;</span> in <span class=\"ansi-cyan-fg\">&lt;module&gt;</span>\n",
       "<span class=\"ansi-green-fg\">----&gt; 1</span><span class=\"ansi-red-fg\"> </span>playlist_embeddings_final<span class=\"ansi-blue-fg\">.</span>show<span class=\"ansi-blue-fg\">(</span><span class=\"ansi-cyan-fg\">10</span><span class=\"ansi-blue-fg\">)</span>\n",
       "\n",
       "<span class=\"ansi-red-fg\">NameError</span>: name &#39;playlist_embeddings_final&#39; is not defined</div>"
      ]
     },
     "metadata": {
      "application/vnd.databricks.v1+output": {
       "arguments": {},
       "data": "<div class=\"ansiout\"><span class=\"ansi-red-fg\">---------------------------------------------------------------------------</span>\n<span class=\"ansi-red-fg\">NameError</span>                                 Traceback (most recent call last)\n<span class=\"ansi-green-fg\">&lt;command-3164413804761074&gt;</span> in <span class=\"ansi-cyan-fg\">&lt;module&gt;</span>\n<span class=\"ansi-green-fg\">----&gt; 1</span><span class=\"ansi-red-fg\"> </span>playlist_embeddings_final<span class=\"ansi-blue-fg\">.</span>show<span class=\"ansi-blue-fg\">(</span><span class=\"ansi-cyan-fg\">10</span><span class=\"ansi-blue-fg\">)</span>\n\n<span class=\"ansi-red-fg\">NameError</span>: name &#39;playlist_embeddings_final&#39; is not defined</div>",
       "errorSummary": "<span class=\"ansi-red-fg\">NameError</span>: name &#39;playlist_embeddings_final&#39; is not defined",
       "errorTraceType": "html",
       "metadata": {},
       "type": "ipynbError"
      }
     },
     "output_type": "display_data"
    }
   ],
   "source": [
    "playlist_embeddings_final.show(10)"
   ]
  },
  {
   "cell_type": "markdown",
   "metadata": {
    "application/vnd.databricks.v1+cell": {
     "inputWidgets": {},
     "nuid": "87e17dd3-bbb4-4620-ba75-f950343d6123",
     "showTitle": false,
     "title": ""
    }
   },
   "source": [
    "### Saving playlist embedding in mongo db"
   ]
  },
  {
   "cell_type": "code",
   "execution_count": null,
   "metadata": {
    "application/vnd.databricks.v1+cell": {
     "inputWidgets": {},
     "nuid": "0cefbe39-98a1-49d7-adaf-30d0c8362a0c",
     "showTitle": false,
     "title": ""
    }
   },
   "outputs": [
    {
     "data": {
      "text/html": [
       "<style scoped>\n",
       "  .ansiout {\n",
       "    display: block;\n",
       "    unicode-bidi: embed;\n",
       "    white-space: pre-wrap;\n",
       "    word-wrap: break-word;\n",
       "    word-break: break-all;\n",
       "    font-family: \"Source Code Pro\", \"Menlo\", monospace;;\n",
       "    font-size: 13px;\n",
       "    color: #555;\n",
       "    margin-left: 4px;\n",
       "    line-height: 19px;\n",
       "  }\n",
       "</style>\n",
       "<div class=\"ansiout\"></div>"
      ]
     },
     "metadata": {
      "application/vnd.databricks.v1+output": {
       "addedWidgets": {},
       "arguments": {},
       "data": "<div class=\"ansiout\"></div>",
       "datasetInfos": [],
       "metadata": {},
       "removedWidgets": [],
       "type": "html"
      }
     },
     "output_type": "display_data"
    }
   ],
   "source": [
    "### Saving playlist embeddings\n",
    "database = '*****'\n",
    "collection = 'playlist_embeddings'\n",
    "user_name = '*****'\n",
    "password = '*****'\n",
    "address = '**********.mongodb.net'\n",
    "connection_string = f\"mongodb+srv://{user_name}:{password}@{address}/{database}.{collection}\"\n",
    "playlist_embeddings_final.write.format(\"mongo\").option(\"uri\",connection_string).mode(\"overwrite\").save()"
   ]
  },
  {
   "cell_type": "markdown",
   "metadata": {
    "application/vnd.databricks.v1+cell": {
     "inputWidgets": {},
     "nuid": "b567de3e-7c98-4153-a832-888a4c242f0c",
     "showTitle": false,
     "title": ""
    }
   },
   "source": [
    "### Finding top 10 songs in the Rock playlist"
   ]
  },
  {
   "cell_type": "code",
   "execution_count": null,
   "metadata": {
    "application/vnd.databricks.v1+cell": {
     "inputWidgets": {},
     "nuid": "da6e90eb-b7bd-499d-bb32-5006348063f9",
     "showTitle": false,
     "title": ""
    }
   },
   "outputs": [
    {
     "data": {
      "text/html": [
       "<style scoped>\n",
       "  .ansiout {\n",
       "    display: block;\n",
       "    unicode-bidi: embed;\n",
       "    white-space: pre-wrap;\n",
       "    word-wrap: break-word;\n",
       "    word-break: break-all;\n",
       "    font-family: \"Source Code Pro\", \"Menlo\", monospace;;\n",
       "    font-size: 13px;\n",
       "    color: #555;\n",
       "    margin-left: 4px;\n",
       "    line-height: 19px;\n",
       "  }\n",
       "</style>\n",
       "<div class=\"ansiout\">+----------------------------------+------------------------------------+\n",
       "track_name                        |artist_name                         |\n",
       "+----------------------------------+------------------------------------+\n",
       "Charlie I Gotta Go                |Black Star Riders                   |\n",
       "The One I Love (Metal Mix)        |Death Blossoms                      |\n",
       "An Aggregation of Misfortune      |Afgrund                             |\n",
       "Hit The Wall                      |Galactic                            |\n",
       "Hallucinagenda                    |Infanticide                         |\n",
       "Three Lock Box - Live in St. Louis|Sammy Hagar                         |\n",
       "Starlight - Live                  |Slash                               |\n",
       "Godzilla                          |Blue Öyster Cult                    |\n",
       "Лада Седан                        |Рекорд Оркестр                      |\n",
       "When The Guns Come Out            |Christ Bearer of Northstar, E-40, WC|\n",
       "XXIII                             |Barbott                             |\n",
       "No Resolve                        |Dirty Thrills                       |\n",
       "Fallen                            |Stemm                               |\n",
       "Solder Of Fortune                 |Toše Proeski                        |\n",
       "Malaguegna Salerosa               |De la Muerte                        |\n",
       "Jump On My Ship                   |Here Come The Mummies               |\n",
       "Breakdown                         |Prospect Hill                       |\n",
       "This Is for the Fallen            |All Good Things                     |\n",
       "Save Yourself                     |Follow You Home                     |\n",
       "Celebration Song                  |Unwritten Law                       |\n",
       "+----------------------------------+------------------------------------+\n",
       "only showing top 20 rows\n",
       "\n",
       "</div>"
      ]
     },
     "metadata": {
      "application/vnd.databricks.v1+output": {
       "addedWidgets": {},
       "arguments": {},
       "data": "<div class=\"ansiout\">+----------------------------------+------------------------------------+\n|track_name                        |artist_name                         |\n+----------------------------------+------------------------------------+\n|Charlie I Gotta Go                |Black Star Riders                   |\n|The One I Love (Metal Mix)        |Death Blossoms                      |\n|An Aggregation of Misfortune      |Afgrund                             |\n|Hit The Wall                      |Galactic                            |\n|Hallucinagenda                    |Infanticide                         |\n|Three Lock Box - Live in St. Louis|Sammy Hagar                         |\n|Starlight - Live                  |Slash                               |\n|Godzilla                          |Blue Öyster Cult                    |\n|Лада Седан                        |Рекорд Оркестр                      |\n|When The Guns Come Out            |Christ Bearer of Northstar, E-40, WC|\n|XXIII                             |Barbott                             |\n|No Resolve                        |Dirty Thrills                       |\n|Fallen                            |Stemm                               |\n|Solder Of Fortune                 |Toše Proeski                        |\n|Malaguegna Salerosa               |De la Muerte                        |\n|Jump On My Ship                   |Here Come The Mummies               |\n|Breakdown                         |Prospect Hill                       |\n|This Is for the Fallen            |All Good Things                     |\n|Save Yourself                     |Follow You Home                     |\n|Celebration Song                  |Unwritten Law                       |\n+----------------------------------+------------------------------------+\nonly showing top 20 rows\n\n</div>",
       "datasetInfos": [],
       "metadata": {},
       "removedWidgets": [],
       "type": "html"
      }
     },
     "output_type": "display_data"
    }
   ],
   "source": [
    "song_embeddings_playlists.where(song_embeddings_playlists['name'] == 'Rock').select('track_name','artist_name').orderBy('rank').distinct().show(truncate = False)"
   ]
  },
  {
   "cell_type": "markdown",
   "metadata": {
    "application/vnd.databricks.v1+cell": {
     "inputWidgets": {},
     "nuid": "0a86eb63-3a97-4038-8cbd-71ceea40b6dc",
     "showTitle": false,
     "title": ""
    }
   },
   "source": [
    "### Finding top 10 songs in the Country playlist"
   ]
  },
  {
   "cell_type": "code",
   "execution_count": null,
   "metadata": {
    "application/vnd.databricks.v1+cell": {
     "inputWidgets": {},
     "nuid": "e51d69db-c6ae-4b3b-b432-546f0d0cb289",
     "showTitle": false,
     "title": ""
    }
   },
   "outputs": [
    {
     "data": {
      "text/html": [
       "<style scoped>\n",
       "  .ansiout {\n",
       "    display: block;\n",
       "    unicode-bidi: embed;\n",
       "    white-space: pre-wrap;\n",
       "    word-wrap: break-word;\n",
       "    word-break: break-all;\n",
       "    font-family: \"Source Code Pro\", \"Menlo\", monospace;;\n",
       "    font-size: 13px;\n",
       "    color: #555;\n",
       "    margin-left: 4px;\n",
       "    line-height: 19px;\n",
       "  }\n",
       "</style>\n",
       "<div class=\"ansiout\">+-----------------------------------+--------------------------+\n",
       "track_name                         |artist_name               |\n",
       "+-----------------------------------+--------------------------+\n",
       "I Wanna Take a Little Ride With You|Top 40 Pop Hits           |\n",
       "Every Day&#39;s A Holiday              |the JaneDear girls        |\n",
       "Caroline &amp; Carolina                |The Morrison Brothers Band|\n",
       "Stray                              |Jason Michael Carroll     |\n",
       "It Takes A Man                     |Chris Young               |\n",
       "Letter to Me (Live)                |Brad Paisley              |\n",
       "You Make It Look So Easy           |Eric Church               |\n",
       "Only A Girl                        |Easton Corbin             |\n",
       "Night Of Our Lives                 |Rascal Flatts             |\n",
       "Live the Dream                     |Rachel Potter             |\n",
       "Night of Your Life                 |Kyle Setter               |\n",
       "That Girl Is a Cowboy              |The Tribute Co.           |\n",
       "Ray Bans                           |JT Hodges                 |\n",
       "Boy &amp; A Girl Thing                 |Mo Pitney                 |\n",
       "Those I&#39;ve Loved                   |Eric Church               |\n",
       "Highway 20 Ride                    |Zac Brown Band            |\n",
       "Pretty Girls &amp; Fishing Poles       |Doug McCormick            |\n",
       "Tipsy                              |Jake Owen                 |\n",
       "This I Gotta See                   |Jason Aldean              |\n",
       "Old Boots, New Dirt - Commentary   |Jason Aldean              |\n",
       "+-----------------------------------+--------------------------+\n",
       "only showing top 20 rows\n",
       "\n",
       "</div>"
      ]
     },
     "metadata": {
      "application/vnd.databricks.v1+output": {
       "addedWidgets": {},
       "arguments": {},
       "data": "<div class=\"ansiout\">+-----------------------------------+--------------------------+\n|track_name                         |artist_name               |\n+-----------------------------------+--------------------------+\n|I Wanna Take a Little Ride With You|Top 40 Pop Hits           |\n|Every Day&#39;s A Holiday              |the JaneDear girls        |\n|Caroline &amp; Carolina                |The Morrison Brothers Band|\n|Stray                              |Jason Michael Carroll     |\n|It Takes A Man                     |Chris Young               |\n|Letter to Me (Live)                |Brad Paisley              |\n|You Make It Look So Easy           |Eric Church               |\n|Only A Girl                        |Easton Corbin             |\n|Night Of Our Lives                 |Rascal Flatts             |\n|Live the Dream                     |Rachel Potter             |\n|Night of Your Life                 |Kyle Setter               |\n|That Girl Is a Cowboy              |The Tribute Co.           |\n|Ray Bans                           |JT Hodges                 |\n|Boy &amp; A Girl Thing                 |Mo Pitney                 |\n|Those I&#39;ve Loved                   |Eric Church               |\n|Highway 20 Ride                    |Zac Brown Band            |\n|Pretty Girls &amp; Fishing Poles       |Doug McCormick            |\n|Tipsy                              |Jake Owen                 |\n|This I Gotta See                   |Jason Aldean              |\n|Old Boots, New Dirt - Commentary   |Jason Aldean              |\n+-----------------------------------+--------------------------+\nonly showing top 20 rows\n\n</div>",
       "datasetInfos": [],
       "metadata": {},
       "removedWidgets": [],
       "type": "html"
      }
     },
     "output_type": "display_data"
    }
   ],
   "source": [
    "song_embeddings_playlists.where(song_embeddings_playlists['name'] == 'Country').select('track_name','artist_name').orderBy('rank').distinct().show(truncate = False)"
   ]
  },
  {
   "cell_type": "markdown",
   "metadata": {
    "application/vnd.databricks.v1+cell": {
     "inputWidgets": {},
     "nuid": "f2b82b50-161f-437f-8d9e-fbccece86c73",
     "showTitle": false,
     "title": ""
    }
   },
   "source": [
    "### Finding top songs in the K Pop playlist"
   ]
  },
  {
   "cell_type": "code",
   "execution_count": null,
   "metadata": {
    "application/vnd.databricks.v1+cell": {
     "inputWidgets": {},
     "nuid": "40dc0d0c-12c5-4e8d-b047-8943347b26f6",
     "showTitle": false,
     "title": ""
    }
   },
   "outputs": [
    {
     "data": {
      "text/html": [
       "<style scoped>\n",
       "  .ansiout {\n",
       "    display: block;\n",
       "    unicode-bidi: embed;\n",
       "    white-space: pre-wrap;\n",
       "    word-wrap: break-word;\n",
       "    word-break: break-all;\n",
       "    font-family: \"Source Code Pro\", \"Menlo\", monospace;;\n",
       "    font-size: 13px;\n",
       "    color: #555;\n",
       "    margin-left: 4px;\n",
       "    line-height: 19px;\n",
       "  }\n",
       "</style>\n",
       "<div class=\"ansiout\">+------------------------+-----------------+\n",
       "              track_name|      artist_name|\n",
       "+------------------------+-----------------+\n",
       "               Cold Rain|          4Minute|\n",
       "    Trouble (Prod. By...|      Kriesha Chu|\n",
       "                 Lucifer|           SHINee|\n",
       "    Catch Me If You C...|Girls&#39; Generation|\n",
       "                 Vibrato|          Stellar|\n",
       "               Give Love|  AKDONG MUSICIAN|\n",
       "         You Better Know|       Red Velvet|\n",
       "               BABY BABY|           WINNER|\n",
       "                    Lies|          BIGBANG|\n",
       "               Everytime|       Chenxpunch|\n",
       "                  HOLUP!|            BOBBY|\n",
       "    Boys and Girls (f...|             Zico|\n",
       "              Lucky Girl|       Red Velvet|\n",
       "      I don&#39;t need a man|           miss A|\n",
       "    STAY WITH ME - KR...|              SOL|\n",
       "    Tomorrow (feat. T...|            Tablo|\n",
       "                  U &amp; Me|            Hyuna|\n",
       "Replay -君は僕のevery...|           SHINee|\n",
       "                SHAKE IT|           SISTAR|\n",
       "              I LOVE YOU|             2NE1|\n",
       "+------------------------+-----------------+\n",
       "only showing top 20 rows\n",
       "\n",
       "</div>"
      ]
     },
     "metadata": {
      "application/vnd.databricks.v1+output": {
       "addedWidgets": {},
       "arguments": {},
       "data": "<div class=\"ansiout\">+------------------------+-----------------+\n|              track_name|      artist_name|\n+------------------------+-----------------+\n|               Cold Rain|          4Minute|\n|    Trouble (Prod. By...|      Kriesha Chu|\n|                 Lucifer|           SHINee|\n|    Catch Me If You C...|Girls&#39; Generation|\n|                 Vibrato|          Stellar|\n|               Give Love|  AKDONG MUSICIAN|\n|         You Better Know|       Red Velvet|\n|               BABY BABY|           WINNER|\n|                    Lies|          BIGBANG|\n|               Everytime|       Chenxpunch|\n|                  HOLUP!|            BOBBY|\n|    Boys and Girls (f...|             Zico|\n|              Lucky Girl|       Red Velvet|\n|      I don&#39;t need a man|           miss A|\n|    STAY WITH ME - KR...|              SOL|\n|    Tomorrow (feat. T...|            Tablo|\n|                  U &amp; Me|            Hyuna|\n|Replay -君は僕のevery...|           SHINee|\n|                SHAKE IT|           SISTAR|\n|              I LOVE YOU|             2NE1|\n+------------------------+-----------------+\nonly showing top 20 rows\n\n</div>",
       "datasetInfos": [],
       "metadata": {},
       "removedWidgets": [],
       "type": "html"
      }
     },
     "output_type": "display_data"
    }
   ],
   "source": [
    "song_embeddings_playlists.select('track_name', 'artist_name').where(song_embeddings_playlists['name'] == 'K Pop').orderBy('rank').distinct().show()"
   ]
  },
  {
   "cell_type": "markdown",
   "metadata": {
    "application/vnd.databricks.v1+cell": {
     "inputWidgets": {},
     "nuid": "3dd026b4-6c17-4155-8b31-67f41e5f5a08",
     "showTitle": false,
     "title": ""
    }
   },
   "source": [
    "### Finding top songs in the Jazz playlist"
   ]
  },
  {
   "cell_type": "code",
   "execution_count": null,
   "metadata": {
    "application/vnd.databricks.v1+cell": {
     "inputWidgets": {},
     "nuid": "0b4d19c6-a5f6-4cb1-a41c-4f8a467f53ed",
     "showTitle": false,
     "title": ""
    }
   },
   "outputs": [
    {
     "data": {
      "text/html": [
       "<style scoped>\n",
       "  .ansiout {\n",
       "    display: block;\n",
       "    unicode-bidi: embed;\n",
       "    white-space: pre-wrap;\n",
       "    word-wrap: break-word;\n",
       "    word-break: break-all;\n",
       "    font-family: \"Source Code Pro\", \"Menlo\", monospace;;\n",
       "    font-size: 13px;\n",
       "    color: #555;\n",
       "    margin-left: 4px;\n",
       "    line-height: 19px;\n",
       "  }\n",
       "</style>\n",
       "<div class=\"ansiout\">+--------------------+--------------------+\n",
       "          track_name|         artist_name|\n",
       "+--------------------+--------------------+\n",
       "Someone To Watch ...|    Jimmy Raney Trio|\n",
       "   Well, You Needn&#39;t|           Roy Ayers|\n",
       "        Native Sense|         Chick Corea|\n",
       "               Bebop|      Charlie Parker|\n",
       "      Maple Leaf Rag|        Scott Joplin|\n",
       "           Lady Bird|         Miles Davis|\n",
       "        Groovin High|      Charlie Parker|\n",
       "Softly As In A Mo...|The Modern Jazz Q...|\n",
       "                Wave|Antônio Carlos Jobim|\n",
       "               Spain|   Marian McPartland|\n",
       "Boogie Woogie On ...|          Earl Hines|\n",
       "           All Blues|The George Benson...|\n",
       "   How High The Moon|      Charlie Parker|\n",
       "             So What|         Miles Davis|\n",
       "Just Friends - Re...|       Sonny Rollins|\n",
       "         Tea for Two|           Art Tatum|\n",
       "           Blue Monk|     Thelonious Monk|\n",
       "Watermelon Man - ...|      Herbie Hancock|\n",
       "Someone to Watch ...|         Jimmy Raney|\n",
       "     Blues for Alice| Rahsaan Roland Kirk|\n",
       "+--------------------+--------------------+\n",
       "only showing top 20 rows\n",
       "\n",
       "</div>"
      ]
     },
     "metadata": {
      "application/vnd.databricks.v1+output": {
       "addedWidgets": {},
       "arguments": {},
       "data": "<div class=\"ansiout\">+--------------------+--------------------+\n|          track_name|         artist_name|\n+--------------------+--------------------+\n|Someone To Watch ...|    Jimmy Raney Trio|\n|   Well, You Needn&#39;t|           Roy Ayers|\n|        Native Sense|         Chick Corea|\n|               Bebop|      Charlie Parker|\n|      Maple Leaf Rag|        Scott Joplin|\n|           Lady Bird|         Miles Davis|\n|        Groovin High|      Charlie Parker|\n|Softly As In A Mo...|The Modern Jazz Q...|\n|                Wave|Antônio Carlos Jobim|\n|               Spain|   Marian McPartland|\n|Boogie Woogie On ...|          Earl Hines|\n|           All Blues|The George Benson...|\n|   How High The Moon|      Charlie Parker|\n|             So What|         Miles Davis|\n|Just Friends - Re...|       Sonny Rollins|\n|         Tea for Two|           Art Tatum|\n|           Blue Monk|     Thelonious Monk|\n|Watermelon Man - ...|      Herbie Hancock|\n|Someone to Watch ...|         Jimmy Raney|\n|     Blues for Alice| Rahsaan Roland Kirk|\n+--------------------+--------------------+\nonly showing top 20 rows\n\n</div>",
       "datasetInfos": [],
       "metadata": {},
       "removedWidgets": [],
       "type": "html"
      }
     },
     "output_type": "display_data"
    }
   ],
   "source": [
    "song_embeddings_playlists.select('track_name','artist_name').where(song_embeddings_playlists['name'] == 'Jazz standards').orderBy('rank').distinct().show()"
   ]
  },
  {
   "cell_type": "code",
   "execution_count": null,
   "metadata": {
    "application/vnd.databricks.v1+cell": {
     "inputWidgets": {},
     "nuid": "16afec8d-b6f9-44a7-beed-66882aac7841",
     "showTitle": false,
     "title": ""
    }
   },
   "outputs": [],
   "source": []
  }
 ],
 "metadata": {
  "application/vnd.databricks.v1+notebook": {
   "dashboards": [],
   "language": "python",
   "notebookMetadata": {
    "pythonIndentUnit": 4
   },
   "notebookName": "Anish",
   "notebookOrigID": 2168236990175934,
   "widgets": {}
  },
  "kernelspec": {
   "display_name": "",
   "name": ""
  },
  "language_info": {
   "name": ""
  }
 },
 "nbformat": 4,
 "nbformat_minor": 4
}
