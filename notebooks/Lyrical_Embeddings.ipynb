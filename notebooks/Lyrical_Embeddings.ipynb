{
 "cells": [
  {
   "cell_type": "markdown",
   "metadata": {
    "application/vnd.databricks.v1+cell": {
     "inputWidgets": {},
     "nuid": "bd2bdd1e-c8d4-4f4b-ac27-823d92879a61",
     "showTitle": false,
     "title": ""
    }
   },
   "source": [
    "# Analysis: do a song's lyrics inform playlist formation?\n",
    "\n",
    "*Do distances between lyrics embeddings correlate with distances between song embeddings?*\n",
    "\n",
    "**Lucas De Oliveira**\n",
    "\n",
    "**ML Algorithms:** Word2Vec, LinearRegression\n",
    "\n",
    "## Computing word embeddings\n",
    "\n",
    "We have previously saved lyrics for about 138,000 unique songs in the Spotify playlist data. We will perform the following tasks:\n",
    "\n",
    "* Load data frame from mongoDB\n",
    "* Extract the words from the lyrics\n",
    "* Use Word2Vec to train word embeddings\n",
    "* For each song, take an average of the embeddings for each word in its lyrics as the \"lyrical embedding\" of the song\n",
    "* Save this in a Spark DataFrame to MongoDB"
   ]
  },
  {
   "cell_type": "code",
   "execution_count": null,
   "metadata": {
    "application/vnd.databricks.v1+cell": {
     "inputWidgets": {},
     "nuid": "08b59010-40c4-450a-95d7-f1988e40a79f",
     "showTitle": false,
     "title": ""
    }
   },
   "outputs": [
    {
     "data": {
      "text/html": [
       "<style scoped>\n",
       "  .ansiout {\n",
       "    display: block;\n",
       "    unicode-bidi: embed;\n",
       "    white-space: pre-wrap;\n",
       "    word-wrap: break-word;\n",
       "    word-break: break-all;\n",
       "    font-family: \"Source Code Pro\", \"Menlo\", monospace;;\n",
       "    font-size: 13px;\n",
       "    color: #555;\n",
       "    margin-left: 4px;\n",
       "    line-height: 19px;\n",
       "  }\n",
       "</style>\n",
       "<div class=\"ansiout\"></div>"
      ]
     },
     "metadata": {
      "application/vnd.databricks.v1+output": {
       "addedWidgets": {},
       "arguments": {},
       "data": "<div class=\"ansiout\"></div>",
       "datasetInfos": [],
       "metadata": {},
       "removedWidgets": [],
       "type": "html"
      }
     },
     "output_type": "display_data"
    }
   ],
   "source": [
    "# Libraries\n",
    "from pyspark.sql import SparkSession\n",
    "from pyspark.sql.functions import *\n",
    "from pyspark.sql.types import *\n",
    "from pyspark.sql.window import Window\n",
    "from datetime import datetime\n",
    "from pyspark.ml.feature import Word2Vec\n",
    "from pyspark.sql import SparkSession\n",
    "from pyspark.sql.types import *\n",
    "import os\n",
    "\n",
    "# Start Spark session\n",
    "spark = SparkSession.builder\\\n",
    "                    .appName(\"spotify\")\\\n",
    "                    .config(\"spark.jars.packages\", \"org.mongodb.spark:mongo-spark-connector_2.12:3.0.1\")\\\n",
    "                    .config(\"spark.mongodb.input.uri\", \"mongodb+srv://**********\")\\\n",
    "                    .config(\"spark.mongodb.output.uri\", \"mongodb+srv://**********\")\\\n",
    "                    .config(\"spark.network.timeout\", \"7200s\")\\\n",
    "                    .config(\"spark.executor.heartbeatInterval\", \"1200s\")\\\n",
    "                    .config(\"spark.databricks.adaptive.autoOptimizeShuffle.enabled\", True)\\\n",
    "                    .getOrCreate()\n",
    "\n",
    "# MongoDB connection info\n",
    "database = '*****'\n",
    "collection = 'songs_lyrics'\n",
    "user_name = '*****'\n",
    "password = '*****'\n",
    "address = '**********.mongodb.net'\n",
    "connection_string = f\"mongodb+srv://{user_name}:{password}@{address}/{database}.{collection}\""
   ]
  },
  {
   "cell_type": "code",
   "execution_count": null,
   "metadata": {
    "application/vnd.databricks.v1+cell": {
     "inputWidgets": {},
     "nuid": "d2c0bcb0-8bdd-4af3-97e9-1268e983b023",
     "showTitle": false,
     "title": ""
    }
   },
   "outputs": [
    {
     "data": {
      "text/html": [
       "<style scoped>\n",
       "  .ansiout {\n",
       "    display: block;\n",
       "    unicode-bidi: embed;\n",
       "    white-space: pre-wrap;\n",
       "    word-wrap: break-word;\n",
       "    word-break: break-all;\n",
       "    font-family: \"Source Code Pro\", \"Menlo\", monospace;;\n",
       "    font-size: 13px;\n",
       "    color: #555;\n",
       "    margin-left: 4px;\n",
       "    line-height: 19px;\n",
       "  }\n",
       "</style>\n",
       "<div class=\"ansiout\">+--------------------+----------------+--------------------+--------------+--------------------+-----------+------+------------+-------------+-----------+-------------+----------+------+---+---------------+--------------------+\n",
       "                 _id|      album_name|           album_uri|   artist_name|          artist_uri|duration_ms|lyrics|lyrics_words|         name|num_artists|num_followers|num_tracks|   pid|pos|     track_name|           track_uri|\n",
       "+--------------------+----------------+--------------------+--------------+--------------------+-----------+------+------------+-------------+-----------+-------------+----------+------+---+---------------+--------------------+\n",
       "{621bb23d174bc05a...| A Woman Like Me|spotify:album:1gF...|Bettye Lavette|spotify:artist:55...|   14637735|  null|        null|          BLU|         29|            1|        65|544620| 61|Thru The Winter|spotify:track:007...|\n",
       "{621bb23d174bc05a...|           St. X|spotify:album:4t9...|         St. X|spotify:artist:69...|   34378081|  null|        null|something new|         44|            1|       156|824425| 47|   Machu Picchu|spotify:track:008...|\n",
       "{621bb23d174bc05a...|Heart of a Gypsy|spotify:album:6WY...|          Govi|spotify:artist:72...|   58573861|  null|        null|        relax|         56|            3|       189|729624|156|     Pied Piper|spotify:track:00G...|\n",
       "{621bb23d174bc05a...|   Equipo Armado|spotify:album:2lL...|   El Fantasma|spotify:artist:0m...|   11486651|  null|        null|    corridos |         21|            1|        62|808464| 57| Fiel Companero|spotify:track:00I...|\n",
       "{621bb23d174bc05a...|   Equipo Armado|spotify:album:2lL...|   El Fantasma|spotify:artist:0m...|   27437400|  null|        null|        1738.|         52|            1|       152| 65314| 69| Fiel Companero|spotify:track:00I...|\n",
       "+--------------------+----------------+--------------------+--------------+--------------------+-----------+------+------------+-------------+-----------+-------------+----------+------+---+---------------+--------------------+\n",
       "only showing top 5 rows\n",
       "\n",
       "</div>"
      ]
     },
     "metadata": {
      "application/vnd.databricks.v1+output": {
       "addedWidgets": {},
       "arguments": {},
       "data": "<div class=\"ansiout\">+--------------------+----------------+--------------------+--------------+--------------------+-----------+------+------------+-------------+-----------+-------------+----------+------+---+---------------+--------------------+\n|                 _id|      album_name|           album_uri|   artist_name|          artist_uri|duration_ms|lyrics|lyrics_words|         name|num_artists|num_followers|num_tracks|   pid|pos|     track_name|           track_uri|\n+--------------------+----------------+--------------------+--------------+--------------------+-----------+------+------------+-------------+-----------+-------------+----------+------+---+---------------+--------------------+\n|{621bb23d174bc05a...| A Woman Like Me|spotify:album:1gF...|Bettye Lavette|spotify:artist:55...|   14637735|  null|        null|          BLU|         29|            1|        65|544620| 61|Thru The Winter|spotify:track:007...|\n|{621bb23d174bc05a...|           St. X|spotify:album:4t9...|         St. X|spotify:artist:69...|   34378081|  null|        null|something new|         44|            1|       156|824425| 47|   Machu Picchu|spotify:track:008...|\n|{621bb23d174bc05a...|Heart of a Gypsy|spotify:album:6WY...|          Govi|spotify:artist:72...|   58573861|  null|        null|        relax|         56|            3|       189|729624|156|     Pied Piper|spotify:track:00G...|\n|{621bb23d174bc05a...|   Equipo Armado|spotify:album:2lL...|   El Fantasma|spotify:artist:0m...|   11486651|  null|        null|    corridos |         21|            1|        62|808464| 57| Fiel Companero|spotify:track:00I...|\n|{621bb23d174bc05a...|   Equipo Armado|spotify:album:2lL...|   El Fantasma|spotify:artist:0m...|   27437400|  null|        null|        1738.|         52|            1|       152| 65314| 69| Fiel Companero|spotify:track:00I...|\n+--------------------+----------------+--------------------+--------------+--------------------+-----------+------+------------+-------------+-----------+-------------+----------+------+---+---------------+--------------------+\nonly showing top 5 rows\n\n</div>",
       "datasetInfos": [],
       "metadata": {},
       "removedWidgets": [],
       "type": "html"
      }
     },
     "output_type": "display_data"
    }
   ],
   "source": [
    "# Read song lyrics data from MongoDB (pre-processed)\n",
    "df = spark.read.format('mongo').option(\"uri\", connection_string).load()\n",
    "df.show(5)"
   ]
  },
  {
   "cell_type": "markdown",
   "metadata": {
    "application/vnd.databricks.v1+cell": {
     "inputWidgets": {},
     "nuid": "24472b05-2086-41cb-b692-b6d521f29bc9",
     "showTitle": false,
     "title": ""
    }
   },
   "source": [
    "In the following code blocks we first inspect the lyrics DataFrame, then we train word embeddings using Word2Vec on a subset of the data in order to get the pipeline for the full data."
   ]
  },
  {
   "cell_type": "code",
   "execution_count": null,
   "metadata": {
    "application/vnd.databricks.v1+cell": {
     "inputWidgets": {},
     "nuid": "e77f6411-30be-4171-aa5b-b2d06d6d89a5",
     "showTitle": false,
     "title": ""
    }
   },
   "outputs": [
    {
     "data": {
      "text/html": [
       "<style scoped>\n",
       "  .ansiout {\n",
       "    display: block;\n",
       "    unicode-bidi: embed;\n",
       "    white-space: pre-wrap;\n",
       "    word-wrap: break-word;\n",
       "    word-break: break-all;\n",
       "    font-family: \"Source Code Pro\", \"Menlo\", monospace;;\n",
       "    font-size: 13px;\n",
       "    color: #555;\n",
       "    margin-left: 4px;\n",
       "    line-height: 19px;\n",
       "  }\n",
       "</style>\n",
       "<div class=\"ansiout\"></div>"
      ]
     },
     "metadata": {
      "application/vnd.databricks.v1+output": {
       "addedWidgets": {},
       "arguments": {},
       "data": "<div class=\"ansiout\"></div>",
       "datasetInfos": [],
       "metadata": {},
       "removedWidgets": [],
       "type": "html"
      }
     },
     "output_type": "display_data"
    }
   ],
   "source": [
    "df_lyrics = df.select(\"track_uri\", \"lyrics_words\").distinct().where(df['lyrics_words'].isNotNull()).cache()"
   ]
  },
  {
   "cell_type": "code",
   "execution_count": null,
   "metadata": {
    "application/vnd.databricks.v1+cell": {
     "inputWidgets": {},
     "nuid": "c9b71ef8-a0ee-43c4-b372-202f06fa2e6f",
     "showTitle": false,
     "title": ""
    }
   },
   "outputs": [
    {
     "data": {
      "text/html": [
       "<style scoped>\n",
       "  .ansiout {\n",
       "    display: block;\n",
       "    unicode-bidi: embed;\n",
       "    white-space: pre-wrap;\n",
       "    word-wrap: break-word;\n",
       "    word-break: break-all;\n",
       "    font-family: \"Source Code Pro\", \"Menlo\", monospace;;\n",
       "    font-size: 13px;\n",
       "    color: #555;\n",
       "    margin-left: 4px;\n",
       "    line-height: 19px;\n",
       "  }\n",
       "</style>\n",
       "<div class=\"ansiout\">138123\n",
       "+--------------------+--------------------+\n",
       "           track_uri|        lyrics_words|\n",
       "+--------------------+--------------------+\n",
       "spotify:track:00d...|[pulled, the, fuc...|\n",
       "spotify:track:00Y...|[but, it, would, ...|\n",
       "spotify:track:5Gx...|[niggas, wanna, w...|\n",
       "spotify:track:4cH...|[sure, it&#39;s, a, c...|\n",
       "spotify:track:5cG...|[jinsei, jinsei, ...|\n",
       "+--------------------+--------------------+\n",
       "only showing top 5 rows\n",
       "\n",
       "</div>"
      ]
     },
     "metadata": {
      "application/vnd.databricks.v1+output": {
       "addedWidgets": {},
       "arguments": {},
       "data": "<div class=\"ansiout\">138123\n+--------------------+--------------------+\n|           track_uri|        lyrics_words|\n+--------------------+--------------------+\n|spotify:track:00d...|[pulled, the, fuc...|\n|spotify:track:00Y...|[but, it, would, ...|\n|spotify:track:5Gx...|[niggas, wanna, w...|\n|spotify:track:4cH...|[sure, it&#39;s, a, c...|\n|spotify:track:5cG...|[jinsei, jinsei, ...|\n+--------------------+--------------------+\nonly showing top 5 rows\n\n</div>",
       "datasetInfos": [],
       "metadata": {},
       "removedWidgets": [],
       "type": "html"
      }
     },
     "output_type": "display_data"
    }
   ],
   "source": [
    "print(df_lyrics.count())\n",
    "df_lyrics.show(5)"
   ]
  },
  {
   "cell_type": "code",
   "execution_count": null,
   "metadata": {
    "application/vnd.databricks.v1+cell": {
     "inputWidgets": {},
     "nuid": "02ee3eaf-20ff-489b-a55a-8fb97e424c36",
     "showTitle": false,
     "title": ""
    }
   },
   "outputs": [
    {
     "data": {
      "text/html": [
       "<style scoped>\n",
       "  .ansiout {\n",
       "    display: block;\n",
       "    unicode-bidi: embed;\n",
       "    white-space: pre-wrap;\n",
       "    word-wrap: break-word;\n",
       "    word-break: break-all;\n",
       "    font-family: \"Source Code Pro\", \"Menlo\", monospace;;\n",
       "    font-size: 13px;\n",
       "    color: #555;\n",
       "    margin-left: 4px;\n",
       "    line-height: 19px;\n",
       "  }\n",
       "</style>\n",
       "<div class=\"ansiout\">+--------------------+--------------------+\n",
       "           track_uri|        lyrics_words|\n",
       "+--------------------+--------------------+\n",
       "spotify:track:00w...|[when, the, light...|\n",
       "spotify:track:004...|[caressing, our, ...|\n",
       "spotify:track:00K...|[separate,, sifti...|\n",
       "spotify:track:0CK...|[one, more, day, ...|\n",
       "spotify:track:0EM...|[sounded, sad, up...|\n",
       "spotify:track:0Da...|[[secretary:], , ...|\n",
       "spotify:track:0G5...|[yo, con, mis, br...|\n",
       "spotify:track:0Ih...|[but, our, local,...|\n",
       "spotify:track:09U...|[wish, i, couldn&#39;...|\n",
       "spotify:track:060...|[don&#39;t, you, dare...|\n",
       "+--------------------+--------------------+\n",
       "\n",
       "</div>"
      ]
     },
     "metadata": {
      "application/vnd.databricks.v1+output": {
       "addedWidgets": {},
       "arguments": {},
       "data": "<div class=\"ansiout\">+--------------------+--------------------+\n|           track_uri|        lyrics_words|\n+--------------------+--------------------+\n|spotify:track:00w...|[when, the, light...|\n|spotify:track:004...|[caressing, our, ...|\n|spotify:track:00K...|[separate,, sifti...|\n|spotify:track:0CK...|[one, more, day, ...|\n|spotify:track:0EM...|[sounded, sad, up...|\n|spotify:track:0Da...|[[secretary:], , ...|\n|spotify:track:0G5...|[yo, con, mis, br...|\n|spotify:track:0Ih...|[but, our, local,...|\n|spotify:track:09U...|[wish, i, couldn&#39;...|\n|spotify:track:060...|[don&#39;t, you, dare...|\n+--------------------+--------------------+\n\n</div>",
       "datasetInfos": [],
       "metadata": {},
       "removedWidgets": [],
       "type": "html"
      }
     },
     "output_type": "display_data"
    }
   ],
   "source": [
    "df_test = df_lyrics.limit(10).cache()\n",
    "df_test.show()"
   ]
  },
  {
   "cell_type": "code",
   "execution_count": null,
   "metadata": {
    "application/vnd.databricks.v1+cell": {
     "inputWidgets": {},
     "nuid": "1902c590-8203-4ac2-9a4b-10f84352b7c7",
     "showTitle": false,
     "title": ""
    }
   },
   "outputs": [
    {
     "data": {
      "text/html": [
       "<style scoped>\n",
       "  .ansiout {\n",
       "    display: block;\n",
       "    unicode-bidi: embed;\n",
       "    white-space: pre-wrap;\n",
       "    word-wrap: break-word;\n",
       "    word-break: break-all;\n",
       "    font-family: \"Source Code Pro\", \"Menlo\", monospace;;\n",
       "    font-size: 13px;\n",
       "    color: #555;\n",
       "    margin-left: 4px;\n",
       "    line-height: 19px;\n",
       "  }\n",
       "</style>\n",
       "<div class=\"ansiout\"></div>"
      ]
     },
     "metadata": {
      "application/vnd.databricks.v1+output": {
       "addedWidgets": {},
       "arguments": {},
       "data": "<div class=\"ansiout\"></div>",
       "datasetInfos": [],
       "metadata": {},
       "removedWidgets": [],
       "type": "html"
      }
     },
     "output_type": "display_data"
    }
   ],
   "source": [
    "word2Vec = Word2Vec(vectorSize=32, seed=42, inputCol=\"lyrics_words\", outputCol=\"model\")\n",
    "word2Vec.setMaxIter(10)\n",
    "model = word2Vec.fit(df_test)"
   ]
  },
  {
   "cell_type": "code",
   "execution_count": null,
   "metadata": {
    "application/vnd.databricks.v1+cell": {
     "inputWidgets": {},
     "nuid": "1530602a-0a62-459a-96c9-c8cbf9439c16",
     "showTitle": false,
     "title": ""
    }
   },
   "outputs": [
    {
     "data": {
      "text/html": [
       "<style scoped>\n",
       "  .ansiout {\n",
       "    display: block;\n",
       "    unicode-bidi: embed;\n",
       "    white-space: pre-wrap;\n",
       "    word-wrap: break-word;\n",
       "    word-break: break-all;\n",
       "    font-family: \"Source Code Pro\", \"Menlo\", monospace;;\n",
       "    font-size: 13px;\n",
       "    color: #555;\n",
       "    margin-left: 4px;\n",
       "    line-height: 19px;\n",
       "  }\n",
       "</style>\n",
       "<div class=\"ansiout\">/databricks/spark/python/pyspark/sql/context.py:134: FutureWarning: Deprecated in 3.0.0. Use SparkSession.builder.getOrCreate() instead.\n",
       "  warnings.warn(\n",
       "+-----------+--------------------+\n",
       "       word|              vector|\n",
       "+-----------+--------------------+\n",
       "       down|[-0.0505827143788...|\n",
       "       it&#39;s|[0.30985769629478...|\n",
       "           |[0.02132896520197...|\n",
       "        for|[0.41402989625930...|\n",
       "     people|[-0.1829547435045...|\n",
       "       this|[0.39972665905952...|\n",
       "      (well|[0.43436864018440...|\n",
       "         in|[0.20833760499954...|\n",
       "       have|[-0.0325801782310...|\n",
       "       your|[0.32904917001724...|\n",
       "        off|[0.64350163936614...|\n",
       "        are|[-0.2755229771137...|\n",
       "         is|[0.11786556243896...|\n",
       "         oh|[0.19284033775329...|\n",
       "      stars|[-0.0939949974417...|\n",
       "        try|[0.18134884536266...|\n",
       "      dress|[0.29417058825492...|\n",
       "         tu|[-0.1316887140274...|\n",
       "loo-rye-aye|[0.25482434034347...|\n",
       "     you&#39;re|[0.18157753348350...|\n",
       "+-----------+--------------------+\n",
       "only showing top 20 rows\n",
       "\n",
       "</div>"
      ]
     },
     "metadata": {
      "application/vnd.databricks.v1+output": {
       "addedWidgets": {},
       "arguments": {},
       "data": "<div class=\"ansiout\">/databricks/spark/python/pyspark/sql/context.py:134: FutureWarning: Deprecated in 3.0.0. Use SparkSession.builder.getOrCreate() instead.\n  warnings.warn(\n+-----------+--------------------+\n|       word|              vector|\n+-----------+--------------------+\n|       down|[-0.0505827143788...|\n|       it&#39;s|[0.30985769629478...|\n|           |[0.02132896520197...|\n|        for|[0.41402989625930...|\n|     people|[-0.1829547435045...|\n|       this|[0.39972665905952...|\n|      (well|[0.43436864018440...|\n|         in|[0.20833760499954...|\n|       have|[-0.0325801782310...|\n|       your|[0.32904917001724...|\n|        off|[0.64350163936614...|\n|        are|[-0.2755229771137...|\n|         is|[0.11786556243896...|\n|         oh|[0.19284033775329...|\n|      stars|[-0.0939949974417...|\n|        try|[0.18134884536266...|\n|      dress|[0.29417058825492...|\n|         tu|[-0.1316887140274...|\n|loo-rye-aye|[0.25482434034347...|\n|     you&#39;re|[0.18157753348350...|\n+-----------+--------------------+\nonly showing top 20 rows\n\n</div>",
       "datasetInfos": [],
       "metadata": {},
       "removedWidgets": [],
       "type": "html"
      }
     },
     "output_type": "display_data"
    }
   ],
   "source": [
    "vectors_test = model.getVectors().cache()\n",
    "vectors_test.show()"
   ]
  },
  {
   "cell_type": "code",
   "execution_count": null,
   "metadata": {
    "application/vnd.databricks.v1+cell": {
     "inputWidgets": {},
     "nuid": "f9812f46-92d1-4097-b286-9c6ee4f9b526",
     "showTitle": false,
     "title": ""
    }
   },
   "outputs": [
    {
     "data": {
      "text/html": [
       "<style scoped>\n",
       "  .ansiout {\n",
       "    display: block;\n",
       "    unicode-bidi: embed;\n",
       "    white-space: pre-wrap;\n",
       "    word-wrap: break-word;\n",
       "    word-break: break-all;\n",
       "    font-family: \"Source Code Pro\", \"Menlo\", monospace;;\n",
       "    font-size: 13px;\n",
       "    color: #555;\n",
       "    margin-left: 4px;\n",
       "    line-height: 19px;\n",
       "  }\n",
       "</style>\n",
       "<div class=\"ansiout\"></div>"
      ]
     },
     "metadata": {
      "application/vnd.databricks.v1+output": {
       "addedWidgets": {},
       "arguments": {},
       "data": "<div class=\"ansiout\"></div>",
       "datasetInfos": [],
       "metadata": {},
       "removedWidgets": [],
       "type": "html"
      }
     },
     "output_type": "display_data"
    }
   ],
   "source": [
    "# Fit Word2Vec on entire dataframe (original tokenization with Tokenizer in preprocessing)\n",
    "word2Vec = Word2Vec(vectorSize=32, seed=42, inputCol=\"lyrics_words\", outputCol=\"model\")\n",
    "word2Vec.setMaxIter(10)\n",
    "model = word2Vec.fit(df_lyrics)"
   ]
  },
  {
   "cell_type": "code",
   "execution_count": null,
   "metadata": {
    "application/vnd.databricks.v1+cell": {
     "inputWidgets": {},
     "nuid": "e0ff56e8-4459-4079-b9e9-7e0a81bda776",
     "showTitle": false,
     "title": ""
    }
   },
   "outputs": [
    {
     "data": {
      "text/html": [
       "<style scoped>\n",
       "  .ansiout {\n",
       "    display: block;\n",
       "    unicode-bidi: embed;\n",
       "    white-space: pre-wrap;\n",
       "    word-wrap: break-word;\n",
       "    word-break: break-all;\n",
       "    font-family: \"Source Code Pro\", \"Menlo\", monospace;;\n",
       "    font-size: 13px;\n",
       "    color: #555;\n",
       "    margin-left: 4px;\n",
       "    line-height: 19px;\n",
       "  }\n",
       "</style>\n",
       "<div class=\"ansiout\"></div>"
      ]
     },
     "metadata": {
      "application/vnd.databricks.v1+output": {
       "addedWidgets": {},
       "arguments": {},
       "data": "<div class=\"ansiout\"></div>",
       "datasetInfos": [],
       "metadata": {},
       "removedWidgets": [],
       "type": "html"
      }
     },
     "output_type": "display_data"
    }
   ],
   "source": [
    "word_vectors = model.getVectors().cache()"
   ]
  },
  {
   "cell_type": "code",
   "execution_count": null,
   "metadata": {
    "application/vnd.databricks.v1+cell": {
     "inputWidgets": {},
     "nuid": "e4d1b2fe-b871-4756-b684-0cf339946f11",
     "showTitle": false,
     "title": ""
    }
   },
   "outputs": [
    {
     "data": {
      "text/html": [
       "<style scoped>\n",
       "  .ansiout {\n",
       "    display: block;\n",
       "    unicode-bidi: embed;\n",
       "    white-space: pre-wrap;\n",
       "    word-wrap: break-word;\n",
       "    word-break: break-all;\n",
       "    font-family: \"Source Code Pro\", \"Menlo\", monospace;;\n",
       "    font-size: 13px;\n",
       "    color: #555;\n",
       "    margin-left: 4px;\n",
       "    line-height: 19px;\n",
       "  }\n",
       "</style>\n",
       "<div class=\"ansiout\">+----------+--------------------+\n",
       "      word|              vector|\n",
       "+----------+--------------------+\n",
       "[teefliii]|[0.06319652497768...|\n",
       "  knees...|[0.11822315305471...|\n",
       "    next?)|[-0.1456330865621...|\n",
       "  spinnin&#39;|[0.28110203146934...|\n",
       "   exodus!|[-0.4918343126773...|\n",
       "   ohohoho|[-0.1712255775928...|\n",
       "     come?|[0.12748654186725...|\n",
       "     echo.|[0.27712708711624...|\n",
       "  worth...|[0.18746957182884...|\n",
       "    stegen|[0.24622718989849...|\n",
       "+----------+--------------------+\n",
       "only showing top 10 rows\n",
       "\n",
       "</div>"
      ]
     },
     "metadata": {
      "application/vnd.databricks.v1+output": {
       "addedWidgets": {},
       "arguments": {},
       "data": "<div class=\"ansiout\">+----------+--------------------+\n|      word|              vector|\n+----------+--------------------+\n|[teefliii]|[0.06319652497768...|\n|  knees...|[0.11822315305471...|\n|    next?)|[-0.1456330865621...|\n|  spinnin&#39;|[0.28110203146934...|\n|   exodus!|[-0.4918343126773...|\n|   ohohoho|[-0.1712255775928...|\n|     come?|[0.12748654186725...|\n|     echo.|[0.27712708711624...|\n|  worth...|[0.18746957182884...|\n|    stegen|[0.24622718989849...|\n+----------+--------------------+\nonly showing top 10 rows\n\n</div>",
       "datasetInfos": [],
       "metadata": {},
       "removedWidgets": [],
       "type": "html"
      }
     },
     "output_type": "display_data"
    }
   ],
   "source": [
    "word_vectors.show(10)"
   ]
  },
  {
   "cell_type": "markdown",
   "metadata": {
    "application/vnd.databricks.v1+cell": {
     "inputWidgets": {},
     "nuid": "871f3daa-78dc-40e9-8cbf-1880a8c41475",
     "showTitle": false,
     "title": ""
    }
   },
   "source": [
    "The words created by the Tokenizer during the preprocessing stage ends up giving us some strange results (see DataFrame above). Instead, we'll grab the lyrics from the DataFrame and directly extract our own words using the **lyrics2words** function below."
   ]
  },
  {
   "cell_type": "code",
   "execution_count": null,
   "metadata": {
    "application/vnd.databricks.v1+cell": {
     "inputWidgets": {},
     "nuid": "a19b46a1-1cb5-4b77-b271-360ed17d1da9",
     "showTitle": false,
     "title": ""
    }
   },
   "outputs": [
    {
     "data": {
      "text/html": [
       "<style scoped>\n",
       "  .ansiout {\n",
       "    display: block;\n",
       "    unicode-bidi: embed;\n",
       "    white-space: pre-wrap;\n",
       "    word-wrap: break-word;\n",
       "    word-break: break-all;\n",
       "    font-family: \"Source Code Pro\", \"Menlo\", monospace;;\n",
       "    font-size: 13px;\n",
       "    color: #555;\n",
       "    margin-left: 4px;\n",
       "    line-height: 19px;\n",
       "  }\n",
       "</style>\n",
       "<div class=\"ansiout\"></div>"
      ]
     },
     "metadata": {
      "application/vnd.databricks.v1+output": {
       "addedWidgets": {},
       "arguments": {},
       "data": "<div class=\"ansiout\"></div>",
       "datasetInfos": [],
       "metadata": {},
       "removedWidgets": [],
       "type": "html"
      }
     },
     "output_type": "display_data"
    }
   ],
   "source": [
    "# Function to clean words\n",
    "def lyrics2words(lyrics):\n",
    "    chars = [c for c in lyrics.lower() if c.isalnum() or c.isspace()]\n",
    "    return ''.join(chars).split()"
   ]
  },
  {
   "cell_type": "markdown",
   "metadata": {
    "application/vnd.databricks.v1+cell": {
     "inputWidgets": {},
     "nuid": "d3081dc1-4ce7-4179-8da3-f223fdce91a2",
     "showTitle": false,
     "title": ""
    }
   },
   "source": [
    "To make sure that our function can handle non-English characters, we inspect the following:"
   ]
  },
  {
   "cell_type": "code",
   "execution_count": null,
   "metadata": {
    "application/vnd.databricks.v1+cell": {
     "inputWidgets": {},
     "nuid": "4c73a82b-24e3-4dc2-8052-bc3592314daa",
     "showTitle": false,
     "title": ""
    }
   },
   "outputs": [
    {
     "data": {
      "text/html": [
       "<style scoped>\n",
       "  .ansiout {\n",
       "    display: block;\n",
       "    unicode-bidi: embed;\n",
       "    white-space: pre-wrap;\n",
       "    word-wrap: break-word;\n",
       "    word-break: break-all;\n",
       "    font-family: \"Source Code Pro\", \"Menlo\", monospace;;\n",
       "    font-size: 13px;\n",
       "    color: #555;\n",
       "    margin-left: 4px;\n",
       "    line-height: 19px;\n",
       "  }\n",
       "</style>\n",
       "<div class=\"ansiout\">Out[12]: True</div>"
      ]
     },
     "metadata": {
      "application/vnd.databricks.v1+output": {
       "addedWidgets": {},
       "arguments": {},
       "data": "<div class=\"ansiout\">Out[12]: True</div>",
       "datasetInfos": [],
       "metadata": {},
       "removedWidgets": [],
       "type": "html"
      }
     },
     "output_type": "display_data"
    }
   ],
   "source": [
    "'ã'.isalnum()"
   ]
  },
  {
   "cell_type": "code",
   "execution_count": null,
   "metadata": {
    "application/vnd.databricks.v1+cell": {
     "inputWidgets": {},
     "nuid": "e5912779-d487-4dce-81fd-8d8205072807",
     "showTitle": false,
     "title": ""
    }
   },
   "outputs": [
    {
     "data": {
      "text/html": [
       "<style scoped>\n",
       "  .ansiout {\n",
       "    display: block;\n",
       "    unicode-bidi: embed;\n",
       "    white-space: pre-wrap;\n",
       "    word-wrap: break-word;\n",
       "    word-break: break-all;\n",
       "    font-family: \"Source Code Pro\", \"Menlo\", monospace;;\n",
       "    font-size: 13px;\n",
       "    color: #555;\n",
       "    margin-left: 4px;\n",
       "    line-height: 19px;\n",
       "  }\n",
       "</style>\n",
       "<div class=\"ansiout\">Out[13]: True</div>"
      ]
     },
     "metadata": {
      "application/vnd.databricks.v1+output": {
       "addedWidgets": {},
       "arguments": {},
       "data": "<div class=\"ansiout\">Out[13]: True</div>",
       "datasetInfos": [],
       "metadata": {},
       "removedWidgets": [],
       "type": "html"
      }
     },
     "output_type": "display_data"
    }
   ],
   "source": [
    "'諺文'.isalnum()"
   ]
  },
  {
   "cell_type": "markdown",
   "metadata": {
    "application/vnd.databricks.v1+cell": {
     "inputWidgets": {},
     "nuid": "17c260f9-fbba-4fe5-a0a3-b5d9f465e21e",
     "showTitle": false,
     "title": ""
    }
   },
   "source": [
    "Next, we subset only songs with lyrics and apply the lyrics2songs function to extract a words column."
   ]
  },
  {
   "cell_type": "code",
   "execution_count": null,
   "metadata": {
    "application/vnd.databricks.v1+cell": {
     "inputWidgets": {},
     "nuid": "99f34795-c0b7-4627-855a-b742363c5497",
     "showTitle": false,
     "title": ""
    }
   },
   "outputs": [
    {
     "data": {
      "text/html": [
       "<style scoped>\n",
       "  .ansiout {\n",
       "    display: block;\n",
       "    unicode-bidi: embed;\n",
       "    white-space: pre-wrap;\n",
       "    word-wrap: break-word;\n",
       "    word-break: break-all;\n",
       "    font-family: \"Source Code Pro\", \"Menlo\", monospace;;\n",
       "    font-size: 13px;\n",
       "    color: #555;\n",
       "    margin-left: 4px;\n",
       "    line-height: 19px;\n",
       "  }\n",
       "</style>\n",
       "<div class=\"ansiout\">+--------------------+--------------------+\n",
       "           track_uri|              lyrics|\n",
       "+--------------------+--------------------+\n",
       "spotify:track:003...|I wear it like a ...|\n",
       "spotify:track:00J...|Meglio che ti lib...|\n",
       "spotify:track:00J...|Only time until,\\...|\n",
       "spotify:track:00W...|I&#39;d like to thank...|\n",
       "spotify:track:00X...|So why the ghetto...|\n",
       "+--------------------+--------------------+\n",
       "only showing top 5 rows\n",
       "\n",
       "</div>"
      ]
     },
     "metadata": {
      "application/vnd.databricks.v1+output": {
       "addedWidgets": {},
       "arguments": {},
       "data": "<div class=\"ansiout\">+--------------------+--------------------+\n|           track_uri|              lyrics|\n+--------------------+--------------------+\n|spotify:track:003...|I wear it like a ...|\n|spotify:track:00J...|Meglio che ti lib...|\n|spotify:track:00J...|Only time until,\\...|\n|spotify:track:00W...|I&#39;d like to thank...|\n|spotify:track:00X...|So why the ghetto...|\n+--------------------+--------------------+\nonly showing top 5 rows\n\n</div>",
       "datasetInfos": [],
       "metadata": {},
       "removedWidgets": [],
       "type": "html"
      }
     },
     "output_type": "display_data"
    }
   ],
   "source": [
    "# Distinct rows for songs with lyrics\n",
    "songs_w_lyrics = df.select(\"track_uri\", \"lyrics\").distinct().where(df['lyrics_words'].isNotNull()).cache()\n",
    "songs_w_lyrics.show(5)"
   ]
  },
  {
   "cell_type": "code",
   "execution_count": null,
   "metadata": {
    "application/vnd.databricks.v1+cell": {
     "inputWidgets": {},
     "nuid": "dd6aad03-257f-4281-b20a-a9e81a9c0297",
     "showTitle": false,
     "title": ""
    }
   },
   "outputs": [
    {
     "data": {
      "text/html": [
       "<style scoped>\n",
       "  .ansiout {\n",
       "    display: block;\n",
       "    unicode-bidi: embed;\n",
       "    white-space: pre-wrap;\n",
       "    word-wrap: break-word;\n",
       "    word-break: break-all;\n",
       "    font-family: \"Source Code Pro\", \"Menlo\", monospace;;\n",
       "    font-size: 13px;\n",
       "    color: #555;\n",
       "    margin-left: 4px;\n",
       "    line-height: 19px;\n",
       "  }\n",
       "</style>\n",
       "<div class=\"ansiout\"></div>"
      ]
     },
     "metadata": {
      "application/vnd.databricks.v1+output": {
       "addedWidgets": {},
       "arguments": {},
       "data": "<div class=\"ansiout\"></div>",
       "datasetInfos": [],
       "metadata": {},
       "removedWidgets": [],
       "type": "html"
      }
     },
     "output_type": "display_data"
    }
   ],
   "source": [
    "udf_lyrics2songs = udf(lambda x: lyrics2words(x), returnType=ArrayType(StringType()))\n",
    "songs_df = songs_w_lyrics.select(\"track_uri\", \"lyrics\", udf_lyrics2songs(songs_w_lyrics['lyrics']).alias(\"words\")).cache()"
   ]
  },
  {
   "cell_type": "code",
   "execution_count": null,
   "metadata": {
    "application/vnd.databricks.v1+cell": {
     "inputWidgets": {},
     "nuid": "1f453c88-370f-486c-ba6a-a35241e692a8",
     "showTitle": false,
     "title": ""
    }
   },
   "outputs": [
    {
     "data": {
      "text/html": [
       "<style scoped>\n",
       "  .ansiout {\n",
       "    display: block;\n",
       "    unicode-bidi: embed;\n",
       "    white-space: pre-wrap;\n",
       "    word-wrap: break-word;\n",
       "    word-break: break-all;\n",
       "    font-family: \"Source Code Pro\", \"Menlo\", monospace;;\n",
       "    font-size: 13px;\n",
       "    color: #555;\n",
       "    margin-left: 4px;\n",
       "    line-height: 19px;\n",
       "  }\n",
       "</style>\n",
       "<div class=\"ansiout\">+--------------------+--------------------+--------------------+\n",
       "           track_uri|              lyrics|               words|\n",
       "+--------------------+--------------------+--------------------+\n",
       "spotify:track:003...|I wear it like a ...|[i, wear, it, lik...|\n",
       "spotify:track:00J...|Meglio che ti lib...|[meglio, che, ti,...|\n",
       "spotify:track:00J...|Only time until,\\...|[only, time, unti...|\n",
       "spotify:track:00W...|I&#39;d like to thank...|[id, like, to, th...|\n",
       "spotify:track:00X...|So why the ghetto...|[so, why, the, gh...|\n",
       "+--------------------+--------------------+--------------------+\n",
       "only showing top 5 rows\n",
       "\n",
       "</div>"
      ]
     },
     "metadata": {
      "application/vnd.databricks.v1+output": {
       "addedWidgets": {},
       "arguments": {},
       "data": "<div class=\"ansiout\">+--------------------+--------------------+--------------------+\n|           track_uri|              lyrics|               words|\n+--------------------+--------------------+--------------------+\n|spotify:track:003...|I wear it like a ...|[i, wear, it, lik...|\n|spotify:track:00J...|Meglio che ti lib...|[meglio, che, ti,...|\n|spotify:track:00J...|Only time until,\\...|[only, time, unti...|\n|spotify:track:00W...|I&#39;d like to thank...|[id, like, to, th...|\n|spotify:track:00X...|So why the ghetto...|[so, why, the, gh...|\n+--------------------+--------------------+--------------------+\nonly showing top 5 rows\n\n</div>",
       "datasetInfos": [],
       "metadata": {},
       "removedWidgets": [],
       "type": "html"
      }
     },
     "output_type": "display_data"
    }
   ],
   "source": [
    "songs_df.show(5)"
   ]
  },
  {
   "cell_type": "code",
   "execution_count": null,
   "metadata": {
    "application/vnd.databricks.v1+cell": {
     "inputWidgets": {},
     "nuid": "e14d04ab-c3fa-4c35-a1cd-1073de899b84",
     "showTitle": false,
     "title": ""
    }
   },
   "outputs": [
    {
     "data": {
      "text/html": [
       "<style scoped>\n",
       "  .ansiout {\n",
       "    display: block;\n",
       "    unicode-bidi: embed;\n",
       "    white-space: pre-wrap;\n",
       "    word-wrap: break-word;\n",
       "    word-break: break-all;\n",
       "    font-family: \"Source Code Pro\", \"Menlo\", monospace;;\n",
       "    font-size: 13px;\n",
       "    color: #555;\n",
       "    margin-left: 4px;\n",
       "    line-height: 19px;\n",
       "  }\n",
       "</style>\n",
       "<div class=\"ansiout\"></div>"
      ]
     },
     "metadata": {
      "application/vnd.databricks.v1+output": {
       "addedWidgets": {},
       "arguments": {},
       "data": "<div class=\"ansiout\"></div>",
       "datasetInfos": [],
       "metadata": {},
       "removedWidgets": [],
       "type": "html"
      }
     },
     "output_type": "display_data"
    }
   ],
   "source": [
    "# Fit Word2Vec on new \n",
    "word2Vec = Word2Vec(vectorSize=32, seed=42, inputCol=\"words\", outputCol=\"model\")\n",
    "word2Vec.setMaxIter(10)\n",
    "model = word2Vec.fit(songs_df)"
   ]
  },
  {
   "cell_type": "code",
   "execution_count": null,
   "metadata": {
    "application/vnd.databricks.v1+cell": {
     "inputWidgets": {},
     "nuid": "a795c8ee-6684-46a7-b14a-1eeb067848ec",
     "showTitle": false,
     "title": ""
    }
   },
   "outputs": [
    {
     "data": {
      "text/html": [
       "<style scoped>\n",
       "  .ansiout {\n",
       "    display: block;\n",
       "    unicode-bidi: embed;\n",
       "    white-space: pre-wrap;\n",
       "    word-wrap: break-word;\n",
       "    word-break: break-all;\n",
       "    font-family: \"Source Code Pro\", \"Menlo\", monospace;;\n",
       "    font-size: 13px;\n",
       "    color: #555;\n",
       "    margin-left: 4px;\n",
       "    line-height: 19px;\n",
       "  }\n",
       "</style>\n",
       "<div class=\"ansiout\"></div>"
      ]
     },
     "metadata": {
      "application/vnd.databricks.v1+output": {
       "addedWidgets": {},
       "arguments": {},
       "data": "<div class=\"ansiout\"></div>",
       "datasetInfos": [],
       "metadata": {},
       "removedWidgets": [],
       "type": "html"
      }
     },
     "output_type": "display_data"
    }
   ],
   "source": [
    "word_vectors = model.getVectors().cache()"
   ]
  },
  {
   "cell_type": "code",
   "execution_count": null,
   "metadata": {
    "application/vnd.databricks.v1+cell": {
     "inputWidgets": {},
     "nuid": "37e5ce88-5009-4030-ace2-ee751bd41001",
     "showTitle": false,
     "title": ""
    }
   },
   "outputs": [
    {
     "data": {
      "text/html": [
       "<style scoped>\n",
       "  .ansiout {\n",
       "    display: block;\n",
       "    unicode-bidi: embed;\n",
       "    white-space: pre-wrap;\n",
       "    word-wrap: break-word;\n",
       "    word-break: break-all;\n",
       "    font-family: \"Source Code Pro\", \"Menlo\", monospace;;\n",
       "    font-size: 13px;\n",
       "    color: #555;\n",
       "    margin-left: 4px;\n",
       "    line-height: 19px;\n",
       "  }\n",
       "</style>\n",
       "<div class=\"ansiout\">+---------+--------------------+\n",
       "     word|              vector|\n",
       "+---------+--------------------+\n",
       "  ohohoho|[-0.0792507305741...|\n",
       "professed|[-0.2632994353771...|\n",
       "   stegen|[0.56281369924545...|\n",
       " acéptalo|[0.73900830745697...|\n",
       "    jaleo|[0.42074951529502...|\n",
       "+---------+--------------------+\n",
       "only showing top 5 rows\n",
       "\n",
       "</div>"
      ]
     },
     "metadata": {
      "application/vnd.databricks.v1+output": {
       "addedWidgets": {},
       "arguments": {},
       "data": "<div class=\"ansiout\">+---------+--------------------+\n|     word|              vector|\n+---------+--------------------+\n|  ohohoho|[-0.0792507305741...|\n|professed|[-0.2632994353771...|\n|   stegen|[0.56281369924545...|\n| acéptalo|[0.73900830745697...|\n|    jaleo|[0.42074951529502...|\n+---------+--------------------+\nonly showing top 5 rows\n\n</div>",
       "datasetInfos": [],
       "metadata": {},
       "removedWidgets": [],
       "type": "html"
      }
     },
     "output_type": "display_data"
    }
   ],
   "source": [
    "word_vectors.show(5)"
   ]
  },
  {
   "cell_type": "code",
   "execution_count": null,
   "metadata": {
    "application/vnd.databricks.v1+cell": {
     "inputWidgets": {},
     "nuid": "f87e3814-bc39-4206-ab86-e944a95f78d0",
     "showTitle": false,
     "title": ""
    }
   },
   "outputs": [
    {
     "data": {
      "text/html": [
       "<style scoped>\n",
       "  .ansiout {\n",
       "    display: block;\n",
       "    unicode-bidi: embed;\n",
       "    white-space: pre-wrap;\n",
       "    word-wrap: break-word;\n",
       "    word-break: break-all;\n",
       "    font-family: \"Source Code Pro\", \"Menlo\", monospace;;\n",
       "    font-size: 13px;\n",
       "    color: #555;\n",
       "    margin-left: 4px;\n",
       "    line-height: 19px;\n",
       "  }\n",
       "</style>\n",
       "<div class=\"ansiout\">Out[20]: 87733</div>"
      ]
     },
     "metadata": {
      "application/vnd.databricks.v1+output": {
       "addedWidgets": {},
       "arguments": {},
       "data": "<div class=\"ansiout\">Out[20]: 87733</div>",
       "datasetInfos": [],
       "metadata": {},
       "removedWidgets": [],
       "type": "html"
      }
     },
     "output_type": "display_data"
    }
   ],
   "source": [
    "word_vectors.count()"
   ]
  },
  {
   "cell_type": "code",
   "execution_count": null,
   "metadata": {
    "application/vnd.databricks.v1+cell": {
     "inputWidgets": {},
     "nuid": "dda20f06-eedf-41e6-94b2-53da058086ef",
     "showTitle": false,
     "title": ""
    }
   },
   "outputs": [
    {
     "data": {
      "text/html": [
       "<style scoped>\n",
       "  .ansiout {\n",
       "    display: block;\n",
       "    unicode-bidi: embed;\n",
       "    white-space: pre-wrap;\n",
       "    word-wrap: break-word;\n",
       "    word-break: break-all;\n",
       "    font-family: \"Source Code Pro\", \"Menlo\", monospace;;\n",
       "    font-size: 13px;\n",
       "    color: #555;\n",
       "    margin-left: 4px;\n",
       "    line-height: 19px;\n",
       "  }\n",
       "</style>\n",
       "<div class=\"ansiout\">root\n",
       "-- word: string (nullable = true)\n",
       "-- vector: vector (nullable = true)\n",
       "\n",
       "</div>"
      ]
     },
     "metadata": {
      "application/vnd.databricks.v1+output": {
       "addedWidgets": {},
       "arguments": {},
       "data": "<div class=\"ansiout\">root\n |-- word: string (nullable = true)\n |-- vector: vector (nullable = true)\n\n</div>",
       "datasetInfos": [],
       "metadata": {},
       "removedWidgets": [],
       "type": "html"
      }
     },
     "output_type": "display_data"
    }
   ],
   "source": [
    "word_vectors.printSchema()"
   ]
  },
  {
   "cell_type": "code",
   "execution_count": null,
   "metadata": {
    "application/vnd.databricks.v1+cell": {
     "inputWidgets": {},
     "nuid": "48eb3458-0554-42c8-a6ab-1596759fd2b1",
     "showTitle": false,
     "title": ""
    }
   },
   "outputs": [
    {
     "data": {
      "text/html": [
       "<style scoped>\n",
       "  .ansiout {\n",
       "    display: block;\n",
       "    unicode-bidi: embed;\n",
       "    white-space: pre-wrap;\n",
       "    word-wrap: break-word;\n",
       "    word-break: break-all;\n",
       "    font-family: \"Source Code Pro\", \"Menlo\", monospace;;\n",
       "    font-size: 13px;\n",
       "    color: #555;\n",
       "    margin-left: 4px;\n",
       "    line-height: 19px;\n",
       "  }\n",
       "</style>\n",
       "<div class=\"ansiout\"></div>"
      ]
     },
     "metadata": {
      "application/vnd.databricks.v1+output": {
       "addedWidgets": {},
       "arguments": {},
       "data": "<div class=\"ansiout\"></div>",
       "datasetInfos": [],
       "metadata": {},
       "removedWidgets": [],
       "type": "html"
      }
     },
     "output_type": "display_data"
    }
   ],
   "source": [
    "# Create UDF to convert the vector to an array for storage in MongoDB\n",
    "vec2arr = udf(lambda v: v.toArray().tolist(), ArrayType(FloatType()))"
   ]
  },
  {
   "cell_type": "code",
   "execution_count": null,
   "metadata": {
    "application/vnd.databricks.v1+cell": {
     "inputWidgets": {},
     "nuid": "b4188989-bc97-4f80-b218-62a1a5ca8324",
     "showTitle": false,
     "title": ""
    }
   },
   "outputs": [
    {
     "data": {
      "text/html": [
       "<style scoped>\n",
       "  .ansiout {\n",
       "    display: block;\n",
       "    unicode-bidi: embed;\n",
       "    white-space: pre-wrap;\n",
       "    word-wrap: break-word;\n",
       "    word-break: break-all;\n",
       "    font-family: \"Source Code Pro\", \"Menlo\", monospace;;\n",
       "    font-size: 13px;\n",
       "    color: #555;\n",
       "    margin-left: 4px;\n",
       "    line-height: 19px;\n",
       "  }\n",
       "</style>\n",
       "<div class=\"ansiout\"></div>"
      ]
     },
     "metadata": {
      "application/vnd.databricks.v1+output": {
       "addedWidgets": {},
       "arguments": {},
       "data": "<div class=\"ansiout\"></div>",
       "datasetInfos": [],
       "metadata": {},
       "removedWidgets": [],
       "type": "html"
      }
     },
     "output_type": "display_data"
    }
   ],
   "source": [
    "wordvec_df = word_vectors.select(\"word\", vec2arr(word_vectors[\"vector\"]).alias(\"vector\"))"
   ]
  },
  {
   "cell_type": "code",
   "execution_count": null,
   "metadata": {
    "application/vnd.databricks.v1+cell": {
     "inputWidgets": {},
     "nuid": "57473170-6099-43a4-b605-e86ace5a42f0",
     "showTitle": false,
     "title": ""
    }
   },
   "outputs": [
    {
     "data": {
      "text/html": [
       "<style scoped>\n",
       "  .ansiout {\n",
       "    display: block;\n",
       "    unicode-bidi: embed;\n",
       "    white-space: pre-wrap;\n",
       "    word-wrap: break-word;\n",
       "    word-break: break-all;\n",
       "    font-family: \"Source Code Pro\", \"Menlo\", monospace;;\n",
       "    font-size: 13px;\n",
       "    color: #555;\n",
       "    margin-left: 4px;\n",
       "    line-height: 19px;\n",
       "  }\n",
       "</style>\n",
       "<div class=\"ansiout\">+---------+--------------------+\n",
       "     word|              vector|\n",
       "+---------+--------------------+\n",
       "  ohohoho|[-0.07925073, 0.3...|\n",
       "professed|[-0.26329944, 0.1...|\n",
       "   stegen|[0.5628137, 1.032...|\n",
       " acéptalo|[0.7390083, 0.214...|\n",
       "    jaleo|[0.42074952, -0.1...|\n",
       "+---------+--------------------+\n",
       "only showing top 5 rows\n",
       "\n",
       "</div>"
      ]
     },
     "metadata": {
      "application/vnd.databricks.v1+output": {
       "addedWidgets": {},
       "arguments": {},
       "data": "<div class=\"ansiout\">+---------+--------------------+\n|     word|              vector|\n+---------+--------------------+\n|  ohohoho|[-0.07925073, 0.3...|\n|professed|[-0.26329944, 0.1...|\n|   stegen|[0.5628137, 1.032...|\n| acéptalo|[0.7390083, 0.214...|\n|    jaleo|[0.42074952, -0.1...|\n+---------+--------------------+\nonly showing top 5 rows\n\n</div>",
       "datasetInfos": [],
       "metadata": {},
       "removedWidgets": [],
       "type": "html"
      }
     },
     "output_type": "display_data"
    }
   ],
   "source": [
    "wordvec_df.show(5)"
   ]
  },
  {
   "cell_type": "code",
   "execution_count": null,
   "metadata": {
    "application/vnd.databricks.v1+cell": {
     "inputWidgets": {},
     "nuid": "49469d1a-6b6a-49bf-9341-10aa7dff3bfc",
     "showTitle": false,
     "title": ""
    }
   },
   "outputs": [
    {
     "data": {
      "text/html": [
       "<style scoped>\n",
       "  .ansiout {\n",
       "    display: block;\n",
       "    unicode-bidi: embed;\n",
       "    white-space: pre-wrap;\n",
       "    word-wrap: break-word;\n",
       "    word-break: break-all;\n",
       "    font-family: \"Source Code Pro\", \"Menlo\", monospace;;\n",
       "    font-size: 13px;\n",
       "    color: #555;\n",
       "    margin-left: 4px;\n",
       "    line-height: 19px;\n",
       "  }\n",
       "</style>\n",
       "<div class=\"ansiout\">root\n",
       "-- word: string (nullable = true)\n",
       "-- vector: array (nullable = true)\n",
       "    |-- element: float (containsNull = true)\n",
       "\n",
       "</div>"
      ]
     },
     "metadata": {
      "application/vnd.databricks.v1+output": {
       "addedWidgets": {},
       "arguments": {},
       "data": "<div class=\"ansiout\">root\n |-- word: string (nullable = true)\n |-- vector: array (nullable = true)\n |    |-- element: float (containsNull = true)\n\n</div>",
       "datasetInfos": [],
       "metadata": {},
       "removedWidgets": [],
       "type": "html"
      }
     },
     "output_type": "display_data"
    }
   ],
   "source": [
    "wordvec_df.printSchema()"
   ]
  },
  {
   "cell_type": "markdown",
   "metadata": {
    "application/vnd.databricks.v1+cell": {
     "inputWidgets": {},
     "nuid": "7bcba892-ceb0-4e75-bbf6-1814bb8d0423",
     "showTitle": false,
     "title": ""
    }
   },
   "source": [
    "Because we have already saved the word vectors to mongoDB, we commented out the code below. Uncomment to do this the first time."
   ]
  },
  {
   "cell_type": "code",
   "execution_count": null,
   "metadata": {
    "application/vnd.databricks.v1+cell": {
     "inputWidgets": {},
     "nuid": "6a866548-9f18-4ec7-a3d9-07c0ca4695a2",
     "showTitle": false,
     "title": ""
    }
   },
   "outputs": [
    {
     "data": {
      "text/html": [
       "<style scoped>\n",
       "  .ansiout {\n",
       "    display: block;\n",
       "    unicode-bidi: embed;\n",
       "    white-space: pre-wrap;\n",
       "    word-wrap: break-word;\n",
       "    word-break: break-all;\n",
       "    font-family: \"Source Code Pro\", \"Menlo\", monospace;;\n",
       "    font-size: 13px;\n",
       "    color: #555;\n",
       "    margin-left: 4px;\n",
       "    line-height: 19px;\n",
       "  }\n",
       "</style>\n",
       "<div class=\"ansiout\"></div>"
      ]
     },
     "metadata": {
      "application/vnd.databricks.v1+output": {
       "addedWidgets": {},
       "arguments": {},
       "data": "<div class=\"ansiout\"></div>",
       "datasetInfos": [],
       "metadata": {},
       "removedWidgets": [],
       "type": "html"
      }
     },
     "output_type": "display_data"
    }
   ],
   "source": [
    "# Uncomment to save word, vector pairs in mongodb\n",
    "# collection = 'word_vectors'\n",
    "# connection_string = f\"mongodb+srv://{user_name}:{password}@{address}/{database}.{collection}\"\n",
    "# wordvec_df.write.format(\"mongo\").option(\"uri\", connection_string).mode(\"append\").save()"
   ]
  },
  {
   "cell_type": "markdown",
   "metadata": {
    "application/vnd.databricks.v1+cell": {
     "inputWidgets": {},
     "nuid": "da42c0d2-3f63-4bda-b0df-3eb4ea2db750",
     "showTitle": false,
     "title": ""
    }
   },
   "source": [
    "### Computing lyrics embeddings\n",
    "\n",
    "Below we compute the average lyrical embedding for each song as the average of the embeddings for all words in the lyrics."
   ]
  },
  {
   "cell_type": "code",
   "execution_count": null,
   "metadata": {
    "application/vnd.databricks.v1+cell": {
     "inputWidgets": {},
     "nuid": "512c3d22-cb2f-4746-bd66-30d31a934648",
     "showTitle": false,
     "title": ""
    }
   },
   "outputs": [
    {
     "data": {
      "text/html": [
       "<style scoped>\n",
       "  .ansiout {\n",
       "    display: block;\n",
       "    unicode-bidi: embed;\n",
       "    white-space: pre-wrap;\n",
       "    word-wrap: break-word;\n",
       "    word-break: break-all;\n",
       "    font-family: \"Source Code Pro\", \"Menlo\", monospace;;\n",
       "    font-size: 13px;\n",
       "    color: #555;\n",
       "    margin-left: 4px;\n",
       "    line-height: 19px;\n",
       "  }\n",
       "</style>\n",
       "<div class=\"ansiout\">Out[27]: {&#39;ohohoho&#39;: array([-0.07925073,  0.31392673, -0.23940067,  0.09624004,  0.10937865,\n",
       "        -0.03422616, -1.1821041 , -0.50068593,  0.28972298,  0.06530909,\n",
       "        -1.23165   ,  0.04650208, -0.9326481 ,  0.64062274, -1.14963   ,\n",
       "        -0.36210456,  0.16882792, -0.422122  , -0.329844  , -0.05391987,\n",
       "         0.02306327,  0.27957904,  0.7619971 ,  0.5245532 , -0.28863308,\n",
       "         0.1532805 ,  0.10613267, -0.17104477, -0.5588746 , -0.3626776 ,\n",
       "        -0.31239626, -0.34137258], dtype=float32),\n",
       " &#39;professed&#39;: array([-0.26329944,  0.14257132,  0.01223039, -0.25976172,  0.34392947,\n",
       "         0.08153762, -0.3767318 , -0.05467109,  0.22877507, -0.06349373,\n",
       "         0.3972084 ,  0.35623866, -0.07845655,  0.22269817, -0.38570687,\n",
       "        -0.25012845, -0.26922402, -0.33298013,  0.1100001 , -0.17502022,\n",
       "        -0.54777193, -0.18024419, -0.22611459, -0.14369097, -0.4080993 ,\n",
       "         0.06734408,  0.12605414, -0.06174215, -0.17894982, -0.4430647 ,\n",
       "        -0.27485955,  0.17589772], dtype=float32),\n",
       " &#39;stegen&#39;: array([ 0.5628137 ,  1.0322635 ,  0.82646424,  1.4237982 , -0.10312799,\n",
       "         1.752393  , -1.1530322 , -1.1665572 , -0.6774264 ,  0.16445562,\n",
       "        -0.27869236, -0.28455666, -0.23084715, -0.4388019 , -1.0828527 ,\n",
       "         0.17807034,  0.28453764, -1.0028799 ,  0.42642018, -0.42699164,\n",
       "         0.6356657 , -0.35567403,  0.5775872 ,  0.43228108, -0.23928046,\n",
       "         0.42356327,  0.3333311 , -0.59891206,  0.11412388,  0.14864314,\n",
       "         0.6790861 , -0.8523481 ], dtype=float32),\n",
       " &#39;acéptalo&#39;: array([ 0.7390083 ,  0.2149252 ,  0.98295504, -0.55815846, -0.27640525,\n",
       "         0.3235611 , -1.1656953 , -0.95920527,  0.24490897, -0.14984235,\n",
       "        -0.56612056,  0.2153208 , -0.67097735, -0.77171826,  0.25893044,\n",
       "        -1.063229  ,  0.13935147, -0.13208862,  0.10008043,  0.10712686,\n",
       "         1.042984  ,  0.08250144, -0.2776759 ,  0.08776684,  0.57545274,\n",
       "        -0.04026667, -0.21765359, -0.24504882, -0.10052905, -0.0739845 ,\n",
       "         0.26224092,  0.29016572], dtype=float32),\n",
       " &#39;jaleo&#39;: array([ 0.42074952, -0.1761267 ,  0.6410343 , -0.09129529, -0.36618516,\n",
       "         0.6331861 , -0.33989832, -0.34172627, -0.05461185, -0.18391614,\n",
       "         0.11863644,  0.40089455, -0.5235228 , -0.53738797, -0.03182067,\n",
       "        -1.6687939 , -0.07918644, -0.07320985,  0.13400044,  0.597256  ,\n",
       "         0.84270275,  0.02402407, -0.22340074,  0.2525892 ,  0.75876826,\n",
       "         0.24889816,  0.18219714,  0.1889677 ,  0.15539242,  0.26814985,\n",
       "         0.15813926,  0.42751363], dtype=float32),\n",
       " &#39;admito&#39;: array([ 0.59465104, -0.03291072,  0.8942622 , -0.07866066, -0.48475948,\n",
       "         1.1740804 , -0.10754308, -0.912207  , -0.13435338, -0.3679157 ,\n",
       "        -0.01501329,  0.35489586, -0.09476306, -0.74322563,  0.51321924,\n",
       "        -1.0066966 ,  0.44180095,  0.3592743 , -0.29224554,  0.3905961 ,\n",
       "         0.06380587, -0.10512977,  0.2179836 ,  0.29496008,  0.77602106,\n",
       "        -0.51328236, -0.3167829 , -0.362109  ,  0.22239216,  0.20878783,\n",
       "        -0.02232932,  0.41146603], dtype=float32),\n",
       " &#39;dredd&#39;: array([ 0.02094032, -0.14081368,  0.4646859 , -0.1802023 , -0.09167867,\n",
       "        -0.0127033 , -0.07945038, -0.37925902, -0.11891985,  0.1520347 ,\n",
       "         0.39303723,  0.17207187,  0.32025346,  0.18145931, -0.35374242,\n",
       "        -0.19798227,  0.21809755, -0.2292551 ,  0.3739225 , -0.03289745,\n",
       "         0.03386633, -0.8707283 , -0.0642144 , -0.5261853 , -0.5366441 ,\n",
       "        -0.32214195, -0.27079347,  0.36429778, -0.04926702, -0.06325061,\n",
       "        -0.4224059 , -0.04141013], dtype=float32),\n",
       " &#39;gaiden&#39;: array([ 0.03694442, -0.00840622,  0.40425175,  0.1387582 , -0.23771454,\n",
       "         0.16233376,  0.03707598, -0.5078011 ,  0.23291597,  0.04278218,\n",
       "         0.22757229, -0.04662805,  0.73560065,  0.0654904 , -0.3404447 ,\n",
       "        -0.27189517, -0.02874799, -0.04407474, -0.13808799, -0.07573457,\n",
       "         0.3978408 , -0.64466333, -0.06974618, -0.27431408, -0.08188342,\n",
       "         0.07534437, -0.2436077 ,  0.21145846,  0.125808  ,  0.25228682,\n",
       "         0.38125023,  0.43964297], dtype=float32),\n",
       " &#39;protegido&#39;: array([ 0.56665003,  0.02630041,  0.79432154, -0.1659684 , -0.2770339 ,\n",
       "         0.5420451 , -0.13389336, -0.5671256 , -0.03399916, -0.3362539 ,\n",
       "        -0.20322956,  0.5491727 , -0.07410609, -0.6306755 ,  0.2925735 ,\n",
       "        -1.422273  , -0.14492823, -0.31507894, -0.26647982,  0.50701994,\n",
       "         0.6172955 , -0.341631  , -0.11572693,  0.22890377,  0.55911905,\n",
       "        -0.02285498, -0.24403843, -0.04549028,  0.20241591,  0.25729093,\n",
       "         0.06621232,  0.2978325 ], dtype=float32),\n",
       " &#39;advertencia&#39;: array([ 0.22903864, -0.10286298,  0.36647257, -0.42746562, -0.5004472 ,\n",
       "         0.4813821 , -0.27248183, -0.19555992,  0.06095922, -0.28576916,\n",
       "        -0.26651558, -0.18045288, -0.03228021, -0.5757862 , -0.00162749,\n",
       "        -1.391564  ,  0.42750973, -0.08460873,  0.10499005,  0.37458405,\n",
       "         0.32699898, -0.25865102, -0.4884895 ,  0.4342301 ,  0.29701972,\n",
       "         0.2073424 ,  0.12314548, -0.15736713,  0.2866581 ,  0.02789808,\n",
       "         0.24418694,  0.293001  ], dtype=float32),\n",
       " &#39;purifies&#39;: array([-0.19744995, -0.34670833,  0.47378397, -0.4092854 ,  0.6008879 ,\n",
       "         0.02833594, -0.48462334, -0.16798788,  0.00795847, -0.15170193,\n",
       "         0.01384594,  0.3983349 ,  0.34547406, -0.823914  , -0.41199824,\n",
       "         0.21863003, -0.15758756, -0.18665834,  0.26248646, -0.56080157,\n",
       "        -0.588502  , -0.08492289, -0.24588197, -0.1324408 , -0.21177024,\n",
       "        -0.5032964 , -0.29728037, -0.19047287, -0.1749495 ,  0.0068795 ,\n",
       "        -0.2811542 ,  0.01940604], dtype=float32),\n",
       " &#39;correcto&#39;: array([ 0.1520991 , -0.2940166 ,  0.80910146, -0.3626329 , -0.5188386 ,\n",
       "         0.6955956 , -0.6589804 , -0.42860213, -0.25626603, -0.10874581,\n",
       "        -0.69150245,  0.19885555, -0.65696514, -0.32077104, -0.01835296,\n",
       "        -1.8934368 ,  0.24635682,  0.09031341, -0.0893142 ,  0.24442124,\n",
       "         0.6805612 , -0.2708238 , -0.30486548,  0.2931525 ,  0.5817994 ,\n",
       "        -0.5963214 , -0.24385592, -0.29321313,  0.32223728,  0.22172044,\n",
       "         0.3994593 ,  0.26758453], dtype=float32),\n",
       " &#39;comprende&#39;: array([-0.22040437, -0.03409846,  0.2924138 , -0.49646908, -0.19408655,\n",
       "         0.4453457 , -0.37274784, -0.706174  , -0.23360634, -0.1713811 ,\n",
       "        -0.52173024,  0.0677961 ,  0.12417637, -0.37477157,  0.13271648,\n",
       "        -1.1020263 ,  0.3260889 ,  0.284254  , -0.27964586,  0.10407702,\n",
       "         0.6813761 , -0.08166324,  0.13007604,  0.19278817,  0.24468766,\n",
       "        -0.23683575, -0.372971  , -0.02728421,  0.38159844, -0.10034643,\n",
       "         0.21076007,  0.27715847], dtype=float32),\n",
       " &#39;clarissa&#39;: array([ 0.28763342, -0.6805243 ,  0.85471183,  0.35458067,  0.7599553 ,\n",
       "        -0.00496088,  0.5332272 , -0.77883136,  0.19968656,  0.9838014 ,\n",
       "         0.3300486 ,  0.90151423,  1.0475678 , -0.6248761 , -0.48738492,\n",
       "        -0.27324516,  0.13079561, -1.1016142 ,  0.03045796, -0.9300133 ,\n",
       "         0.6566226 , -0.00839299, -0.27294922, -0.9673553 , -0.49323887,\n",
       "         0.84817713, -1.4735054 , -0.8440494 ,  0.6425784 ,  0.7578025 ,\n",
       "        -0.8025728 , -0.09418297], dtype=float32),\n",
       " &#39;incident&#39;: array([-0.52322847,  0.16953586, -0.02779412, -0.3771621 , -0.3257716 ,\n",
       "        -0.45809343, -0.2946773 , -0.2714639 , -0.11451703, -0.10013334,\n",
       "         0.4590017 ,  0.304651  ,  0.04889724, -0.14365266, -0.5475477 ,\n",
       "        -0.04604163, -0.06809798, -0.13143879,  0.39553145, -0.521889  ,\n",
       "         0.6982951 , -0.1529826 , -0.08462641,  0.1659082 , -0.29027477,\n",
       "         0.10161298, -0.04419068, -0.15069777,  0.291279  , -0.0354418 ,\n",
       "        -0.18386067, -0.38158607], dtype=float32),\n",
       " &#39;hessss&#39;: array([-0.00713535,  0.4395342 ,  2.4707189 , -0.31839305, -0.67581356,\n",
       "        -0.3457171 ,  0.44887957, -1.0883484 ,  0.12805939, -0.75837374,\n",
       "         0.34120658,  0.2544952 ,  1.3437166 , -1.1174766 ,  0.6533645 ,\n",
       "         0.7363424 ,  0.5452282 , -0.49802032,  0.14723985,  0.33128554,\n",
       "         0.00906598, -1.6367248 ,  0.2735104 , -0.4905771 , -1.4135027 ,\n",
       "         0.8985041 , -0.4420497 ,  0.09701719, -0.99460006,  0.12467605,\n",
       "        -0.6396179 , -0.16732237], dtype=float32),\n",
       " &#39;synchronicity&#39;: array([-0.44686338, -0.01249925,  0.04514273, -0.5888804 ,  0.13480425,\n",
       "         0.08654054, -0.33740178,  0.07254235, -0.034825  ,  0.08575027,\n",
       "         0.5734158 ,  0.18247859,  0.66790813, -0.01684923, -0.36526138,\n",
       "        -0.08852749, -0.0760419 , -0.3302147 , -0.30140465, -0.2913449 ,\n",
       "        -0.1717617 ,  0.09113415, -0.17454973,  0.20560272, -0.2534703 ,\n",
       "        -0.08147274, -0.43899205, -0.19766922, -0.05179507,  0.2599602 ,\n",
       "        -0.29000646, -0.12637098], dtype=float32),\n",
       " &#39;misfire&#39;: array([-0.21382903, -0.00665012,  0.2511361 , -0.20091756,  0.45058578,\n",
       "        -0.02772809, -0.1476784 , -0.16806804,  0.39173818,  0.09178191,\n",
       "         0.27937803,  0.43547747, -0.11890177, -0.21739995, -0.15299362,\n",
       "         0.3115852 ,  0.02263931, -0.3437354 ,  0.09650855, -0.14493586,\n",
       "        -0.5538381 , -0.4672052 ,  0.08560257,  0.39185917,  0.33955786,\n",
       "        -0.35194033, -0.00119713, -0.25653034, -0.31117454,  0.00086239,\n",
       "        -0.2952412 , -0.00735295], dtype=float32),\n",
       " &#39;buns&#39;: array([ 0.18517645, -0.02028609,  0.42080274,  0.14063582,  0.26870745,\n",
       "         0.09287692, -0.23661157,  0.23480172,  0.19511063, -0.19398521,\n",
       "         0.18806176, -0.33593243, -0.02989689, -0.09174059, -0.53710705,\n",
       "         0.40600726, -0.05558669, -0.27686173, -0.19282736, -0.06573504,\n",
       "         0.39037248, -0.0883242 ,  0.3189621 ,  0.14941707, -0.7547396 ,\n",
       "        -0.24306694, -0.41263002,  0.14964953, -0.34629118,  0.25013706,\n",
       "         0.41765004,  0.6882441 ], dtype=float32),\n",
       " &#39;zauber&#39;: array([-0.7458275 ,  0.3350038 ,  1.2222093 ,  0.04252322, -0.19328439,\n",
       "         0.82124656,  0.46414807, -0.67013896, -0.11579737, -0.28274664,\n",
       "         0.17789832, -0.38518032, -0.67462337,  0.12399035, -0.3895774 ,\n",
       "        -0.4229516 , -0.19661605, -0.63150716,  0.10572336,  0.94288015,\n",
       "         0.06318007, -0.22449696, -0.37304094, -0.20987234, -0.6504422 ,\n",
       "         0.6464069 , -0.31048802, -0.23471928, -0.24917033,  1.0718815 ,\n",
       "         0.5904733 , -1.0627676 ], dtype=float32),\n",
       " &#39;vierzon&#39;: array([ 0.20408392,  0.01426582,  0.08500366, -1.1894536 , -0.88215595,\n",
       "         1.0136626 , -0.6822279 ,  0.16921264, -0.15377152,  0.23195668,\n",
       "         1.2905105 ,  0.06186616, -0.09852411, -0.46437258, -0.40288737,\n",
       "         0.24566759, -0.3253423 , -0.20030718,  1.0657216 ,  0.23163651,\n",
       "         0.2212264 ,  0.233177  ,  0.8108818 ,  1.317192  , -0.5211025 ,\n",
       "         1.0069363 ,  0.14779085, -0.39560863,  1.403277  ,  0.51285535,\n",
       "         0.00678812,  0.6239442 ], dtype=float32),\n",
       " &#39;serious&#39;: array([-0.24491337,  0.10885978,  0.11886609,  0.05561974,  0.06285609,\n",
       "        -0.15835382, -0.1895274 ,  0.27604353,  0.4273615 , -0.2543397 ,\n",
       "         0.00140397,  0.24044463,  0.64695996,  0.36578092,  0.26606625,\n",
       "         0.07336507, -0.30210194, -0.39848793,  0.00673192, -0.3529177 ,\n",
       "         0.3003764 , -0.33029673, -0.12306961, -0.25529426, -0.3782604 ,\n",
       "        -0.20190474, -0.17449878, -0.23843859,  0.3415088 ,  0.25830638,\n",
       "         0.17652917,  0.46376148], dtype=float32),\n",
       " &#39;sevenday&#39;: array([ 0.10809214, -0.4928026 , -0.40368518, -0.01758993, -0.96003664,\n",
       "        -0.751595  , -0.09137211,  0.44697723,  0.14463188,  0.05443535,\n",
       "         0.2753076 ,  0.6116841 , -0.05674503, -0.93395805, -0.833064  ,\n",
       "        -0.3897819 , -0.6708318 , -0.08646612,  0.83373195, -0.5112743 ,\n",
       "         0.16435172, -0.70801145, -0.12107201,  0.16388978, -0.11766373,\n",
       "        -0.11612366,  0.07720003,  0.6546401 , -0.07174291, -0.2196379 ,\n",
       "        -0.00294621,  0.26521376], dtype=float32),\n",
       " &#39;bay3ani&#39;: array([ 0.16290818, -0.05040097,  1.3094193 , -0.92360026, -2.2004898 ,\n",
       "        -0.55200607,  0.54374546,  0.8494163 ,  0.61761636, -0.5916646 ,\n",
       "        -1.2597497 , -0.18078814,  0.94337213,  0.02416922, -1.6696072 ,\n",
       "        -1.6922815 ,  0.85550743, -2.334924  ,  1.2421284 ,  0.3282846 ,\n",
       "        -0.18210824, -0.93670785,  2.8506682 ,  0.72778374,  0.817268  ,\n",
       "         0.13699223, -0.20035577, -0.8997807 ,  0.942776  ,  0.08757615,\n",
       "         0.23212336,  0.05666212], dtype=float32),\n",
       " &#39;brink&#39;: array([-0.03643   , -0.2298035 ,  0.16001672, -0.34407994,  0.3383607 ,\n",
       "         0.04029651,  0.01445442, -0.16998227,  0.08401135, -0.10420538,\n",
       "         0.37693813,  0.5426221 ,  0.91082704,  0.25065807, -0.6898958 ,\n",
       "         0.12442905, -0.4158694 ,  0.02313945,  0.6169849 , -0.18493545,\n",
       "         0.08749368,  0.139551  ,  0.17298178, -0.02070906,  0.24980946,\n",
       "        -0.1037905 , -0.73474246,  0.10596195, -0.2148762 ,  0.08009984,\n",
       "        -0.4028833 , -0.19739662], dtype=float32),\n",
       " &#39;ontake&#39;: array([ 0.2295322 , -0.16801524, -0.23596244, -0.06386682, -0.11222906,\n",
       "         0.4005441 , -0.08082504, -0.44282293,  1.2140286 , -0.6050204 ,\n",
       "        -1.049148  ,  0.45858833,  0.43222404, -0.33076853, -0.4458907 ,\n",
       "         0.73123044, -0.69182694, -0.35450867, -0.20892532,  0.10951269,\n",
       "        -0.04227198, -0.5002207 ,  0.09369916, -0.7153648 ,  0.44018117,\n",
       "        -0.24908337, -0.8169541 , -0.5906078 , -0.37622496, -0.9982262 ,\n",
       "        -0.32657042,  0.42524332], dtype=float32),\n",
       " &#39;turnstile&#39;: array([-2.78341770e-02,  1.85541004e-01, -1.29464418e-01, -2.48813838e-01,\n",
       "         5.77841438e-02,  4.54511270e-02, -1.03423141e-01, -5.03256440e-01,\n",
       "         2.94258267e-01, -1.41451374e-01,  3.71790200e-01,  2.54999369e-01,\n",
       "         3.59419972e-01,  1.51212335e-01, -8.64474833e-01,  1.97439626e-01,\n",
       "        -5.48613630e-02,  1.76756397e-01, -1.31109904e-04,  1.48883626e-01,\n",
       "         6.45393208e-02,  1.68590307e-01,  6.84063360e-02,  8.62389281e-02,\n",
       "        -2.45674953e-01, -3.18472177e-01, -2.54350871e-01,  5.59330523e-01,\n",
       "         2.29332358e-01, -2.68923007e-02,  2.75519252e-01,  1.03605606e-01],\n",
       "       dtype=float32),\n",
       " &#39;buvons&#39;: array([ 0.1794224 , -0.79017794,  0.232921  , -1.1848987 , -1.2841702 ,\n",
       "         1.6372782 , -0.30107236, -0.3145054 ,  0.05399393,  0.07887777,\n",
       "         0.4423767 ,  0.5854305 , -0.31443375, -0.21201357, -0.3200204 ,\n",
       "         0.32152113, -0.8398532 , -0.093084  ,  1.3727217 ,  0.6411818 ,\n",
       "        -0.6368057 , -0.44808468,  1.6547651 ,  0.75845355, -0.24108852,\n",
       "         0.71688956,  0.06766489, -0.51324254,  1.5343401 ,  0.61695963,\n",
       "        -0.15149413,  0.30551922], dtype=float32),\n",
       " &#39;passare&#39;: array([ 0.77354646,  0.67311984,  0.3437945 ,  0.49732912, -0.19435617,\n",
       "        -0.7931743 ,  0.11145849, -0.08317016,  0.19500153, -1.2467109 ,\n",
       "         0.4851046 , -0.05529743, -1.1409317 , -1.2187308 , -0.5802829 ,\n",
       "        -1.2684121 , -0.2694115 , -0.30943668,  0.8192774 , -0.08534147,\n",
       "        -0.10792002,  0.07996734,  1.2045864 , -0.23568238,  0.30766067,\n",
       "         1.4620435 , -0.1413982 , -1.2311895 , -0.33478478, -0.34436214,\n",
       "         0.25464958,  0.9778967 ], dtype=float32),\n",
       " &#39;ohhs&#39;: array([ 0.15042423, -0.17516848,  1.1813034 ,  0.08116017, -0.05772417,\n",
       "         0.11936583, -0.04238445, -0.5643566 ,  0.20519166, -0.07950439,\n",
       "        -0.45437995,  0.3293563 , -0.1275264 , -0.04537418, -0.0425705 ,\n",
       "         0.9307181 , -0.35302943, -0.11301021, -0.4316916 , -0.2487516 ,\n",
       "         0.05552268, -0.6215873 ,  0.370211  , -0.0895316 ,  0.04033079,\n",
       "        -0.31372967, -0.11102558,  0.20540583, -0.38147596, -0.2997898 ,\n",
       "        -0.17024824,  0.46837756], dtype=float32),\n",
       " &#39;boji&#39;: array([-0.15919831,  0.19836013,  1.1504134 ,  0.09105482, -0.8830578 ,\n",
       "         0.24890065, -0.6946562 ,  0.58453465, -0.25119293, -0.28515145,\n",
       "         0.00629427, -0.39624742,  0.49089327, -0.7150963 , -0.5317497 ,\n",
       "         0.17768887,  0.7851996 , -0.9897135 , -0.2118408 , -0.40240002,\n",
       "        -0.03322491,  0.05533963,  1.1073511 , -0.21227784,  0.11157459,\n",
       "         0.47288108, -0.13904333, -0.0699634 , -0.0815319 , -0.6498594 ,\n",
       "         0.7417155 , -0.6391268 ], dtype=float32),\n",
       " &#39;ferociously&#39;: array([-0.27904558, -0.36154994, -0.18091287, -0.12245227,  0.29387787,\n",
       "        -0.5030746 , -0.3310287 , -0.04494695,  0.20014766, -0.16283315,\n",
       "         0.3462025 ,  0.29771224,  0.0333282 , -0.4692678 , -0.535587  ,\n",
       "         0.31012383,  0.14867237, -0.28386712,  0.13156615,  0.00990989,\n",
       "        -0.45410267,  0.13149014, -0.3495005 , -0.08632485, -0.05643212,\n",
       "        -0.1823019 , -0.06417308, -0.25276408, -0.27774376,  0.14394122,\n",
       "         0.08705873,  0.25201538], dtype=float32),\n",
       " &#39;acronym&#39;: array([-0.1140045 ,  0.02009822,  0.31848454,  0.2073464 ,  0.30112937,\n",
       "        -0.03182152,  0.12942179, -0.33384666,  0.03430433,  0.22288595,\n",
       "         0.06281365,  0.4511275 ,  0.5536648 ,  0.05243498, -0.03070048,\n",
       "        -0.20563348, -0.22642232, -0.331992  ,  0.52823794, -0.02034442,\n",
       "         0.10267737, -0.6173153 ,  0.15538661,  0.02215047, -0.43993512,\n",
       "        -0.06118355,  0.02772158,  0.52853656,  0.5119356 ,  0.2322211 ,\n",
       "        -0.01015088,  0.13727644], dtype=float32),\n",
       " &#39;boutiques&#39;: array([ 0.325779  , -0.15143034,  0.51258814, -0.09631988, -0.45662865,\n",
       "         0.33334327, -0.09483923, -0.21587186, -0.07095072, -0.14137778,\n",
       "         0.2218664 , -0.1214084 , -0.1413816 , -0.21901847, -0.23945297,\n",
       "        -0.11789271, -0.15324542,  0.01963486,  0.34104842,  0.20677347,\n",
       "        -0.20824751,  0.03996664,  0.4387171 ,  0.32987309, -0.31467384,\n",
       "         0.01990562, -0.06115663,  0.05601234,  0.46664536,  0.6308646 ,\n",
       "         0.4973729 , -0.15295069], dtype=float32),\n",
       " &#39;foolproof&#39;: array([-0.18999983,  0.07878778, -0.05339523, -0.35682046, -0.20297147,\n",
       "        -0.69375086,  0.06506417,  0.0050682 , -0.12008963, -0.2525717 ,\n",
       "         0.6355292 ,  0.36803943,  0.54019094,  0.25096348, -0.2885295 ,\n",
       "         0.13799366,  0.1407956 , -0.25726706, -0.08894935, -0.40681592,\n",
       "         0.37169024, -0.67733926,  0.02363476, -0.06927778,  0.04420363,\n",
       "        -0.1475098 , -0.37288305,  0.43261638,  0.09201355,  0.21327184,\n",
       "        -0.22585668,  0.34293762], dtype=float32),\n",
       " &#39;youthful&#39;: array([-0.1813921 , -0.02723463,  0.5132549 , -0.65195453,  0.6432381 ,\n",
       "         0.23168185, -0.12563424,  0.6522922 ,  0.5627673 , -0.64877594,\n",
       "         0.17923588,  0.16366765,  0.46369195,  0.15918638, -0.61143106,\n",
       "         0.11782364, -0.15999041, -0.6971242 ,  0.24828158, -0.18317743,\n",
       "        -0.55458707,  0.06363174, -0.11913877, -0.07430334,  0.19043924,\n",
       "        -0.1619583 , -0.44015434, -0.42098272, -0.5424945 ,  0.50282556,\n",
       "        -0.04861576,  0.15994138], dtype=float32),\n",
       " &#39;sinister&#39;: array([ 0.009769  , -0.0084774 ,  0.16458263, -0.3683676 ,  0.48945168,\n",
       "        -0.12414259, -0.12073544,  0.3721861 ,  0.1806827 , -0.4771579 ,\n",
       "         0.5093353 ,  0.4230626 ,  0.11421888, -0.15642366, -0.4145489 ,\n",
       "        -0.14277127, -0.02790792, -0.27503574,  0.14561348, -0.4042978 ,\n",
       "         0.02577997,  0.00147858,  0.08206154, -0.1329632 , -0.08995955,\n",
       "        -0.05853243, -0.46903294,  0.31113926,  0.01597389,  0.1229652 ,\n",
       "        -0.11887584,  0.10865279], dtype=float32),\n",
       " &#39;comply&#39;: array([-0.35103354,  0.15752211,  0.5638464 ,  0.08588525,  0.5804793 ,\n",
       "        -0.04654214,  0.09623057,  0.44704127,  0.57838356,  0.26921877,\n",
       "         0.51804835,  0.896121  ,  0.25232327,  0.55495006, -0.16009466,\n",
       "         0.04595953, -0.6080841 , -0.6674694 ,  0.39325944, -0.02062304,\n",
       "         0.2589943 , -0.27934098, -0.04976619,  0.50891316,  0.2572921 ,\n",
       "        -0.1642126 , -0.00646646, -0.01246537, -0.15054359, -0.23888339,\n",
       "        -0.3328072 , -0.28658527], dtype=float32),\n",
       " &#39;healings&#39;: array([-0.58833313, -0.30214396, -0.00741635, -0.01441115,  0.5508966 ,\n",
       "         0.20708111, -0.21507627, -0.19093059,  0.35868096, -0.04215365,\n",
       "        -0.25262535,  0.34782118, -0.11633871,  0.28825587, -0.0197554 ,\n",
       "         0.1901601 , -0.07423483, -0.5159307 ,  0.2529723 , -0.07668882,\n",
       "         0.11548641, -0.33256456, -0.23038177,  0.11756809, -0.32150742,\n",
       "        -0.18414606,  0.23551333, -0.36259326, -0.41350552, -0.08352289,\n",
       "        -0.8125856 ,  0.2616416 ], dtype=float32),\n",
       " &#39;marrer&#39;: array([ 0.43888566, -0.23166722,  0.1975759 , -0.6692432 , -0.45838112,\n",
       "         0.8262114 , -0.5084805 , -0.14863937,  0.17765178, -0.23925065,\n",
       "         0.59862787,  0.05738614, -0.59958935, -0.51482886, -0.15079172,\n",
       "        -0.06986005, -0.29901123,  0.06220233,  0.9689204 , -0.15761042,\n",
       "        -0.16706912,  0.06720687,  1.2678515 ,  0.98574   , -0.43538782,\n",
       "         0.76622933,  0.325555  , -0.4904326 ,  1.3004324 ,  0.9340377 ,\n",
       "        -0.2934647 ,  0.4155202 ], dtype=float32),\n",
       " &#39;ebb&#39;: array([ 0.36898857, -0.18600604,  0.77160317,  0.1289192 ,  0.6746739 ,\n",
       "        -0.04307798,  0.03310842, -0.1401988 ,  0.44166026, -0.4010562 ,\n",
       "         0.0029587 ,  0.74638593,  0.1120081 , -0.36156097, -0.49301225,\n",
       "         0.17174943, -0.23941879,  0.32234377,  1.0407574 , -0.30968878,\n",
       "        -0.44217235,  0.39354652, -0.23450547, -0.0646771 ,  0.11646356,\n",
       "        -0.19715625, -0.4157798 ,  0.19517882, -0.23043844,  0.36015677,\n",
       "         0.29870194, -0.26841938], dtype=float32),\n",
       " &#39;breaks&#39;: array([ 0.0141001 , -0.54068106, -0.335291  , -0.20307264,  0.73930603,\n",
       "         0.18457457, -0.09594862, -0.2885252 ,  0.07380371, -0.11986803,\n",
       "         0.25545818,  0.0266863 ,  0.11947649, -0.25666252, -0.43933097,\n",
       "         0.40861952, -0.0498828 ,  0.14343171, -0.16855574, -0.31103784,\n",
       "        -0.5011075 , -0.35934347, -0.34182745,  0.09522498, -0.19958487,\n",
       "        -0.32317096, -0.14860801, -0.29531416, -0.18242185,  0.3460018 ,\n",
       "        -0.08551182, -0.04617084], dtype=float32),\n",
       " &#39;mesmo&#39;: array([ 0.5204392 ,  0.43625146,  0.394509  ,  0.604337  , -0.9496902 ,\n",
       "         1.9383398 ,  0.93978715, -0.10255443,  0.18933442, -0.30218795,\n",
       "         0.6031286 ,  0.94350207, -0.235772  , -0.47199628, -0.09954789,\n",
       "        -1.125567  ,  0.56354386,  0.53636587, -1.178841  ,  0.04840208,\n",
       "        -0.35925135,  0.16090737,  0.2578932 ,  0.56908774, -0.03717409,\n",
       "         0.3258608 , -1.0255305 , -1.3834275 , -0.12688379,  1.1546764 ,\n",
       "        -0.7332436 ,  0.37204176], dtype=float32),\n",
       " &#39;pitallon&#39;: array([ 0.18280593, -0.4146118 ,  0.5124775 , -0.07032706, -0.49517304,\n",
       "         0.7604703 , -0.0688675 , -0.2845717 , -0.50990105, -0.0962613 ,\n",
       "        -0.21520285,  0.3832879 , -0.31804094, -0.5983546 , -0.17500393,\n",
       "        -0.90114826, -0.17133453, -0.07676266, -0.01647423,  0.5786914 ,\n",
       "         0.38820264, -0.10861044, -0.21076503, -0.04307947,  0.38088724,\n",
       "         0.06190556,  0.14704518,  0.11471909,  0.36949834,  0.5150162 ,\n",
       "         0.35849962,  0.03156244], dtype=float32),\n",
       " &#39;mafioso&#39;: array([ 0.32918644, -0.11568047,  0.53660685,  0.00954297, -0.39110324,\n",
       "         0.14355507, -0.07729814, -0.41853347,  0.14231433, -0.09335334,\n",
       "        -0.3363587 ,  0.25525686,  0.14592962, -0.49883354, -0.19241442,\n",
       "        -0.76509887,  0.24968041, -0.20022845,  0.32423383,  0.07027353,\n",
       "         0.5592915 , -0.22883426, -0.07144948,  0.30729184,  0.2812664 ,\n",
       "        -0.20117584,  0.34471208,  0.3056767 ,  0.35748732,  0.00819167,\n",
       "         0.20457874,  0.35817823], dtype=float32),\n",
       " &#39;10304&#39;: array([ 0.24883556,  0.42628327,  0.49187988,  0.15670665,  0.12533224,\n",
       "         0.16352072,  0.04474738, -0.31533784, -0.07454532, -0.34831837,\n",
       "        -0.10901945, -0.08392151,  0.34535015,  0.3908019 , -0.37538376,\n",
       "        -0.1892487 , -0.38152444,  0.3355942 ,  0.5697047 , -0.24337907,\n",
       "         0.15188853, -0.43133488, -0.01881559,  0.0846958 , -0.30984622,\n",
       "        -0.00213694, -0.55537516,  0.31286216,  0.41268307,  0.1430408 ,\n",
       "         0.01539449,  0.427613  ], dtype=float32),\n",
       " &#39;bumdum&#39;: array([-0.17113417,  0.11182827,  0.08375455, -0.589983  ,  0.29745927,\n",
       "         0.8366332 , -0.0297457 , -0.2341662 , -0.10049175,  0.6960304 ,\n",
       "         0.76763   , -0.15995832,  0.8206168 , -0.27616158, -0.567752  ,\n",
       "        -0.21903007, -0.6082342 , -0.99378145,  0.09147087, -1.2211443 ,\n",
       "        -0.41791838, -0.8098754 , -0.30544814, -0.507568  , -0.4198234 ,\n",
       "         0.25924534,  0.20508055,  0.33796144,  0.11239431,  0.48584142,\n",
       "         0.48999643,  0.3561203 ], dtype=float32),\n",
       " &#39;cooome&#39;: array([-0.04195476, -0.07636774, -0.33129308, -0.27051103,  0.8570508 ,\n",
       "        -0.411554  ,  0.3693616 , -0.49585015,  0.28252867, -0.43137062,\n",
       "        -0.21626084,  0.6801107 , -0.59665596,  0.14233506, -0.48485497,\n",
       "         0.2182302 ,  0.20012999,  0.15097316, -0.15224381, -0.55057025,\n",
       "        -0.07033472, -0.4429314 ,  0.1323601 , -0.48718163, -0.9347426 ,\n",
       "         0.27650157, -0.00738543, -0.18756646, -0.69696903,  0.13776742,\n",
       "        -1.1938006 ,  0.1388686 ], dtype=float32),\n",
       " &#39;sneezed&#39;: array([ 0.04346411,  0.06188048,  0.28365007,  0.11970149,  0.00646283,\n",
       "        -0.11528736,  0.04313412, -0.57559514, -0.02478607,  0.17493449,\n",
       "         0.47209138,  0.29171348,  0.4372539 , -0.1991708 , -0.33036253,\n",
       "         0.4884579 , -0.01818154, -0.1291039 , -0.33087036,  0.21860646,\n",
       "         0.01094185, -0.46909922,  0.15728422, -0.14763905, -0.8570386 ,\n",
       "        -0.03456938, -0.03068441,  0.2462483 , -0.02695795,  0.05691154,\n",
       "         0.07194127,  0.4476308 ], dtype=float32),\n",
       " &#39;forgotten&#39;: array([ 0.1745642 ,  0.10786211, -0.0355546 , -0.2474274 , -0.11371051,\n",
       "        -0.329184  , -0.47433078,  0.3282037 ,  0.4438022 , -0.47651306,\n",
       "         0.2968476 ,  0.4845079 ,  0.23478359,  0.18556073, -0.46211877,\n",
       "         0.38973173, -0.29760063, -0.26378787, -0.10896426,  0.16632022,\n",
       "        -0.1323169 ,  0.01246565, -0.41785172,  0.06488531,  0.0357076 ,\n",
       "\n",
       "*** WARNING: skipped 457232 bytes of output ***\n",
       "\n",
       "        -0.06869521, -0.3758711 ,  0.38459975, -0.09652046, -0.13178359,\n",
       "         0.6507864 ,  0.18610422, -0.07927527, -0.37289447, -0.4905838 ,\n",
       "        -0.09764334, -0.36264136, -0.775653  ,  1.0127523 , -0.13382709,\n",
       "        -0.13007635,  0.04692055,  0.420384  ,  0.59866583, -0.1602673 ,\n",
       "         0.5394217 ,  0.10554533,  0.06979305,  0.46907508,  0.6633489 ,\n",
       "        -0.45688495, -0.04817239], dtype=float32),\n",
       " &#39;línea&#39;: array([ 0.09181243, -0.24636841,  0.42650005,  0.12772062, -0.55595434,\n",
       "         1.029756  , -0.24495037,  0.06989285,  0.11236323,  0.00745295,\n",
       "        -0.508593  ,  0.26554313, -0.58732325, -0.7925248 , -0.15973665,\n",
       "        -1.5086726 , -0.2194039 , -0.26427194,  0.39182064,  1.0167047 ,\n",
       "         0.48760483, -0.7254637 , -0.3529228 ,  0.4576629 ,  0.9658773 ,\n",
       "         0.19254369, -0.09973264,  0.21984525,  0.3574941 ,  0.10489392,\n",
       "         0.09979215,  0.64125776], dtype=float32),\n",
       " &#39;murmur&#39;: array([-0.27352688, -0.9135157 ,  0.13090746, -0.10827548,  0.09794687,\n",
       "        -0.46153387, -0.17844553, -0.35239404,  0.15932766, -0.35587928,\n",
       "         0.65495074,  0.64861375, -0.07102977, -0.43634284, -0.22363548,\n",
       "         0.0124231 , -0.39028034, -0.48132998,  0.36019468,  0.05862486,\n",
       "        -0.63693106,  0.46988106,  0.15556091, -0.2734565 , -0.05612943,\n",
       "         0.38610446,  0.1724172 ,  0.99872446, -0.30968547,  0.62051576,\n",
       "         0.29051518, -0.12823632], dtype=float32),\n",
       " &#39;shelves&#39;: array([-0.0923009 , -0.08469123,  0.14960404, -0.2809692 ,  0.27324864,\n",
       "         0.3675551 ,  0.1856549 ,  0.6505833 ,  0.6655568 , -0.26764145,\n",
       "         0.4039718 ,  0.19538146,  0.02800512, -0.15849493, -0.9247416 ,\n",
       "         0.51321626, -0.4651275 ,  0.18666092,  0.05899785,  0.27879992,\n",
       "         0.18550111,  0.2465477 ,  0.3580558 ,  0.2591241 ,  0.11594207,\n",
       "        -0.23894918, -0.56559134,  0.4587468 , -0.18303686,  0.36081958,\n",
       "         0.10765191, -0.06713475], dtype=float32),\n",
       " &#39;dente&#39;: array([ 0.90805733,  0.37018248,  0.5138638 ,  0.39019394, -0.755583  ,\n",
       "         1.2900978 ,  0.96881044,  0.12087744,  0.30112085, -0.13518368,\n",
       "         0.34389865,  0.5465844 ,  0.10691224, -0.56379265, -0.36656356,\n",
       "        -1.0746098 ,  0.07885373, -0.06408454, -0.66979456, -0.25563544,\n",
       "        -0.4633243 , -0.20266165,  0.35626146,  0.55797845,  0.00982391,\n",
       "         0.29901782, -0.10982848, -0.5875486 ,  0.02400436,  0.90467685,\n",
       "        -0.6048352 ,  0.01349952], dtype=float32),\n",
       " &#39;medias&#39;: array([-0.12007568, -0.4807513 ,  0.10606507, -0.2753926 , -0.36842683,\n",
       "         0.52912056,  0.2585998 , -0.24106942, -0.07028036, -0.14029796,\n",
       "        -0.06362113,  0.31013954,  0.11546481, -0.5194498 ,  0.1279269 ,\n",
       "        -0.8087731 , -0.06729528, -0.31380546,  0.2610557 ,  0.3730629 ,\n",
       "         0.40496045, -0.15470347,  0.18799347, -0.03896381,  0.44464365,\n",
       "        -0.3589489 ,  0.17914887,  0.18118553,  0.23598248,  0.3733296 ,\n",
       "         0.1568511 ,  0.3664396 ], dtype=float32),\n",
       " &#39;pídeme&#39;: array([ 0.703855  ,  0.7528481 ,  1.6559825 , -0.8865699 ,  0.31884792,\n",
       "         1.1909502 , -0.20985083, -0.61842805, -0.5580625 , -0.14392537,\n",
       "        -0.6591851 ,  0.24108861, -0.82791966, -1.142184  ,  0.15147905,\n",
       "        -1.4225682 ,  0.6415546 ,  0.67955506, -0.23539172,  0.2878423 ,\n",
       "        -0.27469707,  0.24139087, -0.7053727 ,  1.5974698 ,  0.92474926,\n",
       "        -0.01044459,  0.05527314, -0.51449186,  0.00444332, -0.07861767,\n",
       "         1.0354589 ,  0.8803389 ], dtype=float32),\n",
       " &#39;briga&#39;: array([ 0.81249243,  0.6777565 ,  0.8394485 ,  0.44426364, -0.63681716,\n",
       "         1.1190456 ,  1.0058877 ,  0.21293817,  0.22416708, -0.31751892,\n",
       "         0.80352455,  0.35497615, -0.07435305, -0.41913843, -0.4830451 ,\n",
       "        -1.7200776 ,  0.20297943,  0.30525997, -0.5446681 ,  0.03172068,\n",
       "        -0.24653241,  0.07144476,  0.34442976,  0.6059735 , -0.2844365 ,\n",
       "         0.5927583 , -0.33427614, -0.6273765 ,  0.05744486,  1.064191  ,\n",
       "        -0.500911  ,  0.29569554], dtype=float32),\n",
       " &#39;retarme&#39;: array([ 0.65140903,  0.20026577,  0.35453203, -0.33429325, -0.38093328,\n",
       "         0.6881157 , -0.09633172,  0.3351743 ,  0.05604514, -0.52124244,\n",
       "        -0.00387771,  0.19847964, -0.56602246, -0.7290213 ,  0.42494538,\n",
       "        -1.436342  ,  0.00592684,  0.01659426,  0.11685695, -0.00855841,\n",
       "         0.57636005, -0.22219639, -0.21074525,  0.5966393 ,  0.45555037,\n",
       "         0.3534143 ,  0.18429898,  0.04324408,  0.11723343,  0.03478285,\n",
       "         0.30379036,  0.02019396], dtype=float32),\n",
       " &#39;bitchy&#39;: array([ 0.18877278,  0.5080131 ,  0.47357708, -0.22090945, -0.03105143,\n",
       "         0.2677074 ,  0.20988166, -0.07490446, -0.06315314, -0.56718594,\n",
       "         0.05835982, -0.06503876,  0.4702388 ,  0.15559563, -0.2638049 ,\n",
       "         0.11198959, -0.3073135 , -0.25521585,  0.08542788, -0.3143161 ,\n",
       "         0.40760526, -0.29305202,  0.02102129,  0.23918092, -0.7939515 ,\n",
       "         0.00914807, -0.12252168,  0.58144784,  0.50355273,  0.03251087,\n",
       "         0.7431498 ,  0.32934898], dtype=float32),\n",
       " &#39;paralytic&#39;: array([-0.09121232, -0.1625323 ,  0.78582376, -0.25326523, -0.53824466,\n",
       "         0.05981819, -0.5264272 ,  0.2657011 ,  0.4700609 ,  0.03361367,\n",
       "         0.38459024,  0.0019294 ,  0.4117945 , -0.16403253, -0.43314525,\n",
       "         0.35195124, -0.08525722, -0.06250347, -0.38990235, -0.09359861,\n",
       "        -0.4317174 ,  0.14284857, -0.18464902, -0.16577455, -0.53914946,\n",
       "        -0.00139097, -0.2547151 ,  0.23729758,  0.04635292,  0.29617748,\n",
       "        -0.0731525 ,  0.38303497], dtype=float32),\n",
       " &#39;jae&#39;: array([ 0.21505688,  0.87265146,  1.1879843 ,  0.8793516 , -0.38203925,\n",
       "         0.16724361, -0.40854567, -0.18483622,  0.14088267,  0.24997206,\n",
       "        -0.18752958, -0.5739159 ,  0.23898587, -0.52582383, -0.74732065,\n",
       "         0.01288068,  0.15821074, -0.6482205 ,  0.33051878, -0.41956064,\n",
       "         0.20703626, -0.21247327,  0.41816106, -0.35329148, -0.7608838 ,\n",
       "        -0.03429971, -0.35111126, -0.11157438,  0.9124179 , -0.14675213,\n",
       "        -0.131084  ,  0.10188109], dtype=float32),\n",
       " &#39;forgetmenots&#39;: array([ 0.23731159, -0.513194  ,  0.05805535, -0.20085302,  0.05833726,\n",
       "        -0.3054782 , -0.3454716 , -0.2030321 ,  0.51113576,  0.4117951 ,\n",
       "         0.64546245,  0.10245232,  0.26635548,  0.13853796, -0.1280657 ,\n",
       "         0.01082712, -0.36919922, -0.1279877 ,  0.09297393, -0.0882386 ,\n",
       "        -0.5608402 ,  0.27126518, -0.25645974, -0.14537558,  0.29346058,\n",
       "        -0.25370336, -0.14749339,  0.36597365, -0.18376026,  0.31203973,\n",
       "         0.6911431 ,  0.61857855], dtype=float32),\n",
       " &#39;saludan&#39;: array([ 0.3266625 , -0.1484085 ,  0.46093884, -0.23348643, -0.6467375 ,\n",
       "         0.24854657, -0.19217265, -0.39568162, -0.10830405, -0.22815172,\n",
       "        -0.52176905,  0.79548717,  0.0305248 , -0.5293973 , -0.08504247,\n",
       "        -1.3123754 ,  0.05742928, -0.3245779 , -0.06825611,  0.3141582 ,\n",
       "         0.5669825 , -0.4595016 ,  0.09555893,  0.22152117,  0.572266  ,\n",
       "         0.01793147,  0.11963421,  0.3155958 ,  0.42801017, -0.36609748,\n",
       "         0.35028237,  0.6097885 ], dtype=float32),\n",
       " &#39;jrappe&#39;: array([-0.28097692,  0.14585139,  0.42696896, -0.96182084, -0.7407562 ,\n",
       "         0.7631782 , -0.5681822 , -0.2521441 , -0.26740932,  0.3486162 ,\n",
       "         0.33144465,  0.2516954 , -0.14874938,  0.08818061, -0.08074322,\n",
       "        -0.18844779, -0.43714148, -0.07069212,  0.8873603 ,  0.4557388 ,\n",
       "        -0.4168782 ,  0.24637619,  0.9597722 ,  0.9342231 , -0.45178297,\n",
       "         1.0540749 ,  0.07498237, -0.16567448,  1.5157734 ,  0.5276991 ,\n",
       "         0.01061176,  0.13728918], dtype=float32),\n",
       " &#39;figment&#39;: array([-0.71488136,  0.23113255, -0.09265167, -0.6860152 ,  0.45340875,\n",
       "        -0.13280077, -0.16616991,  0.62322634, -0.32738566, -0.43590495,\n",
       "         1.0965381 ,  0.42783737,  0.8513243 , -0.16651367,  0.03855793,\n",
       "        -0.5517331 , -0.53887695, -0.6098026 ,  0.23976564, -0.3046136 ,\n",
       "        -0.13980453,  0.28490174, -0.03277964,  0.1650235 , -0.5477258 ,\n",
       "        -0.3344931 , -0.30493337,  0.01032445, -0.33005646, -0.06568436,\n",
       "         0.11344106,  0.03414799], dtype=float32),\n",
       " &#39;togli&#39;: array([ 0.8660616 ,  0.33906433,  0.41752312,  0.45778885, -0.26048675,\n",
       "        -0.15933707,  0.49048564, -0.8142423 , -0.11889984, -1.2597363 ,\n",
       "         0.40106344, -0.29605097, -0.3434191 , -0.7172339 , -0.817178  ,\n",
       "        -1.123412  ,  0.00202765, -0.3212402 ,  0.7685407 ,  0.44788375,\n",
       "         0.02962297,  0.6627779 ,  1.1726127 ,  0.34817615,  0.44446206,\n",
       "         1.469376  ,  0.1753871 , -1.4003043 , -0.44842744, -0.10740656,\n",
       "        -0.00217701,  0.56562996], dtype=float32),\n",
       " &#39;mutter&#39;: array([-0.9042229 ,  0.04523276,  1.0428863 , -0.10778541,  0.23516442,\n",
       "         0.27293307,  0.35866296, -0.5504709 , -0.08518078, -0.7292575 ,\n",
       "         0.05732033, -0.2458567 , -0.8716398 ,  0.00147423, -0.4034311 ,\n",
       "        -0.0417602 , -0.6230421 , -0.8959    ,  0.20325786,  0.90686923,\n",
       "        -0.2539008 ,  0.21696946, -0.05190056, -0.17116518, -0.68941015,\n",
       "         0.48032916, -0.40521893, -0.01410672, -0.46789148,  0.8419442 ,\n",
       "         0.56423676, -0.9088275 ], dtype=float32),\n",
       " &#39;apareció&#39;: array([-0.05107928, -0.61577463, -0.16325833,  0.43701646, -0.40234807,\n",
       "         0.795193  ,  0.02260746, -0.2448846 , -0.03512764,  0.3459668 ,\n",
       "        -0.03406068,  0.80802387, -0.59398276, -0.7231013 , -0.01675215,\n",
       "        -1.1902629 , -0.07208086, -0.3748046 , -0.06596997,  0.61361384,\n",
       "         0.26376972, -0.41390097,  0.03606611, -0.11390631,  1.329614  ,\n",
       "         0.48081213, -0.28698057,  0.7143664 ,  0.4023285 ,  0.46419802,\n",
       "         0.03501307,  0.5597619 ], dtype=float32),\n",
       " &#39;bootay&#39;: array([-0.16350302,  0.24957287,  0.21434775,  0.32405442, -0.15857016,\n",
       "        -0.14911322, -0.01359125, -0.09813825, -0.04314356,  0.00204718,\n",
       "         0.00679093, -0.26910862, -0.03612107,  0.01040024, -0.20234023,\n",
       "        -0.07965702, -0.38151023, -0.38395348, -0.24095264, -0.0685583 ,\n",
       "         0.17806877, -0.09002531,  0.299822  , -0.112524  , -0.7470639 ,\n",
       "        -0.11012556, -0.02496533,  0.24483785, -0.03197652, -0.00952152,\n",
       "         0.19665934,  0.3634653 ], dtype=float32),\n",
       " &#39;piense&#39;: array([ 0.3281221 , -0.18840192,  0.57760817, -0.21883368, -0.5169172 ,\n",
       "         0.45397785, -0.6971343 , -0.5952705 , -0.11432233,  0.13687882,\n",
       "        -0.46884498,  0.40717468, -0.86124516, -0.6686775 ,  0.5797084 ,\n",
       "        -1.3502402 ,  0.78516376,  0.16897017,  0.11157053,  0.24528864,\n",
       "         0.35661477,  0.014364  , -0.47550312,  0.7791016 ,  0.5329154 ,\n",
       "        -0.33249044, -0.69100577, -0.1902947 ,  0.34682757,  0.02242077,\n",
       "         0.18671496,  0.80337095], dtype=float32),\n",
       " &#39;acabarme&#39;: array([ 0.51047075, -0.22177406,  0.10689116, -0.19395153, -0.30421236,\n",
       "         0.2947181 , -0.29762033, -0.27443954, -0.2666474 , -0.44075596,\n",
       "        -0.24792856,  0.36388117, -0.02554119, -0.8360373 ,  0.35004875,\n",
       "        -1.0745988 , -0.27792677, -0.20865603, -0.02600129,  0.35444626,\n",
       "         0.21055882, -0.04243204, -0.10438599,  0.65263885,  0.2558701 ,\n",
       "        -0.21189593,  0.33127677,  0.33182773,  0.130787  , -0.13240723,\n",
       "         0.47312656,  0.6114083 ], dtype=float32),\n",
       " &#39;eazys&#39;: array([-0.05355824,  0.65629977,  0.42707604,  0.12488975,  0.10154765,\n",
       "         0.07698645,  0.19839592,  0.04879676,  0.02645679, -0.42376554,\n",
       "         0.20055936,  0.25410455,  0.3733574 , -0.16366841,  0.19022708,\n",
       "         0.0032539 , -0.26647723, -0.04857424, -0.06309764, -0.5690407 ,\n",
       "         0.30968493, -0.19560707,  0.09139034, -0.10123276, -0.18463933,\n",
       "         0.04960011, -0.11687908, -0.05836644,  0.18949531,  0.28960326,\n",
       "         0.06241574,  0.43281135], dtype=float32),\n",
       " &#39;easin&#39;: array([ 0.46351787,  0.02543922, -0.284218  , -0.76125646,  1.3470638 ,\n",
       "         0.24376503, -0.5128989 , -0.2715378 , -0.9704747 ,  0.17004357,\n",
       "         0.3597368 , -0.15710625,  0.5230792 ,  0.55884   , -0.48393008,\n",
       "        -0.36007592,  0.6248438 , -0.67311746,  0.03415877,  0.15351841,\n",
       "        -0.21827674, -0.49357468, -0.6557307 ,  0.74282664, -1.7821352 ,\n",
       "         1.2028162 , -0.38242787,  1.7242272 , -0.4568848 ,  1.4266235 ,\n",
       "         1.0697225 , -0.10010829], dtype=float32),\n",
       " &#39;beautiful&#39;: array([-0.39835227,  0.18081614, -0.4367571 ,  0.10278798,  0.25226006,\n",
       "        -0.22415172, -0.62251186,  0.30016014, -0.2537549 , -0.4195883 ,\n",
       "         0.19566214,  0.37385088,  0.1640637 ,  0.32307094, -0.24718331,\n",
       "         0.0209075 , -0.24466553, -0.4678366 , -0.5225186 , -0.32960424,\n",
       "        -0.5706371 ,  0.3667088 , -0.11189247, -0.22264703,  0.26598617,\n",
       "        -0.31181562, -0.09034311,  0.05966274, -0.07643203,  0.23056847,\n",
       "         0.05226559,  0.20743741], dtype=float32),\n",
       " &#39;mojito&#39;: array([ 5.28267443e-01, -8.52665082e-02,  4.53425258e-01, -2.25770518e-01,\n",
       "        -3.15947056e-01,  5.79312503e-01, -7.29051530e-02,  1.60615018e-05,\n",
       "         3.85294370e-02, -1.07809706e-02, -3.91797036e-01,  9.16936435e-03,\n",
       "        -3.34348887e-01, -5.42446494e-01,  2.43105307e-01, -7.31815457e-01,\n",
       "        -2.09457561e-01, -5.45805812e-01,  2.53945798e-01, -2.29237944e-01,\n",
       "         4.50089395e-01, -1.15042172e-01,  5.33476651e-01,  7.05592513e-01,\n",
       "        -2.85338257e-02, -1.05777375e-01,  3.45793128e-01,  2.06702873e-01,\n",
       "         5.79080403e-01,  5.07475019e-01,  6.89801514e-01,  8.46642613e-01],\n",
       "       dtype=float32),\n",
       " &#39;thunderhearts&#39;: array([ 0.13425831, -0.2741501 ,  0.31775987,  1.1862673 ,  0.03458445,\n",
       "        -0.06519002,  0.06336389, -0.16973339,  0.7051382 , -0.615709  ,\n",
       "        -0.8031037 ,  0.20212966, -0.19790517, -0.1363595 , -0.2791633 ,\n",
       "         0.692249  ,  0.23064351, -0.36717436,  0.00424221, -0.1260803 ,\n",
       "        -0.11866653, -0.7800371 ,  0.17823063,  0.50259084,  0.9811002 ,\n",
       "        -0.64849746, -0.4554347 , -0.11777008, -0.9001586 , -1.3099066 ,\n",
       "        -0.32935694,  0.03699758], dtype=float32),\n",
       " &#39;sock&#39;: array([ 0.0657205 , -0.2286736 ,  0.13489419, -0.06396668,  0.6887208 ,\n",
       "         0.16870943,  0.3498658 , -0.25315776, -0.20252386,  0.28022966,\n",
       "         0.39113992, -0.01086645,  0.14631037, -0.42327163, -0.52932984,\n",
       "         0.18794571, -0.31947517,  0.14562471, -0.188412  , -0.44176415,\n",
       "         0.27079567, -0.7928059 ,  0.25013587,  0.41520742, -0.6465796 ,\n",
       "         0.18502906, -0.2256845 ,  0.294278  , -0.09744862,  0.20368443,\n",
       "         0.10468726,  0.20152907], dtype=float32),\n",
       " &#39;sequía&#39;: array([ 0.3751946 , -0.19406793,  0.11789321, -0.2869439 , -0.23907237,\n",
       "         0.4893695 , -0.35606408, -0.16384363, -0.41369644, -0.1070381 ,\n",
       "        -0.05914441,  0.47732106, -0.7013087 , -0.7554011 , -0.08077914,\n",
       "        -1.4273629 ,  0.05219002, -0.27826303,  0.1798346 ,  0.11914008,\n",
       "         0.57334846, -0.273761  , -0.3103488 ,  0.07068855,  0.6534152 ,\n",
       "        -0.01009445,  0.38265544, -0.08946609,  0.25114098,  0.19592106,\n",
       "         0.13690074,  0.2516112 ], dtype=float32),\n",
       " &#39;بس&#39;: array([ 0.81205463, -1.4215426 ,  0.30339512,  1.0541553 , -1.0673633 ,\n",
       "         0.22281209,  0.25914398, -1.2855997 , -2.274058  , -0.7455722 ,\n",
       "         0.37182057, -0.4933125 ,  0.24453714,  0.27468327, -0.5936147 ,\n",
       "        -0.98939204,  1.0864533 , -2.2045016 ,  1.3829365 , -0.02709868,\n",
       "        -0.50923616,  0.5166166 ,  2.56026   , -0.21085627,  0.80391276,\n",
       "         0.73959965, -1.1371403 ,  1.1494683 ,  0.40771967,  0.04337007,\n",
       "        -2.4442744 , -2.6698594 ], dtype=float32),\n",
       " &#39;awiting&#39;: array([ 0.77645534, -0.30963296,  1.3948201 ,  0.94061446, -1.339043  ,\n",
       "         0.03432105, -0.23435424, -1.2457047 , -0.934316  , -0.12752256,\n",
       "        -0.02972263, -0.4308902 ,  1.2937716 , -0.5845826 , -0.49125993,\n",
       "         0.07161228,  0.29869783, -1.4464592 ,  0.5315393 ,  0.3513044 ,\n",
       "         0.35693172, -0.48895934, -0.36198965,  1.0765752 ,  0.07046086,\n",
       "         0.9754033 , -0.33349067, -0.70484227,  0.5577173 , -0.37251592,\n",
       "        -0.8780748 , -0.48968554], dtype=float32),\n",
       " &#39;severs&#39;: array([-0.13782604, -0.22060718,  0.17438002,  0.04038271,  0.47182828,\n",
       "        -0.10623404, -0.17021552,  0.09716431, -0.31711087, -0.43790138,\n",
       "         0.1046965 ,  0.20315693,  0.15608236, -0.5342152 , -0.33073542,\n",
       "         0.18315174, -0.05866248, -0.10293078,  0.03385688, -0.46920708,\n",
       "        -0.22729273, -0.05409871, -0.12807119,  0.3498746 , -0.22408335,\n",
       "        -0.2020592 , -0.06890092, -0.23616672, -0.43203753,  0.44581702,\n",
       "         0.06401028,  0.09019306], dtype=float32),\n",
       " &#39;respiración&#39;: array([ 2.20792353e-01, -3.63042325e-01,  3.17623764e-01, -2.98566908e-01,\n",
       "        -1.46437719e-01,  1.00258684e+00, -5.74004114e-01, -3.92022938e-01,\n",
       "         6.90447851e-05, -4.67394246e-03, -2.49604300e-01,  6.45873010e-01,\n",
       "        -5.97394705e-01, -1.03714657e+00,  1.50497973e-01, -1.22184646e+00,\n",
       "        -1.88160628e-01,  8.69576260e-02, -2.67919064e-01,  6.48950756e-01,\n",
       "         5.29320419e-01, -4.24599707e-01, -1.51599392e-01,  3.52231920e-01,\n",
       "         1.21147871e+00,  2.88571686e-01, -3.04896504e-01,  1.07483685e-01,\n",
       "         1.61505805e-03,  3.65021988e-03,  5.83139598e-01,  5.90891004e-01],\n",
       "       dtype=float32),\n",
       " &#39;yokhae&#39;: array([-0.4406627 , -0.08915221,  1.5802478 , -0.2232285 , -1.0076932 ,\n",
       "         0.05242904, -0.7110598 ,  0.603365  , -0.31855834, -0.34203202,\n",
       "        -0.03742307, -0.62320477,  0.30422086,  0.04891517, -0.6413407 ,\n",
       "        -0.04386937,  0.936572  , -1.4371915 , -0.9170286 ,  0.19551767,\n",
       "        -0.09072366,  0.14845167,  1.57925   , -0.05375379,  0.05490159,\n",
       "         0.1919376 , -0.41529685,  0.05542208, -0.40261453, -0.34634104,\n",
       "         0.1062683 , -0.9480552 ], dtype=float32),\n",
       " &#39;beeem&#39;: array([ 1.3148139 ,  0.9258201 ,  0.5999118 ,  1.0082649 , -1.5571272 ,\n",
       "         2.2067463 ,  1.0476861 ,  0.6200123 ,  0.4035668 , -0.29302529,\n",
       "         0.394544  ,  0.33255535,  0.57174647, -0.17963257, -0.44982535,\n",
       "        -1.3221776 ,  0.51957935,  0.42924392, -0.6137422 , -0.5657314 ,\n",
       "        -0.28250453,  0.03837076,  0.1856453 ,  1.0075914 , -0.17520842,\n",
       "         0.14737009, -0.70911014, -1.0611964 ,  0.6735943 ,  1.3170029 ,\n",
       "        -0.38629425, -0.45189175], dtype=float32),\n",
       " &#39;poly&#39;: array([ 0.92006   , -0.27754438, -0.15871349,  0.80057174, -0.0741147 ,\n",
       "         0.6344462 , -0.73927885,  0.33598202, -0.226548  , -0.40341288,\n",
       "         0.23316334,  0.15840265, -0.9172485 ,  0.00981083, -0.71341944,\n",
       "        -0.03915131, -0.28705558, -0.21876134,  0.50029147, -0.35295567,\n",
       "         0.74095035, -0.8227102 ,  1.2134157 ,  0.03170668, -1.062993  ,\n",
       "         0.12372151, -0.4039201 ,  1.0385765 , -1.029437  ,  0.36034423,\n",
       "         0.11981267,  0.5120277 ], dtype=float32),\n",
       " &#39;resistirme&#39;: array([ 0.10789795, -0.02368139,  0.19553056, -0.71605855, -0.8634473 ,\n",
       "         0.46276248, -0.3587362 , -0.5509633 , -0.5011397 ,  0.14965373,\n",
       "         0.10257362,  0.41157445,  0.06564276, -0.6391372 ,  0.5925034 ,\n",
       "        -1.6747353 , -0.40939182,  0.15459806, -0.11932115,  0.5628915 ,\n",
       "         0.64728224, -0.16855247, -0.5668059 ,  0.5956163 ,  0.26299122,\n",
       "        -0.68438965, -0.39169517, -0.27034026, -0.07477152,  0.22155029,\n",
       "         0.3603361 ,  0.36198932], dtype=float32),\n",
       " &#39;primavera&#39;: array([ 0.00952553, -0.0279784 , -0.04569111,  0.36967558, -0.4497679 ,\n",
       "         1.0051174 , -0.1776427 , -0.05803727,  0.14791745, -0.17141649,\n",
       "        -0.010159  ,  0.3257681 , -0.6739958 , -0.7130043 , -0.22580163,\n",
       "        -1.3698205 , -0.1545376 ,  0.16477345,  0.04317126,  0.41736004,\n",
       "         0.17217572, -0.52248734,  0.05262166, -0.00611995,  1.0952593 ,\n",
       "         0.5465848 , -0.27754423, -0.45897895,  0.30468425, -0.03820523,\n",
       "         0.02157872,  0.7305916 ], dtype=float32),\n",
       " &#39;roo&#39;: array([ 0.62821233,  0.00261826, -0.24066213,  1.0523248 , -0.43518588,\n",
       "         0.35543716,  0.20884134, -0.7546993 ,  0.45747882, -0.02905587,\n",
       "        -0.520664  , -0.91491354,  0.8133896 , -0.7220815 , -0.714661  ,\n",
       "        -0.35405886,  0.73319316, -1.1261151 , -0.02236036, -0.6563032 ,\n",
       "        -0.07711928, -0.54037935, -0.4775764 ,  0.19392058, -0.88102967,\n",
       "         0.6576178 , -1.024158  ,  0.18992777,  1.0098445 ,  0.47635332,\n",
       "        -0.13112462, -0.0173697 ], dtype=float32),\n",
       " &#39;playin&#39;: array([ 0.26845956, -0.3127155 ,  0.27920213,  0.17394091, -0.0780504 ,\n",
       "         0.02270938, -0.01699299, -0.06613778, -0.06313828, -0.22031666,\n",
       "         0.22727607, -0.14153492,  0.6033082 ,  0.6127376 , -0.09349322,\n",
       "         0.11687502, -0.51130307, -0.12696484,  0.02954971, -0.14583921,\n",
       "         0.34170678, -0.1722558 ,  0.09727015, -0.2815831 , -0.51837873,\n",
       "        -0.03455667, -0.57679284,  0.19138853,  0.06451017,  0.12680557,\n",
       "         0.47937384,  0.6093872 ], dtype=float32),\n",
       " &#39;apunto&#39;: array([ 0.35249564,  0.00880358,  0.305023  , -0.48100814, -0.70820177,\n",
       "         0.6863594 , -0.29417098, -0.40709233,  0.14367293, -0.3081309 ,\n",
       "        -0.0081097 ,  0.5816909 , -0.07488687, -0.6014193 ,  0.375079  ,\n",
       "        -1.4905971 , -0.17878409, -0.27987155, -0.13918848,  0.6146743 ,\n",
       "         0.5514156 , -0.28974584, -0.2741599 ,  0.23106636,  1.0345877 ,\n",
       "         0.22111045, -0.29808074, -0.17118621,  0.04692026, -0.02689076,\n",
       "         0.19086538,  0.5660925 ], dtype=float32),\n",
       " &#39;mattie&#39;: array([ 5.28370887e-02,  7.96783417e-02,  4.21897709e-01,  3.03658396e-01,\n",
       "         1.32165223e-01,  4.95438278e-01,  1.81360304e-01, -1.13309622e-01,\n",
       "         2.72697896e-01, -3.83235812e-01, -1.27705574e-01,  2.73547083e-01,\n",
       "         1.62838340e-01,  4.27614941e-06, -1.07065570e-02, -5.68470836e-01,\n",
       "        -3.17853183e-01, -7.96663344e-01,  1.49746597e-01, -3.01377714e-01,\n",
       "         3.99794206e-02, -1.06808044e-01,  5.25546186e-02, -4.68121260e-01,\n",
       "        -8.41965675e-01,  2.20651522e-01,  3.77586111e-02,  9.46602702e-01,\n",
       "         5.53411663e-01,  1.31171644e-01,  1.38972411e-02,  4.42605376e-01],\n",
       "       dtype=float32),\n",
       " &#39;demolish&#39;: array([ 0.3872163 ,  0.06293084,  0.32540965,  0.0980714 ,  0.2562831 ,\n",
       "        -0.00332627,  0.05233086, -0.06037045,  0.03540437, -0.28971905,\n",
       "         0.2440801 ,  0.3158872 ,  0.38575333, -0.4017315 , -0.25931317,\n",
       "         0.24845739, -0.3045131 , -0.10308076,  0.5217518 , -0.44275308,\n",
       "         0.16219889, -0.58144015, -0.08524529,  0.04422542, -0.07316135,\n",
       "        -0.04629113, -0.23609316,  0.33127618,  0.39514077,  0.0672204 ,\n",
       "         0.10644045, -0.13106516], dtype=float32),\n",
       " &#39;34&#39;: array([ 7.5954748e-03, -2.8071586e-02,  3.6997277e-01,  5.1328458e-02,\n",
       "        -1.6145568e-01,  4.3961707e-01, -3.4906232e-04,  4.8328891e-02,\n",
       "         1.0801053e-02,  1.7740069e-01,  2.2201049e-01,  4.4405040e-01,\n",
       "         1.8134056e-01, -1.1258708e-01, -3.4237874e-01,  1.7148562e-02,\n",
       "        -3.6006337e-01,  9.2080250e-02,  8.9123286e-02,  2.5434958e-02,\n",
       "         1.9219711e-01,  5.9762645e-01,  9.3985461e-02, -3.8532186e-01,\n",
       "        -5.2442563e-01,  4.7249463e-01,  1.1949735e-01,  7.7734299e-02,\n",
       "         5.0025117e-01, -1.2120309e-01,  2.8386882e-01,  1.8572018e-02],\n",
       "       dtype=float32),\n",
       " &#39;nta&#39;: array([ 0.88501245,  0.8429509 ,  1.1485186 ,  0.08345868, -0.89136785,\n",
       "         0.533851  ,  0.6088239 , -0.5352426 ,  0.21776868, -0.66771704,\n",
       "        -0.05243304,  0.5174236 , -0.39857462, -0.6177379 , -0.31956142,\n",
       "        -0.8072618 ,  0.21649778, -2.2648032 , -0.682449  ,  0.1952497 ,\n",
       "        -0.2828623 ,  0.6424449 ,  0.49944827,  0.6364544 , -0.37244558,\n",
       "         0.79800195, -0.35827753, -0.16247702,  1.1696146 ,  0.6879187 ,\n",
       "        -1.8450615 ,  0.28182113], dtype=float32),\n",
       " &#39;mennä&#39;: array([ 0.9626138 ,  0.9410269 ,  0.67784494,  0.1953804 , -1.7015532 ,\n",
       "         1.4945112 , -0.36279172, -0.48987383, -0.4575008 , -1.0385692 ,\n",
       "        -0.06315042,  0.07632889,  0.53507274, -0.31315273, -1.1805698 ,\n",
       "         0.7695438 ,  0.08783385, -2.0133448 ,  0.08260453,  0.79053026,\n",
       "         0.21334915, -0.56854594, -0.3215527 ,  0.500945  , -1.1717539 ,\n",
       "         0.5237229 , -0.5950432 , -1.2322845 ,  0.6973856 , -0.06787121,\n",
       "         0.44327927, -1.5106323 ], dtype=float32),\n",
       " &#39;humped&#39;: array([ 0.108289  ,  0.24389872,  0.37861717,  0.02406802,  0.04271619,\n",
       "        -0.21229513, -0.4867374 ,  0.00351438,  0.06886113, -0.31922817,\n",
       "         0.08214244,  0.41215125,  0.15537022,  0.06128541, -0.24792093,\n",
       "         0.3702415 , -0.00651841, -0.06732386, -0.31669912,  0.04125221,\n",
       "         0.44262898, -0.25561938,  0.32566807, -0.12988313, -0.54615766,\n",
       "         0.26666984,  0.19892798,  0.11925762, -0.07675356,  0.23583397,\n",
       "         0.6278301 ,  0.2720646 ], dtype=float32),\n",
       " &#39;venn&#39;: array([ 0.10744093,  0.7951004 ,  0.7901656 ,  0.3108835 ,  0.0137313 ,\n",
       "         0.24561873, -0.2867893 , -0.63720405,  0.24114345, -0.30066538,\n",
       "         0.04835834, -0.23367478,  0.03643123, -0.41759542, -0.2574208 ,\n",
       "        -0.05244077,  0.5371287 , -0.54776764,  0.18634012, -0.1550582 ,\n",
       "         0.0819212 , -0.21338773,  0.23396245,  0.80698305, -0.5271901 ,\n",
       "        -0.16394372,  0.02712127, -0.34888777,  0.01873464, -0.1251776 ,\n",
       "         0.22701634, -0.320121  ], dtype=float32),\n",
       " &#39;2way&#39;: array([-0.2969126 ,  0.0581115 ,  0.1498707 , -0.0454212 ,  0.48385474,\n",
       "         0.14840975,  0.32553703, -0.54697585, -0.21350776,  0.22031894,\n",
       "         0.03015613,  0.01475494,  0.17579184,  0.04332489, -0.30105203,\n",
       "         0.02918972, -0.36188635,  0.24064562, -0.19758692, -0.33129424,\n",
       "         0.7390371 ,  0.07039803,  0.0637326 ,  0.25479755, -0.790696  ,\n",
       "        -0.34893245, -0.55261815,  0.4641332 ,  0.28050876,  0.16391829,\n",
       "         0.35350874,  0.521223  ], dtype=float32),\n",
       " ...}</div>"
      ]
     },
     "metadata": {
      "application/vnd.databricks.v1+output": {
       "addedWidgets": {},
       "arguments": {},
       "data": "<div class=\"ansiout\">Out[27]: {&#39;ohohoho&#39;: array([-0.07925073,  0.31392673, -0.23940067,  0.09624004,  0.10937865,\n        -0.03422616, -1.1821041 , -0.50068593,  0.28972298,  0.06530909,\n        -1.23165   ,  0.04650208, -0.9326481 ,  0.64062274, -1.14963   ,\n        -0.36210456,  0.16882792, -0.422122  , -0.329844  , -0.05391987,\n         0.02306327,  0.27957904,  0.7619971 ,  0.5245532 , -0.28863308,\n         0.1532805 ,  0.10613267, -0.17104477, -0.5588746 , -0.3626776 ,\n        -0.31239626, -0.34137258], dtype=float32),\n &#39;professed&#39;: array([-0.26329944,  0.14257132,  0.01223039, -0.25976172,  0.34392947,\n         0.08153762, -0.3767318 , -0.05467109,  0.22877507, -0.06349373,\n         0.3972084 ,  0.35623866, -0.07845655,  0.22269817, -0.38570687,\n        -0.25012845, -0.26922402, -0.33298013,  0.1100001 , -0.17502022,\n        -0.54777193, -0.18024419, -0.22611459, -0.14369097, -0.4080993 ,\n         0.06734408,  0.12605414, -0.06174215, -0.17894982, -0.4430647 ,\n        -0.27485955,  0.17589772], dtype=float32),\n &#39;stegen&#39;: array([ 0.5628137 ,  1.0322635 ,  0.82646424,  1.4237982 , -0.10312799,\n         1.752393  , -1.1530322 , -1.1665572 , -0.6774264 ,  0.16445562,\n        -0.27869236, -0.28455666, -0.23084715, -0.4388019 , -1.0828527 ,\n         0.17807034,  0.28453764, -1.0028799 ,  0.42642018, -0.42699164,\n         0.6356657 , -0.35567403,  0.5775872 ,  0.43228108, -0.23928046,\n         0.42356327,  0.3333311 , -0.59891206,  0.11412388,  0.14864314,\n         0.6790861 , -0.8523481 ], dtype=float32),\n &#39;acéptalo&#39;: array([ 0.7390083 ,  0.2149252 ,  0.98295504, -0.55815846, -0.27640525,\n         0.3235611 , -1.1656953 , -0.95920527,  0.24490897, -0.14984235,\n        -0.56612056,  0.2153208 , -0.67097735, -0.77171826,  0.25893044,\n        -1.063229  ,  0.13935147, -0.13208862,  0.10008043,  0.10712686,\n         1.042984  ,  0.08250144, -0.2776759 ,  0.08776684,  0.57545274,\n        -0.04026667, -0.21765359, -0.24504882, -0.10052905, -0.0739845 ,\n         0.26224092,  0.29016572], dtype=float32),\n &#39;jaleo&#39;: array([ 0.42074952, -0.1761267 ,  0.6410343 , -0.09129529, -0.36618516,\n         0.6331861 , -0.33989832, -0.34172627, -0.05461185, -0.18391614,\n         0.11863644,  0.40089455, -0.5235228 , -0.53738797, -0.03182067,\n        -1.6687939 , -0.07918644, -0.07320985,  0.13400044,  0.597256  ,\n         0.84270275,  0.02402407, -0.22340074,  0.2525892 ,  0.75876826,\n         0.24889816,  0.18219714,  0.1889677 ,  0.15539242,  0.26814985,\n         0.15813926,  0.42751363], dtype=float32),\n &#39;admito&#39;: array([ 0.59465104, -0.03291072,  0.8942622 , -0.07866066, -0.48475948,\n         1.1740804 , -0.10754308, -0.912207  , -0.13435338, -0.3679157 ,\n        -0.01501329,  0.35489586, -0.09476306, -0.74322563,  0.51321924,\n        -1.0066966 ,  0.44180095,  0.3592743 , -0.29224554,  0.3905961 ,\n         0.06380587, -0.10512977,  0.2179836 ,  0.29496008,  0.77602106,\n        -0.51328236, -0.3167829 , -0.362109  ,  0.22239216,  0.20878783,\n        -0.02232932,  0.41146603], dtype=float32),\n &#39;dredd&#39;: array([ 0.02094032, -0.14081368,  0.4646859 , -0.1802023 , -0.09167867,\n        -0.0127033 , -0.07945038, -0.37925902, -0.11891985,  0.1520347 ,\n         0.39303723,  0.17207187,  0.32025346,  0.18145931, -0.35374242,\n        -0.19798227,  0.21809755, -0.2292551 ,  0.3739225 , -0.03289745,\n         0.03386633, -0.8707283 , -0.0642144 , -0.5261853 , -0.5366441 ,\n        -0.32214195, -0.27079347,  0.36429778, -0.04926702, -0.06325061,\n        -0.4224059 , -0.04141013], dtype=float32),\n &#39;gaiden&#39;: array([ 0.03694442, -0.00840622,  0.40425175,  0.1387582 , -0.23771454,\n         0.16233376,  0.03707598, -0.5078011 ,  0.23291597,  0.04278218,\n         0.22757229, -0.04662805,  0.73560065,  0.0654904 , -0.3404447 ,\n        -0.27189517, -0.02874799, -0.04407474, -0.13808799, -0.07573457,\n         0.3978408 , -0.64466333, -0.06974618, -0.27431408, -0.08188342,\n         0.07534437, -0.2436077 ,  0.21145846,  0.125808  ,  0.25228682,\n         0.38125023,  0.43964297], dtype=float32),\n &#39;protegido&#39;: array([ 0.56665003,  0.02630041,  0.79432154, -0.1659684 , -0.2770339 ,\n         0.5420451 , -0.13389336, -0.5671256 , -0.03399916, -0.3362539 ,\n        -0.20322956,  0.5491727 , -0.07410609, -0.6306755 ,  0.2925735 ,\n        -1.422273  , -0.14492823, -0.31507894, -0.26647982,  0.50701994,\n         0.6172955 , -0.341631  , -0.11572693,  0.22890377,  0.55911905,\n        -0.02285498, -0.24403843, -0.04549028,  0.20241591,  0.25729093,\n         0.06621232,  0.2978325 ], dtype=float32),\n &#39;advertencia&#39;: array([ 0.22903864, -0.10286298,  0.36647257, -0.42746562, -0.5004472 ,\n         0.4813821 , -0.27248183, -0.19555992,  0.06095922, -0.28576916,\n        -0.26651558, -0.18045288, -0.03228021, -0.5757862 , -0.00162749,\n        -1.391564  ,  0.42750973, -0.08460873,  0.10499005,  0.37458405,\n         0.32699898, -0.25865102, -0.4884895 ,  0.4342301 ,  0.29701972,\n         0.2073424 ,  0.12314548, -0.15736713,  0.2866581 ,  0.02789808,\n         0.24418694,  0.293001  ], dtype=float32),\n &#39;purifies&#39;: array([-0.19744995, -0.34670833,  0.47378397, -0.4092854 ,  0.6008879 ,\n         0.02833594, -0.48462334, -0.16798788,  0.00795847, -0.15170193,\n         0.01384594,  0.3983349 ,  0.34547406, -0.823914  , -0.41199824,\n         0.21863003, -0.15758756, -0.18665834,  0.26248646, -0.56080157,\n        -0.588502  , -0.08492289, -0.24588197, -0.1324408 , -0.21177024,\n        -0.5032964 , -0.29728037, -0.19047287, -0.1749495 ,  0.0068795 ,\n        -0.2811542 ,  0.01940604], dtype=float32),\n &#39;correcto&#39;: array([ 0.1520991 , -0.2940166 ,  0.80910146, -0.3626329 , -0.5188386 ,\n         0.6955956 , -0.6589804 , -0.42860213, -0.25626603, -0.10874581,\n        -0.69150245,  0.19885555, -0.65696514, -0.32077104, -0.01835296,\n        -1.8934368 ,  0.24635682,  0.09031341, -0.0893142 ,  0.24442124,\n         0.6805612 , -0.2708238 , -0.30486548,  0.2931525 ,  0.5817994 ,\n        -0.5963214 , -0.24385592, -0.29321313,  0.32223728,  0.22172044,\n         0.3994593 ,  0.26758453], dtype=float32),\n &#39;comprende&#39;: array([-0.22040437, -0.03409846,  0.2924138 , -0.49646908, -0.19408655,\n         0.4453457 , -0.37274784, -0.706174  , -0.23360634, -0.1713811 ,\n        -0.52173024,  0.0677961 ,  0.12417637, -0.37477157,  0.13271648,\n        -1.1020263 ,  0.3260889 ,  0.284254  , -0.27964586,  0.10407702,\n         0.6813761 , -0.08166324,  0.13007604,  0.19278817,  0.24468766,\n        -0.23683575, -0.372971  , -0.02728421,  0.38159844, -0.10034643,\n         0.21076007,  0.27715847], dtype=float32),\n &#39;clarissa&#39;: array([ 0.28763342, -0.6805243 ,  0.85471183,  0.35458067,  0.7599553 ,\n        -0.00496088,  0.5332272 , -0.77883136,  0.19968656,  0.9838014 ,\n         0.3300486 ,  0.90151423,  1.0475678 , -0.6248761 , -0.48738492,\n        -0.27324516,  0.13079561, -1.1016142 ,  0.03045796, -0.9300133 ,\n         0.6566226 , -0.00839299, -0.27294922, -0.9673553 , -0.49323887,\n         0.84817713, -1.4735054 , -0.8440494 ,  0.6425784 ,  0.7578025 ,\n        -0.8025728 , -0.09418297], dtype=float32),\n &#39;incident&#39;: array([-0.52322847,  0.16953586, -0.02779412, -0.3771621 , -0.3257716 ,\n        -0.45809343, -0.2946773 , -0.2714639 , -0.11451703, -0.10013334,\n         0.4590017 ,  0.304651  ,  0.04889724, -0.14365266, -0.5475477 ,\n        -0.04604163, -0.06809798, -0.13143879,  0.39553145, -0.521889  ,\n         0.6982951 , -0.1529826 , -0.08462641,  0.1659082 , -0.29027477,\n         0.10161298, -0.04419068, -0.15069777,  0.291279  , -0.0354418 ,\n        -0.18386067, -0.38158607], dtype=float32),\n &#39;hessss&#39;: array([-0.00713535,  0.4395342 ,  2.4707189 , -0.31839305, -0.67581356,\n        -0.3457171 ,  0.44887957, -1.0883484 ,  0.12805939, -0.75837374,\n         0.34120658,  0.2544952 ,  1.3437166 , -1.1174766 ,  0.6533645 ,\n         0.7363424 ,  0.5452282 , -0.49802032,  0.14723985,  0.33128554,\n         0.00906598, -1.6367248 ,  0.2735104 , -0.4905771 , -1.4135027 ,\n         0.8985041 , -0.4420497 ,  0.09701719, -0.99460006,  0.12467605,\n        -0.6396179 , -0.16732237], dtype=float32),\n &#39;synchronicity&#39;: array([-0.44686338, -0.01249925,  0.04514273, -0.5888804 ,  0.13480425,\n         0.08654054, -0.33740178,  0.07254235, -0.034825  ,  0.08575027,\n         0.5734158 ,  0.18247859,  0.66790813, -0.01684923, -0.36526138,\n        -0.08852749, -0.0760419 , -0.3302147 , -0.30140465, -0.2913449 ,\n        -0.1717617 ,  0.09113415, -0.17454973,  0.20560272, -0.2534703 ,\n        -0.08147274, -0.43899205, -0.19766922, -0.05179507,  0.2599602 ,\n        -0.29000646, -0.12637098], dtype=float32),\n &#39;misfire&#39;: array([-0.21382903, -0.00665012,  0.2511361 , -0.20091756,  0.45058578,\n        -0.02772809, -0.1476784 , -0.16806804,  0.39173818,  0.09178191,\n         0.27937803,  0.43547747, -0.11890177, -0.21739995, -0.15299362,\n         0.3115852 ,  0.02263931, -0.3437354 ,  0.09650855, -0.14493586,\n        -0.5538381 , -0.4672052 ,  0.08560257,  0.39185917,  0.33955786,\n        -0.35194033, -0.00119713, -0.25653034, -0.31117454,  0.00086239,\n        -0.2952412 , -0.00735295], dtype=float32),\n &#39;buns&#39;: array([ 0.18517645, -0.02028609,  0.42080274,  0.14063582,  0.26870745,\n         0.09287692, -0.23661157,  0.23480172,  0.19511063, -0.19398521,\n         0.18806176, -0.33593243, -0.02989689, -0.09174059, -0.53710705,\n         0.40600726, -0.05558669, -0.27686173, -0.19282736, -0.06573504,\n         0.39037248, -0.0883242 ,  0.3189621 ,  0.14941707, -0.7547396 ,\n        -0.24306694, -0.41263002,  0.14964953, -0.34629118,  0.25013706,\n         0.41765004,  0.6882441 ], dtype=float32),\n &#39;zauber&#39;: array([-0.7458275 ,  0.3350038 ,  1.2222093 ,  0.04252322, -0.19328439,\n         0.82124656,  0.46414807, -0.67013896, -0.11579737, -0.28274664,\n         0.17789832, -0.38518032, -0.67462337,  0.12399035, -0.3895774 ,\n        -0.4229516 , -0.19661605, -0.63150716,  0.10572336,  0.94288015,\n         0.06318007, -0.22449696, -0.37304094, -0.20987234, -0.6504422 ,\n         0.6464069 , -0.31048802, -0.23471928, -0.24917033,  1.0718815 ,\n         0.5904733 , -1.0627676 ], dtype=float32),\n &#39;vierzon&#39;: array([ 0.20408392,  0.01426582,  0.08500366, -1.1894536 , -0.88215595,\n         1.0136626 , -0.6822279 ,  0.16921264, -0.15377152,  0.23195668,\n         1.2905105 ,  0.06186616, -0.09852411, -0.46437258, -0.40288737,\n         0.24566759, -0.3253423 , -0.20030718,  1.0657216 ,  0.23163651,\n         0.2212264 ,  0.233177  ,  0.8108818 ,  1.317192  , -0.5211025 ,\n         1.0069363 ,  0.14779085, -0.39560863,  1.403277  ,  0.51285535,\n         0.00678812,  0.6239442 ], dtype=float32),\n &#39;serious&#39;: array([-0.24491337,  0.10885978,  0.11886609,  0.05561974,  0.06285609,\n        -0.15835382, -0.1895274 ,  0.27604353,  0.4273615 , -0.2543397 ,\n         0.00140397,  0.24044463,  0.64695996,  0.36578092,  0.26606625,\n         0.07336507, -0.30210194, -0.39848793,  0.00673192, -0.3529177 ,\n         0.3003764 , -0.33029673, -0.12306961, -0.25529426, -0.3782604 ,\n        -0.20190474, -0.17449878, -0.23843859,  0.3415088 ,  0.25830638,\n         0.17652917,  0.46376148], dtype=float32),\n &#39;sevenday&#39;: array([ 0.10809214, -0.4928026 , -0.40368518, -0.01758993, -0.96003664,\n        -0.751595  , -0.09137211,  0.44697723,  0.14463188,  0.05443535,\n         0.2753076 ,  0.6116841 , -0.05674503, -0.93395805, -0.833064  ,\n        -0.3897819 , -0.6708318 , -0.08646612,  0.83373195, -0.5112743 ,\n         0.16435172, -0.70801145, -0.12107201,  0.16388978, -0.11766373,\n        -0.11612366,  0.07720003,  0.6546401 , -0.07174291, -0.2196379 ,\n        -0.00294621,  0.26521376], dtype=float32),\n &#39;bay3ani&#39;: array([ 0.16290818, -0.05040097,  1.3094193 , -0.92360026, -2.2004898 ,\n        -0.55200607,  0.54374546,  0.8494163 ,  0.61761636, -0.5916646 ,\n        -1.2597497 , -0.18078814,  0.94337213,  0.02416922, -1.6696072 ,\n        -1.6922815 ,  0.85550743, -2.334924  ,  1.2421284 ,  0.3282846 ,\n        -0.18210824, -0.93670785,  2.8506682 ,  0.72778374,  0.817268  ,\n         0.13699223, -0.20035577, -0.8997807 ,  0.942776  ,  0.08757615,\n         0.23212336,  0.05666212], dtype=float32),\n &#39;brink&#39;: array([-0.03643   , -0.2298035 ,  0.16001672, -0.34407994,  0.3383607 ,\n         0.04029651,  0.01445442, -0.16998227,  0.08401135, -0.10420538,\n         0.37693813,  0.5426221 ,  0.91082704,  0.25065807, -0.6898958 ,\n         0.12442905, -0.4158694 ,  0.02313945,  0.6169849 , -0.18493545,\n         0.08749368,  0.139551  ,  0.17298178, -0.02070906,  0.24980946,\n        -0.1037905 , -0.73474246,  0.10596195, -0.2148762 ,  0.08009984,\n        -0.4028833 , -0.19739662], dtype=float32),\n &#39;ontake&#39;: array([ 0.2295322 , -0.16801524, -0.23596244, -0.06386682, -0.11222906,\n         0.4005441 , -0.08082504, -0.44282293,  1.2140286 , -0.6050204 ,\n        -1.049148  ,  0.45858833,  0.43222404, -0.33076853, -0.4458907 ,\n         0.73123044, -0.69182694, -0.35450867, -0.20892532,  0.10951269,\n        -0.04227198, -0.5002207 ,  0.09369916, -0.7153648 ,  0.44018117,\n        -0.24908337, -0.8169541 , -0.5906078 , -0.37622496, -0.9982262 ,\n        -0.32657042,  0.42524332], dtype=float32),\n &#39;turnstile&#39;: array([-2.78341770e-02,  1.85541004e-01, -1.29464418e-01, -2.48813838e-01,\n         5.77841438e-02,  4.54511270e-02, -1.03423141e-01, -5.03256440e-01,\n         2.94258267e-01, -1.41451374e-01,  3.71790200e-01,  2.54999369e-01,\n         3.59419972e-01,  1.51212335e-01, -8.64474833e-01,  1.97439626e-01,\n        -5.48613630e-02,  1.76756397e-01, -1.31109904e-04,  1.48883626e-01,\n         6.45393208e-02,  1.68590307e-01,  6.84063360e-02,  8.62389281e-02,\n        -2.45674953e-01, -3.18472177e-01, -2.54350871e-01,  5.59330523e-01,\n         2.29332358e-01, -2.68923007e-02,  2.75519252e-01,  1.03605606e-01],\n       dtype=float32),\n &#39;buvons&#39;: array([ 0.1794224 , -0.79017794,  0.232921  , -1.1848987 , -1.2841702 ,\n         1.6372782 , -0.30107236, -0.3145054 ,  0.05399393,  0.07887777,\n         0.4423767 ,  0.5854305 , -0.31443375, -0.21201357, -0.3200204 ,\n         0.32152113, -0.8398532 , -0.093084  ,  1.3727217 ,  0.6411818 ,\n        -0.6368057 , -0.44808468,  1.6547651 ,  0.75845355, -0.24108852,\n         0.71688956,  0.06766489, -0.51324254,  1.5343401 ,  0.61695963,\n        -0.15149413,  0.30551922], dtype=float32),\n &#39;passare&#39;: array([ 0.77354646,  0.67311984,  0.3437945 ,  0.49732912, -0.19435617,\n        -0.7931743 ,  0.11145849, -0.08317016,  0.19500153, -1.2467109 ,\n         0.4851046 , -0.05529743, -1.1409317 , -1.2187308 , -0.5802829 ,\n        -1.2684121 , -0.2694115 , -0.30943668,  0.8192774 , -0.08534147,\n        -0.10792002,  0.07996734,  1.2045864 , -0.23568238,  0.30766067,\n         1.4620435 , -0.1413982 , -1.2311895 , -0.33478478, -0.34436214,\n         0.25464958,  0.9778967 ], dtype=float32),\n &#39;ohhs&#39;: array([ 0.15042423, -0.17516848,  1.1813034 ,  0.08116017, -0.05772417,\n         0.11936583, -0.04238445, -0.5643566 ,  0.20519166, -0.07950439,\n        -0.45437995,  0.3293563 , -0.1275264 , -0.04537418, -0.0425705 ,\n         0.9307181 , -0.35302943, -0.11301021, -0.4316916 , -0.2487516 ,\n         0.05552268, -0.6215873 ,  0.370211  , -0.0895316 ,  0.04033079,\n        -0.31372967, -0.11102558,  0.20540583, -0.38147596, -0.2997898 ,\n        -0.17024824,  0.46837756], dtype=float32),\n &#39;boji&#39;: array([-0.15919831,  0.19836013,  1.1504134 ,  0.09105482, -0.8830578 ,\n         0.24890065, -0.6946562 ,  0.58453465, -0.25119293, -0.28515145,\n         0.00629427, -0.39624742,  0.49089327, -0.7150963 , -0.5317497 ,\n         0.17768887,  0.7851996 , -0.9897135 , -0.2118408 , -0.40240002,\n        -0.03322491,  0.05533963,  1.1073511 , -0.21227784,  0.11157459,\n         0.47288108, -0.13904333, -0.0699634 , -0.0815319 , -0.6498594 ,\n         0.7417155 , -0.6391268 ], dtype=float32),\n &#39;ferociously&#39;: array([-0.27904558, -0.36154994, -0.18091287, -0.12245227,  0.29387787,\n        -0.5030746 , -0.3310287 , -0.04494695,  0.20014766, -0.16283315,\n         0.3462025 ,  0.29771224,  0.0333282 , -0.4692678 , -0.535587  ,\n         0.31012383,  0.14867237, -0.28386712,  0.13156615,  0.00990989,\n        -0.45410267,  0.13149014, -0.3495005 , -0.08632485, -0.05643212,\n        -0.1823019 , -0.06417308, -0.25276408, -0.27774376,  0.14394122,\n         0.08705873,  0.25201538], dtype=float32),\n &#39;acronym&#39;: array([-0.1140045 ,  0.02009822,  0.31848454,  0.2073464 ,  0.30112937,\n        -0.03182152,  0.12942179, -0.33384666,  0.03430433,  0.22288595,\n         0.06281365,  0.4511275 ,  0.5536648 ,  0.05243498, -0.03070048,\n        -0.20563348, -0.22642232, -0.331992  ,  0.52823794, -0.02034442,\n         0.10267737, -0.6173153 ,  0.15538661,  0.02215047, -0.43993512,\n        -0.06118355,  0.02772158,  0.52853656,  0.5119356 ,  0.2322211 ,\n        -0.01015088,  0.13727644], dtype=float32),\n &#39;boutiques&#39;: array([ 0.325779  , -0.15143034,  0.51258814, -0.09631988, -0.45662865,\n         0.33334327, -0.09483923, -0.21587186, -0.07095072, -0.14137778,\n         0.2218664 , -0.1214084 , -0.1413816 , -0.21901847, -0.23945297,\n        -0.11789271, -0.15324542,  0.01963486,  0.34104842,  0.20677347,\n        -0.20824751,  0.03996664,  0.4387171 ,  0.32987309, -0.31467384,\n         0.01990562, -0.06115663,  0.05601234,  0.46664536,  0.6308646 ,\n         0.4973729 , -0.15295069], dtype=float32),\n &#39;foolproof&#39;: array([-0.18999983,  0.07878778, -0.05339523, -0.35682046, -0.20297147,\n        -0.69375086,  0.06506417,  0.0050682 , -0.12008963, -0.2525717 ,\n         0.6355292 ,  0.36803943,  0.54019094,  0.25096348, -0.2885295 ,\n         0.13799366,  0.1407956 , -0.25726706, -0.08894935, -0.40681592,\n         0.37169024, -0.67733926,  0.02363476, -0.06927778,  0.04420363,\n        -0.1475098 , -0.37288305,  0.43261638,  0.09201355,  0.21327184,\n        -0.22585668,  0.34293762], dtype=float32),\n &#39;youthful&#39;: array([-0.1813921 , -0.02723463,  0.5132549 , -0.65195453,  0.6432381 ,\n         0.23168185, -0.12563424,  0.6522922 ,  0.5627673 , -0.64877594,\n         0.17923588,  0.16366765,  0.46369195,  0.15918638, -0.61143106,\n         0.11782364, -0.15999041, -0.6971242 ,  0.24828158, -0.18317743,\n        -0.55458707,  0.06363174, -0.11913877, -0.07430334,  0.19043924,\n        -0.1619583 , -0.44015434, -0.42098272, -0.5424945 ,  0.50282556,\n        -0.04861576,  0.15994138], dtype=float32),\n &#39;sinister&#39;: array([ 0.009769  , -0.0084774 ,  0.16458263, -0.3683676 ,  0.48945168,\n        -0.12414259, -0.12073544,  0.3721861 ,  0.1806827 , -0.4771579 ,\n         0.5093353 ,  0.4230626 ,  0.11421888, -0.15642366, -0.4145489 ,\n        -0.14277127, -0.02790792, -0.27503574,  0.14561348, -0.4042978 ,\n         0.02577997,  0.00147858,  0.08206154, -0.1329632 , -0.08995955,\n        -0.05853243, -0.46903294,  0.31113926,  0.01597389,  0.1229652 ,\n        -0.11887584,  0.10865279], dtype=float32),\n &#39;comply&#39;: array([-0.35103354,  0.15752211,  0.5638464 ,  0.08588525,  0.5804793 ,\n        -0.04654214,  0.09623057,  0.44704127,  0.57838356,  0.26921877,\n         0.51804835,  0.896121  ,  0.25232327,  0.55495006, -0.16009466,\n         0.04595953, -0.6080841 , -0.6674694 ,  0.39325944, -0.02062304,\n         0.2589943 , -0.27934098, -0.04976619,  0.50891316,  0.2572921 ,\n        -0.1642126 , -0.00646646, -0.01246537, -0.15054359, -0.23888339,\n        -0.3328072 , -0.28658527], dtype=float32),\n &#39;healings&#39;: array([-0.58833313, -0.30214396, -0.00741635, -0.01441115,  0.5508966 ,\n         0.20708111, -0.21507627, -0.19093059,  0.35868096, -0.04215365,\n        -0.25262535,  0.34782118, -0.11633871,  0.28825587, -0.0197554 ,\n         0.1901601 , -0.07423483, -0.5159307 ,  0.2529723 , -0.07668882,\n         0.11548641, -0.33256456, -0.23038177,  0.11756809, -0.32150742,\n        -0.18414606,  0.23551333, -0.36259326, -0.41350552, -0.08352289,\n        -0.8125856 ,  0.2616416 ], dtype=float32),\n &#39;marrer&#39;: array([ 0.43888566, -0.23166722,  0.1975759 , -0.6692432 , -0.45838112,\n         0.8262114 , -0.5084805 , -0.14863937,  0.17765178, -0.23925065,\n         0.59862787,  0.05738614, -0.59958935, -0.51482886, -0.15079172,\n        -0.06986005, -0.29901123,  0.06220233,  0.9689204 , -0.15761042,\n        -0.16706912,  0.06720687,  1.2678515 ,  0.98574   , -0.43538782,\n         0.76622933,  0.325555  , -0.4904326 ,  1.3004324 ,  0.9340377 ,\n        -0.2934647 ,  0.4155202 ], dtype=float32),\n &#39;ebb&#39;: array([ 0.36898857, -0.18600604,  0.77160317,  0.1289192 ,  0.6746739 ,\n        -0.04307798,  0.03310842, -0.1401988 ,  0.44166026, -0.4010562 ,\n         0.0029587 ,  0.74638593,  0.1120081 , -0.36156097, -0.49301225,\n         0.17174943, -0.23941879,  0.32234377,  1.0407574 , -0.30968878,\n        -0.44217235,  0.39354652, -0.23450547, -0.0646771 ,  0.11646356,\n        -0.19715625, -0.4157798 ,  0.19517882, -0.23043844,  0.36015677,\n         0.29870194, -0.26841938], dtype=float32),\n &#39;breaks&#39;: array([ 0.0141001 , -0.54068106, -0.335291  , -0.20307264,  0.73930603,\n         0.18457457, -0.09594862, -0.2885252 ,  0.07380371, -0.11986803,\n         0.25545818,  0.0266863 ,  0.11947649, -0.25666252, -0.43933097,\n         0.40861952, -0.0498828 ,  0.14343171, -0.16855574, -0.31103784,\n        -0.5011075 , -0.35934347, -0.34182745,  0.09522498, -0.19958487,\n        -0.32317096, -0.14860801, -0.29531416, -0.18242185,  0.3460018 ,\n        -0.08551182, -0.04617084], dtype=float32),\n &#39;mesmo&#39;: array([ 0.5204392 ,  0.43625146,  0.394509  ,  0.604337  , -0.9496902 ,\n         1.9383398 ,  0.93978715, -0.10255443,  0.18933442, -0.30218795,\n         0.6031286 ,  0.94350207, -0.235772  , -0.47199628, -0.09954789,\n        -1.125567  ,  0.56354386,  0.53636587, -1.178841  ,  0.04840208,\n        -0.35925135,  0.16090737,  0.2578932 ,  0.56908774, -0.03717409,\n         0.3258608 , -1.0255305 , -1.3834275 , -0.12688379,  1.1546764 ,\n        -0.7332436 ,  0.37204176], dtype=float32),\n &#39;pitallon&#39;: array([ 0.18280593, -0.4146118 ,  0.5124775 , -0.07032706, -0.49517304,\n         0.7604703 , -0.0688675 , -0.2845717 , -0.50990105, -0.0962613 ,\n        -0.21520285,  0.3832879 , -0.31804094, -0.5983546 , -0.17500393,\n        -0.90114826, -0.17133453, -0.07676266, -0.01647423,  0.5786914 ,\n         0.38820264, -0.10861044, -0.21076503, -0.04307947,  0.38088724,\n         0.06190556,  0.14704518,  0.11471909,  0.36949834,  0.5150162 ,\n         0.35849962,  0.03156244], dtype=float32),\n &#39;mafioso&#39;: array([ 0.32918644, -0.11568047,  0.53660685,  0.00954297, -0.39110324,\n         0.14355507, -0.07729814, -0.41853347,  0.14231433, -0.09335334,\n        -0.3363587 ,  0.25525686,  0.14592962, -0.49883354, -0.19241442,\n        -0.76509887,  0.24968041, -0.20022845,  0.32423383,  0.07027353,\n         0.5592915 , -0.22883426, -0.07144948,  0.30729184,  0.2812664 ,\n        -0.20117584,  0.34471208,  0.3056767 ,  0.35748732,  0.00819167,\n         0.20457874,  0.35817823], dtype=float32),\n &#39;10304&#39;: array([ 0.24883556,  0.42628327,  0.49187988,  0.15670665,  0.12533224,\n         0.16352072,  0.04474738, -0.31533784, -0.07454532, -0.34831837,\n        -0.10901945, -0.08392151,  0.34535015,  0.3908019 , -0.37538376,\n        -0.1892487 , -0.38152444,  0.3355942 ,  0.5697047 , -0.24337907,\n         0.15188853, -0.43133488, -0.01881559,  0.0846958 , -0.30984622,\n        -0.00213694, -0.55537516,  0.31286216,  0.41268307,  0.1430408 ,\n         0.01539449,  0.427613  ], dtype=float32),\n &#39;bumdum&#39;: array([-0.17113417,  0.11182827,  0.08375455, -0.589983  ,  0.29745927,\n         0.8366332 , -0.0297457 , -0.2341662 , -0.10049175,  0.6960304 ,\n         0.76763   , -0.15995832,  0.8206168 , -0.27616158, -0.567752  ,\n        -0.21903007, -0.6082342 , -0.99378145,  0.09147087, -1.2211443 ,\n        -0.41791838, -0.8098754 , -0.30544814, -0.507568  , -0.4198234 ,\n         0.25924534,  0.20508055,  0.33796144,  0.11239431,  0.48584142,\n         0.48999643,  0.3561203 ], dtype=float32),\n &#39;cooome&#39;: array([-0.04195476, -0.07636774, -0.33129308, -0.27051103,  0.8570508 ,\n        -0.411554  ,  0.3693616 , -0.49585015,  0.28252867, -0.43137062,\n        -0.21626084,  0.6801107 , -0.59665596,  0.14233506, -0.48485497,\n         0.2182302 ,  0.20012999,  0.15097316, -0.15224381, -0.55057025,\n        -0.07033472, -0.4429314 ,  0.1323601 , -0.48718163, -0.9347426 ,\n         0.27650157, -0.00738543, -0.18756646, -0.69696903,  0.13776742,\n        -1.1938006 ,  0.1388686 ], dtype=float32),\n &#39;sneezed&#39;: array([ 0.04346411,  0.06188048,  0.28365007,  0.11970149,  0.00646283,\n        -0.11528736,  0.04313412, -0.57559514, -0.02478607,  0.17493449,\n         0.47209138,  0.29171348,  0.4372539 , -0.1991708 , -0.33036253,\n         0.4884579 , -0.01818154, -0.1291039 , -0.33087036,  0.21860646,\n         0.01094185, -0.46909922,  0.15728422, -0.14763905, -0.8570386 ,\n        -0.03456938, -0.03068441,  0.2462483 , -0.02695795,  0.05691154,\n         0.07194127,  0.4476308 ], dtype=float32),\n &#39;forgotten&#39;: array([ 0.1745642 ,  0.10786211, -0.0355546 , -0.2474274 , -0.11371051,\n        -0.329184  , -0.47433078,  0.3282037 ,  0.4438022 , -0.47651306,\n         0.2968476 ,  0.4845079 ,  0.23478359,  0.18556073, -0.46211877,\n         0.38973173, -0.29760063, -0.26378787, -0.10896426,  0.16632022,\n        -0.1323169 ,  0.01246565, -0.41785172,  0.06488531,  0.0357076 ,\n\n*** WARNING: skipped 457232 bytes of output ***\n\n        -0.06869521, -0.3758711 ,  0.38459975, -0.09652046, -0.13178359,\n         0.6507864 ,  0.18610422, -0.07927527, -0.37289447, -0.4905838 ,\n        -0.09764334, -0.36264136, -0.775653  ,  1.0127523 , -0.13382709,\n        -0.13007635,  0.04692055,  0.420384  ,  0.59866583, -0.1602673 ,\n         0.5394217 ,  0.10554533,  0.06979305,  0.46907508,  0.6633489 ,\n        -0.45688495, -0.04817239], dtype=float32),\n &#39;línea&#39;: array([ 0.09181243, -0.24636841,  0.42650005,  0.12772062, -0.55595434,\n         1.029756  , -0.24495037,  0.06989285,  0.11236323,  0.00745295,\n        -0.508593  ,  0.26554313, -0.58732325, -0.7925248 , -0.15973665,\n        -1.5086726 , -0.2194039 , -0.26427194,  0.39182064,  1.0167047 ,\n         0.48760483, -0.7254637 , -0.3529228 ,  0.4576629 ,  0.9658773 ,\n         0.19254369, -0.09973264,  0.21984525,  0.3574941 ,  0.10489392,\n         0.09979215,  0.64125776], dtype=float32),\n &#39;murmur&#39;: array([-0.27352688, -0.9135157 ,  0.13090746, -0.10827548,  0.09794687,\n        -0.46153387, -0.17844553, -0.35239404,  0.15932766, -0.35587928,\n         0.65495074,  0.64861375, -0.07102977, -0.43634284, -0.22363548,\n         0.0124231 , -0.39028034, -0.48132998,  0.36019468,  0.05862486,\n        -0.63693106,  0.46988106,  0.15556091, -0.2734565 , -0.05612943,\n         0.38610446,  0.1724172 ,  0.99872446, -0.30968547,  0.62051576,\n         0.29051518, -0.12823632], dtype=float32),\n &#39;shelves&#39;: array([-0.0923009 , -0.08469123,  0.14960404, -0.2809692 ,  0.27324864,\n         0.3675551 ,  0.1856549 ,  0.6505833 ,  0.6655568 , -0.26764145,\n         0.4039718 ,  0.19538146,  0.02800512, -0.15849493, -0.9247416 ,\n         0.51321626, -0.4651275 ,  0.18666092,  0.05899785,  0.27879992,\n         0.18550111,  0.2465477 ,  0.3580558 ,  0.2591241 ,  0.11594207,\n        -0.23894918, -0.56559134,  0.4587468 , -0.18303686,  0.36081958,\n         0.10765191, -0.06713475], dtype=float32),\n &#39;dente&#39;: array([ 0.90805733,  0.37018248,  0.5138638 ,  0.39019394, -0.755583  ,\n         1.2900978 ,  0.96881044,  0.12087744,  0.30112085, -0.13518368,\n         0.34389865,  0.5465844 ,  0.10691224, -0.56379265, -0.36656356,\n        -1.0746098 ,  0.07885373, -0.06408454, -0.66979456, -0.25563544,\n        -0.4633243 , -0.20266165,  0.35626146,  0.55797845,  0.00982391,\n         0.29901782, -0.10982848, -0.5875486 ,  0.02400436,  0.90467685,\n        -0.6048352 ,  0.01349952], dtype=float32),\n &#39;medias&#39;: array([-0.12007568, -0.4807513 ,  0.10606507, -0.2753926 , -0.36842683,\n         0.52912056,  0.2585998 , -0.24106942, -0.07028036, -0.14029796,\n        -0.06362113,  0.31013954,  0.11546481, -0.5194498 ,  0.1279269 ,\n        -0.8087731 , -0.06729528, -0.31380546,  0.2610557 ,  0.3730629 ,\n         0.40496045, -0.15470347,  0.18799347, -0.03896381,  0.44464365,\n        -0.3589489 ,  0.17914887,  0.18118553,  0.23598248,  0.3733296 ,\n         0.1568511 ,  0.3664396 ], dtype=float32),\n &#39;pídeme&#39;: array([ 0.703855  ,  0.7528481 ,  1.6559825 , -0.8865699 ,  0.31884792,\n         1.1909502 , -0.20985083, -0.61842805, -0.5580625 , -0.14392537,\n        -0.6591851 ,  0.24108861, -0.82791966, -1.142184  ,  0.15147905,\n        -1.4225682 ,  0.6415546 ,  0.67955506, -0.23539172,  0.2878423 ,\n        -0.27469707,  0.24139087, -0.7053727 ,  1.5974698 ,  0.92474926,\n        -0.01044459,  0.05527314, -0.51449186,  0.00444332, -0.07861767,\n         1.0354589 ,  0.8803389 ], dtype=float32),\n &#39;briga&#39;: array([ 0.81249243,  0.6777565 ,  0.8394485 ,  0.44426364, -0.63681716,\n         1.1190456 ,  1.0058877 ,  0.21293817,  0.22416708, -0.31751892,\n         0.80352455,  0.35497615, -0.07435305, -0.41913843, -0.4830451 ,\n        -1.7200776 ,  0.20297943,  0.30525997, -0.5446681 ,  0.03172068,\n        -0.24653241,  0.07144476,  0.34442976,  0.6059735 , -0.2844365 ,\n         0.5927583 , -0.33427614, -0.6273765 ,  0.05744486,  1.064191  ,\n        -0.500911  ,  0.29569554], dtype=float32),\n &#39;retarme&#39;: array([ 0.65140903,  0.20026577,  0.35453203, -0.33429325, -0.38093328,\n         0.6881157 , -0.09633172,  0.3351743 ,  0.05604514, -0.52124244,\n        -0.00387771,  0.19847964, -0.56602246, -0.7290213 ,  0.42494538,\n        -1.436342  ,  0.00592684,  0.01659426,  0.11685695, -0.00855841,\n         0.57636005, -0.22219639, -0.21074525,  0.5966393 ,  0.45555037,\n         0.3534143 ,  0.18429898,  0.04324408,  0.11723343,  0.03478285,\n         0.30379036,  0.02019396], dtype=float32),\n &#39;bitchy&#39;: array([ 0.18877278,  0.5080131 ,  0.47357708, -0.22090945, -0.03105143,\n         0.2677074 ,  0.20988166, -0.07490446, -0.06315314, -0.56718594,\n         0.05835982, -0.06503876,  0.4702388 ,  0.15559563, -0.2638049 ,\n         0.11198959, -0.3073135 , -0.25521585,  0.08542788, -0.3143161 ,\n         0.40760526, -0.29305202,  0.02102129,  0.23918092, -0.7939515 ,\n         0.00914807, -0.12252168,  0.58144784,  0.50355273,  0.03251087,\n         0.7431498 ,  0.32934898], dtype=float32),\n &#39;paralytic&#39;: array([-0.09121232, -0.1625323 ,  0.78582376, -0.25326523, -0.53824466,\n         0.05981819, -0.5264272 ,  0.2657011 ,  0.4700609 ,  0.03361367,\n         0.38459024,  0.0019294 ,  0.4117945 , -0.16403253, -0.43314525,\n         0.35195124, -0.08525722, -0.06250347, -0.38990235, -0.09359861,\n        -0.4317174 ,  0.14284857, -0.18464902, -0.16577455, -0.53914946,\n        -0.00139097, -0.2547151 ,  0.23729758,  0.04635292,  0.29617748,\n        -0.0731525 ,  0.38303497], dtype=float32),\n &#39;jae&#39;: array([ 0.21505688,  0.87265146,  1.1879843 ,  0.8793516 , -0.38203925,\n         0.16724361, -0.40854567, -0.18483622,  0.14088267,  0.24997206,\n        -0.18752958, -0.5739159 ,  0.23898587, -0.52582383, -0.74732065,\n         0.01288068,  0.15821074, -0.6482205 ,  0.33051878, -0.41956064,\n         0.20703626, -0.21247327,  0.41816106, -0.35329148, -0.7608838 ,\n        -0.03429971, -0.35111126, -0.11157438,  0.9124179 , -0.14675213,\n        -0.131084  ,  0.10188109], dtype=float32),\n &#39;forgetmenots&#39;: array([ 0.23731159, -0.513194  ,  0.05805535, -0.20085302,  0.05833726,\n        -0.3054782 , -0.3454716 , -0.2030321 ,  0.51113576,  0.4117951 ,\n         0.64546245,  0.10245232,  0.26635548,  0.13853796, -0.1280657 ,\n         0.01082712, -0.36919922, -0.1279877 ,  0.09297393, -0.0882386 ,\n        -0.5608402 ,  0.27126518, -0.25645974, -0.14537558,  0.29346058,\n        -0.25370336, -0.14749339,  0.36597365, -0.18376026,  0.31203973,\n         0.6911431 ,  0.61857855], dtype=float32),\n &#39;saludan&#39;: array([ 0.3266625 , -0.1484085 ,  0.46093884, -0.23348643, -0.6467375 ,\n         0.24854657, -0.19217265, -0.39568162, -0.10830405, -0.22815172,\n        -0.52176905,  0.79548717,  0.0305248 , -0.5293973 , -0.08504247,\n        -1.3123754 ,  0.05742928, -0.3245779 , -0.06825611,  0.3141582 ,\n         0.5669825 , -0.4595016 ,  0.09555893,  0.22152117,  0.572266  ,\n         0.01793147,  0.11963421,  0.3155958 ,  0.42801017, -0.36609748,\n         0.35028237,  0.6097885 ], dtype=float32),\n &#39;jrappe&#39;: array([-0.28097692,  0.14585139,  0.42696896, -0.96182084, -0.7407562 ,\n         0.7631782 , -0.5681822 , -0.2521441 , -0.26740932,  0.3486162 ,\n         0.33144465,  0.2516954 , -0.14874938,  0.08818061, -0.08074322,\n        -0.18844779, -0.43714148, -0.07069212,  0.8873603 ,  0.4557388 ,\n        -0.4168782 ,  0.24637619,  0.9597722 ,  0.9342231 , -0.45178297,\n         1.0540749 ,  0.07498237, -0.16567448,  1.5157734 ,  0.5276991 ,\n         0.01061176,  0.13728918], dtype=float32),\n &#39;figment&#39;: array([-0.71488136,  0.23113255, -0.09265167, -0.6860152 ,  0.45340875,\n        -0.13280077, -0.16616991,  0.62322634, -0.32738566, -0.43590495,\n         1.0965381 ,  0.42783737,  0.8513243 , -0.16651367,  0.03855793,\n        -0.5517331 , -0.53887695, -0.6098026 ,  0.23976564, -0.3046136 ,\n        -0.13980453,  0.28490174, -0.03277964,  0.1650235 , -0.5477258 ,\n        -0.3344931 , -0.30493337,  0.01032445, -0.33005646, -0.06568436,\n         0.11344106,  0.03414799], dtype=float32),\n &#39;togli&#39;: array([ 0.8660616 ,  0.33906433,  0.41752312,  0.45778885, -0.26048675,\n        -0.15933707,  0.49048564, -0.8142423 , -0.11889984, -1.2597363 ,\n         0.40106344, -0.29605097, -0.3434191 , -0.7172339 , -0.817178  ,\n        -1.123412  ,  0.00202765, -0.3212402 ,  0.7685407 ,  0.44788375,\n         0.02962297,  0.6627779 ,  1.1726127 ,  0.34817615,  0.44446206,\n         1.469376  ,  0.1753871 , -1.4003043 , -0.44842744, -0.10740656,\n        -0.00217701,  0.56562996], dtype=float32),\n &#39;mutter&#39;: array([-0.9042229 ,  0.04523276,  1.0428863 , -0.10778541,  0.23516442,\n         0.27293307,  0.35866296, -0.5504709 , -0.08518078, -0.7292575 ,\n         0.05732033, -0.2458567 , -0.8716398 ,  0.00147423, -0.4034311 ,\n        -0.0417602 , -0.6230421 , -0.8959    ,  0.20325786,  0.90686923,\n        -0.2539008 ,  0.21696946, -0.05190056, -0.17116518, -0.68941015,\n         0.48032916, -0.40521893, -0.01410672, -0.46789148,  0.8419442 ,\n         0.56423676, -0.9088275 ], dtype=float32),\n &#39;apareció&#39;: array([-0.05107928, -0.61577463, -0.16325833,  0.43701646, -0.40234807,\n         0.795193  ,  0.02260746, -0.2448846 , -0.03512764,  0.3459668 ,\n        -0.03406068,  0.80802387, -0.59398276, -0.7231013 , -0.01675215,\n        -1.1902629 , -0.07208086, -0.3748046 , -0.06596997,  0.61361384,\n         0.26376972, -0.41390097,  0.03606611, -0.11390631,  1.329614  ,\n         0.48081213, -0.28698057,  0.7143664 ,  0.4023285 ,  0.46419802,\n         0.03501307,  0.5597619 ], dtype=float32),\n &#39;bootay&#39;: array([-0.16350302,  0.24957287,  0.21434775,  0.32405442, -0.15857016,\n        -0.14911322, -0.01359125, -0.09813825, -0.04314356,  0.00204718,\n         0.00679093, -0.26910862, -0.03612107,  0.01040024, -0.20234023,\n        -0.07965702, -0.38151023, -0.38395348, -0.24095264, -0.0685583 ,\n         0.17806877, -0.09002531,  0.299822  , -0.112524  , -0.7470639 ,\n        -0.11012556, -0.02496533,  0.24483785, -0.03197652, -0.00952152,\n         0.19665934,  0.3634653 ], dtype=float32),\n &#39;piense&#39;: array([ 0.3281221 , -0.18840192,  0.57760817, -0.21883368, -0.5169172 ,\n         0.45397785, -0.6971343 , -0.5952705 , -0.11432233,  0.13687882,\n        -0.46884498,  0.40717468, -0.86124516, -0.6686775 ,  0.5797084 ,\n        -1.3502402 ,  0.78516376,  0.16897017,  0.11157053,  0.24528864,\n         0.35661477,  0.014364  , -0.47550312,  0.7791016 ,  0.5329154 ,\n        -0.33249044, -0.69100577, -0.1902947 ,  0.34682757,  0.02242077,\n         0.18671496,  0.80337095], dtype=float32),\n &#39;acabarme&#39;: array([ 0.51047075, -0.22177406,  0.10689116, -0.19395153, -0.30421236,\n         0.2947181 , -0.29762033, -0.27443954, -0.2666474 , -0.44075596,\n        -0.24792856,  0.36388117, -0.02554119, -0.8360373 ,  0.35004875,\n        -1.0745988 , -0.27792677, -0.20865603, -0.02600129,  0.35444626,\n         0.21055882, -0.04243204, -0.10438599,  0.65263885,  0.2558701 ,\n        -0.21189593,  0.33127677,  0.33182773,  0.130787  , -0.13240723,\n         0.47312656,  0.6114083 ], dtype=float32),\n &#39;eazys&#39;: array([-0.05355824,  0.65629977,  0.42707604,  0.12488975,  0.10154765,\n         0.07698645,  0.19839592,  0.04879676,  0.02645679, -0.42376554,\n         0.20055936,  0.25410455,  0.3733574 , -0.16366841,  0.19022708,\n         0.0032539 , -0.26647723, -0.04857424, -0.06309764, -0.5690407 ,\n         0.30968493, -0.19560707,  0.09139034, -0.10123276, -0.18463933,\n         0.04960011, -0.11687908, -0.05836644,  0.18949531,  0.28960326,\n         0.06241574,  0.43281135], dtype=float32),\n &#39;easin&#39;: array([ 0.46351787,  0.02543922, -0.284218  , -0.76125646,  1.3470638 ,\n         0.24376503, -0.5128989 , -0.2715378 , -0.9704747 ,  0.17004357,\n         0.3597368 , -0.15710625,  0.5230792 ,  0.55884   , -0.48393008,\n        -0.36007592,  0.6248438 , -0.67311746,  0.03415877,  0.15351841,\n        -0.21827674, -0.49357468, -0.6557307 ,  0.74282664, -1.7821352 ,\n         1.2028162 , -0.38242787,  1.7242272 , -0.4568848 ,  1.4266235 ,\n         1.0697225 , -0.10010829], dtype=float32),\n &#39;beautiful&#39;: array([-0.39835227,  0.18081614, -0.4367571 ,  0.10278798,  0.25226006,\n        -0.22415172, -0.62251186,  0.30016014, -0.2537549 , -0.4195883 ,\n         0.19566214,  0.37385088,  0.1640637 ,  0.32307094, -0.24718331,\n         0.0209075 , -0.24466553, -0.4678366 , -0.5225186 , -0.32960424,\n        -0.5706371 ,  0.3667088 , -0.11189247, -0.22264703,  0.26598617,\n        -0.31181562, -0.09034311,  0.05966274, -0.07643203,  0.23056847,\n         0.05226559,  0.20743741], dtype=float32),\n &#39;mojito&#39;: array([ 5.28267443e-01, -8.52665082e-02,  4.53425258e-01, -2.25770518e-01,\n        -3.15947056e-01,  5.79312503e-01, -7.29051530e-02,  1.60615018e-05,\n         3.85294370e-02, -1.07809706e-02, -3.91797036e-01,  9.16936435e-03,\n        -3.34348887e-01, -5.42446494e-01,  2.43105307e-01, -7.31815457e-01,\n        -2.09457561e-01, -5.45805812e-01,  2.53945798e-01, -2.29237944e-01,\n         4.50089395e-01, -1.15042172e-01,  5.33476651e-01,  7.05592513e-01,\n        -2.85338257e-02, -1.05777375e-01,  3.45793128e-01,  2.06702873e-01,\n         5.79080403e-01,  5.07475019e-01,  6.89801514e-01,  8.46642613e-01],\n       dtype=float32),\n &#39;thunderhearts&#39;: array([ 0.13425831, -0.2741501 ,  0.31775987,  1.1862673 ,  0.03458445,\n        -0.06519002,  0.06336389, -0.16973339,  0.7051382 , -0.615709  ,\n        -0.8031037 ,  0.20212966, -0.19790517, -0.1363595 , -0.2791633 ,\n         0.692249  ,  0.23064351, -0.36717436,  0.00424221, -0.1260803 ,\n        -0.11866653, -0.7800371 ,  0.17823063,  0.50259084,  0.9811002 ,\n        -0.64849746, -0.4554347 , -0.11777008, -0.9001586 , -1.3099066 ,\n        -0.32935694,  0.03699758], dtype=float32),\n &#39;sock&#39;: array([ 0.0657205 , -0.2286736 ,  0.13489419, -0.06396668,  0.6887208 ,\n         0.16870943,  0.3498658 , -0.25315776, -0.20252386,  0.28022966,\n         0.39113992, -0.01086645,  0.14631037, -0.42327163, -0.52932984,\n         0.18794571, -0.31947517,  0.14562471, -0.188412  , -0.44176415,\n         0.27079567, -0.7928059 ,  0.25013587,  0.41520742, -0.6465796 ,\n         0.18502906, -0.2256845 ,  0.294278  , -0.09744862,  0.20368443,\n         0.10468726,  0.20152907], dtype=float32),\n &#39;sequía&#39;: array([ 0.3751946 , -0.19406793,  0.11789321, -0.2869439 , -0.23907237,\n         0.4893695 , -0.35606408, -0.16384363, -0.41369644, -0.1070381 ,\n        -0.05914441,  0.47732106, -0.7013087 , -0.7554011 , -0.08077914,\n        -1.4273629 ,  0.05219002, -0.27826303,  0.1798346 ,  0.11914008,\n         0.57334846, -0.273761  , -0.3103488 ,  0.07068855,  0.6534152 ,\n        -0.01009445,  0.38265544, -0.08946609,  0.25114098,  0.19592106,\n         0.13690074,  0.2516112 ], dtype=float32),\n &#39;بس&#39;: array([ 0.81205463, -1.4215426 ,  0.30339512,  1.0541553 , -1.0673633 ,\n         0.22281209,  0.25914398, -1.2855997 , -2.274058  , -0.7455722 ,\n         0.37182057, -0.4933125 ,  0.24453714,  0.27468327, -0.5936147 ,\n        -0.98939204,  1.0864533 , -2.2045016 ,  1.3829365 , -0.02709868,\n        -0.50923616,  0.5166166 ,  2.56026   , -0.21085627,  0.80391276,\n         0.73959965, -1.1371403 ,  1.1494683 ,  0.40771967,  0.04337007,\n        -2.4442744 , -2.6698594 ], dtype=float32),\n &#39;awiting&#39;: array([ 0.77645534, -0.30963296,  1.3948201 ,  0.94061446, -1.339043  ,\n         0.03432105, -0.23435424, -1.2457047 , -0.934316  , -0.12752256,\n        -0.02972263, -0.4308902 ,  1.2937716 , -0.5845826 , -0.49125993,\n         0.07161228,  0.29869783, -1.4464592 ,  0.5315393 ,  0.3513044 ,\n         0.35693172, -0.48895934, -0.36198965,  1.0765752 ,  0.07046086,\n         0.9754033 , -0.33349067, -0.70484227,  0.5577173 , -0.37251592,\n        -0.8780748 , -0.48968554], dtype=float32),\n &#39;severs&#39;: array([-0.13782604, -0.22060718,  0.17438002,  0.04038271,  0.47182828,\n        -0.10623404, -0.17021552,  0.09716431, -0.31711087, -0.43790138,\n         0.1046965 ,  0.20315693,  0.15608236, -0.5342152 , -0.33073542,\n         0.18315174, -0.05866248, -0.10293078,  0.03385688, -0.46920708,\n        -0.22729273, -0.05409871, -0.12807119,  0.3498746 , -0.22408335,\n        -0.2020592 , -0.06890092, -0.23616672, -0.43203753,  0.44581702,\n         0.06401028,  0.09019306], dtype=float32),\n &#39;respiración&#39;: array([ 2.20792353e-01, -3.63042325e-01,  3.17623764e-01, -2.98566908e-01,\n        -1.46437719e-01,  1.00258684e+00, -5.74004114e-01, -3.92022938e-01,\n         6.90447851e-05, -4.67394246e-03, -2.49604300e-01,  6.45873010e-01,\n        -5.97394705e-01, -1.03714657e+00,  1.50497973e-01, -1.22184646e+00,\n        -1.88160628e-01,  8.69576260e-02, -2.67919064e-01,  6.48950756e-01,\n         5.29320419e-01, -4.24599707e-01, -1.51599392e-01,  3.52231920e-01,\n         1.21147871e+00,  2.88571686e-01, -3.04896504e-01,  1.07483685e-01,\n         1.61505805e-03,  3.65021988e-03,  5.83139598e-01,  5.90891004e-01],\n       dtype=float32),\n &#39;yokhae&#39;: array([-0.4406627 , -0.08915221,  1.5802478 , -0.2232285 , -1.0076932 ,\n         0.05242904, -0.7110598 ,  0.603365  , -0.31855834, -0.34203202,\n        -0.03742307, -0.62320477,  0.30422086,  0.04891517, -0.6413407 ,\n        -0.04386937,  0.936572  , -1.4371915 , -0.9170286 ,  0.19551767,\n        -0.09072366,  0.14845167,  1.57925   , -0.05375379,  0.05490159,\n         0.1919376 , -0.41529685,  0.05542208, -0.40261453, -0.34634104,\n         0.1062683 , -0.9480552 ], dtype=float32),\n &#39;beeem&#39;: array([ 1.3148139 ,  0.9258201 ,  0.5999118 ,  1.0082649 , -1.5571272 ,\n         2.2067463 ,  1.0476861 ,  0.6200123 ,  0.4035668 , -0.29302529,\n         0.394544  ,  0.33255535,  0.57174647, -0.17963257, -0.44982535,\n        -1.3221776 ,  0.51957935,  0.42924392, -0.6137422 , -0.5657314 ,\n        -0.28250453,  0.03837076,  0.1856453 ,  1.0075914 , -0.17520842,\n         0.14737009, -0.70911014, -1.0611964 ,  0.6735943 ,  1.3170029 ,\n        -0.38629425, -0.45189175], dtype=float32),\n &#39;poly&#39;: array([ 0.92006   , -0.27754438, -0.15871349,  0.80057174, -0.0741147 ,\n         0.6344462 , -0.73927885,  0.33598202, -0.226548  , -0.40341288,\n         0.23316334,  0.15840265, -0.9172485 ,  0.00981083, -0.71341944,\n        -0.03915131, -0.28705558, -0.21876134,  0.50029147, -0.35295567,\n         0.74095035, -0.8227102 ,  1.2134157 ,  0.03170668, -1.062993  ,\n         0.12372151, -0.4039201 ,  1.0385765 , -1.029437  ,  0.36034423,\n         0.11981267,  0.5120277 ], dtype=float32),\n &#39;resistirme&#39;: array([ 0.10789795, -0.02368139,  0.19553056, -0.71605855, -0.8634473 ,\n         0.46276248, -0.3587362 , -0.5509633 , -0.5011397 ,  0.14965373,\n         0.10257362,  0.41157445,  0.06564276, -0.6391372 ,  0.5925034 ,\n        -1.6747353 , -0.40939182,  0.15459806, -0.11932115,  0.5628915 ,\n         0.64728224, -0.16855247, -0.5668059 ,  0.5956163 ,  0.26299122,\n        -0.68438965, -0.39169517, -0.27034026, -0.07477152,  0.22155029,\n         0.3603361 ,  0.36198932], dtype=float32),\n &#39;primavera&#39;: array([ 0.00952553, -0.0279784 , -0.04569111,  0.36967558, -0.4497679 ,\n         1.0051174 , -0.1776427 , -0.05803727,  0.14791745, -0.17141649,\n        -0.010159  ,  0.3257681 , -0.6739958 , -0.7130043 , -0.22580163,\n        -1.3698205 , -0.1545376 ,  0.16477345,  0.04317126,  0.41736004,\n         0.17217572, -0.52248734,  0.05262166, -0.00611995,  1.0952593 ,\n         0.5465848 , -0.27754423, -0.45897895,  0.30468425, -0.03820523,\n         0.02157872,  0.7305916 ], dtype=float32),\n &#39;roo&#39;: array([ 0.62821233,  0.00261826, -0.24066213,  1.0523248 , -0.43518588,\n         0.35543716,  0.20884134, -0.7546993 ,  0.45747882, -0.02905587,\n        -0.520664  , -0.91491354,  0.8133896 , -0.7220815 , -0.714661  ,\n        -0.35405886,  0.73319316, -1.1261151 , -0.02236036, -0.6563032 ,\n        -0.07711928, -0.54037935, -0.4775764 ,  0.19392058, -0.88102967,\n         0.6576178 , -1.024158  ,  0.18992777,  1.0098445 ,  0.47635332,\n        -0.13112462, -0.0173697 ], dtype=float32),\n &#39;playin&#39;: array([ 0.26845956, -0.3127155 ,  0.27920213,  0.17394091, -0.0780504 ,\n         0.02270938, -0.01699299, -0.06613778, -0.06313828, -0.22031666,\n         0.22727607, -0.14153492,  0.6033082 ,  0.6127376 , -0.09349322,\n         0.11687502, -0.51130307, -0.12696484,  0.02954971, -0.14583921,\n         0.34170678, -0.1722558 ,  0.09727015, -0.2815831 , -0.51837873,\n        -0.03455667, -0.57679284,  0.19138853,  0.06451017,  0.12680557,\n         0.47937384,  0.6093872 ], dtype=float32),\n &#39;apunto&#39;: array([ 0.35249564,  0.00880358,  0.305023  , -0.48100814, -0.70820177,\n         0.6863594 , -0.29417098, -0.40709233,  0.14367293, -0.3081309 ,\n        -0.0081097 ,  0.5816909 , -0.07488687, -0.6014193 ,  0.375079  ,\n        -1.4905971 , -0.17878409, -0.27987155, -0.13918848,  0.6146743 ,\n         0.5514156 , -0.28974584, -0.2741599 ,  0.23106636,  1.0345877 ,\n         0.22111045, -0.29808074, -0.17118621,  0.04692026, -0.02689076,\n         0.19086538,  0.5660925 ], dtype=float32),\n &#39;mattie&#39;: array([ 5.28370887e-02,  7.96783417e-02,  4.21897709e-01,  3.03658396e-01,\n         1.32165223e-01,  4.95438278e-01,  1.81360304e-01, -1.13309622e-01,\n         2.72697896e-01, -3.83235812e-01, -1.27705574e-01,  2.73547083e-01,\n         1.62838340e-01,  4.27614941e-06, -1.07065570e-02, -5.68470836e-01,\n        -3.17853183e-01, -7.96663344e-01,  1.49746597e-01, -3.01377714e-01,\n         3.99794206e-02, -1.06808044e-01,  5.25546186e-02, -4.68121260e-01,\n        -8.41965675e-01,  2.20651522e-01,  3.77586111e-02,  9.46602702e-01,\n         5.53411663e-01,  1.31171644e-01,  1.38972411e-02,  4.42605376e-01],\n       dtype=float32),\n &#39;demolish&#39;: array([ 0.3872163 ,  0.06293084,  0.32540965,  0.0980714 ,  0.2562831 ,\n        -0.00332627,  0.05233086, -0.06037045,  0.03540437, -0.28971905,\n         0.2440801 ,  0.3158872 ,  0.38575333, -0.4017315 , -0.25931317,\n         0.24845739, -0.3045131 , -0.10308076,  0.5217518 , -0.44275308,\n         0.16219889, -0.58144015, -0.08524529,  0.04422542, -0.07316135,\n        -0.04629113, -0.23609316,  0.33127618,  0.39514077,  0.0672204 ,\n         0.10644045, -0.13106516], dtype=float32),\n &#39;34&#39;: array([ 7.5954748e-03, -2.8071586e-02,  3.6997277e-01,  5.1328458e-02,\n        -1.6145568e-01,  4.3961707e-01, -3.4906232e-04,  4.8328891e-02,\n         1.0801053e-02,  1.7740069e-01,  2.2201049e-01,  4.4405040e-01,\n         1.8134056e-01, -1.1258708e-01, -3.4237874e-01,  1.7148562e-02,\n        -3.6006337e-01,  9.2080250e-02,  8.9123286e-02,  2.5434958e-02,\n         1.9219711e-01,  5.9762645e-01,  9.3985461e-02, -3.8532186e-01,\n        -5.2442563e-01,  4.7249463e-01,  1.1949735e-01,  7.7734299e-02,\n         5.0025117e-01, -1.2120309e-01,  2.8386882e-01,  1.8572018e-02],\n       dtype=float32),\n &#39;nta&#39;: array([ 0.88501245,  0.8429509 ,  1.1485186 ,  0.08345868, -0.89136785,\n         0.533851  ,  0.6088239 , -0.5352426 ,  0.21776868, -0.66771704,\n        -0.05243304,  0.5174236 , -0.39857462, -0.6177379 , -0.31956142,\n        -0.8072618 ,  0.21649778, -2.2648032 , -0.682449  ,  0.1952497 ,\n        -0.2828623 ,  0.6424449 ,  0.49944827,  0.6364544 , -0.37244558,\n         0.79800195, -0.35827753, -0.16247702,  1.1696146 ,  0.6879187 ,\n        -1.8450615 ,  0.28182113], dtype=float32),\n &#39;mennä&#39;: array([ 0.9626138 ,  0.9410269 ,  0.67784494,  0.1953804 , -1.7015532 ,\n         1.4945112 , -0.36279172, -0.48987383, -0.4575008 , -1.0385692 ,\n        -0.06315042,  0.07632889,  0.53507274, -0.31315273, -1.1805698 ,\n         0.7695438 ,  0.08783385, -2.0133448 ,  0.08260453,  0.79053026,\n         0.21334915, -0.56854594, -0.3215527 ,  0.500945  , -1.1717539 ,\n         0.5237229 , -0.5950432 , -1.2322845 ,  0.6973856 , -0.06787121,\n         0.44327927, -1.5106323 ], dtype=float32),\n &#39;humped&#39;: array([ 0.108289  ,  0.24389872,  0.37861717,  0.02406802,  0.04271619,\n        -0.21229513, -0.4867374 ,  0.00351438,  0.06886113, -0.31922817,\n         0.08214244,  0.41215125,  0.15537022,  0.06128541, -0.24792093,\n         0.3702415 , -0.00651841, -0.06732386, -0.31669912,  0.04125221,\n         0.44262898, -0.25561938,  0.32566807, -0.12988313, -0.54615766,\n         0.26666984,  0.19892798,  0.11925762, -0.07675356,  0.23583397,\n         0.6278301 ,  0.2720646 ], dtype=float32),\n &#39;venn&#39;: array([ 0.10744093,  0.7951004 ,  0.7901656 ,  0.3108835 ,  0.0137313 ,\n         0.24561873, -0.2867893 , -0.63720405,  0.24114345, -0.30066538,\n         0.04835834, -0.23367478,  0.03643123, -0.41759542, -0.2574208 ,\n        -0.05244077,  0.5371287 , -0.54776764,  0.18634012, -0.1550582 ,\n         0.0819212 , -0.21338773,  0.23396245,  0.80698305, -0.5271901 ,\n        -0.16394372,  0.02712127, -0.34888777,  0.01873464, -0.1251776 ,\n         0.22701634, -0.320121  ], dtype=float32),\n &#39;2way&#39;: array([-0.2969126 ,  0.0581115 ,  0.1498707 , -0.0454212 ,  0.48385474,\n         0.14840975,  0.32553703, -0.54697585, -0.21350776,  0.22031894,\n         0.03015613,  0.01475494,  0.17579184,  0.04332489, -0.30105203,\n         0.02918972, -0.36188635,  0.24064562, -0.19758692, -0.33129424,\n         0.7390371 ,  0.07039803,  0.0637326 ,  0.25479755, -0.790696  ,\n        -0.34893245, -0.55261815,  0.4641332 ,  0.28050876,  0.16391829,\n         0.35350874,  0.521223  ], dtype=float32),\n ...}</div>",
       "datasetInfos": [],
       "metadata": {},
       "removedWidgets": [],
       "type": "html"
      }
     },
     "output_type": "display_data"
    }
   ],
   "source": [
    "# Get word vector dictionary for faster processing\n",
    "word_vec_dict = wordvec_df.toPandas().set_index(\"word\").to_dict()\n",
    "word_vecs = word_vec_dict['vector']\n",
    "word_vecs"
   ]
  },
  {
   "cell_type": "code",
   "execution_count": null,
   "metadata": {
    "application/vnd.databricks.v1+cell": {
     "inputWidgets": {},
     "nuid": "8238c83d-edf1-4a55-8d33-8d73241e908c",
     "showTitle": false,
     "title": ""
    }
   },
   "outputs": [
    {
     "data": {
      "text/html": [
       "<style scoped>\n",
       "  .ansiout {\n",
       "    display: block;\n",
       "    unicode-bidi: embed;\n",
       "    white-space: pre-wrap;\n",
       "    word-wrap: break-word;\n",
       "    word-break: break-all;\n",
       "    font-family: \"Source Code Pro\", \"Menlo\", monospace;;\n",
       "    font-size: 13px;\n",
       "    color: #555;\n",
       "    margin-left: 4px;\n",
       "    line-height: 19px;\n",
       "  }\n",
       "</style>\n",
       "<div class=\"ansiout\">Out[28]: {&#39;ohohoho&#39;: array([-0.07925073,  0.31392673, -0.23940067,  0.09624004,  0.10937865,\n",
       "        -0.03422616, -1.1821041 , -0.50068593,  0.28972298,  0.06530909,\n",
       "        -1.23165   ,  0.04650208, -0.9326481 ,  0.64062274, -1.14963   ,\n",
       "        -0.36210456,  0.16882792, -0.422122  , -0.329844  , -0.05391987,\n",
       "         0.02306327,  0.27957904,  0.7619971 ,  0.5245532 , -0.28863308,\n",
       "         0.1532805 ,  0.10613267, -0.17104477, -0.5588746 , -0.3626776 ,\n",
       "        -0.31239626, -0.34137258], dtype=float32),\n",
       " &#39;professed&#39;: array([-0.26329944,  0.14257132,  0.01223039, -0.25976172,  0.34392947,\n",
       "         0.08153762, -0.3767318 , -0.05467109,  0.22877507, -0.06349373,\n",
       "         0.3972084 ,  0.35623866, -0.07845655,  0.22269817, -0.38570687,\n",
       "        -0.25012845, -0.26922402, -0.33298013,  0.1100001 , -0.17502022,\n",
       "        -0.54777193, -0.18024419, -0.22611459, -0.14369097, -0.4080993 ,\n",
       "         0.06734408,  0.12605414, -0.06174215, -0.17894982, -0.4430647 ,\n",
       "        -0.27485955,  0.17589772], dtype=float32),\n",
       " &#39;stegen&#39;: array([ 0.5628137 ,  1.0322635 ,  0.82646424,  1.4237982 , -0.10312799,\n",
       "         1.752393  , -1.1530322 , -1.1665572 , -0.6774264 ,  0.16445562,\n",
       "        -0.27869236, -0.28455666, -0.23084715, -0.4388019 , -1.0828527 ,\n",
       "         0.17807034,  0.28453764, -1.0028799 ,  0.42642018, -0.42699164,\n",
       "         0.6356657 , -0.35567403,  0.5775872 ,  0.43228108, -0.23928046,\n",
       "         0.42356327,  0.3333311 , -0.59891206,  0.11412388,  0.14864314,\n",
       "         0.6790861 , -0.8523481 ], dtype=float32),\n",
       " &#39;acéptalo&#39;: array([ 0.7390083 ,  0.2149252 ,  0.98295504, -0.55815846, -0.27640525,\n",
       "         0.3235611 , -1.1656953 , -0.95920527,  0.24490897, -0.14984235,\n",
       "        -0.56612056,  0.2153208 , -0.67097735, -0.77171826,  0.25893044,\n",
       "        -1.063229  ,  0.13935147, -0.13208862,  0.10008043,  0.10712686,\n",
       "         1.042984  ,  0.08250144, -0.2776759 ,  0.08776684,  0.57545274,\n",
       "        -0.04026667, -0.21765359, -0.24504882, -0.10052905, -0.0739845 ,\n",
       "         0.26224092,  0.29016572], dtype=float32),\n",
       " &#39;jaleo&#39;: array([ 0.42074952, -0.1761267 ,  0.6410343 , -0.09129529, -0.36618516,\n",
       "         0.6331861 , -0.33989832, -0.34172627, -0.05461185, -0.18391614,\n",
       "         0.11863644,  0.40089455, -0.5235228 , -0.53738797, -0.03182067,\n",
       "        -1.6687939 , -0.07918644, -0.07320985,  0.13400044,  0.597256  ,\n",
       "         0.84270275,  0.02402407, -0.22340074,  0.2525892 ,  0.75876826,\n",
       "         0.24889816,  0.18219714,  0.1889677 ,  0.15539242,  0.26814985,\n",
       "         0.15813926,  0.42751363], dtype=float32),\n",
       " &#39;admito&#39;: array([ 0.59465104, -0.03291072,  0.8942622 , -0.07866066, -0.48475948,\n",
       "         1.1740804 , -0.10754308, -0.912207  , -0.13435338, -0.3679157 ,\n",
       "        -0.01501329,  0.35489586, -0.09476306, -0.74322563,  0.51321924,\n",
       "        -1.0066966 ,  0.44180095,  0.3592743 , -0.29224554,  0.3905961 ,\n",
       "         0.06380587, -0.10512977,  0.2179836 ,  0.29496008,  0.77602106,\n",
       "        -0.51328236, -0.3167829 , -0.362109  ,  0.22239216,  0.20878783,\n",
       "        -0.02232932,  0.41146603], dtype=float32),\n",
       " &#39;dredd&#39;: array([ 0.02094032, -0.14081368,  0.4646859 , -0.1802023 , -0.09167867,\n",
       "        -0.0127033 , -0.07945038, -0.37925902, -0.11891985,  0.1520347 ,\n",
       "         0.39303723,  0.17207187,  0.32025346,  0.18145931, -0.35374242,\n",
       "        -0.19798227,  0.21809755, -0.2292551 ,  0.3739225 , -0.03289745,\n",
       "         0.03386633, -0.8707283 , -0.0642144 , -0.5261853 , -0.5366441 ,\n",
       "        -0.32214195, -0.27079347,  0.36429778, -0.04926702, -0.06325061,\n",
       "        -0.4224059 , -0.04141013], dtype=float32),\n",
       " &#39;gaiden&#39;: array([ 0.03694442, -0.00840622,  0.40425175,  0.1387582 , -0.23771454,\n",
       "         0.16233376,  0.03707598, -0.5078011 ,  0.23291597,  0.04278218,\n",
       "         0.22757229, -0.04662805,  0.73560065,  0.0654904 , -0.3404447 ,\n",
       "        -0.27189517, -0.02874799, -0.04407474, -0.13808799, -0.07573457,\n",
       "         0.3978408 , -0.64466333, -0.06974618, -0.27431408, -0.08188342,\n",
       "         0.07534437, -0.2436077 ,  0.21145846,  0.125808  ,  0.25228682,\n",
       "         0.38125023,  0.43964297], dtype=float32),\n",
       " &#39;protegido&#39;: array([ 0.56665003,  0.02630041,  0.79432154, -0.1659684 , -0.2770339 ,\n",
       "         0.5420451 , -0.13389336, -0.5671256 , -0.03399916, -0.3362539 ,\n",
       "        -0.20322956,  0.5491727 , -0.07410609, -0.6306755 ,  0.2925735 ,\n",
       "        -1.422273  , -0.14492823, -0.31507894, -0.26647982,  0.50701994,\n",
       "         0.6172955 , -0.341631  , -0.11572693,  0.22890377,  0.55911905,\n",
       "        -0.02285498, -0.24403843, -0.04549028,  0.20241591,  0.25729093,\n",
       "         0.06621232,  0.2978325 ], dtype=float32),\n",
       " &#39;advertencia&#39;: array([ 0.22903864, -0.10286298,  0.36647257, -0.42746562, -0.5004472 ,\n",
       "         0.4813821 , -0.27248183, -0.19555992,  0.06095922, -0.28576916,\n",
       "        -0.26651558, -0.18045288, -0.03228021, -0.5757862 , -0.00162749,\n",
       "        -1.391564  ,  0.42750973, -0.08460873,  0.10499005,  0.37458405,\n",
       "         0.32699898, -0.25865102, -0.4884895 ,  0.4342301 ,  0.29701972,\n",
       "         0.2073424 ,  0.12314548, -0.15736713,  0.2866581 ,  0.02789808,\n",
       "         0.24418694,  0.293001  ], dtype=float32),\n",
       " &#39;purifies&#39;: array([-0.19744995, -0.34670833,  0.47378397, -0.4092854 ,  0.6008879 ,\n",
       "         0.02833594, -0.48462334, -0.16798788,  0.00795847, -0.15170193,\n",
       "         0.01384594,  0.3983349 ,  0.34547406, -0.823914  , -0.41199824,\n",
       "         0.21863003, -0.15758756, -0.18665834,  0.26248646, -0.56080157,\n",
       "        -0.588502  , -0.08492289, -0.24588197, -0.1324408 , -0.21177024,\n",
       "        -0.5032964 , -0.29728037, -0.19047287, -0.1749495 ,  0.0068795 ,\n",
       "        -0.2811542 ,  0.01940604], dtype=float32),\n",
       " &#39;correcto&#39;: array([ 0.1520991 , -0.2940166 ,  0.80910146, -0.3626329 , -0.5188386 ,\n",
       "         0.6955956 , -0.6589804 , -0.42860213, -0.25626603, -0.10874581,\n",
       "        -0.69150245,  0.19885555, -0.65696514, -0.32077104, -0.01835296,\n",
       "        -1.8934368 ,  0.24635682,  0.09031341, -0.0893142 ,  0.24442124,\n",
       "         0.6805612 , -0.2708238 , -0.30486548,  0.2931525 ,  0.5817994 ,\n",
       "        -0.5963214 , -0.24385592, -0.29321313,  0.32223728,  0.22172044,\n",
       "         0.3994593 ,  0.26758453], dtype=float32),\n",
       " &#39;comprende&#39;: array([-0.22040437, -0.03409846,  0.2924138 , -0.49646908, -0.19408655,\n",
       "         0.4453457 , -0.37274784, -0.706174  , -0.23360634, -0.1713811 ,\n",
       "        -0.52173024,  0.0677961 ,  0.12417637, -0.37477157,  0.13271648,\n",
       "        -1.1020263 ,  0.3260889 ,  0.284254  , -0.27964586,  0.10407702,\n",
       "         0.6813761 , -0.08166324,  0.13007604,  0.19278817,  0.24468766,\n",
       "        -0.23683575, -0.372971  , -0.02728421,  0.38159844, -0.10034643,\n",
       "         0.21076007,  0.27715847], dtype=float32),\n",
       " &#39;clarissa&#39;: array([ 0.28763342, -0.6805243 ,  0.85471183,  0.35458067,  0.7599553 ,\n",
       "        -0.00496088,  0.5332272 , -0.77883136,  0.19968656,  0.9838014 ,\n",
       "         0.3300486 ,  0.90151423,  1.0475678 , -0.6248761 , -0.48738492,\n",
       "        -0.27324516,  0.13079561, -1.1016142 ,  0.03045796, -0.9300133 ,\n",
       "         0.6566226 , -0.00839299, -0.27294922, -0.9673553 , -0.49323887,\n",
       "         0.84817713, -1.4735054 , -0.8440494 ,  0.6425784 ,  0.7578025 ,\n",
       "        -0.8025728 , -0.09418297], dtype=float32),\n",
       " &#39;incident&#39;: array([-0.52322847,  0.16953586, -0.02779412, -0.3771621 , -0.3257716 ,\n",
       "        -0.45809343, -0.2946773 , -0.2714639 , -0.11451703, -0.10013334,\n",
       "         0.4590017 ,  0.304651  ,  0.04889724, -0.14365266, -0.5475477 ,\n",
       "        -0.04604163, -0.06809798, -0.13143879,  0.39553145, -0.521889  ,\n",
       "         0.6982951 , -0.1529826 , -0.08462641,  0.1659082 , -0.29027477,\n",
       "         0.10161298, -0.04419068, -0.15069777,  0.291279  , -0.0354418 ,\n",
       "        -0.18386067, -0.38158607], dtype=float32),\n",
       " &#39;hessss&#39;: array([-0.00713535,  0.4395342 ,  2.4707189 , -0.31839305, -0.67581356,\n",
       "        -0.3457171 ,  0.44887957, -1.0883484 ,  0.12805939, -0.75837374,\n",
       "         0.34120658,  0.2544952 ,  1.3437166 , -1.1174766 ,  0.6533645 ,\n",
       "         0.7363424 ,  0.5452282 , -0.49802032,  0.14723985,  0.33128554,\n",
       "         0.00906598, -1.6367248 ,  0.2735104 , -0.4905771 , -1.4135027 ,\n",
       "         0.8985041 , -0.4420497 ,  0.09701719, -0.99460006,  0.12467605,\n",
       "        -0.6396179 , -0.16732237], dtype=float32),\n",
       " &#39;synchronicity&#39;: array([-0.44686338, -0.01249925,  0.04514273, -0.5888804 ,  0.13480425,\n",
       "         0.08654054, -0.33740178,  0.07254235, -0.034825  ,  0.08575027,\n",
       "         0.5734158 ,  0.18247859,  0.66790813, -0.01684923, -0.36526138,\n",
       "        -0.08852749, -0.0760419 , -0.3302147 , -0.30140465, -0.2913449 ,\n",
       "        -0.1717617 ,  0.09113415, -0.17454973,  0.20560272, -0.2534703 ,\n",
       "        -0.08147274, -0.43899205, -0.19766922, -0.05179507,  0.2599602 ,\n",
       "        -0.29000646, -0.12637098], dtype=float32),\n",
       " &#39;misfire&#39;: array([-0.21382903, -0.00665012,  0.2511361 , -0.20091756,  0.45058578,\n",
       "        -0.02772809, -0.1476784 , -0.16806804,  0.39173818,  0.09178191,\n",
       "         0.27937803,  0.43547747, -0.11890177, -0.21739995, -0.15299362,\n",
       "         0.3115852 ,  0.02263931, -0.3437354 ,  0.09650855, -0.14493586,\n",
       "        -0.5538381 , -0.4672052 ,  0.08560257,  0.39185917,  0.33955786,\n",
       "        -0.35194033, -0.00119713, -0.25653034, -0.31117454,  0.00086239,\n",
       "        -0.2952412 , -0.00735295], dtype=float32),\n",
       " &#39;buns&#39;: array([ 0.18517645, -0.02028609,  0.42080274,  0.14063582,  0.26870745,\n",
       "         0.09287692, -0.23661157,  0.23480172,  0.19511063, -0.19398521,\n",
       "         0.18806176, -0.33593243, -0.02989689, -0.09174059, -0.53710705,\n",
       "         0.40600726, -0.05558669, -0.27686173, -0.19282736, -0.06573504,\n",
       "         0.39037248, -0.0883242 ,  0.3189621 ,  0.14941707, -0.7547396 ,\n",
       "        -0.24306694, -0.41263002,  0.14964953, -0.34629118,  0.25013706,\n",
       "         0.41765004,  0.6882441 ], dtype=float32),\n",
       " &#39;zauber&#39;: array([-0.7458275 ,  0.3350038 ,  1.2222093 ,  0.04252322, -0.19328439,\n",
       "         0.82124656,  0.46414807, -0.67013896, -0.11579737, -0.28274664,\n",
       "         0.17789832, -0.38518032, -0.67462337,  0.12399035, -0.3895774 ,\n",
       "        -0.4229516 , -0.19661605, -0.63150716,  0.10572336,  0.94288015,\n",
       "         0.06318007, -0.22449696, -0.37304094, -0.20987234, -0.6504422 ,\n",
       "         0.6464069 , -0.31048802, -0.23471928, -0.24917033,  1.0718815 ,\n",
       "         0.5904733 , -1.0627676 ], dtype=float32),\n",
       " &#39;vierzon&#39;: array([ 0.20408392,  0.01426582,  0.08500366, -1.1894536 , -0.88215595,\n",
       "         1.0136626 , -0.6822279 ,  0.16921264, -0.15377152,  0.23195668,\n",
       "         1.2905105 ,  0.06186616, -0.09852411, -0.46437258, -0.40288737,\n",
       "         0.24566759, -0.3253423 , -0.20030718,  1.0657216 ,  0.23163651,\n",
       "         0.2212264 ,  0.233177  ,  0.8108818 ,  1.317192  , -0.5211025 ,\n",
       "         1.0069363 ,  0.14779085, -0.39560863,  1.403277  ,  0.51285535,\n",
       "         0.00678812,  0.6239442 ], dtype=float32),\n",
       " &#39;serious&#39;: array([-0.24491337,  0.10885978,  0.11886609,  0.05561974,  0.06285609,\n",
       "        -0.15835382, -0.1895274 ,  0.27604353,  0.4273615 , -0.2543397 ,\n",
       "         0.00140397,  0.24044463,  0.64695996,  0.36578092,  0.26606625,\n",
       "         0.07336507, -0.30210194, -0.39848793,  0.00673192, -0.3529177 ,\n",
       "         0.3003764 , -0.33029673, -0.12306961, -0.25529426, -0.3782604 ,\n",
       "        -0.20190474, -0.17449878, -0.23843859,  0.3415088 ,  0.25830638,\n",
       "         0.17652917,  0.46376148], dtype=float32),\n",
       " &#39;sevenday&#39;: array([ 0.10809214, -0.4928026 , -0.40368518, -0.01758993, -0.96003664,\n",
       "        -0.751595  , -0.09137211,  0.44697723,  0.14463188,  0.05443535,\n",
       "         0.2753076 ,  0.6116841 , -0.05674503, -0.93395805, -0.833064  ,\n",
       "        -0.3897819 , -0.6708318 , -0.08646612,  0.83373195, -0.5112743 ,\n",
       "         0.16435172, -0.70801145, -0.12107201,  0.16388978, -0.11766373,\n",
       "        -0.11612366,  0.07720003,  0.6546401 , -0.07174291, -0.2196379 ,\n",
       "        -0.00294621,  0.26521376], dtype=float32),\n",
       " &#39;bay3ani&#39;: array([ 0.16290818, -0.05040097,  1.3094193 , -0.92360026, -2.2004898 ,\n",
       "        -0.55200607,  0.54374546,  0.8494163 ,  0.61761636, -0.5916646 ,\n",
       "        -1.2597497 , -0.18078814,  0.94337213,  0.02416922, -1.6696072 ,\n",
       "        -1.6922815 ,  0.85550743, -2.334924  ,  1.2421284 ,  0.3282846 ,\n",
       "        -0.18210824, -0.93670785,  2.8506682 ,  0.72778374,  0.817268  ,\n",
       "         0.13699223, -0.20035577, -0.8997807 ,  0.942776  ,  0.08757615,\n",
       "         0.23212336,  0.05666212], dtype=float32),\n",
       " &#39;brink&#39;: array([-0.03643   , -0.2298035 ,  0.16001672, -0.34407994,  0.3383607 ,\n",
       "         0.04029651,  0.01445442, -0.16998227,  0.08401135, -0.10420538,\n",
       "         0.37693813,  0.5426221 ,  0.91082704,  0.25065807, -0.6898958 ,\n",
       "         0.12442905, -0.4158694 ,  0.02313945,  0.6169849 , -0.18493545,\n",
       "         0.08749368,  0.139551  ,  0.17298178, -0.02070906,  0.24980946,\n",
       "        -0.1037905 , -0.73474246,  0.10596195, -0.2148762 ,  0.08009984,\n",
       "        -0.4028833 , -0.19739662], dtype=float32),\n",
       " &#39;ontake&#39;: array([ 0.2295322 , -0.16801524, -0.23596244, -0.06386682, -0.11222906,\n",
       "         0.4005441 , -0.08082504, -0.44282293,  1.2140286 , -0.6050204 ,\n",
       "        -1.049148  ,  0.45858833,  0.43222404, -0.33076853, -0.4458907 ,\n",
       "         0.73123044, -0.69182694, -0.35450867, -0.20892532,  0.10951269,\n",
       "        -0.04227198, -0.5002207 ,  0.09369916, -0.7153648 ,  0.44018117,\n",
       "        -0.24908337, -0.8169541 , -0.5906078 , -0.37622496, -0.9982262 ,\n",
       "        -0.32657042,  0.42524332], dtype=float32),\n",
       " &#39;turnstile&#39;: array([-2.78341770e-02,  1.85541004e-01, -1.29464418e-01, -2.48813838e-01,\n",
       "         5.77841438e-02,  4.54511270e-02, -1.03423141e-01, -5.03256440e-01,\n",
       "         2.94258267e-01, -1.41451374e-01,  3.71790200e-01,  2.54999369e-01,\n",
       "         3.59419972e-01,  1.51212335e-01, -8.64474833e-01,  1.97439626e-01,\n",
       "        -5.48613630e-02,  1.76756397e-01, -1.31109904e-04,  1.48883626e-01,\n",
       "         6.45393208e-02,  1.68590307e-01,  6.84063360e-02,  8.62389281e-02,\n",
       "        -2.45674953e-01, -3.18472177e-01, -2.54350871e-01,  5.59330523e-01,\n",
       "         2.29332358e-01, -2.68923007e-02,  2.75519252e-01,  1.03605606e-01],\n",
       "       dtype=float32),\n",
       " &#39;buvons&#39;: array([ 0.1794224 , -0.79017794,  0.232921  , -1.1848987 , -1.2841702 ,\n",
       "         1.6372782 , -0.30107236, -0.3145054 ,  0.05399393,  0.07887777,\n",
       "         0.4423767 ,  0.5854305 , -0.31443375, -0.21201357, -0.3200204 ,\n",
       "         0.32152113, -0.8398532 , -0.093084  ,  1.3727217 ,  0.6411818 ,\n",
       "        -0.6368057 , -0.44808468,  1.6547651 ,  0.75845355, -0.24108852,\n",
       "         0.71688956,  0.06766489, -0.51324254,  1.5343401 ,  0.61695963,\n",
       "        -0.15149413,  0.30551922], dtype=float32),\n",
       " &#39;passare&#39;: array([ 0.77354646,  0.67311984,  0.3437945 ,  0.49732912, -0.19435617,\n",
       "        -0.7931743 ,  0.11145849, -0.08317016,  0.19500153, -1.2467109 ,\n",
       "         0.4851046 , -0.05529743, -1.1409317 , -1.2187308 , -0.5802829 ,\n",
       "        -1.2684121 , -0.2694115 , -0.30943668,  0.8192774 , -0.08534147,\n",
       "        -0.10792002,  0.07996734,  1.2045864 , -0.23568238,  0.30766067,\n",
       "         1.4620435 , -0.1413982 , -1.2311895 , -0.33478478, -0.34436214,\n",
       "         0.25464958,  0.9778967 ], dtype=float32),\n",
       " &#39;ohhs&#39;: array([ 0.15042423, -0.17516848,  1.1813034 ,  0.08116017, -0.05772417,\n",
       "         0.11936583, -0.04238445, -0.5643566 ,  0.20519166, -0.07950439,\n",
       "        -0.45437995,  0.3293563 , -0.1275264 , -0.04537418, -0.0425705 ,\n",
       "         0.9307181 , -0.35302943, -0.11301021, -0.4316916 , -0.2487516 ,\n",
       "         0.05552268, -0.6215873 ,  0.370211  , -0.0895316 ,  0.04033079,\n",
       "        -0.31372967, -0.11102558,  0.20540583, -0.38147596, -0.2997898 ,\n",
       "        -0.17024824,  0.46837756], dtype=float32),\n",
       " &#39;boji&#39;: array([-0.15919831,  0.19836013,  1.1504134 ,  0.09105482, -0.8830578 ,\n",
       "         0.24890065, -0.6946562 ,  0.58453465, -0.25119293, -0.28515145,\n",
       "         0.00629427, -0.39624742,  0.49089327, -0.7150963 , -0.5317497 ,\n",
       "         0.17768887,  0.7851996 , -0.9897135 , -0.2118408 , -0.40240002,\n",
       "        -0.03322491,  0.05533963,  1.1073511 , -0.21227784,  0.11157459,\n",
       "         0.47288108, -0.13904333, -0.0699634 , -0.0815319 , -0.6498594 ,\n",
       "         0.7417155 , -0.6391268 ], dtype=float32),\n",
       " &#39;ferociously&#39;: array([-0.27904558, -0.36154994, -0.18091287, -0.12245227,  0.29387787,\n",
       "        -0.5030746 , -0.3310287 , -0.04494695,  0.20014766, -0.16283315,\n",
       "         0.3462025 ,  0.29771224,  0.0333282 , -0.4692678 , -0.535587  ,\n",
       "         0.31012383,  0.14867237, -0.28386712,  0.13156615,  0.00990989,\n",
       "        -0.45410267,  0.13149014, -0.3495005 , -0.08632485, -0.05643212,\n",
       "        -0.1823019 , -0.06417308, -0.25276408, -0.27774376,  0.14394122,\n",
       "         0.08705873,  0.25201538], dtype=float32),\n",
       " &#39;acronym&#39;: array([-0.1140045 ,  0.02009822,  0.31848454,  0.2073464 ,  0.30112937,\n",
       "        -0.03182152,  0.12942179, -0.33384666,  0.03430433,  0.22288595,\n",
       "         0.06281365,  0.4511275 ,  0.5536648 ,  0.05243498, -0.03070048,\n",
       "        -0.20563348, -0.22642232, -0.331992  ,  0.52823794, -0.02034442,\n",
       "         0.10267737, -0.6173153 ,  0.15538661,  0.02215047, -0.43993512,\n",
       "        -0.06118355,  0.02772158,  0.52853656,  0.5119356 ,  0.2322211 ,\n",
       "        -0.01015088,  0.13727644], dtype=float32),\n",
       " &#39;boutiques&#39;: array([ 0.325779  , -0.15143034,  0.51258814, -0.09631988, -0.45662865,\n",
       "         0.33334327, -0.09483923, -0.21587186, -0.07095072, -0.14137778,\n",
       "         0.2218664 , -0.1214084 , -0.1413816 , -0.21901847, -0.23945297,\n",
       "        -0.11789271, -0.15324542,  0.01963486,  0.34104842,  0.20677347,\n",
       "        -0.20824751,  0.03996664,  0.4387171 ,  0.32987309, -0.31467384,\n",
       "         0.01990562, -0.06115663,  0.05601234,  0.46664536,  0.6308646 ,\n",
       "         0.4973729 , -0.15295069], dtype=float32),\n",
       " &#39;foolproof&#39;: array([-0.18999983,  0.07878778, -0.05339523, -0.35682046, -0.20297147,\n",
       "        -0.69375086,  0.06506417,  0.0050682 , -0.12008963, -0.2525717 ,\n",
       "         0.6355292 ,  0.36803943,  0.54019094,  0.25096348, -0.2885295 ,\n",
       "         0.13799366,  0.1407956 , -0.25726706, -0.08894935, -0.40681592,\n",
       "         0.37169024, -0.67733926,  0.02363476, -0.06927778,  0.04420363,\n",
       "        -0.1475098 , -0.37288305,  0.43261638,  0.09201355,  0.21327184,\n",
       "        -0.22585668,  0.34293762], dtype=float32),\n",
       " &#39;youthful&#39;: array([-0.1813921 , -0.02723463,  0.5132549 , -0.65195453,  0.6432381 ,\n",
       "         0.23168185, -0.12563424,  0.6522922 ,  0.5627673 , -0.64877594,\n",
       "         0.17923588,  0.16366765,  0.46369195,  0.15918638, -0.61143106,\n",
       "         0.11782364, -0.15999041, -0.6971242 ,  0.24828158, -0.18317743,\n",
       "        -0.55458707,  0.06363174, -0.11913877, -0.07430334,  0.19043924,\n",
       "        -0.1619583 , -0.44015434, -0.42098272, -0.5424945 ,  0.50282556,\n",
       "        -0.04861576,  0.15994138], dtype=float32),\n",
       " &#39;sinister&#39;: array([ 0.009769  , -0.0084774 ,  0.16458263, -0.3683676 ,  0.48945168,\n",
       "        -0.12414259, -0.12073544,  0.3721861 ,  0.1806827 , -0.4771579 ,\n",
       "         0.5093353 ,  0.4230626 ,  0.11421888, -0.15642366, -0.4145489 ,\n",
       "        -0.14277127, -0.02790792, -0.27503574,  0.14561348, -0.4042978 ,\n",
       "         0.02577997,  0.00147858,  0.08206154, -0.1329632 , -0.08995955,\n",
       "        -0.05853243, -0.46903294,  0.31113926,  0.01597389,  0.1229652 ,\n",
       "        -0.11887584,  0.10865279], dtype=float32),\n",
       " &#39;comply&#39;: array([-0.35103354,  0.15752211,  0.5638464 ,  0.08588525,  0.5804793 ,\n",
       "        -0.04654214,  0.09623057,  0.44704127,  0.57838356,  0.26921877,\n",
       "         0.51804835,  0.896121  ,  0.25232327,  0.55495006, -0.16009466,\n",
       "         0.04595953, -0.6080841 , -0.6674694 ,  0.39325944, -0.02062304,\n",
       "         0.2589943 , -0.27934098, -0.04976619,  0.50891316,  0.2572921 ,\n",
       "        -0.1642126 , -0.00646646, -0.01246537, -0.15054359, -0.23888339,\n",
       "        -0.3328072 , -0.28658527], dtype=float32),\n",
       " &#39;healings&#39;: array([-0.58833313, -0.30214396, -0.00741635, -0.01441115,  0.5508966 ,\n",
       "         0.20708111, -0.21507627, -0.19093059,  0.35868096, -0.04215365,\n",
       "        -0.25262535,  0.34782118, -0.11633871,  0.28825587, -0.0197554 ,\n",
       "         0.1901601 , -0.07423483, -0.5159307 ,  0.2529723 , -0.07668882,\n",
       "         0.11548641, -0.33256456, -0.23038177,  0.11756809, -0.32150742,\n",
       "        -0.18414606,  0.23551333, -0.36259326, -0.41350552, -0.08352289,\n",
       "        -0.8125856 ,  0.2616416 ], dtype=float32),\n",
       " &#39;marrer&#39;: array([ 0.43888566, -0.23166722,  0.1975759 , -0.6692432 , -0.45838112,\n",
       "         0.8262114 , -0.5084805 , -0.14863937,  0.17765178, -0.23925065,\n",
       "         0.59862787,  0.05738614, -0.59958935, -0.51482886, -0.15079172,\n",
       "        -0.06986005, -0.29901123,  0.06220233,  0.9689204 , -0.15761042,\n",
       "        -0.16706912,  0.06720687,  1.2678515 ,  0.98574   , -0.43538782,\n",
       "         0.76622933,  0.325555  , -0.4904326 ,  1.3004324 ,  0.9340377 ,\n",
       "        -0.2934647 ,  0.4155202 ], dtype=float32),\n",
       " &#39;ebb&#39;: array([ 0.36898857, -0.18600604,  0.77160317,  0.1289192 ,  0.6746739 ,\n",
       "        -0.04307798,  0.03310842, -0.1401988 ,  0.44166026, -0.4010562 ,\n",
       "         0.0029587 ,  0.74638593,  0.1120081 , -0.36156097, -0.49301225,\n",
       "         0.17174943, -0.23941879,  0.32234377,  1.0407574 , -0.30968878,\n",
       "        -0.44217235,  0.39354652, -0.23450547, -0.0646771 ,  0.11646356,\n",
       "        -0.19715625, -0.4157798 ,  0.19517882, -0.23043844,  0.36015677,\n",
       "         0.29870194, -0.26841938], dtype=float32),\n",
       " &#39;breaks&#39;: array([ 0.0141001 , -0.54068106, -0.335291  , -0.20307264,  0.73930603,\n",
       "         0.18457457, -0.09594862, -0.2885252 ,  0.07380371, -0.11986803,\n",
       "         0.25545818,  0.0266863 ,  0.11947649, -0.25666252, -0.43933097,\n",
       "         0.40861952, -0.0498828 ,  0.14343171, -0.16855574, -0.31103784,\n",
       "        -0.5011075 , -0.35934347, -0.34182745,  0.09522498, -0.19958487,\n",
       "        -0.32317096, -0.14860801, -0.29531416, -0.18242185,  0.3460018 ,\n",
       "        -0.08551182, -0.04617084], dtype=float32),\n",
       " &#39;mesmo&#39;: array([ 0.5204392 ,  0.43625146,  0.394509  ,  0.604337  , -0.9496902 ,\n",
       "         1.9383398 ,  0.93978715, -0.10255443,  0.18933442, -0.30218795,\n",
       "         0.6031286 ,  0.94350207, -0.235772  , -0.47199628, -0.09954789,\n",
       "        -1.125567  ,  0.56354386,  0.53636587, -1.178841  ,  0.04840208,\n",
       "        -0.35925135,  0.16090737,  0.2578932 ,  0.56908774, -0.03717409,\n",
       "         0.3258608 , -1.0255305 , -1.3834275 , -0.12688379,  1.1546764 ,\n",
       "        -0.7332436 ,  0.37204176], dtype=float32),\n",
       " &#39;pitallon&#39;: array([ 0.18280593, -0.4146118 ,  0.5124775 , -0.07032706, -0.49517304,\n",
       "         0.7604703 , -0.0688675 , -0.2845717 , -0.50990105, -0.0962613 ,\n",
       "        -0.21520285,  0.3832879 , -0.31804094, -0.5983546 , -0.17500393,\n",
       "        -0.90114826, -0.17133453, -0.07676266, -0.01647423,  0.5786914 ,\n",
       "         0.38820264, -0.10861044, -0.21076503, -0.04307947,  0.38088724,\n",
       "         0.06190556,  0.14704518,  0.11471909,  0.36949834,  0.5150162 ,\n",
       "         0.35849962,  0.03156244], dtype=float32),\n",
       " &#39;mafioso&#39;: array([ 0.32918644, -0.11568047,  0.53660685,  0.00954297, -0.39110324,\n",
       "         0.14355507, -0.07729814, -0.41853347,  0.14231433, -0.09335334,\n",
       "        -0.3363587 ,  0.25525686,  0.14592962, -0.49883354, -0.19241442,\n",
       "        -0.76509887,  0.24968041, -0.20022845,  0.32423383,  0.07027353,\n",
       "         0.5592915 , -0.22883426, -0.07144948,  0.30729184,  0.2812664 ,\n",
       "        -0.20117584,  0.34471208,  0.3056767 ,  0.35748732,  0.00819167,\n",
       "         0.20457874,  0.35817823], dtype=float32),\n",
       " &#39;10304&#39;: array([ 0.24883556,  0.42628327,  0.49187988,  0.15670665,  0.12533224,\n",
       "         0.16352072,  0.04474738, -0.31533784, -0.07454532, -0.34831837,\n",
       "        -0.10901945, -0.08392151,  0.34535015,  0.3908019 , -0.37538376,\n",
       "        -0.1892487 , -0.38152444,  0.3355942 ,  0.5697047 , -0.24337907,\n",
       "         0.15188853, -0.43133488, -0.01881559,  0.0846958 , -0.30984622,\n",
       "        -0.00213694, -0.55537516,  0.31286216,  0.41268307,  0.1430408 ,\n",
       "         0.01539449,  0.427613  ], dtype=float32),\n",
       " &#39;bumdum&#39;: array([-0.17113417,  0.11182827,  0.08375455, -0.589983  ,  0.29745927,\n",
       "         0.8366332 , -0.0297457 , -0.2341662 , -0.10049175,  0.6960304 ,\n",
       "         0.76763   , -0.15995832,  0.8206168 , -0.27616158, -0.567752  ,\n",
       "        -0.21903007, -0.6082342 , -0.99378145,  0.09147087, -1.2211443 ,\n",
       "        -0.41791838, -0.8098754 , -0.30544814, -0.507568  , -0.4198234 ,\n",
       "         0.25924534,  0.20508055,  0.33796144,  0.11239431,  0.48584142,\n",
       "         0.48999643,  0.3561203 ], dtype=float32),\n",
       " &#39;cooome&#39;: array([-0.04195476, -0.07636774, -0.33129308, -0.27051103,  0.8570508 ,\n",
       "        -0.411554  ,  0.3693616 , -0.49585015,  0.28252867, -0.43137062,\n",
       "        -0.21626084,  0.6801107 , -0.59665596,  0.14233506, -0.48485497,\n",
       "         0.2182302 ,  0.20012999,  0.15097316, -0.15224381, -0.55057025,\n",
       "        -0.07033472, -0.4429314 ,  0.1323601 , -0.48718163, -0.9347426 ,\n",
       "         0.27650157, -0.00738543, -0.18756646, -0.69696903,  0.13776742,\n",
       "        -1.1938006 ,  0.1388686 ], dtype=float32),\n",
       " &#39;sneezed&#39;: array([ 0.04346411,  0.06188048,  0.28365007,  0.11970149,  0.00646283,\n",
       "        -0.11528736,  0.04313412, -0.57559514, -0.02478607,  0.17493449,\n",
       "         0.47209138,  0.29171348,  0.4372539 , -0.1991708 , -0.33036253,\n",
       "         0.4884579 , -0.01818154, -0.1291039 , -0.33087036,  0.21860646,\n",
       "         0.01094185, -0.46909922,  0.15728422, -0.14763905, -0.8570386 ,\n",
       "        -0.03456938, -0.03068441,  0.2462483 , -0.02695795,  0.05691154,\n",
       "         0.07194127,  0.4476308 ], dtype=float32),\n",
       " &#39;forgotten&#39;: array([ 0.1745642 ,  0.10786211, -0.0355546 , -0.2474274 , -0.11371051,\n",
       "        -0.329184  , -0.47433078,  0.3282037 ,  0.4438022 , -0.47651306,\n",
       "         0.2968476 ,  0.4845079 ,  0.23478359,  0.18556073, -0.46211877,\n",
       "         0.38973173, -0.29760063, -0.26378787, -0.10896426,  0.16632022,\n",
       "        -0.1323169 ,  0.01246565, -0.41785172,  0.06488531,  0.0357076 ,\n",
       "\n",
       "*** WARNING: skipped 457232 bytes of output ***\n",
       "\n",
       "        -0.06869521, -0.3758711 ,  0.38459975, -0.09652046, -0.13178359,\n",
       "         0.6507864 ,  0.18610422, -0.07927527, -0.37289447, -0.4905838 ,\n",
       "        -0.09764334, -0.36264136, -0.775653  ,  1.0127523 , -0.13382709,\n",
       "        -0.13007635,  0.04692055,  0.420384  ,  0.59866583, -0.1602673 ,\n",
       "         0.5394217 ,  0.10554533,  0.06979305,  0.46907508,  0.6633489 ,\n",
       "        -0.45688495, -0.04817239], dtype=float32),\n",
       " &#39;línea&#39;: array([ 0.09181243, -0.24636841,  0.42650005,  0.12772062, -0.55595434,\n",
       "         1.029756  , -0.24495037,  0.06989285,  0.11236323,  0.00745295,\n",
       "        -0.508593  ,  0.26554313, -0.58732325, -0.7925248 , -0.15973665,\n",
       "        -1.5086726 , -0.2194039 , -0.26427194,  0.39182064,  1.0167047 ,\n",
       "         0.48760483, -0.7254637 , -0.3529228 ,  0.4576629 ,  0.9658773 ,\n",
       "         0.19254369, -0.09973264,  0.21984525,  0.3574941 ,  0.10489392,\n",
       "         0.09979215,  0.64125776], dtype=float32),\n",
       " &#39;murmur&#39;: array([-0.27352688, -0.9135157 ,  0.13090746, -0.10827548,  0.09794687,\n",
       "        -0.46153387, -0.17844553, -0.35239404,  0.15932766, -0.35587928,\n",
       "         0.65495074,  0.64861375, -0.07102977, -0.43634284, -0.22363548,\n",
       "         0.0124231 , -0.39028034, -0.48132998,  0.36019468,  0.05862486,\n",
       "        -0.63693106,  0.46988106,  0.15556091, -0.2734565 , -0.05612943,\n",
       "         0.38610446,  0.1724172 ,  0.99872446, -0.30968547,  0.62051576,\n",
       "         0.29051518, -0.12823632], dtype=float32),\n",
       " &#39;shelves&#39;: array([-0.0923009 , -0.08469123,  0.14960404, -0.2809692 ,  0.27324864,\n",
       "         0.3675551 ,  0.1856549 ,  0.6505833 ,  0.6655568 , -0.26764145,\n",
       "         0.4039718 ,  0.19538146,  0.02800512, -0.15849493, -0.9247416 ,\n",
       "         0.51321626, -0.4651275 ,  0.18666092,  0.05899785,  0.27879992,\n",
       "         0.18550111,  0.2465477 ,  0.3580558 ,  0.2591241 ,  0.11594207,\n",
       "        -0.23894918, -0.56559134,  0.4587468 , -0.18303686,  0.36081958,\n",
       "         0.10765191, -0.06713475], dtype=float32),\n",
       " &#39;dente&#39;: array([ 0.90805733,  0.37018248,  0.5138638 ,  0.39019394, -0.755583  ,\n",
       "         1.2900978 ,  0.96881044,  0.12087744,  0.30112085, -0.13518368,\n",
       "         0.34389865,  0.5465844 ,  0.10691224, -0.56379265, -0.36656356,\n",
       "        -1.0746098 ,  0.07885373, -0.06408454, -0.66979456, -0.25563544,\n",
       "        -0.4633243 , -0.20266165,  0.35626146,  0.55797845,  0.00982391,\n",
       "         0.29901782, -0.10982848, -0.5875486 ,  0.02400436,  0.90467685,\n",
       "        -0.6048352 ,  0.01349952], dtype=float32),\n",
       " &#39;medias&#39;: array([-0.12007568, -0.4807513 ,  0.10606507, -0.2753926 , -0.36842683,\n",
       "         0.52912056,  0.2585998 , -0.24106942, -0.07028036, -0.14029796,\n",
       "        -0.06362113,  0.31013954,  0.11546481, -0.5194498 ,  0.1279269 ,\n",
       "        -0.8087731 , -0.06729528, -0.31380546,  0.2610557 ,  0.3730629 ,\n",
       "         0.40496045, -0.15470347,  0.18799347, -0.03896381,  0.44464365,\n",
       "        -0.3589489 ,  0.17914887,  0.18118553,  0.23598248,  0.3733296 ,\n",
       "         0.1568511 ,  0.3664396 ], dtype=float32),\n",
       " &#39;pídeme&#39;: array([ 0.703855  ,  0.7528481 ,  1.6559825 , -0.8865699 ,  0.31884792,\n",
       "         1.1909502 , -0.20985083, -0.61842805, -0.5580625 , -0.14392537,\n",
       "        -0.6591851 ,  0.24108861, -0.82791966, -1.142184  ,  0.15147905,\n",
       "        -1.4225682 ,  0.6415546 ,  0.67955506, -0.23539172,  0.2878423 ,\n",
       "        -0.27469707,  0.24139087, -0.7053727 ,  1.5974698 ,  0.92474926,\n",
       "        -0.01044459,  0.05527314, -0.51449186,  0.00444332, -0.07861767,\n",
       "         1.0354589 ,  0.8803389 ], dtype=float32),\n",
       " &#39;briga&#39;: array([ 0.81249243,  0.6777565 ,  0.8394485 ,  0.44426364, -0.63681716,\n",
       "         1.1190456 ,  1.0058877 ,  0.21293817,  0.22416708, -0.31751892,\n",
       "         0.80352455,  0.35497615, -0.07435305, -0.41913843, -0.4830451 ,\n",
       "        -1.7200776 ,  0.20297943,  0.30525997, -0.5446681 ,  0.03172068,\n",
       "        -0.24653241,  0.07144476,  0.34442976,  0.6059735 , -0.2844365 ,\n",
       "         0.5927583 , -0.33427614, -0.6273765 ,  0.05744486,  1.064191  ,\n",
       "        -0.500911  ,  0.29569554], dtype=float32),\n",
       " &#39;retarme&#39;: array([ 0.65140903,  0.20026577,  0.35453203, -0.33429325, -0.38093328,\n",
       "         0.6881157 , -0.09633172,  0.3351743 ,  0.05604514, -0.52124244,\n",
       "        -0.00387771,  0.19847964, -0.56602246, -0.7290213 ,  0.42494538,\n",
       "        -1.436342  ,  0.00592684,  0.01659426,  0.11685695, -0.00855841,\n",
       "         0.57636005, -0.22219639, -0.21074525,  0.5966393 ,  0.45555037,\n",
       "         0.3534143 ,  0.18429898,  0.04324408,  0.11723343,  0.03478285,\n",
       "         0.30379036,  0.02019396], dtype=float32),\n",
       " &#39;bitchy&#39;: array([ 0.18877278,  0.5080131 ,  0.47357708, -0.22090945, -0.03105143,\n",
       "         0.2677074 ,  0.20988166, -0.07490446, -0.06315314, -0.56718594,\n",
       "         0.05835982, -0.06503876,  0.4702388 ,  0.15559563, -0.2638049 ,\n",
       "         0.11198959, -0.3073135 , -0.25521585,  0.08542788, -0.3143161 ,\n",
       "         0.40760526, -0.29305202,  0.02102129,  0.23918092, -0.7939515 ,\n",
       "         0.00914807, -0.12252168,  0.58144784,  0.50355273,  0.03251087,\n",
       "         0.7431498 ,  0.32934898], dtype=float32),\n",
       " &#39;paralytic&#39;: array([-0.09121232, -0.1625323 ,  0.78582376, -0.25326523, -0.53824466,\n",
       "         0.05981819, -0.5264272 ,  0.2657011 ,  0.4700609 ,  0.03361367,\n",
       "         0.38459024,  0.0019294 ,  0.4117945 , -0.16403253, -0.43314525,\n",
       "         0.35195124, -0.08525722, -0.06250347, -0.38990235, -0.09359861,\n",
       "        -0.4317174 ,  0.14284857, -0.18464902, -0.16577455, -0.53914946,\n",
       "        -0.00139097, -0.2547151 ,  0.23729758,  0.04635292,  0.29617748,\n",
       "        -0.0731525 ,  0.38303497], dtype=float32),\n",
       " &#39;jae&#39;: array([ 0.21505688,  0.87265146,  1.1879843 ,  0.8793516 , -0.38203925,\n",
       "         0.16724361, -0.40854567, -0.18483622,  0.14088267,  0.24997206,\n",
       "        -0.18752958, -0.5739159 ,  0.23898587, -0.52582383, -0.74732065,\n",
       "         0.01288068,  0.15821074, -0.6482205 ,  0.33051878, -0.41956064,\n",
       "         0.20703626, -0.21247327,  0.41816106, -0.35329148, -0.7608838 ,\n",
       "        -0.03429971, -0.35111126, -0.11157438,  0.9124179 , -0.14675213,\n",
       "        -0.131084  ,  0.10188109], dtype=float32),\n",
       " &#39;forgetmenots&#39;: array([ 0.23731159, -0.513194  ,  0.05805535, -0.20085302,  0.05833726,\n",
       "        -0.3054782 , -0.3454716 , -0.2030321 ,  0.51113576,  0.4117951 ,\n",
       "         0.64546245,  0.10245232,  0.26635548,  0.13853796, -0.1280657 ,\n",
       "         0.01082712, -0.36919922, -0.1279877 ,  0.09297393, -0.0882386 ,\n",
       "        -0.5608402 ,  0.27126518, -0.25645974, -0.14537558,  0.29346058,\n",
       "        -0.25370336, -0.14749339,  0.36597365, -0.18376026,  0.31203973,\n",
       "         0.6911431 ,  0.61857855], dtype=float32),\n",
       " &#39;saludan&#39;: array([ 0.3266625 , -0.1484085 ,  0.46093884, -0.23348643, -0.6467375 ,\n",
       "         0.24854657, -0.19217265, -0.39568162, -0.10830405, -0.22815172,\n",
       "        -0.52176905,  0.79548717,  0.0305248 , -0.5293973 , -0.08504247,\n",
       "        -1.3123754 ,  0.05742928, -0.3245779 , -0.06825611,  0.3141582 ,\n",
       "         0.5669825 , -0.4595016 ,  0.09555893,  0.22152117,  0.572266  ,\n",
       "         0.01793147,  0.11963421,  0.3155958 ,  0.42801017, -0.36609748,\n",
       "         0.35028237,  0.6097885 ], dtype=float32),\n",
       " &#39;jrappe&#39;: array([-0.28097692,  0.14585139,  0.42696896, -0.96182084, -0.7407562 ,\n",
       "         0.7631782 , -0.5681822 , -0.2521441 , -0.26740932,  0.3486162 ,\n",
       "         0.33144465,  0.2516954 , -0.14874938,  0.08818061, -0.08074322,\n",
       "        -0.18844779, -0.43714148, -0.07069212,  0.8873603 ,  0.4557388 ,\n",
       "        -0.4168782 ,  0.24637619,  0.9597722 ,  0.9342231 , -0.45178297,\n",
       "         1.0540749 ,  0.07498237, -0.16567448,  1.5157734 ,  0.5276991 ,\n",
       "         0.01061176,  0.13728918], dtype=float32),\n",
       " &#39;figment&#39;: array([-0.71488136,  0.23113255, -0.09265167, -0.6860152 ,  0.45340875,\n",
       "        -0.13280077, -0.16616991,  0.62322634, -0.32738566, -0.43590495,\n",
       "         1.0965381 ,  0.42783737,  0.8513243 , -0.16651367,  0.03855793,\n",
       "        -0.5517331 , -0.53887695, -0.6098026 ,  0.23976564, -0.3046136 ,\n",
       "        -0.13980453,  0.28490174, -0.03277964,  0.1650235 , -0.5477258 ,\n",
       "        -0.3344931 , -0.30493337,  0.01032445, -0.33005646, -0.06568436,\n",
       "         0.11344106,  0.03414799], dtype=float32),\n",
       " &#39;togli&#39;: array([ 0.8660616 ,  0.33906433,  0.41752312,  0.45778885, -0.26048675,\n",
       "        -0.15933707,  0.49048564, -0.8142423 , -0.11889984, -1.2597363 ,\n",
       "         0.40106344, -0.29605097, -0.3434191 , -0.7172339 , -0.817178  ,\n",
       "        -1.123412  ,  0.00202765, -0.3212402 ,  0.7685407 ,  0.44788375,\n",
       "         0.02962297,  0.6627779 ,  1.1726127 ,  0.34817615,  0.44446206,\n",
       "         1.469376  ,  0.1753871 , -1.4003043 , -0.44842744, -0.10740656,\n",
       "        -0.00217701,  0.56562996], dtype=float32),\n",
       " &#39;mutter&#39;: array([-0.9042229 ,  0.04523276,  1.0428863 , -0.10778541,  0.23516442,\n",
       "         0.27293307,  0.35866296, -0.5504709 , -0.08518078, -0.7292575 ,\n",
       "         0.05732033, -0.2458567 , -0.8716398 ,  0.00147423, -0.4034311 ,\n",
       "        -0.0417602 , -0.6230421 , -0.8959    ,  0.20325786,  0.90686923,\n",
       "        -0.2539008 ,  0.21696946, -0.05190056, -0.17116518, -0.68941015,\n",
       "         0.48032916, -0.40521893, -0.01410672, -0.46789148,  0.8419442 ,\n",
       "         0.56423676, -0.9088275 ], dtype=float32),\n",
       " &#39;apareció&#39;: array([-0.05107928, -0.61577463, -0.16325833,  0.43701646, -0.40234807,\n",
       "         0.795193  ,  0.02260746, -0.2448846 , -0.03512764,  0.3459668 ,\n",
       "        -0.03406068,  0.80802387, -0.59398276, -0.7231013 , -0.01675215,\n",
       "        -1.1902629 , -0.07208086, -0.3748046 , -0.06596997,  0.61361384,\n",
       "         0.26376972, -0.41390097,  0.03606611, -0.11390631,  1.329614  ,\n",
       "         0.48081213, -0.28698057,  0.7143664 ,  0.4023285 ,  0.46419802,\n",
       "         0.03501307,  0.5597619 ], dtype=float32),\n",
       " &#39;bootay&#39;: array([-0.16350302,  0.24957287,  0.21434775,  0.32405442, -0.15857016,\n",
       "        -0.14911322, -0.01359125, -0.09813825, -0.04314356,  0.00204718,\n",
       "         0.00679093, -0.26910862, -0.03612107,  0.01040024, -0.20234023,\n",
       "        -0.07965702, -0.38151023, -0.38395348, -0.24095264, -0.0685583 ,\n",
       "         0.17806877, -0.09002531,  0.299822  , -0.112524  , -0.7470639 ,\n",
       "        -0.11012556, -0.02496533,  0.24483785, -0.03197652, -0.00952152,\n",
       "         0.19665934,  0.3634653 ], dtype=float32),\n",
       " &#39;piense&#39;: array([ 0.3281221 , -0.18840192,  0.57760817, -0.21883368, -0.5169172 ,\n",
       "         0.45397785, -0.6971343 , -0.5952705 , -0.11432233,  0.13687882,\n",
       "        -0.46884498,  0.40717468, -0.86124516, -0.6686775 ,  0.5797084 ,\n",
       "        -1.3502402 ,  0.78516376,  0.16897017,  0.11157053,  0.24528864,\n",
       "         0.35661477,  0.014364  , -0.47550312,  0.7791016 ,  0.5329154 ,\n",
       "        -0.33249044, -0.69100577, -0.1902947 ,  0.34682757,  0.02242077,\n",
       "         0.18671496,  0.80337095], dtype=float32),\n",
       " &#39;acabarme&#39;: array([ 0.51047075, -0.22177406,  0.10689116, -0.19395153, -0.30421236,\n",
       "         0.2947181 , -0.29762033, -0.27443954, -0.2666474 , -0.44075596,\n",
       "        -0.24792856,  0.36388117, -0.02554119, -0.8360373 ,  0.35004875,\n",
       "        -1.0745988 , -0.27792677, -0.20865603, -0.02600129,  0.35444626,\n",
       "         0.21055882, -0.04243204, -0.10438599,  0.65263885,  0.2558701 ,\n",
       "        -0.21189593,  0.33127677,  0.33182773,  0.130787  , -0.13240723,\n",
       "         0.47312656,  0.6114083 ], dtype=float32),\n",
       " &#39;eazys&#39;: array([-0.05355824,  0.65629977,  0.42707604,  0.12488975,  0.10154765,\n",
       "         0.07698645,  0.19839592,  0.04879676,  0.02645679, -0.42376554,\n",
       "         0.20055936,  0.25410455,  0.3733574 , -0.16366841,  0.19022708,\n",
       "         0.0032539 , -0.26647723, -0.04857424, -0.06309764, -0.5690407 ,\n",
       "         0.30968493, -0.19560707,  0.09139034, -0.10123276, -0.18463933,\n",
       "         0.04960011, -0.11687908, -0.05836644,  0.18949531,  0.28960326,\n",
       "         0.06241574,  0.43281135], dtype=float32),\n",
       " &#39;easin&#39;: array([ 0.46351787,  0.02543922, -0.284218  , -0.76125646,  1.3470638 ,\n",
       "         0.24376503, -0.5128989 , -0.2715378 , -0.9704747 ,  0.17004357,\n",
       "         0.3597368 , -0.15710625,  0.5230792 ,  0.55884   , -0.48393008,\n",
       "        -0.36007592,  0.6248438 , -0.67311746,  0.03415877,  0.15351841,\n",
       "        -0.21827674, -0.49357468, -0.6557307 ,  0.74282664, -1.7821352 ,\n",
       "         1.2028162 , -0.38242787,  1.7242272 , -0.4568848 ,  1.4266235 ,\n",
       "         1.0697225 , -0.10010829], dtype=float32),\n",
       " &#39;beautiful&#39;: array([-0.39835227,  0.18081614, -0.4367571 ,  0.10278798,  0.25226006,\n",
       "        -0.22415172, -0.62251186,  0.30016014, -0.2537549 , -0.4195883 ,\n",
       "         0.19566214,  0.37385088,  0.1640637 ,  0.32307094, -0.24718331,\n",
       "         0.0209075 , -0.24466553, -0.4678366 , -0.5225186 , -0.32960424,\n",
       "        -0.5706371 ,  0.3667088 , -0.11189247, -0.22264703,  0.26598617,\n",
       "        -0.31181562, -0.09034311,  0.05966274, -0.07643203,  0.23056847,\n",
       "         0.05226559,  0.20743741], dtype=float32),\n",
       " &#39;mojito&#39;: array([ 5.28267443e-01, -8.52665082e-02,  4.53425258e-01, -2.25770518e-01,\n",
       "        -3.15947056e-01,  5.79312503e-01, -7.29051530e-02,  1.60615018e-05,\n",
       "         3.85294370e-02, -1.07809706e-02, -3.91797036e-01,  9.16936435e-03,\n",
       "        -3.34348887e-01, -5.42446494e-01,  2.43105307e-01, -7.31815457e-01,\n",
       "        -2.09457561e-01, -5.45805812e-01,  2.53945798e-01, -2.29237944e-01,\n",
       "         4.50089395e-01, -1.15042172e-01,  5.33476651e-01,  7.05592513e-01,\n",
       "        -2.85338257e-02, -1.05777375e-01,  3.45793128e-01,  2.06702873e-01,\n",
       "         5.79080403e-01,  5.07475019e-01,  6.89801514e-01,  8.46642613e-01],\n",
       "       dtype=float32),\n",
       " &#39;thunderhearts&#39;: array([ 0.13425831, -0.2741501 ,  0.31775987,  1.1862673 ,  0.03458445,\n",
       "        -0.06519002,  0.06336389, -0.16973339,  0.7051382 , -0.615709  ,\n",
       "        -0.8031037 ,  0.20212966, -0.19790517, -0.1363595 , -0.2791633 ,\n",
       "         0.692249  ,  0.23064351, -0.36717436,  0.00424221, -0.1260803 ,\n",
       "        -0.11866653, -0.7800371 ,  0.17823063,  0.50259084,  0.9811002 ,\n",
       "        -0.64849746, -0.4554347 , -0.11777008, -0.9001586 , -1.3099066 ,\n",
       "        -0.32935694,  0.03699758], dtype=float32),\n",
       " &#39;sock&#39;: array([ 0.0657205 , -0.2286736 ,  0.13489419, -0.06396668,  0.6887208 ,\n",
       "         0.16870943,  0.3498658 , -0.25315776, -0.20252386,  0.28022966,\n",
       "         0.39113992, -0.01086645,  0.14631037, -0.42327163, -0.52932984,\n",
       "         0.18794571, -0.31947517,  0.14562471, -0.188412  , -0.44176415,\n",
       "         0.27079567, -0.7928059 ,  0.25013587,  0.41520742, -0.6465796 ,\n",
       "         0.18502906, -0.2256845 ,  0.294278  , -0.09744862,  0.20368443,\n",
       "         0.10468726,  0.20152907], dtype=float32),\n",
       " &#39;sequía&#39;: array([ 0.3751946 , -0.19406793,  0.11789321, -0.2869439 , -0.23907237,\n",
       "         0.4893695 , -0.35606408, -0.16384363, -0.41369644, -0.1070381 ,\n",
       "        -0.05914441,  0.47732106, -0.7013087 , -0.7554011 , -0.08077914,\n",
       "        -1.4273629 ,  0.05219002, -0.27826303,  0.1798346 ,  0.11914008,\n",
       "         0.57334846, -0.273761  , -0.3103488 ,  0.07068855,  0.6534152 ,\n",
       "        -0.01009445,  0.38265544, -0.08946609,  0.25114098,  0.19592106,\n",
       "         0.13690074,  0.2516112 ], dtype=float32),\n",
       " &#39;بس&#39;: array([ 0.81205463, -1.4215426 ,  0.30339512,  1.0541553 , -1.0673633 ,\n",
       "         0.22281209,  0.25914398, -1.2855997 , -2.274058  , -0.7455722 ,\n",
       "         0.37182057, -0.4933125 ,  0.24453714,  0.27468327, -0.5936147 ,\n",
       "        -0.98939204,  1.0864533 , -2.2045016 ,  1.3829365 , -0.02709868,\n",
       "        -0.50923616,  0.5166166 ,  2.56026   , -0.21085627,  0.80391276,\n",
       "         0.73959965, -1.1371403 ,  1.1494683 ,  0.40771967,  0.04337007,\n",
       "        -2.4442744 , -2.6698594 ], dtype=float32),\n",
       " &#39;awiting&#39;: array([ 0.77645534, -0.30963296,  1.3948201 ,  0.94061446, -1.339043  ,\n",
       "         0.03432105, -0.23435424, -1.2457047 , -0.934316  , -0.12752256,\n",
       "        -0.02972263, -0.4308902 ,  1.2937716 , -0.5845826 , -0.49125993,\n",
       "         0.07161228,  0.29869783, -1.4464592 ,  0.5315393 ,  0.3513044 ,\n",
       "         0.35693172, -0.48895934, -0.36198965,  1.0765752 ,  0.07046086,\n",
       "         0.9754033 , -0.33349067, -0.70484227,  0.5577173 , -0.37251592,\n",
       "        -0.8780748 , -0.48968554], dtype=float32),\n",
       " &#39;severs&#39;: array([-0.13782604, -0.22060718,  0.17438002,  0.04038271,  0.47182828,\n",
       "        -0.10623404, -0.17021552,  0.09716431, -0.31711087, -0.43790138,\n",
       "         0.1046965 ,  0.20315693,  0.15608236, -0.5342152 , -0.33073542,\n",
       "         0.18315174, -0.05866248, -0.10293078,  0.03385688, -0.46920708,\n",
       "        -0.22729273, -0.05409871, -0.12807119,  0.3498746 , -0.22408335,\n",
       "        -0.2020592 , -0.06890092, -0.23616672, -0.43203753,  0.44581702,\n",
       "         0.06401028,  0.09019306], dtype=float32),\n",
       " &#39;respiración&#39;: array([ 2.20792353e-01, -3.63042325e-01,  3.17623764e-01, -2.98566908e-01,\n",
       "        -1.46437719e-01,  1.00258684e+00, -5.74004114e-01, -3.92022938e-01,\n",
       "         6.90447851e-05, -4.67394246e-03, -2.49604300e-01,  6.45873010e-01,\n",
       "        -5.97394705e-01, -1.03714657e+00,  1.50497973e-01, -1.22184646e+00,\n",
       "        -1.88160628e-01,  8.69576260e-02, -2.67919064e-01,  6.48950756e-01,\n",
       "         5.29320419e-01, -4.24599707e-01, -1.51599392e-01,  3.52231920e-01,\n",
       "         1.21147871e+00,  2.88571686e-01, -3.04896504e-01,  1.07483685e-01,\n",
       "         1.61505805e-03,  3.65021988e-03,  5.83139598e-01,  5.90891004e-01],\n",
       "       dtype=float32),\n",
       " &#39;yokhae&#39;: array([-0.4406627 , -0.08915221,  1.5802478 , -0.2232285 , -1.0076932 ,\n",
       "         0.05242904, -0.7110598 ,  0.603365  , -0.31855834, -0.34203202,\n",
       "        -0.03742307, -0.62320477,  0.30422086,  0.04891517, -0.6413407 ,\n",
       "        -0.04386937,  0.936572  , -1.4371915 , -0.9170286 ,  0.19551767,\n",
       "        -0.09072366,  0.14845167,  1.57925   , -0.05375379,  0.05490159,\n",
       "         0.1919376 , -0.41529685,  0.05542208, -0.40261453, -0.34634104,\n",
       "         0.1062683 , -0.9480552 ], dtype=float32),\n",
       " &#39;beeem&#39;: array([ 1.3148139 ,  0.9258201 ,  0.5999118 ,  1.0082649 , -1.5571272 ,\n",
       "         2.2067463 ,  1.0476861 ,  0.6200123 ,  0.4035668 , -0.29302529,\n",
       "         0.394544  ,  0.33255535,  0.57174647, -0.17963257, -0.44982535,\n",
       "        -1.3221776 ,  0.51957935,  0.42924392, -0.6137422 , -0.5657314 ,\n",
       "        -0.28250453,  0.03837076,  0.1856453 ,  1.0075914 , -0.17520842,\n",
       "         0.14737009, -0.70911014, -1.0611964 ,  0.6735943 ,  1.3170029 ,\n",
       "        -0.38629425, -0.45189175], dtype=float32),\n",
       " &#39;poly&#39;: array([ 0.92006   , -0.27754438, -0.15871349,  0.80057174, -0.0741147 ,\n",
       "         0.6344462 , -0.73927885,  0.33598202, -0.226548  , -0.40341288,\n",
       "         0.23316334,  0.15840265, -0.9172485 ,  0.00981083, -0.71341944,\n",
       "        -0.03915131, -0.28705558, -0.21876134,  0.50029147, -0.35295567,\n",
       "         0.74095035, -0.8227102 ,  1.2134157 ,  0.03170668, -1.062993  ,\n",
       "         0.12372151, -0.4039201 ,  1.0385765 , -1.029437  ,  0.36034423,\n",
       "         0.11981267,  0.5120277 ], dtype=float32),\n",
       " &#39;resistirme&#39;: array([ 0.10789795, -0.02368139,  0.19553056, -0.71605855, -0.8634473 ,\n",
       "         0.46276248, -0.3587362 , -0.5509633 , -0.5011397 ,  0.14965373,\n",
       "         0.10257362,  0.41157445,  0.06564276, -0.6391372 ,  0.5925034 ,\n",
       "        -1.6747353 , -0.40939182,  0.15459806, -0.11932115,  0.5628915 ,\n",
       "         0.64728224, -0.16855247, -0.5668059 ,  0.5956163 ,  0.26299122,\n",
       "        -0.68438965, -0.39169517, -0.27034026, -0.07477152,  0.22155029,\n",
       "         0.3603361 ,  0.36198932], dtype=float32),\n",
       " &#39;primavera&#39;: array([ 0.00952553, -0.0279784 , -0.04569111,  0.36967558, -0.4497679 ,\n",
       "         1.0051174 , -0.1776427 , -0.05803727,  0.14791745, -0.17141649,\n",
       "        -0.010159  ,  0.3257681 , -0.6739958 , -0.7130043 , -0.22580163,\n",
       "        -1.3698205 , -0.1545376 ,  0.16477345,  0.04317126,  0.41736004,\n",
       "         0.17217572, -0.52248734,  0.05262166, -0.00611995,  1.0952593 ,\n",
       "         0.5465848 , -0.27754423, -0.45897895,  0.30468425, -0.03820523,\n",
       "         0.02157872,  0.7305916 ], dtype=float32),\n",
       " &#39;roo&#39;: array([ 0.62821233,  0.00261826, -0.24066213,  1.0523248 , -0.43518588,\n",
       "         0.35543716,  0.20884134, -0.7546993 ,  0.45747882, -0.02905587,\n",
       "        -0.520664  , -0.91491354,  0.8133896 , -0.7220815 , -0.714661  ,\n",
       "        -0.35405886,  0.73319316, -1.1261151 , -0.02236036, -0.6563032 ,\n",
       "        -0.07711928, -0.54037935, -0.4775764 ,  0.19392058, -0.88102967,\n",
       "         0.6576178 , -1.024158  ,  0.18992777,  1.0098445 ,  0.47635332,\n",
       "        -0.13112462, -0.0173697 ], dtype=float32),\n",
       " &#39;playin&#39;: array([ 0.26845956, -0.3127155 ,  0.27920213,  0.17394091, -0.0780504 ,\n",
       "         0.02270938, -0.01699299, -0.06613778, -0.06313828, -0.22031666,\n",
       "         0.22727607, -0.14153492,  0.6033082 ,  0.6127376 , -0.09349322,\n",
       "         0.11687502, -0.51130307, -0.12696484,  0.02954971, -0.14583921,\n",
       "         0.34170678, -0.1722558 ,  0.09727015, -0.2815831 , -0.51837873,\n",
       "        -0.03455667, -0.57679284,  0.19138853,  0.06451017,  0.12680557,\n",
       "         0.47937384,  0.6093872 ], dtype=float32),\n",
       " &#39;apunto&#39;: array([ 0.35249564,  0.00880358,  0.305023  , -0.48100814, -0.70820177,\n",
       "         0.6863594 , -0.29417098, -0.40709233,  0.14367293, -0.3081309 ,\n",
       "        -0.0081097 ,  0.5816909 , -0.07488687, -0.6014193 ,  0.375079  ,\n",
       "        -1.4905971 , -0.17878409, -0.27987155, -0.13918848,  0.6146743 ,\n",
       "         0.5514156 , -0.28974584, -0.2741599 ,  0.23106636,  1.0345877 ,\n",
       "         0.22111045, -0.29808074, -0.17118621,  0.04692026, -0.02689076,\n",
       "         0.19086538,  0.5660925 ], dtype=float32),\n",
       " &#39;mattie&#39;: array([ 5.28370887e-02,  7.96783417e-02,  4.21897709e-01,  3.03658396e-01,\n",
       "         1.32165223e-01,  4.95438278e-01,  1.81360304e-01, -1.13309622e-01,\n",
       "         2.72697896e-01, -3.83235812e-01, -1.27705574e-01,  2.73547083e-01,\n",
       "         1.62838340e-01,  4.27614941e-06, -1.07065570e-02, -5.68470836e-01,\n",
       "        -3.17853183e-01, -7.96663344e-01,  1.49746597e-01, -3.01377714e-01,\n",
       "         3.99794206e-02, -1.06808044e-01,  5.25546186e-02, -4.68121260e-01,\n",
       "        -8.41965675e-01,  2.20651522e-01,  3.77586111e-02,  9.46602702e-01,\n",
       "         5.53411663e-01,  1.31171644e-01,  1.38972411e-02,  4.42605376e-01],\n",
       "       dtype=float32),\n",
       " &#39;demolish&#39;: array([ 0.3872163 ,  0.06293084,  0.32540965,  0.0980714 ,  0.2562831 ,\n",
       "        -0.00332627,  0.05233086, -0.06037045,  0.03540437, -0.28971905,\n",
       "         0.2440801 ,  0.3158872 ,  0.38575333, -0.4017315 , -0.25931317,\n",
       "         0.24845739, -0.3045131 , -0.10308076,  0.5217518 , -0.44275308,\n",
       "         0.16219889, -0.58144015, -0.08524529,  0.04422542, -0.07316135,\n",
       "        -0.04629113, -0.23609316,  0.33127618,  0.39514077,  0.0672204 ,\n",
       "         0.10644045, -0.13106516], dtype=float32),\n",
       " &#39;34&#39;: array([ 7.5954748e-03, -2.8071586e-02,  3.6997277e-01,  5.1328458e-02,\n",
       "        -1.6145568e-01,  4.3961707e-01, -3.4906232e-04,  4.8328891e-02,\n",
       "         1.0801053e-02,  1.7740069e-01,  2.2201049e-01,  4.4405040e-01,\n",
       "         1.8134056e-01, -1.1258708e-01, -3.4237874e-01,  1.7148562e-02,\n",
       "        -3.6006337e-01,  9.2080250e-02,  8.9123286e-02,  2.5434958e-02,\n",
       "         1.9219711e-01,  5.9762645e-01,  9.3985461e-02, -3.8532186e-01,\n",
       "        -5.2442563e-01,  4.7249463e-01,  1.1949735e-01,  7.7734299e-02,\n",
       "         5.0025117e-01, -1.2120309e-01,  2.8386882e-01,  1.8572018e-02],\n",
       "       dtype=float32),\n",
       " &#39;nta&#39;: array([ 0.88501245,  0.8429509 ,  1.1485186 ,  0.08345868, -0.89136785,\n",
       "         0.533851  ,  0.6088239 , -0.5352426 ,  0.21776868, -0.66771704,\n",
       "        -0.05243304,  0.5174236 , -0.39857462, -0.6177379 , -0.31956142,\n",
       "        -0.8072618 ,  0.21649778, -2.2648032 , -0.682449  ,  0.1952497 ,\n",
       "        -0.2828623 ,  0.6424449 ,  0.49944827,  0.6364544 , -0.37244558,\n",
       "         0.79800195, -0.35827753, -0.16247702,  1.1696146 ,  0.6879187 ,\n",
       "        -1.8450615 ,  0.28182113], dtype=float32),\n",
       " &#39;mennä&#39;: array([ 0.9626138 ,  0.9410269 ,  0.67784494,  0.1953804 , -1.7015532 ,\n",
       "         1.4945112 , -0.36279172, -0.48987383, -0.4575008 , -1.0385692 ,\n",
       "        -0.06315042,  0.07632889,  0.53507274, -0.31315273, -1.1805698 ,\n",
       "         0.7695438 ,  0.08783385, -2.0133448 ,  0.08260453,  0.79053026,\n",
       "         0.21334915, -0.56854594, -0.3215527 ,  0.500945  , -1.1717539 ,\n",
       "         0.5237229 , -0.5950432 , -1.2322845 ,  0.6973856 , -0.06787121,\n",
       "         0.44327927, -1.5106323 ], dtype=float32),\n",
       " &#39;humped&#39;: array([ 0.108289  ,  0.24389872,  0.37861717,  0.02406802,  0.04271619,\n",
       "        -0.21229513, -0.4867374 ,  0.00351438,  0.06886113, -0.31922817,\n",
       "         0.08214244,  0.41215125,  0.15537022,  0.06128541, -0.24792093,\n",
       "         0.3702415 , -0.00651841, -0.06732386, -0.31669912,  0.04125221,\n",
       "         0.44262898, -0.25561938,  0.32566807, -0.12988313, -0.54615766,\n",
       "         0.26666984,  0.19892798,  0.11925762, -0.07675356,  0.23583397,\n",
       "         0.6278301 ,  0.2720646 ], dtype=float32),\n",
       " &#39;venn&#39;: array([ 0.10744093,  0.7951004 ,  0.7901656 ,  0.3108835 ,  0.0137313 ,\n",
       "         0.24561873, -0.2867893 , -0.63720405,  0.24114345, -0.30066538,\n",
       "         0.04835834, -0.23367478,  0.03643123, -0.41759542, -0.2574208 ,\n",
       "        -0.05244077,  0.5371287 , -0.54776764,  0.18634012, -0.1550582 ,\n",
       "         0.0819212 , -0.21338773,  0.23396245,  0.80698305, -0.5271901 ,\n",
       "        -0.16394372,  0.02712127, -0.34888777,  0.01873464, -0.1251776 ,\n",
       "         0.22701634, -0.320121  ], dtype=float32),\n",
       " &#39;2way&#39;: array([-0.2969126 ,  0.0581115 ,  0.1498707 , -0.0454212 ,  0.48385474,\n",
       "         0.14840975,  0.32553703, -0.54697585, -0.21350776,  0.22031894,\n",
       "         0.03015613,  0.01475494,  0.17579184,  0.04332489, -0.30105203,\n",
       "         0.02918972, -0.36188635,  0.24064562, -0.19758692, -0.33129424,\n",
       "         0.7390371 ,  0.07039803,  0.0637326 ,  0.25479755, -0.790696  ,\n",
       "        -0.34893245, -0.55261815,  0.4641332 ,  0.28050876,  0.16391829,\n",
       "         0.35350874,  0.521223  ], dtype=float32),\n",
       " ...}</div>"
      ]
     },
     "metadata": {
      "application/vnd.databricks.v1+output": {
       "addedWidgets": {},
       "arguments": {},
       "data": "<div class=\"ansiout\">Out[28]: {&#39;ohohoho&#39;: array([-0.07925073,  0.31392673, -0.23940067,  0.09624004,  0.10937865,\n        -0.03422616, -1.1821041 , -0.50068593,  0.28972298,  0.06530909,\n        -1.23165   ,  0.04650208, -0.9326481 ,  0.64062274, -1.14963   ,\n        -0.36210456,  0.16882792, -0.422122  , -0.329844  , -0.05391987,\n         0.02306327,  0.27957904,  0.7619971 ,  0.5245532 , -0.28863308,\n         0.1532805 ,  0.10613267, -0.17104477, -0.5588746 , -0.3626776 ,\n        -0.31239626, -0.34137258], dtype=float32),\n &#39;professed&#39;: array([-0.26329944,  0.14257132,  0.01223039, -0.25976172,  0.34392947,\n         0.08153762, -0.3767318 , -0.05467109,  0.22877507, -0.06349373,\n         0.3972084 ,  0.35623866, -0.07845655,  0.22269817, -0.38570687,\n        -0.25012845, -0.26922402, -0.33298013,  0.1100001 , -0.17502022,\n        -0.54777193, -0.18024419, -0.22611459, -0.14369097, -0.4080993 ,\n         0.06734408,  0.12605414, -0.06174215, -0.17894982, -0.4430647 ,\n        -0.27485955,  0.17589772], dtype=float32),\n &#39;stegen&#39;: array([ 0.5628137 ,  1.0322635 ,  0.82646424,  1.4237982 , -0.10312799,\n         1.752393  , -1.1530322 , -1.1665572 , -0.6774264 ,  0.16445562,\n        -0.27869236, -0.28455666, -0.23084715, -0.4388019 , -1.0828527 ,\n         0.17807034,  0.28453764, -1.0028799 ,  0.42642018, -0.42699164,\n         0.6356657 , -0.35567403,  0.5775872 ,  0.43228108, -0.23928046,\n         0.42356327,  0.3333311 , -0.59891206,  0.11412388,  0.14864314,\n         0.6790861 , -0.8523481 ], dtype=float32),\n &#39;acéptalo&#39;: array([ 0.7390083 ,  0.2149252 ,  0.98295504, -0.55815846, -0.27640525,\n         0.3235611 , -1.1656953 , -0.95920527,  0.24490897, -0.14984235,\n        -0.56612056,  0.2153208 , -0.67097735, -0.77171826,  0.25893044,\n        -1.063229  ,  0.13935147, -0.13208862,  0.10008043,  0.10712686,\n         1.042984  ,  0.08250144, -0.2776759 ,  0.08776684,  0.57545274,\n        -0.04026667, -0.21765359, -0.24504882, -0.10052905, -0.0739845 ,\n         0.26224092,  0.29016572], dtype=float32),\n &#39;jaleo&#39;: array([ 0.42074952, -0.1761267 ,  0.6410343 , -0.09129529, -0.36618516,\n         0.6331861 , -0.33989832, -0.34172627, -0.05461185, -0.18391614,\n         0.11863644,  0.40089455, -0.5235228 , -0.53738797, -0.03182067,\n        -1.6687939 , -0.07918644, -0.07320985,  0.13400044,  0.597256  ,\n         0.84270275,  0.02402407, -0.22340074,  0.2525892 ,  0.75876826,\n         0.24889816,  0.18219714,  0.1889677 ,  0.15539242,  0.26814985,\n         0.15813926,  0.42751363], dtype=float32),\n &#39;admito&#39;: array([ 0.59465104, -0.03291072,  0.8942622 , -0.07866066, -0.48475948,\n         1.1740804 , -0.10754308, -0.912207  , -0.13435338, -0.3679157 ,\n        -0.01501329,  0.35489586, -0.09476306, -0.74322563,  0.51321924,\n        -1.0066966 ,  0.44180095,  0.3592743 , -0.29224554,  0.3905961 ,\n         0.06380587, -0.10512977,  0.2179836 ,  0.29496008,  0.77602106,\n        -0.51328236, -0.3167829 , -0.362109  ,  0.22239216,  0.20878783,\n        -0.02232932,  0.41146603], dtype=float32),\n &#39;dredd&#39;: array([ 0.02094032, -0.14081368,  0.4646859 , -0.1802023 , -0.09167867,\n        -0.0127033 , -0.07945038, -0.37925902, -0.11891985,  0.1520347 ,\n         0.39303723,  0.17207187,  0.32025346,  0.18145931, -0.35374242,\n        -0.19798227,  0.21809755, -0.2292551 ,  0.3739225 , -0.03289745,\n         0.03386633, -0.8707283 , -0.0642144 , -0.5261853 , -0.5366441 ,\n        -0.32214195, -0.27079347,  0.36429778, -0.04926702, -0.06325061,\n        -0.4224059 , -0.04141013], dtype=float32),\n &#39;gaiden&#39;: array([ 0.03694442, -0.00840622,  0.40425175,  0.1387582 , -0.23771454,\n         0.16233376,  0.03707598, -0.5078011 ,  0.23291597,  0.04278218,\n         0.22757229, -0.04662805,  0.73560065,  0.0654904 , -0.3404447 ,\n        -0.27189517, -0.02874799, -0.04407474, -0.13808799, -0.07573457,\n         0.3978408 , -0.64466333, -0.06974618, -0.27431408, -0.08188342,\n         0.07534437, -0.2436077 ,  0.21145846,  0.125808  ,  0.25228682,\n         0.38125023,  0.43964297], dtype=float32),\n &#39;protegido&#39;: array([ 0.56665003,  0.02630041,  0.79432154, -0.1659684 , -0.2770339 ,\n         0.5420451 , -0.13389336, -0.5671256 , -0.03399916, -0.3362539 ,\n        -0.20322956,  0.5491727 , -0.07410609, -0.6306755 ,  0.2925735 ,\n        -1.422273  , -0.14492823, -0.31507894, -0.26647982,  0.50701994,\n         0.6172955 , -0.341631  , -0.11572693,  0.22890377,  0.55911905,\n        -0.02285498, -0.24403843, -0.04549028,  0.20241591,  0.25729093,\n         0.06621232,  0.2978325 ], dtype=float32),\n &#39;advertencia&#39;: array([ 0.22903864, -0.10286298,  0.36647257, -0.42746562, -0.5004472 ,\n         0.4813821 , -0.27248183, -0.19555992,  0.06095922, -0.28576916,\n        -0.26651558, -0.18045288, -0.03228021, -0.5757862 , -0.00162749,\n        -1.391564  ,  0.42750973, -0.08460873,  0.10499005,  0.37458405,\n         0.32699898, -0.25865102, -0.4884895 ,  0.4342301 ,  0.29701972,\n         0.2073424 ,  0.12314548, -0.15736713,  0.2866581 ,  0.02789808,\n         0.24418694,  0.293001  ], dtype=float32),\n &#39;purifies&#39;: array([-0.19744995, -0.34670833,  0.47378397, -0.4092854 ,  0.6008879 ,\n         0.02833594, -0.48462334, -0.16798788,  0.00795847, -0.15170193,\n         0.01384594,  0.3983349 ,  0.34547406, -0.823914  , -0.41199824,\n         0.21863003, -0.15758756, -0.18665834,  0.26248646, -0.56080157,\n        -0.588502  , -0.08492289, -0.24588197, -0.1324408 , -0.21177024,\n        -0.5032964 , -0.29728037, -0.19047287, -0.1749495 ,  0.0068795 ,\n        -0.2811542 ,  0.01940604], dtype=float32),\n &#39;correcto&#39;: array([ 0.1520991 , -0.2940166 ,  0.80910146, -0.3626329 , -0.5188386 ,\n         0.6955956 , -0.6589804 , -0.42860213, -0.25626603, -0.10874581,\n        -0.69150245,  0.19885555, -0.65696514, -0.32077104, -0.01835296,\n        -1.8934368 ,  0.24635682,  0.09031341, -0.0893142 ,  0.24442124,\n         0.6805612 , -0.2708238 , -0.30486548,  0.2931525 ,  0.5817994 ,\n        -0.5963214 , -0.24385592, -0.29321313,  0.32223728,  0.22172044,\n         0.3994593 ,  0.26758453], dtype=float32),\n &#39;comprende&#39;: array([-0.22040437, -0.03409846,  0.2924138 , -0.49646908, -0.19408655,\n         0.4453457 , -0.37274784, -0.706174  , -0.23360634, -0.1713811 ,\n        -0.52173024,  0.0677961 ,  0.12417637, -0.37477157,  0.13271648,\n        -1.1020263 ,  0.3260889 ,  0.284254  , -0.27964586,  0.10407702,\n         0.6813761 , -0.08166324,  0.13007604,  0.19278817,  0.24468766,\n        -0.23683575, -0.372971  , -0.02728421,  0.38159844, -0.10034643,\n         0.21076007,  0.27715847], dtype=float32),\n &#39;clarissa&#39;: array([ 0.28763342, -0.6805243 ,  0.85471183,  0.35458067,  0.7599553 ,\n        -0.00496088,  0.5332272 , -0.77883136,  0.19968656,  0.9838014 ,\n         0.3300486 ,  0.90151423,  1.0475678 , -0.6248761 , -0.48738492,\n        -0.27324516,  0.13079561, -1.1016142 ,  0.03045796, -0.9300133 ,\n         0.6566226 , -0.00839299, -0.27294922, -0.9673553 , -0.49323887,\n         0.84817713, -1.4735054 , -0.8440494 ,  0.6425784 ,  0.7578025 ,\n        -0.8025728 , -0.09418297], dtype=float32),\n &#39;incident&#39;: array([-0.52322847,  0.16953586, -0.02779412, -0.3771621 , -0.3257716 ,\n        -0.45809343, -0.2946773 , -0.2714639 , -0.11451703, -0.10013334,\n         0.4590017 ,  0.304651  ,  0.04889724, -0.14365266, -0.5475477 ,\n        -0.04604163, -0.06809798, -0.13143879,  0.39553145, -0.521889  ,\n         0.6982951 , -0.1529826 , -0.08462641,  0.1659082 , -0.29027477,\n         0.10161298, -0.04419068, -0.15069777,  0.291279  , -0.0354418 ,\n        -0.18386067, -0.38158607], dtype=float32),\n &#39;hessss&#39;: array([-0.00713535,  0.4395342 ,  2.4707189 , -0.31839305, -0.67581356,\n        -0.3457171 ,  0.44887957, -1.0883484 ,  0.12805939, -0.75837374,\n         0.34120658,  0.2544952 ,  1.3437166 , -1.1174766 ,  0.6533645 ,\n         0.7363424 ,  0.5452282 , -0.49802032,  0.14723985,  0.33128554,\n         0.00906598, -1.6367248 ,  0.2735104 , -0.4905771 , -1.4135027 ,\n         0.8985041 , -0.4420497 ,  0.09701719, -0.99460006,  0.12467605,\n        -0.6396179 , -0.16732237], dtype=float32),\n &#39;synchronicity&#39;: array([-0.44686338, -0.01249925,  0.04514273, -0.5888804 ,  0.13480425,\n         0.08654054, -0.33740178,  0.07254235, -0.034825  ,  0.08575027,\n         0.5734158 ,  0.18247859,  0.66790813, -0.01684923, -0.36526138,\n        -0.08852749, -0.0760419 , -0.3302147 , -0.30140465, -0.2913449 ,\n        -0.1717617 ,  0.09113415, -0.17454973,  0.20560272, -0.2534703 ,\n        -0.08147274, -0.43899205, -0.19766922, -0.05179507,  0.2599602 ,\n        -0.29000646, -0.12637098], dtype=float32),\n &#39;misfire&#39;: array([-0.21382903, -0.00665012,  0.2511361 , -0.20091756,  0.45058578,\n        -0.02772809, -0.1476784 , -0.16806804,  0.39173818,  0.09178191,\n         0.27937803,  0.43547747, -0.11890177, -0.21739995, -0.15299362,\n         0.3115852 ,  0.02263931, -0.3437354 ,  0.09650855, -0.14493586,\n        -0.5538381 , -0.4672052 ,  0.08560257,  0.39185917,  0.33955786,\n        -0.35194033, -0.00119713, -0.25653034, -0.31117454,  0.00086239,\n        -0.2952412 , -0.00735295], dtype=float32),\n &#39;buns&#39;: array([ 0.18517645, -0.02028609,  0.42080274,  0.14063582,  0.26870745,\n         0.09287692, -0.23661157,  0.23480172,  0.19511063, -0.19398521,\n         0.18806176, -0.33593243, -0.02989689, -0.09174059, -0.53710705,\n         0.40600726, -0.05558669, -0.27686173, -0.19282736, -0.06573504,\n         0.39037248, -0.0883242 ,  0.3189621 ,  0.14941707, -0.7547396 ,\n        -0.24306694, -0.41263002,  0.14964953, -0.34629118,  0.25013706,\n         0.41765004,  0.6882441 ], dtype=float32),\n &#39;zauber&#39;: array([-0.7458275 ,  0.3350038 ,  1.2222093 ,  0.04252322, -0.19328439,\n         0.82124656,  0.46414807, -0.67013896, -0.11579737, -0.28274664,\n         0.17789832, -0.38518032, -0.67462337,  0.12399035, -0.3895774 ,\n        -0.4229516 , -0.19661605, -0.63150716,  0.10572336,  0.94288015,\n         0.06318007, -0.22449696, -0.37304094, -0.20987234, -0.6504422 ,\n         0.6464069 , -0.31048802, -0.23471928, -0.24917033,  1.0718815 ,\n         0.5904733 , -1.0627676 ], dtype=float32),\n &#39;vierzon&#39;: array([ 0.20408392,  0.01426582,  0.08500366, -1.1894536 , -0.88215595,\n         1.0136626 , -0.6822279 ,  0.16921264, -0.15377152,  0.23195668,\n         1.2905105 ,  0.06186616, -0.09852411, -0.46437258, -0.40288737,\n         0.24566759, -0.3253423 , -0.20030718,  1.0657216 ,  0.23163651,\n         0.2212264 ,  0.233177  ,  0.8108818 ,  1.317192  , -0.5211025 ,\n         1.0069363 ,  0.14779085, -0.39560863,  1.403277  ,  0.51285535,\n         0.00678812,  0.6239442 ], dtype=float32),\n &#39;serious&#39;: array([-0.24491337,  0.10885978,  0.11886609,  0.05561974,  0.06285609,\n        -0.15835382, -0.1895274 ,  0.27604353,  0.4273615 , -0.2543397 ,\n         0.00140397,  0.24044463,  0.64695996,  0.36578092,  0.26606625,\n         0.07336507, -0.30210194, -0.39848793,  0.00673192, -0.3529177 ,\n         0.3003764 , -0.33029673, -0.12306961, -0.25529426, -0.3782604 ,\n        -0.20190474, -0.17449878, -0.23843859,  0.3415088 ,  0.25830638,\n         0.17652917,  0.46376148], dtype=float32),\n &#39;sevenday&#39;: array([ 0.10809214, -0.4928026 , -0.40368518, -0.01758993, -0.96003664,\n        -0.751595  , -0.09137211,  0.44697723,  0.14463188,  0.05443535,\n         0.2753076 ,  0.6116841 , -0.05674503, -0.93395805, -0.833064  ,\n        -0.3897819 , -0.6708318 , -0.08646612,  0.83373195, -0.5112743 ,\n         0.16435172, -0.70801145, -0.12107201,  0.16388978, -0.11766373,\n        -0.11612366,  0.07720003,  0.6546401 , -0.07174291, -0.2196379 ,\n        -0.00294621,  0.26521376], dtype=float32),\n &#39;bay3ani&#39;: array([ 0.16290818, -0.05040097,  1.3094193 , -0.92360026, -2.2004898 ,\n        -0.55200607,  0.54374546,  0.8494163 ,  0.61761636, -0.5916646 ,\n        -1.2597497 , -0.18078814,  0.94337213,  0.02416922, -1.6696072 ,\n        -1.6922815 ,  0.85550743, -2.334924  ,  1.2421284 ,  0.3282846 ,\n        -0.18210824, -0.93670785,  2.8506682 ,  0.72778374,  0.817268  ,\n         0.13699223, -0.20035577, -0.8997807 ,  0.942776  ,  0.08757615,\n         0.23212336,  0.05666212], dtype=float32),\n &#39;brink&#39;: array([-0.03643   , -0.2298035 ,  0.16001672, -0.34407994,  0.3383607 ,\n         0.04029651,  0.01445442, -0.16998227,  0.08401135, -0.10420538,\n         0.37693813,  0.5426221 ,  0.91082704,  0.25065807, -0.6898958 ,\n         0.12442905, -0.4158694 ,  0.02313945,  0.6169849 , -0.18493545,\n         0.08749368,  0.139551  ,  0.17298178, -0.02070906,  0.24980946,\n        -0.1037905 , -0.73474246,  0.10596195, -0.2148762 ,  0.08009984,\n        -0.4028833 , -0.19739662], dtype=float32),\n &#39;ontake&#39;: array([ 0.2295322 , -0.16801524, -0.23596244, -0.06386682, -0.11222906,\n         0.4005441 , -0.08082504, -0.44282293,  1.2140286 , -0.6050204 ,\n        -1.049148  ,  0.45858833,  0.43222404, -0.33076853, -0.4458907 ,\n         0.73123044, -0.69182694, -0.35450867, -0.20892532,  0.10951269,\n        -0.04227198, -0.5002207 ,  0.09369916, -0.7153648 ,  0.44018117,\n        -0.24908337, -0.8169541 , -0.5906078 , -0.37622496, -0.9982262 ,\n        -0.32657042,  0.42524332], dtype=float32),\n &#39;turnstile&#39;: array([-2.78341770e-02,  1.85541004e-01, -1.29464418e-01, -2.48813838e-01,\n         5.77841438e-02,  4.54511270e-02, -1.03423141e-01, -5.03256440e-01,\n         2.94258267e-01, -1.41451374e-01,  3.71790200e-01,  2.54999369e-01,\n         3.59419972e-01,  1.51212335e-01, -8.64474833e-01,  1.97439626e-01,\n        -5.48613630e-02,  1.76756397e-01, -1.31109904e-04,  1.48883626e-01,\n         6.45393208e-02,  1.68590307e-01,  6.84063360e-02,  8.62389281e-02,\n        -2.45674953e-01, -3.18472177e-01, -2.54350871e-01,  5.59330523e-01,\n         2.29332358e-01, -2.68923007e-02,  2.75519252e-01,  1.03605606e-01],\n       dtype=float32),\n &#39;buvons&#39;: array([ 0.1794224 , -0.79017794,  0.232921  , -1.1848987 , -1.2841702 ,\n         1.6372782 , -0.30107236, -0.3145054 ,  0.05399393,  0.07887777,\n         0.4423767 ,  0.5854305 , -0.31443375, -0.21201357, -0.3200204 ,\n         0.32152113, -0.8398532 , -0.093084  ,  1.3727217 ,  0.6411818 ,\n        -0.6368057 , -0.44808468,  1.6547651 ,  0.75845355, -0.24108852,\n         0.71688956,  0.06766489, -0.51324254,  1.5343401 ,  0.61695963,\n        -0.15149413,  0.30551922], dtype=float32),\n &#39;passare&#39;: array([ 0.77354646,  0.67311984,  0.3437945 ,  0.49732912, -0.19435617,\n        -0.7931743 ,  0.11145849, -0.08317016,  0.19500153, -1.2467109 ,\n         0.4851046 , -0.05529743, -1.1409317 , -1.2187308 , -0.5802829 ,\n        -1.2684121 , -0.2694115 , -0.30943668,  0.8192774 , -0.08534147,\n        -0.10792002,  0.07996734,  1.2045864 , -0.23568238,  0.30766067,\n         1.4620435 , -0.1413982 , -1.2311895 , -0.33478478, -0.34436214,\n         0.25464958,  0.9778967 ], dtype=float32),\n &#39;ohhs&#39;: array([ 0.15042423, -0.17516848,  1.1813034 ,  0.08116017, -0.05772417,\n         0.11936583, -0.04238445, -0.5643566 ,  0.20519166, -0.07950439,\n        -0.45437995,  0.3293563 , -0.1275264 , -0.04537418, -0.0425705 ,\n         0.9307181 , -0.35302943, -0.11301021, -0.4316916 , -0.2487516 ,\n         0.05552268, -0.6215873 ,  0.370211  , -0.0895316 ,  0.04033079,\n        -0.31372967, -0.11102558,  0.20540583, -0.38147596, -0.2997898 ,\n        -0.17024824,  0.46837756], dtype=float32),\n &#39;boji&#39;: array([-0.15919831,  0.19836013,  1.1504134 ,  0.09105482, -0.8830578 ,\n         0.24890065, -0.6946562 ,  0.58453465, -0.25119293, -0.28515145,\n         0.00629427, -0.39624742,  0.49089327, -0.7150963 , -0.5317497 ,\n         0.17768887,  0.7851996 , -0.9897135 , -0.2118408 , -0.40240002,\n        -0.03322491,  0.05533963,  1.1073511 , -0.21227784,  0.11157459,\n         0.47288108, -0.13904333, -0.0699634 , -0.0815319 , -0.6498594 ,\n         0.7417155 , -0.6391268 ], dtype=float32),\n &#39;ferociously&#39;: array([-0.27904558, -0.36154994, -0.18091287, -0.12245227,  0.29387787,\n        -0.5030746 , -0.3310287 , -0.04494695,  0.20014766, -0.16283315,\n         0.3462025 ,  0.29771224,  0.0333282 , -0.4692678 , -0.535587  ,\n         0.31012383,  0.14867237, -0.28386712,  0.13156615,  0.00990989,\n        -0.45410267,  0.13149014, -0.3495005 , -0.08632485, -0.05643212,\n        -0.1823019 , -0.06417308, -0.25276408, -0.27774376,  0.14394122,\n         0.08705873,  0.25201538], dtype=float32),\n &#39;acronym&#39;: array([-0.1140045 ,  0.02009822,  0.31848454,  0.2073464 ,  0.30112937,\n        -0.03182152,  0.12942179, -0.33384666,  0.03430433,  0.22288595,\n         0.06281365,  0.4511275 ,  0.5536648 ,  0.05243498, -0.03070048,\n        -0.20563348, -0.22642232, -0.331992  ,  0.52823794, -0.02034442,\n         0.10267737, -0.6173153 ,  0.15538661,  0.02215047, -0.43993512,\n        -0.06118355,  0.02772158,  0.52853656,  0.5119356 ,  0.2322211 ,\n        -0.01015088,  0.13727644], dtype=float32),\n &#39;boutiques&#39;: array([ 0.325779  , -0.15143034,  0.51258814, -0.09631988, -0.45662865,\n         0.33334327, -0.09483923, -0.21587186, -0.07095072, -0.14137778,\n         0.2218664 , -0.1214084 , -0.1413816 , -0.21901847, -0.23945297,\n        -0.11789271, -0.15324542,  0.01963486,  0.34104842,  0.20677347,\n        -0.20824751,  0.03996664,  0.4387171 ,  0.32987309, -0.31467384,\n         0.01990562, -0.06115663,  0.05601234,  0.46664536,  0.6308646 ,\n         0.4973729 , -0.15295069], dtype=float32),\n &#39;foolproof&#39;: array([-0.18999983,  0.07878778, -0.05339523, -0.35682046, -0.20297147,\n        -0.69375086,  0.06506417,  0.0050682 , -0.12008963, -0.2525717 ,\n         0.6355292 ,  0.36803943,  0.54019094,  0.25096348, -0.2885295 ,\n         0.13799366,  0.1407956 , -0.25726706, -0.08894935, -0.40681592,\n         0.37169024, -0.67733926,  0.02363476, -0.06927778,  0.04420363,\n        -0.1475098 , -0.37288305,  0.43261638,  0.09201355,  0.21327184,\n        -0.22585668,  0.34293762], dtype=float32),\n &#39;youthful&#39;: array([-0.1813921 , -0.02723463,  0.5132549 , -0.65195453,  0.6432381 ,\n         0.23168185, -0.12563424,  0.6522922 ,  0.5627673 , -0.64877594,\n         0.17923588,  0.16366765,  0.46369195,  0.15918638, -0.61143106,\n         0.11782364, -0.15999041, -0.6971242 ,  0.24828158, -0.18317743,\n        -0.55458707,  0.06363174, -0.11913877, -0.07430334,  0.19043924,\n        -0.1619583 , -0.44015434, -0.42098272, -0.5424945 ,  0.50282556,\n        -0.04861576,  0.15994138], dtype=float32),\n &#39;sinister&#39;: array([ 0.009769  , -0.0084774 ,  0.16458263, -0.3683676 ,  0.48945168,\n        -0.12414259, -0.12073544,  0.3721861 ,  0.1806827 , -0.4771579 ,\n         0.5093353 ,  0.4230626 ,  0.11421888, -0.15642366, -0.4145489 ,\n        -0.14277127, -0.02790792, -0.27503574,  0.14561348, -0.4042978 ,\n         0.02577997,  0.00147858,  0.08206154, -0.1329632 , -0.08995955,\n        -0.05853243, -0.46903294,  0.31113926,  0.01597389,  0.1229652 ,\n        -0.11887584,  0.10865279], dtype=float32),\n &#39;comply&#39;: array([-0.35103354,  0.15752211,  0.5638464 ,  0.08588525,  0.5804793 ,\n        -0.04654214,  0.09623057,  0.44704127,  0.57838356,  0.26921877,\n         0.51804835,  0.896121  ,  0.25232327,  0.55495006, -0.16009466,\n         0.04595953, -0.6080841 , -0.6674694 ,  0.39325944, -0.02062304,\n         0.2589943 , -0.27934098, -0.04976619,  0.50891316,  0.2572921 ,\n        -0.1642126 , -0.00646646, -0.01246537, -0.15054359, -0.23888339,\n        -0.3328072 , -0.28658527], dtype=float32),\n &#39;healings&#39;: array([-0.58833313, -0.30214396, -0.00741635, -0.01441115,  0.5508966 ,\n         0.20708111, -0.21507627, -0.19093059,  0.35868096, -0.04215365,\n        -0.25262535,  0.34782118, -0.11633871,  0.28825587, -0.0197554 ,\n         0.1901601 , -0.07423483, -0.5159307 ,  0.2529723 , -0.07668882,\n         0.11548641, -0.33256456, -0.23038177,  0.11756809, -0.32150742,\n        -0.18414606,  0.23551333, -0.36259326, -0.41350552, -0.08352289,\n        -0.8125856 ,  0.2616416 ], dtype=float32),\n &#39;marrer&#39;: array([ 0.43888566, -0.23166722,  0.1975759 , -0.6692432 , -0.45838112,\n         0.8262114 , -0.5084805 , -0.14863937,  0.17765178, -0.23925065,\n         0.59862787,  0.05738614, -0.59958935, -0.51482886, -0.15079172,\n        -0.06986005, -0.29901123,  0.06220233,  0.9689204 , -0.15761042,\n        -0.16706912,  0.06720687,  1.2678515 ,  0.98574   , -0.43538782,\n         0.76622933,  0.325555  , -0.4904326 ,  1.3004324 ,  0.9340377 ,\n        -0.2934647 ,  0.4155202 ], dtype=float32),\n &#39;ebb&#39;: array([ 0.36898857, -0.18600604,  0.77160317,  0.1289192 ,  0.6746739 ,\n        -0.04307798,  0.03310842, -0.1401988 ,  0.44166026, -0.4010562 ,\n         0.0029587 ,  0.74638593,  0.1120081 , -0.36156097, -0.49301225,\n         0.17174943, -0.23941879,  0.32234377,  1.0407574 , -0.30968878,\n        -0.44217235,  0.39354652, -0.23450547, -0.0646771 ,  0.11646356,\n        -0.19715625, -0.4157798 ,  0.19517882, -0.23043844,  0.36015677,\n         0.29870194, -0.26841938], dtype=float32),\n &#39;breaks&#39;: array([ 0.0141001 , -0.54068106, -0.335291  , -0.20307264,  0.73930603,\n         0.18457457, -0.09594862, -0.2885252 ,  0.07380371, -0.11986803,\n         0.25545818,  0.0266863 ,  0.11947649, -0.25666252, -0.43933097,\n         0.40861952, -0.0498828 ,  0.14343171, -0.16855574, -0.31103784,\n        -0.5011075 , -0.35934347, -0.34182745,  0.09522498, -0.19958487,\n        -0.32317096, -0.14860801, -0.29531416, -0.18242185,  0.3460018 ,\n        -0.08551182, -0.04617084], dtype=float32),\n &#39;mesmo&#39;: array([ 0.5204392 ,  0.43625146,  0.394509  ,  0.604337  , -0.9496902 ,\n         1.9383398 ,  0.93978715, -0.10255443,  0.18933442, -0.30218795,\n         0.6031286 ,  0.94350207, -0.235772  , -0.47199628, -0.09954789,\n        -1.125567  ,  0.56354386,  0.53636587, -1.178841  ,  0.04840208,\n        -0.35925135,  0.16090737,  0.2578932 ,  0.56908774, -0.03717409,\n         0.3258608 , -1.0255305 , -1.3834275 , -0.12688379,  1.1546764 ,\n        -0.7332436 ,  0.37204176], dtype=float32),\n &#39;pitallon&#39;: array([ 0.18280593, -0.4146118 ,  0.5124775 , -0.07032706, -0.49517304,\n         0.7604703 , -0.0688675 , -0.2845717 , -0.50990105, -0.0962613 ,\n        -0.21520285,  0.3832879 , -0.31804094, -0.5983546 , -0.17500393,\n        -0.90114826, -0.17133453, -0.07676266, -0.01647423,  0.5786914 ,\n         0.38820264, -0.10861044, -0.21076503, -0.04307947,  0.38088724,\n         0.06190556,  0.14704518,  0.11471909,  0.36949834,  0.5150162 ,\n         0.35849962,  0.03156244], dtype=float32),\n &#39;mafioso&#39;: array([ 0.32918644, -0.11568047,  0.53660685,  0.00954297, -0.39110324,\n         0.14355507, -0.07729814, -0.41853347,  0.14231433, -0.09335334,\n        -0.3363587 ,  0.25525686,  0.14592962, -0.49883354, -0.19241442,\n        -0.76509887,  0.24968041, -0.20022845,  0.32423383,  0.07027353,\n         0.5592915 , -0.22883426, -0.07144948,  0.30729184,  0.2812664 ,\n        -0.20117584,  0.34471208,  0.3056767 ,  0.35748732,  0.00819167,\n         0.20457874,  0.35817823], dtype=float32),\n &#39;10304&#39;: array([ 0.24883556,  0.42628327,  0.49187988,  0.15670665,  0.12533224,\n         0.16352072,  0.04474738, -0.31533784, -0.07454532, -0.34831837,\n        -0.10901945, -0.08392151,  0.34535015,  0.3908019 , -0.37538376,\n        -0.1892487 , -0.38152444,  0.3355942 ,  0.5697047 , -0.24337907,\n         0.15188853, -0.43133488, -0.01881559,  0.0846958 , -0.30984622,\n        -0.00213694, -0.55537516,  0.31286216,  0.41268307,  0.1430408 ,\n         0.01539449,  0.427613  ], dtype=float32),\n &#39;bumdum&#39;: array([-0.17113417,  0.11182827,  0.08375455, -0.589983  ,  0.29745927,\n         0.8366332 , -0.0297457 , -0.2341662 , -0.10049175,  0.6960304 ,\n         0.76763   , -0.15995832,  0.8206168 , -0.27616158, -0.567752  ,\n        -0.21903007, -0.6082342 , -0.99378145,  0.09147087, -1.2211443 ,\n        -0.41791838, -0.8098754 , -0.30544814, -0.507568  , -0.4198234 ,\n         0.25924534,  0.20508055,  0.33796144,  0.11239431,  0.48584142,\n         0.48999643,  0.3561203 ], dtype=float32),\n &#39;cooome&#39;: array([-0.04195476, -0.07636774, -0.33129308, -0.27051103,  0.8570508 ,\n        -0.411554  ,  0.3693616 , -0.49585015,  0.28252867, -0.43137062,\n        -0.21626084,  0.6801107 , -0.59665596,  0.14233506, -0.48485497,\n         0.2182302 ,  0.20012999,  0.15097316, -0.15224381, -0.55057025,\n        -0.07033472, -0.4429314 ,  0.1323601 , -0.48718163, -0.9347426 ,\n         0.27650157, -0.00738543, -0.18756646, -0.69696903,  0.13776742,\n        -1.1938006 ,  0.1388686 ], dtype=float32),\n &#39;sneezed&#39;: array([ 0.04346411,  0.06188048,  0.28365007,  0.11970149,  0.00646283,\n        -0.11528736,  0.04313412, -0.57559514, -0.02478607,  0.17493449,\n         0.47209138,  0.29171348,  0.4372539 , -0.1991708 , -0.33036253,\n         0.4884579 , -0.01818154, -0.1291039 , -0.33087036,  0.21860646,\n         0.01094185, -0.46909922,  0.15728422, -0.14763905, -0.8570386 ,\n        -0.03456938, -0.03068441,  0.2462483 , -0.02695795,  0.05691154,\n         0.07194127,  0.4476308 ], dtype=float32),\n &#39;forgotten&#39;: array([ 0.1745642 ,  0.10786211, -0.0355546 , -0.2474274 , -0.11371051,\n        -0.329184  , -0.47433078,  0.3282037 ,  0.4438022 , -0.47651306,\n         0.2968476 ,  0.4845079 ,  0.23478359,  0.18556073, -0.46211877,\n         0.38973173, -0.29760063, -0.26378787, -0.10896426,  0.16632022,\n        -0.1323169 ,  0.01246565, -0.41785172,  0.06488531,  0.0357076 ,\n\n*** WARNING: skipped 457232 bytes of output ***\n\n        -0.06869521, -0.3758711 ,  0.38459975, -0.09652046, -0.13178359,\n         0.6507864 ,  0.18610422, -0.07927527, -0.37289447, -0.4905838 ,\n        -0.09764334, -0.36264136, -0.775653  ,  1.0127523 , -0.13382709,\n        -0.13007635,  0.04692055,  0.420384  ,  0.59866583, -0.1602673 ,\n         0.5394217 ,  0.10554533,  0.06979305,  0.46907508,  0.6633489 ,\n        -0.45688495, -0.04817239], dtype=float32),\n &#39;línea&#39;: array([ 0.09181243, -0.24636841,  0.42650005,  0.12772062, -0.55595434,\n         1.029756  , -0.24495037,  0.06989285,  0.11236323,  0.00745295,\n        -0.508593  ,  0.26554313, -0.58732325, -0.7925248 , -0.15973665,\n        -1.5086726 , -0.2194039 , -0.26427194,  0.39182064,  1.0167047 ,\n         0.48760483, -0.7254637 , -0.3529228 ,  0.4576629 ,  0.9658773 ,\n         0.19254369, -0.09973264,  0.21984525,  0.3574941 ,  0.10489392,\n         0.09979215,  0.64125776], dtype=float32),\n &#39;murmur&#39;: array([-0.27352688, -0.9135157 ,  0.13090746, -0.10827548,  0.09794687,\n        -0.46153387, -0.17844553, -0.35239404,  0.15932766, -0.35587928,\n         0.65495074,  0.64861375, -0.07102977, -0.43634284, -0.22363548,\n         0.0124231 , -0.39028034, -0.48132998,  0.36019468,  0.05862486,\n        -0.63693106,  0.46988106,  0.15556091, -0.2734565 , -0.05612943,\n         0.38610446,  0.1724172 ,  0.99872446, -0.30968547,  0.62051576,\n         0.29051518, -0.12823632], dtype=float32),\n &#39;shelves&#39;: array([-0.0923009 , -0.08469123,  0.14960404, -0.2809692 ,  0.27324864,\n         0.3675551 ,  0.1856549 ,  0.6505833 ,  0.6655568 , -0.26764145,\n         0.4039718 ,  0.19538146,  0.02800512, -0.15849493, -0.9247416 ,\n         0.51321626, -0.4651275 ,  0.18666092,  0.05899785,  0.27879992,\n         0.18550111,  0.2465477 ,  0.3580558 ,  0.2591241 ,  0.11594207,\n        -0.23894918, -0.56559134,  0.4587468 , -0.18303686,  0.36081958,\n         0.10765191, -0.06713475], dtype=float32),\n &#39;dente&#39;: array([ 0.90805733,  0.37018248,  0.5138638 ,  0.39019394, -0.755583  ,\n         1.2900978 ,  0.96881044,  0.12087744,  0.30112085, -0.13518368,\n         0.34389865,  0.5465844 ,  0.10691224, -0.56379265, -0.36656356,\n        -1.0746098 ,  0.07885373, -0.06408454, -0.66979456, -0.25563544,\n        -0.4633243 , -0.20266165,  0.35626146,  0.55797845,  0.00982391,\n         0.29901782, -0.10982848, -0.5875486 ,  0.02400436,  0.90467685,\n        -0.6048352 ,  0.01349952], dtype=float32),\n &#39;medias&#39;: array([-0.12007568, -0.4807513 ,  0.10606507, -0.2753926 , -0.36842683,\n         0.52912056,  0.2585998 , -0.24106942, -0.07028036, -0.14029796,\n        -0.06362113,  0.31013954,  0.11546481, -0.5194498 ,  0.1279269 ,\n        -0.8087731 , -0.06729528, -0.31380546,  0.2610557 ,  0.3730629 ,\n         0.40496045, -0.15470347,  0.18799347, -0.03896381,  0.44464365,\n        -0.3589489 ,  0.17914887,  0.18118553,  0.23598248,  0.3733296 ,\n         0.1568511 ,  0.3664396 ], dtype=float32),\n &#39;pídeme&#39;: array([ 0.703855  ,  0.7528481 ,  1.6559825 , -0.8865699 ,  0.31884792,\n         1.1909502 , -0.20985083, -0.61842805, -0.5580625 , -0.14392537,\n        -0.6591851 ,  0.24108861, -0.82791966, -1.142184  ,  0.15147905,\n        -1.4225682 ,  0.6415546 ,  0.67955506, -0.23539172,  0.2878423 ,\n        -0.27469707,  0.24139087, -0.7053727 ,  1.5974698 ,  0.92474926,\n        -0.01044459,  0.05527314, -0.51449186,  0.00444332, -0.07861767,\n         1.0354589 ,  0.8803389 ], dtype=float32),\n &#39;briga&#39;: array([ 0.81249243,  0.6777565 ,  0.8394485 ,  0.44426364, -0.63681716,\n         1.1190456 ,  1.0058877 ,  0.21293817,  0.22416708, -0.31751892,\n         0.80352455,  0.35497615, -0.07435305, -0.41913843, -0.4830451 ,\n        -1.7200776 ,  0.20297943,  0.30525997, -0.5446681 ,  0.03172068,\n        -0.24653241,  0.07144476,  0.34442976,  0.6059735 , -0.2844365 ,\n         0.5927583 , -0.33427614, -0.6273765 ,  0.05744486,  1.064191  ,\n        -0.500911  ,  0.29569554], dtype=float32),\n &#39;retarme&#39;: array([ 0.65140903,  0.20026577,  0.35453203, -0.33429325, -0.38093328,\n         0.6881157 , -0.09633172,  0.3351743 ,  0.05604514, -0.52124244,\n        -0.00387771,  0.19847964, -0.56602246, -0.7290213 ,  0.42494538,\n        -1.436342  ,  0.00592684,  0.01659426,  0.11685695, -0.00855841,\n         0.57636005, -0.22219639, -0.21074525,  0.5966393 ,  0.45555037,\n         0.3534143 ,  0.18429898,  0.04324408,  0.11723343,  0.03478285,\n         0.30379036,  0.02019396], dtype=float32),\n &#39;bitchy&#39;: array([ 0.18877278,  0.5080131 ,  0.47357708, -0.22090945, -0.03105143,\n         0.2677074 ,  0.20988166, -0.07490446, -0.06315314, -0.56718594,\n         0.05835982, -0.06503876,  0.4702388 ,  0.15559563, -0.2638049 ,\n         0.11198959, -0.3073135 , -0.25521585,  0.08542788, -0.3143161 ,\n         0.40760526, -0.29305202,  0.02102129,  0.23918092, -0.7939515 ,\n         0.00914807, -0.12252168,  0.58144784,  0.50355273,  0.03251087,\n         0.7431498 ,  0.32934898], dtype=float32),\n &#39;paralytic&#39;: array([-0.09121232, -0.1625323 ,  0.78582376, -0.25326523, -0.53824466,\n         0.05981819, -0.5264272 ,  0.2657011 ,  0.4700609 ,  0.03361367,\n         0.38459024,  0.0019294 ,  0.4117945 , -0.16403253, -0.43314525,\n         0.35195124, -0.08525722, -0.06250347, -0.38990235, -0.09359861,\n        -0.4317174 ,  0.14284857, -0.18464902, -0.16577455, -0.53914946,\n        -0.00139097, -0.2547151 ,  0.23729758,  0.04635292,  0.29617748,\n        -0.0731525 ,  0.38303497], dtype=float32),\n &#39;jae&#39;: array([ 0.21505688,  0.87265146,  1.1879843 ,  0.8793516 , -0.38203925,\n         0.16724361, -0.40854567, -0.18483622,  0.14088267,  0.24997206,\n        -0.18752958, -0.5739159 ,  0.23898587, -0.52582383, -0.74732065,\n         0.01288068,  0.15821074, -0.6482205 ,  0.33051878, -0.41956064,\n         0.20703626, -0.21247327,  0.41816106, -0.35329148, -0.7608838 ,\n        -0.03429971, -0.35111126, -0.11157438,  0.9124179 , -0.14675213,\n        -0.131084  ,  0.10188109], dtype=float32),\n &#39;forgetmenots&#39;: array([ 0.23731159, -0.513194  ,  0.05805535, -0.20085302,  0.05833726,\n        -0.3054782 , -0.3454716 , -0.2030321 ,  0.51113576,  0.4117951 ,\n         0.64546245,  0.10245232,  0.26635548,  0.13853796, -0.1280657 ,\n         0.01082712, -0.36919922, -0.1279877 ,  0.09297393, -0.0882386 ,\n        -0.5608402 ,  0.27126518, -0.25645974, -0.14537558,  0.29346058,\n        -0.25370336, -0.14749339,  0.36597365, -0.18376026,  0.31203973,\n         0.6911431 ,  0.61857855], dtype=float32),\n &#39;saludan&#39;: array([ 0.3266625 , -0.1484085 ,  0.46093884, -0.23348643, -0.6467375 ,\n         0.24854657, -0.19217265, -0.39568162, -0.10830405, -0.22815172,\n        -0.52176905,  0.79548717,  0.0305248 , -0.5293973 , -0.08504247,\n        -1.3123754 ,  0.05742928, -0.3245779 , -0.06825611,  0.3141582 ,\n         0.5669825 , -0.4595016 ,  0.09555893,  0.22152117,  0.572266  ,\n         0.01793147,  0.11963421,  0.3155958 ,  0.42801017, -0.36609748,\n         0.35028237,  0.6097885 ], dtype=float32),\n &#39;jrappe&#39;: array([-0.28097692,  0.14585139,  0.42696896, -0.96182084, -0.7407562 ,\n         0.7631782 , -0.5681822 , -0.2521441 , -0.26740932,  0.3486162 ,\n         0.33144465,  0.2516954 , -0.14874938,  0.08818061, -0.08074322,\n        -0.18844779, -0.43714148, -0.07069212,  0.8873603 ,  0.4557388 ,\n        -0.4168782 ,  0.24637619,  0.9597722 ,  0.9342231 , -0.45178297,\n         1.0540749 ,  0.07498237, -0.16567448,  1.5157734 ,  0.5276991 ,\n         0.01061176,  0.13728918], dtype=float32),\n &#39;figment&#39;: array([-0.71488136,  0.23113255, -0.09265167, -0.6860152 ,  0.45340875,\n        -0.13280077, -0.16616991,  0.62322634, -0.32738566, -0.43590495,\n         1.0965381 ,  0.42783737,  0.8513243 , -0.16651367,  0.03855793,\n        -0.5517331 , -0.53887695, -0.6098026 ,  0.23976564, -0.3046136 ,\n        -0.13980453,  0.28490174, -0.03277964,  0.1650235 , -0.5477258 ,\n        -0.3344931 , -0.30493337,  0.01032445, -0.33005646, -0.06568436,\n         0.11344106,  0.03414799], dtype=float32),\n &#39;togli&#39;: array([ 0.8660616 ,  0.33906433,  0.41752312,  0.45778885, -0.26048675,\n        -0.15933707,  0.49048564, -0.8142423 , -0.11889984, -1.2597363 ,\n         0.40106344, -0.29605097, -0.3434191 , -0.7172339 , -0.817178  ,\n        -1.123412  ,  0.00202765, -0.3212402 ,  0.7685407 ,  0.44788375,\n         0.02962297,  0.6627779 ,  1.1726127 ,  0.34817615,  0.44446206,\n         1.469376  ,  0.1753871 , -1.4003043 , -0.44842744, -0.10740656,\n        -0.00217701,  0.56562996], dtype=float32),\n &#39;mutter&#39;: array([-0.9042229 ,  0.04523276,  1.0428863 , -0.10778541,  0.23516442,\n         0.27293307,  0.35866296, -0.5504709 , -0.08518078, -0.7292575 ,\n         0.05732033, -0.2458567 , -0.8716398 ,  0.00147423, -0.4034311 ,\n        -0.0417602 , -0.6230421 , -0.8959    ,  0.20325786,  0.90686923,\n        -0.2539008 ,  0.21696946, -0.05190056, -0.17116518, -0.68941015,\n         0.48032916, -0.40521893, -0.01410672, -0.46789148,  0.8419442 ,\n         0.56423676, -0.9088275 ], dtype=float32),\n &#39;apareció&#39;: array([-0.05107928, -0.61577463, -0.16325833,  0.43701646, -0.40234807,\n         0.795193  ,  0.02260746, -0.2448846 , -0.03512764,  0.3459668 ,\n        -0.03406068,  0.80802387, -0.59398276, -0.7231013 , -0.01675215,\n        -1.1902629 , -0.07208086, -0.3748046 , -0.06596997,  0.61361384,\n         0.26376972, -0.41390097,  0.03606611, -0.11390631,  1.329614  ,\n         0.48081213, -0.28698057,  0.7143664 ,  0.4023285 ,  0.46419802,\n         0.03501307,  0.5597619 ], dtype=float32),\n &#39;bootay&#39;: array([-0.16350302,  0.24957287,  0.21434775,  0.32405442, -0.15857016,\n        -0.14911322, -0.01359125, -0.09813825, -0.04314356,  0.00204718,\n         0.00679093, -0.26910862, -0.03612107,  0.01040024, -0.20234023,\n        -0.07965702, -0.38151023, -0.38395348, -0.24095264, -0.0685583 ,\n         0.17806877, -0.09002531,  0.299822  , -0.112524  , -0.7470639 ,\n        -0.11012556, -0.02496533,  0.24483785, -0.03197652, -0.00952152,\n         0.19665934,  0.3634653 ], dtype=float32),\n &#39;piense&#39;: array([ 0.3281221 , -0.18840192,  0.57760817, -0.21883368, -0.5169172 ,\n         0.45397785, -0.6971343 , -0.5952705 , -0.11432233,  0.13687882,\n        -0.46884498,  0.40717468, -0.86124516, -0.6686775 ,  0.5797084 ,\n        -1.3502402 ,  0.78516376,  0.16897017,  0.11157053,  0.24528864,\n         0.35661477,  0.014364  , -0.47550312,  0.7791016 ,  0.5329154 ,\n        -0.33249044, -0.69100577, -0.1902947 ,  0.34682757,  0.02242077,\n         0.18671496,  0.80337095], dtype=float32),\n &#39;acabarme&#39;: array([ 0.51047075, -0.22177406,  0.10689116, -0.19395153, -0.30421236,\n         0.2947181 , -0.29762033, -0.27443954, -0.2666474 , -0.44075596,\n        -0.24792856,  0.36388117, -0.02554119, -0.8360373 ,  0.35004875,\n        -1.0745988 , -0.27792677, -0.20865603, -0.02600129,  0.35444626,\n         0.21055882, -0.04243204, -0.10438599,  0.65263885,  0.2558701 ,\n        -0.21189593,  0.33127677,  0.33182773,  0.130787  , -0.13240723,\n         0.47312656,  0.6114083 ], dtype=float32),\n &#39;eazys&#39;: array([-0.05355824,  0.65629977,  0.42707604,  0.12488975,  0.10154765,\n         0.07698645,  0.19839592,  0.04879676,  0.02645679, -0.42376554,\n         0.20055936,  0.25410455,  0.3733574 , -0.16366841,  0.19022708,\n         0.0032539 , -0.26647723, -0.04857424, -0.06309764, -0.5690407 ,\n         0.30968493, -0.19560707,  0.09139034, -0.10123276, -0.18463933,\n         0.04960011, -0.11687908, -0.05836644,  0.18949531,  0.28960326,\n         0.06241574,  0.43281135], dtype=float32),\n &#39;easin&#39;: array([ 0.46351787,  0.02543922, -0.284218  , -0.76125646,  1.3470638 ,\n         0.24376503, -0.5128989 , -0.2715378 , -0.9704747 ,  0.17004357,\n         0.3597368 , -0.15710625,  0.5230792 ,  0.55884   , -0.48393008,\n        -0.36007592,  0.6248438 , -0.67311746,  0.03415877,  0.15351841,\n        -0.21827674, -0.49357468, -0.6557307 ,  0.74282664, -1.7821352 ,\n         1.2028162 , -0.38242787,  1.7242272 , -0.4568848 ,  1.4266235 ,\n         1.0697225 , -0.10010829], dtype=float32),\n &#39;beautiful&#39;: array([-0.39835227,  0.18081614, -0.4367571 ,  0.10278798,  0.25226006,\n        -0.22415172, -0.62251186,  0.30016014, -0.2537549 , -0.4195883 ,\n         0.19566214,  0.37385088,  0.1640637 ,  0.32307094, -0.24718331,\n         0.0209075 , -0.24466553, -0.4678366 , -0.5225186 , -0.32960424,\n        -0.5706371 ,  0.3667088 , -0.11189247, -0.22264703,  0.26598617,\n        -0.31181562, -0.09034311,  0.05966274, -0.07643203,  0.23056847,\n         0.05226559,  0.20743741], dtype=float32),\n &#39;mojito&#39;: array([ 5.28267443e-01, -8.52665082e-02,  4.53425258e-01, -2.25770518e-01,\n        -3.15947056e-01,  5.79312503e-01, -7.29051530e-02,  1.60615018e-05,\n         3.85294370e-02, -1.07809706e-02, -3.91797036e-01,  9.16936435e-03,\n        -3.34348887e-01, -5.42446494e-01,  2.43105307e-01, -7.31815457e-01,\n        -2.09457561e-01, -5.45805812e-01,  2.53945798e-01, -2.29237944e-01,\n         4.50089395e-01, -1.15042172e-01,  5.33476651e-01,  7.05592513e-01,\n        -2.85338257e-02, -1.05777375e-01,  3.45793128e-01,  2.06702873e-01,\n         5.79080403e-01,  5.07475019e-01,  6.89801514e-01,  8.46642613e-01],\n       dtype=float32),\n &#39;thunderhearts&#39;: array([ 0.13425831, -0.2741501 ,  0.31775987,  1.1862673 ,  0.03458445,\n        -0.06519002,  0.06336389, -0.16973339,  0.7051382 , -0.615709  ,\n        -0.8031037 ,  0.20212966, -0.19790517, -0.1363595 , -0.2791633 ,\n         0.692249  ,  0.23064351, -0.36717436,  0.00424221, -0.1260803 ,\n        -0.11866653, -0.7800371 ,  0.17823063,  0.50259084,  0.9811002 ,\n        -0.64849746, -0.4554347 , -0.11777008, -0.9001586 , -1.3099066 ,\n        -0.32935694,  0.03699758], dtype=float32),\n &#39;sock&#39;: array([ 0.0657205 , -0.2286736 ,  0.13489419, -0.06396668,  0.6887208 ,\n         0.16870943,  0.3498658 , -0.25315776, -0.20252386,  0.28022966,\n         0.39113992, -0.01086645,  0.14631037, -0.42327163, -0.52932984,\n         0.18794571, -0.31947517,  0.14562471, -0.188412  , -0.44176415,\n         0.27079567, -0.7928059 ,  0.25013587,  0.41520742, -0.6465796 ,\n         0.18502906, -0.2256845 ,  0.294278  , -0.09744862,  0.20368443,\n         0.10468726,  0.20152907], dtype=float32),\n &#39;sequía&#39;: array([ 0.3751946 , -0.19406793,  0.11789321, -0.2869439 , -0.23907237,\n         0.4893695 , -0.35606408, -0.16384363, -0.41369644, -0.1070381 ,\n        -0.05914441,  0.47732106, -0.7013087 , -0.7554011 , -0.08077914,\n        -1.4273629 ,  0.05219002, -0.27826303,  0.1798346 ,  0.11914008,\n         0.57334846, -0.273761  , -0.3103488 ,  0.07068855,  0.6534152 ,\n        -0.01009445,  0.38265544, -0.08946609,  0.25114098,  0.19592106,\n         0.13690074,  0.2516112 ], dtype=float32),\n &#39;بس&#39;: array([ 0.81205463, -1.4215426 ,  0.30339512,  1.0541553 , -1.0673633 ,\n         0.22281209,  0.25914398, -1.2855997 , -2.274058  , -0.7455722 ,\n         0.37182057, -0.4933125 ,  0.24453714,  0.27468327, -0.5936147 ,\n        -0.98939204,  1.0864533 , -2.2045016 ,  1.3829365 , -0.02709868,\n        -0.50923616,  0.5166166 ,  2.56026   , -0.21085627,  0.80391276,\n         0.73959965, -1.1371403 ,  1.1494683 ,  0.40771967,  0.04337007,\n        -2.4442744 , -2.6698594 ], dtype=float32),\n &#39;awiting&#39;: array([ 0.77645534, -0.30963296,  1.3948201 ,  0.94061446, -1.339043  ,\n         0.03432105, -0.23435424, -1.2457047 , -0.934316  , -0.12752256,\n        -0.02972263, -0.4308902 ,  1.2937716 , -0.5845826 , -0.49125993,\n         0.07161228,  0.29869783, -1.4464592 ,  0.5315393 ,  0.3513044 ,\n         0.35693172, -0.48895934, -0.36198965,  1.0765752 ,  0.07046086,\n         0.9754033 , -0.33349067, -0.70484227,  0.5577173 , -0.37251592,\n        -0.8780748 , -0.48968554], dtype=float32),\n &#39;severs&#39;: array([-0.13782604, -0.22060718,  0.17438002,  0.04038271,  0.47182828,\n        -0.10623404, -0.17021552,  0.09716431, -0.31711087, -0.43790138,\n         0.1046965 ,  0.20315693,  0.15608236, -0.5342152 , -0.33073542,\n         0.18315174, -0.05866248, -0.10293078,  0.03385688, -0.46920708,\n        -0.22729273, -0.05409871, -0.12807119,  0.3498746 , -0.22408335,\n        -0.2020592 , -0.06890092, -0.23616672, -0.43203753,  0.44581702,\n         0.06401028,  0.09019306], dtype=float32),\n &#39;respiración&#39;: array([ 2.20792353e-01, -3.63042325e-01,  3.17623764e-01, -2.98566908e-01,\n        -1.46437719e-01,  1.00258684e+00, -5.74004114e-01, -3.92022938e-01,\n         6.90447851e-05, -4.67394246e-03, -2.49604300e-01,  6.45873010e-01,\n        -5.97394705e-01, -1.03714657e+00,  1.50497973e-01, -1.22184646e+00,\n        -1.88160628e-01,  8.69576260e-02, -2.67919064e-01,  6.48950756e-01,\n         5.29320419e-01, -4.24599707e-01, -1.51599392e-01,  3.52231920e-01,\n         1.21147871e+00,  2.88571686e-01, -3.04896504e-01,  1.07483685e-01,\n         1.61505805e-03,  3.65021988e-03,  5.83139598e-01,  5.90891004e-01],\n       dtype=float32),\n &#39;yokhae&#39;: array([-0.4406627 , -0.08915221,  1.5802478 , -0.2232285 , -1.0076932 ,\n         0.05242904, -0.7110598 ,  0.603365  , -0.31855834, -0.34203202,\n        -0.03742307, -0.62320477,  0.30422086,  0.04891517, -0.6413407 ,\n        -0.04386937,  0.936572  , -1.4371915 , -0.9170286 ,  0.19551767,\n        -0.09072366,  0.14845167,  1.57925   , -0.05375379,  0.05490159,\n         0.1919376 , -0.41529685,  0.05542208, -0.40261453, -0.34634104,\n         0.1062683 , -0.9480552 ], dtype=float32),\n &#39;beeem&#39;: array([ 1.3148139 ,  0.9258201 ,  0.5999118 ,  1.0082649 , -1.5571272 ,\n         2.2067463 ,  1.0476861 ,  0.6200123 ,  0.4035668 , -0.29302529,\n         0.394544  ,  0.33255535,  0.57174647, -0.17963257, -0.44982535,\n        -1.3221776 ,  0.51957935,  0.42924392, -0.6137422 , -0.5657314 ,\n        -0.28250453,  0.03837076,  0.1856453 ,  1.0075914 , -0.17520842,\n         0.14737009, -0.70911014, -1.0611964 ,  0.6735943 ,  1.3170029 ,\n        -0.38629425, -0.45189175], dtype=float32),\n &#39;poly&#39;: array([ 0.92006   , -0.27754438, -0.15871349,  0.80057174, -0.0741147 ,\n         0.6344462 , -0.73927885,  0.33598202, -0.226548  , -0.40341288,\n         0.23316334,  0.15840265, -0.9172485 ,  0.00981083, -0.71341944,\n        -0.03915131, -0.28705558, -0.21876134,  0.50029147, -0.35295567,\n         0.74095035, -0.8227102 ,  1.2134157 ,  0.03170668, -1.062993  ,\n         0.12372151, -0.4039201 ,  1.0385765 , -1.029437  ,  0.36034423,\n         0.11981267,  0.5120277 ], dtype=float32),\n &#39;resistirme&#39;: array([ 0.10789795, -0.02368139,  0.19553056, -0.71605855, -0.8634473 ,\n         0.46276248, -0.3587362 , -0.5509633 , -0.5011397 ,  0.14965373,\n         0.10257362,  0.41157445,  0.06564276, -0.6391372 ,  0.5925034 ,\n        -1.6747353 , -0.40939182,  0.15459806, -0.11932115,  0.5628915 ,\n         0.64728224, -0.16855247, -0.5668059 ,  0.5956163 ,  0.26299122,\n        -0.68438965, -0.39169517, -0.27034026, -0.07477152,  0.22155029,\n         0.3603361 ,  0.36198932], dtype=float32),\n &#39;primavera&#39;: array([ 0.00952553, -0.0279784 , -0.04569111,  0.36967558, -0.4497679 ,\n         1.0051174 , -0.1776427 , -0.05803727,  0.14791745, -0.17141649,\n        -0.010159  ,  0.3257681 , -0.6739958 , -0.7130043 , -0.22580163,\n        -1.3698205 , -0.1545376 ,  0.16477345,  0.04317126,  0.41736004,\n         0.17217572, -0.52248734,  0.05262166, -0.00611995,  1.0952593 ,\n         0.5465848 , -0.27754423, -0.45897895,  0.30468425, -0.03820523,\n         0.02157872,  0.7305916 ], dtype=float32),\n &#39;roo&#39;: array([ 0.62821233,  0.00261826, -0.24066213,  1.0523248 , -0.43518588,\n         0.35543716,  0.20884134, -0.7546993 ,  0.45747882, -0.02905587,\n        -0.520664  , -0.91491354,  0.8133896 , -0.7220815 , -0.714661  ,\n        -0.35405886,  0.73319316, -1.1261151 , -0.02236036, -0.6563032 ,\n        -0.07711928, -0.54037935, -0.4775764 ,  0.19392058, -0.88102967,\n         0.6576178 , -1.024158  ,  0.18992777,  1.0098445 ,  0.47635332,\n        -0.13112462, -0.0173697 ], dtype=float32),\n &#39;playin&#39;: array([ 0.26845956, -0.3127155 ,  0.27920213,  0.17394091, -0.0780504 ,\n         0.02270938, -0.01699299, -0.06613778, -0.06313828, -0.22031666,\n         0.22727607, -0.14153492,  0.6033082 ,  0.6127376 , -0.09349322,\n         0.11687502, -0.51130307, -0.12696484,  0.02954971, -0.14583921,\n         0.34170678, -0.1722558 ,  0.09727015, -0.2815831 , -0.51837873,\n        -0.03455667, -0.57679284,  0.19138853,  0.06451017,  0.12680557,\n         0.47937384,  0.6093872 ], dtype=float32),\n &#39;apunto&#39;: array([ 0.35249564,  0.00880358,  0.305023  , -0.48100814, -0.70820177,\n         0.6863594 , -0.29417098, -0.40709233,  0.14367293, -0.3081309 ,\n        -0.0081097 ,  0.5816909 , -0.07488687, -0.6014193 ,  0.375079  ,\n        -1.4905971 , -0.17878409, -0.27987155, -0.13918848,  0.6146743 ,\n         0.5514156 , -0.28974584, -0.2741599 ,  0.23106636,  1.0345877 ,\n         0.22111045, -0.29808074, -0.17118621,  0.04692026, -0.02689076,\n         0.19086538,  0.5660925 ], dtype=float32),\n &#39;mattie&#39;: array([ 5.28370887e-02,  7.96783417e-02,  4.21897709e-01,  3.03658396e-01,\n         1.32165223e-01,  4.95438278e-01,  1.81360304e-01, -1.13309622e-01,\n         2.72697896e-01, -3.83235812e-01, -1.27705574e-01,  2.73547083e-01,\n         1.62838340e-01,  4.27614941e-06, -1.07065570e-02, -5.68470836e-01,\n        -3.17853183e-01, -7.96663344e-01,  1.49746597e-01, -3.01377714e-01,\n         3.99794206e-02, -1.06808044e-01,  5.25546186e-02, -4.68121260e-01,\n        -8.41965675e-01,  2.20651522e-01,  3.77586111e-02,  9.46602702e-01,\n         5.53411663e-01,  1.31171644e-01,  1.38972411e-02,  4.42605376e-01],\n       dtype=float32),\n &#39;demolish&#39;: array([ 0.3872163 ,  0.06293084,  0.32540965,  0.0980714 ,  0.2562831 ,\n        -0.00332627,  0.05233086, -0.06037045,  0.03540437, -0.28971905,\n         0.2440801 ,  0.3158872 ,  0.38575333, -0.4017315 , -0.25931317,\n         0.24845739, -0.3045131 , -0.10308076,  0.5217518 , -0.44275308,\n         0.16219889, -0.58144015, -0.08524529,  0.04422542, -0.07316135,\n        -0.04629113, -0.23609316,  0.33127618,  0.39514077,  0.0672204 ,\n         0.10644045, -0.13106516], dtype=float32),\n &#39;34&#39;: array([ 7.5954748e-03, -2.8071586e-02,  3.6997277e-01,  5.1328458e-02,\n        -1.6145568e-01,  4.3961707e-01, -3.4906232e-04,  4.8328891e-02,\n         1.0801053e-02,  1.7740069e-01,  2.2201049e-01,  4.4405040e-01,\n         1.8134056e-01, -1.1258708e-01, -3.4237874e-01,  1.7148562e-02,\n        -3.6006337e-01,  9.2080250e-02,  8.9123286e-02,  2.5434958e-02,\n         1.9219711e-01,  5.9762645e-01,  9.3985461e-02, -3.8532186e-01,\n        -5.2442563e-01,  4.7249463e-01,  1.1949735e-01,  7.7734299e-02,\n         5.0025117e-01, -1.2120309e-01,  2.8386882e-01,  1.8572018e-02],\n       dtype=float32),\n &#39;nta&#39;: array([ 0.88501245,  0.8429509 ,  1.1485186 ,  0.08345868, -0.89136785,\n         0.533851  ,  0.6088239 , -0.5352426 ,  0.21776868, -0.66771704,\n        -0.05243304,  0.5174236 , -0.39857462, -0.6177379 , -0.31956142,\n        -0.8072618 ,  0.21649778, -2.2648032 , -0.682449  ,  0.1952497 ,\n        -0.2828623 ,  0.6424449 ,  0.49944827,  0.6364544 , -0.37244558,\n         0.79800195, -0.35827753, -0.16247702,  1.1696146 ,  0.6879187 ,\n        -1.8450615 ,  0.28182113], dtype=float32),\n &#39;mennä&#39;: array([ 0.9626138 ,  0.9410269 ,  0.67784494,  0.1953804 , -1.7015532 ,\n         1.4945112 , -0.36279172, -0.48987383, -0.4575008 , -1.0385692 ,\n        -0.06315042,  0.07632889,  0.53507274, -0.31315273, -1.1805698 ,\n         0.7695438 ,  0.08783385, -2.0133448 ,  0.08260453,  0.79053026,\n         0.21334915, -0.56854594, -0.3215527 ,  0.500945  , -1.1717539 ,\n         0.5237229 , -0.5950432 , -1.2322845 ,  0.6973856 , -0.06787121,\n         0.44327927, -1.5106323 ], dtype=float32),\n &#39;humped&#39;: array([ 0.108289  ,  0.24389872,  0.37861717,  0.02406802,  0.04271619,\n        -0.21229513, -0.4867374 ,  0.00351438,  0.06886113, -0.31922817,\n         0.08214244,  0.41215125,  0.15537022,  0.06128541, -0.24792093,\n         0.3702415 , -0.00651841, -0.06732386, -0.31669912,  0.04125221,\n         0.44262898, -0.25561938,  0.32566807, -0.12988313, -0.54615766,\n         0.26666984,  0.19892798,  0.11925762, -0.07675356,  0.23583397,\n         0.6278301 ,  0.2720646 ], dtype=float32),\n &#39;venn&#39;: array([ 0.10744093,  0.7951004 ,  0.7901656 ,  0.3108835 ,  0.0137313 ,\n         0.24561873, -0.2867893 , -0.63720405,  0.24114345, -0.30066538,\n         0.04835834, -0.23367478,  0.03643123, -0.41759542, -0.2574208 ,\n        -0.05244077,  0.5371287 , -0.54776764,  0.18634012, -0.1550582 ,\n         0.0819212 , -0.21338773,  0.23396245,  0.80698305, -0.5271901 ,\n        -0.16394372,  0.02712127, -0.34888777,  0.01873464, -0.1251776 ,\n         0.22701634, -0.320121  ], dtype=float32),\n &#39;2way&#39;: array([-0.2969126 ,  0.0581115 ,  0.1498707 , -0.0454212 ,  0.48385474,\n         0.14840975,  0.32553703, -0.54697585, -0.21350776,  0.22031894,\n         0.03015613,  0.01475494,  0.17579184,  0.04332489, -0.30105203,\n         0.02918972, -0.36188635,  0.24064562, -0.19758692, -0.33129424,\n         0.7390371 ,  0.07039803,  0.0637326 ,  0.25479755, -0.790696  ,\n        -0.34893245, -0.55261815,  0.4641332 ,  0.28050876,  0.16391829,\n         0.35350874,  0.521223  ], dtype=float32),\n ...}</div>",
       "datasetInfos": [],
       "metadata": {},
       "removedWidgets": [],
       "type": "html"
      }
     },
     "output_type": "display_data"
    }
   ],
   "source": [
    "word_vecs"
   ]
  },
  {
   "cell_type": "code",
   "execution_count": null,
   "metadata": {
    "application/vnd.databricks.v1+cell": {
     "inputWidgets": {},
     "nuid": "ae94d341-7a92-48f2-b3fd-2232fe35a6ff",
     "showTitle": false,
     "title": ""
    }
   },
   "outputs": [
    {
     "data": {
      "text/html": [
       "<style scoped>\n",
       "  .ansiout {\n",
       "    display: block;\n",
       "    unicode-bidi: embed;\n",
       "    white-space: pre-wrap;\n",
       "    word-wrap: break-word;\n",
       "    word-break: break-all;\n",
       "    font-family: \"Source Code Pro\", \"Menlo\", monospace;;\n",
       "    font-size: 13px;\n",
       "    color: #555;\n",
       "    margin-left: 4px;\n",
       "    line-height: 19px;\n",
       "  }\n",
       "</style>\n",
       "<div class=\"ansiout\">+--------------------+--------------------+--------------------+\n",
       "           track_uri|              lyrics|               words|\n",
       "+--------------------+--------------------+--------------------+\n",
       "spotify:track:003...|I wear it like a ...|[i, wear, it, lik...|\n",
       "spotify:track:00J...|Meglio che ti lib...|[meglio, che, ti,...|\n",
       "spotify:track:00J...|Only time until,\\...|[only, time, unti...|\n",
       "spotify:track:00W...|I&#39;d like to thank...|[id, like, to, th...|\n",
       "spotify:track:00X...|So why the ghetto...|[so, why, the, gh...|\n",
       "+--------------------+--------------------+--------------------+\n",
       "only showing top 5 rows\n",
       "\n",
       "</div>"
      ]
     },
     "metadata": {
      "application/vnd.databricks.v1+output": {
       "addedWidgets": {},
       "arguments": {},
       "data": "<div class=\"ansiout\">+--------------------+--------------------+--------------------+\n|           track_uri|              lyrics|               words|\n+--------------------+--------------------+--------------------+\n|spotify:track:003...|I wear it like a ...|[i, wear, it, lik...|\n|spotify:track:00J...|Meglio che ti lib...|[meglio, che, ti,...|\n|spotify:track:00J...|Only time until,\\...|[only, time, unti...|\n|spotify:track:00W...|I&#39;d like to thank...|[id, like, to, th...|\n|spotify:track:00X...|So why the ghetto...|[so, why, the, gh...|\n+--------------------+--------------------+--------------------+\nonly showing top 5 rows\n\n</div>",
       "datasetInfos": [],
       "metadata": {},
       "removedWidgets": [],
       "type": "html"
      }
     },
     "output_type": "display_data"
    }
   ],
   "source": [
    "songs_df.show(5)"
   ]
  },
  {
   "cell_type": "code",
   "execution_count": null,
   "metadata": {
    "application/vnd.databricks.v1+cell": {
     "inputWidgets": {},
     "nuid": "26f08746-3d12-453a-a149-a0dfd88a1c70",
     "showTitle": false,
     "title": ""
    }
   },
   "outputs": [
    {
     "data": {
      "text/html": [
       "<style scoped>\n",
       "  .ansiout {\n",
       "    display: block;\n",
       "    unicode-bidi: embed;\n",
       "    white-space: pre-wrap;\n",
       "    word-wrap: break-word;\n",
       "    word-break: break-all;\n",
       "    font-family: \"Source Code Pro\", \"Menlo\", monospace;;\n",
       "    font-size: 13px;\n",
       "    color: #555;\n",
       "    margin-left: 4px;\n",
       "    line-height: 19px;\n",
       "  }\n",
       "</style>\n",
       "<div class=\"ansiout\">Out[30]: array([ 0.14932686,  0.37045252,  0.36223352, -0.45479566,  0.32517248,\n",
       "       -0.30644256, -0.00156411,  0.63156086,  0.4372439 ,  0.02330781,\n",
       "       -0.01732084, -0.08565131, -0.05843329,  0.1574336 , -0.39021763,\n",
       "        0.10594238, -0.54023653, -0.4181685 , -0.29182017,  0.27250916,\n",
       "        0.72266924, -0.0846188 , -0.09610163,  0.06633095, -0.44312337,\n",
       "       -0.09470002, -0.6399128 ,  0.11257717,  0.14065027, -0.01737747,\n",
       "       -0.0918657 ,  0.44279173], dtype=float32)</div>"
      ]
     },
     "metadata": {
      "application/vnd.databricks.v1+output": {
       "addedWidgets": {},
       "arguments": {},
       "data": "<div class=\"ansiout\">Out[30]: array([ 0.14932686,  0.37045252,  0.36223352, -0.45479566,  0.32517248,\n       -0.30644256, -0.00156411,  0.63156086,  0.4372439 ,  0.02330781,\n       -0.01732084, -0.08565131, -0.05843329,  0.1574336 , -0.39021763,\n        0.10594238, -0.54023653, -0.4181685 , -0.29182017,  0.27250916,\n        0.72266924, -0.0846188 , -0.09610163,  0.06633095, -0.44312337,\n       -0.09470002, -0.6399128 ,  0.11257717,  0.14065027, -0.01737747,\n       -0.0918657 ,  0.44279173], dtype=float32)</div>",
       "datasetInfos": [],
       "metadata": {},
       "removedWidgets": [],
       "type": "html"
      }
     },
     "output_type": "display_data"
    }
   ],
   "source": [
    "word_vecs['issues']"
   ]
  },
  {
   "cell_type": "code",
   "execution_count": null,
   "metadata": {
    "application/vnd.databricks.v1+cell": {
     "inputWidgets": {},
     "nuid": "d1f87b96-f6da-444f-b5c1-3422cad04c91",
     "showTitle": false,
     "title": ""
    }
   },
   "outputs": [
    {
     "data": {
      "text/html": [
       "<style scoped>\n",
       "  .ansiout {\n",
       "    display: block;\n",
       "    unicode-bidi: embed;\n",
       "    white-space: pre-wrap;\n",
       "    word-wrap: break-word;\n",
       "    word-break: break-all;\n",
       "    font-family: \"Source Code Pro\", \"Menlo\", monospace;;\n",
       "    font-size: 13px;\n",
       "    color: #555;\n",
       "    margin-left: 4px;\n",
       "    line-height: 19px;\n",
       "  }\n",
       "</style>\n",
       "<div class=\"ansiout\"></div>"
      ]
     },
     "metadata": {
      "application/vnd.databricks.v1+output": {
       "addedWidgets": {},
       "arguments": {},
       "data": "<div class=\"ansiout\"></div>",
       "datasetInfos": [],
       "metadata": {},
       "removedWidgets": [],
       "type": "html"
      }
     },
     "output_type": "display_data"
    }
   ],
   "source": [
    "# Compute average embedding for each song\n",
    "import numpy as np\n",
    "\n",
    "def get_song_avg(words, word_vecs):\n",
    "    all_vecs = [word_vecs[w] for w in words if w in word_vecs]\n",
    "    if len(all_vecs) > 1:\n",
    "        return np.mean(all_vecs, axis=0).tolist()\n",
    "\n",
    "words2songvec = udf(lambda row: get_song_avg(row, word_vecs), returnType=ArrayType(FloatType()))\n",
    "\n",
    "song_embs = songs_df.select(\"track_uri\", \"lyrics\", \"words\", words2songvec(songs_df['words']).alias(\"embedding\"))"
   ]
  },
  {
   "cell_type": "code",
   "execution_count": null,
   "metadata": {
    "application/vnd.databricks.v1+cell": {
     "inputWidgets": {},
     "nuid": "d67644ba-6573-400c-975e-5ff53b7c4bf3",
     "showTitle": false,
     "title": ""
    }
   },
   "outputs": [
    {
     "data": {
      "text/html": [
       "<style scoped>\n",
       "  .ansiout {\n",
       "    display: block;\n",
       "    unicode-bidi: embed;\n",
       "    white-space: pre-wrap;\n",
       "    word-wrap: break-word;\n",
       "    word-break: break-all;\n",
       "    font-family: \"Source Code Pro\", \"Menlo\", monospace;;\n",
       "    font-size: 13px;\n",
       "    color: #555;\n",
       "    margin-left: 4px;\n",
       "    line-height: 19px;\n",
       "  }\n",
       "</style>\n",
       "<div class=\"ansiout\">+--------------------+--------------------+--------------------+--------------------+\n",
       "           track_uri|              lyrics|               words|           embedding|\n",
       "+--------------------+--------------------+--------------------+--------------------+\n",
       "spotify:track:003...|I wear it like a ...|[i, wear, it, lik...|[-0.16906185, -0....|\n",
       "spotify:track:00J...|Meglio che ti lib...|[meglio, che, ti,...|[0.17590189, 0.23...|\n",
       "spotify:track:00J...|Only time until,\\...|[only, time, unti...|[-0.16405874, -0....|\n",
       "spotify:track:00W...|I&#39;d like to thank...|[id, like, to, th...|[-0.09847277, -0....|\n",
       "spotify:track:00X...|So why the ghetto...|[so, why, the, gh...|[-0.12120569, -0....|\n",
       "+--------------------+--------------------+--------------------+--------------------+\n",
       "only showing top 5 rows\n",
       "\n",
       "</div>"
      ]
     },
     "metadata": {
      "application/vnd.databricks.v1+output": {
       "addedWidgets": {},
       "arguments": {},
       "data": "<div class=\"ansiout\">+--------------------+--------------------+--------------------+--------------------+\n|           track_uri|              lyrics|               words|           embedding|\n+--------------------+--------------------+--------------------+--------------------+\n|spotify:track:003...|I wear it like a ...|[i, wear, it, lik...|[-0.16906185, -0....|\n|spotify:track:00J...|Meglio che ti lib...|[meglio, che, ti,...|[0.17590189, 0.23...|\n|spotify:track:00J...|Only time until,\\...|[only, time, unti...|[-0.16405874, -0....|\n|spotify:track:00W...|I&#39;d like to thank...|[id, like, to, th...|[-0.09847277, -0....|\n|spotify:track:00X...|So why the ghetto...|[so, why, the, gh...|[-0.12120569, -0....|\n+--------------------+--------------------+--------------------+--------------------+\nonly showing top 5 rows\n\n</div>",
       "datasetInfos": [],
       "metadata": {},
       "removedWidgets": [],
       "type": "html"
      }
     },
     "output_type": "display_data"
    }
   ],
   "source": [
    "song_embs.show(5)"
   ]
  },
  {
   "cell_type": "code",
   "execution_count": null,
   "metadata": {
    "application/vnd.databricks.v1+cell": {
     "inputWidgets": {},
     "nuid": "832f9614-11a1-451a-b008-ce1ad7bb84e7",
     "showTitle": false,
     "title": ""
    }
   },
   "outputs": [
    {
     "data": {
      "text/html": [
       "<style scoped>\n",
       "  .ansiout {\n",
       "    display: block;\n",
       "    unicode-bidi: embed;\n",
       "    white-space: pre-wrap;\n",
       "    word-wrap: break-word;\n",
       "    word-break: break-all;\n",
       "    font-family: \"Source Code Pro\", \"Menlo\", monospace;;\n",
       "    font-size: 13px;\n",
       "    color: #555;\n",
       "    margin-left: 4px;\n",
       "    line-height: 19px;\n",
       "  }\n",
       "</style>\n",
       "<div class=\"ansiout\">Out[33]: 138123</div>"
      ]
     },
     "metadata": {
      "application/vnd.databricks.v1+output": {
       "addedWidgets": {},
       "arguments": {},
       "data": "<div class=\"ansiout\">Out[33]: 138123</div>",
       "datasetInfos": [],
       "metadata": {},
       "removedWidgets": [],
       "type": "html"
      }
     },
     "output_type": "display_data"
    }
   ],
   "source": [
    "song_embs.count()"
   ]
  },
  {
   "cell_type": "code",
   "execution_count": null,
   "metadata": {
    "application/vnd.databricks.v1+cell": {
     "inputWidgets": {},
     "nuid": "8f825546-0608-4f3e-a671-9c1109b9a25b",
     "showTitle": false,
     "title": ""
    }
   },
   "outputs": [
    {
     "data": {
      "text/html": [
       "<style scoped>\n",
       "  .ansiout {\n",
       "    display: block;\n",
       "    unicode-bidi: embed;\n",
       "    white-space: pre-wrap;\n",
       "    word-wrap: break-word;\n",
       "    word-break: break-all;\n",
       "    font-family: \"Source Code Pro\", \"Menlo\", monospace;;\n",
       "    font-size: 13px;\n",
       "    color: #555;\n",
       "    margin-left: 4px;\n",
       "    line-height: 19px;\n",
       "  }\n",
       "</style>\n",
       "<div class=\"ansiout\"></div>"
      ]
     },
     "metadata": {
      "application/vnd.databricks.v1+output": {
       "addedWidgets": {},
       "arguments": {},
       "data": "<div class=\"ansiout\"></div>",
       "datasetInfos": [],
       "metadata": {},
       "removedWidgets": [],
       "type": "html"
      }
     },
     "output_type": "display_data"
    }
   ],
   "source": [
    "# Uncomment below to write lyrics vectors to new collection in MongoDB\n",
    "# collection = 'lyrics_vectors'\n",
    "# connection_string = f\"mongodb+srv://{user_name}:{password}@{address}/{database}.{collection}\"\n",
    "# song_embs.write.format(\"mongo\").option(\"uri\", connection_string).mode(\"append\").save()"
   ]
  },
  {
   "cell_type": "markdown",
   "metadata": {
    "application/vnd.databricks.v1+cell": {
     "inputWidgets": {},
     "nuid": "788a3222-d11d-4c21-8089-eb2b2080ca75",
     "showTitle": false,
     "title": ""
    }
   },
   "source": [
    "## Computing lyrical distance between songs\n",
    "\n",
    "In an effort to understand how similar two songs are *lyrically*, we will take the Euclidean distance between the lyrical embeddings for all pairs of songs in the dataset. We will later compare this distance to the song embeddings calculated by all songs' co-occurrence in playlists. In this section we take the following steps:\n",
    "\n",
    "* Read lyrical embeddings DataFrame back from MongoDB\n",
    "* Get new dataframe with all pairs of songs\n",
    "* Merge this dataframe with the lyrical embeddings of each song\n",
    "* Calculate the distance between the two lyrical embeddings for each row"
   ]
  },
  {
   "cell_type": "code",
   "execution_count": null,
   "metadata": {
    "application/vnd.databricks.v1+cell": {
     "inputWidgets": {},
     "nuid": "6c62826b-ec75-4e15-ad7a-8ffc5e6bfdef",
     "showTitle": false,
     "title": ""
    }
   },
   "outputs": [
    {
     "data": {
      "text/html": [
       "<style scoped>\n",
       "  .ansiout {\n",
       "    display: block;\n",
       "    unicode-bidi: embed;\n",
       "    white-space: pre-wrap;\n",
       "    word-wrap: break-word;\n",
       "    word-break: break-all;\n",
       "    font-family: \"Source Code Pro\", \"Menlo\", monospace;;\n",
       "    font-size: 13px;\n",
       "    color: #555;\n",
       "    margin-left: 4px;\n",
       "    line-height: 19px;\n",
       "  }\n",
       "</style>\n",
       "<div class=\"ansiout\"></div>"
      ]
     },
     "metadata": {
      "application/vnd.databricks.v1+output": {
       "addedWidgets": {},
       "arguments": {},
       "data": "<div class=\"ansiout\"></div>",
       "datasetInfos": [],
       "metadata": {},
       "removedWidgets": [],
       "type": "html"
      }
     },
     "output_type": "display_data"
    }
   ],
   "source": [
    "# Read lyrical embeddings from MongoDB\n",
    "collection = 'lyrics_vectors'\n",
    "connection_string = f\"mongodb+srv://{user_name}:{password}@{address}/{database}.{collection}\"\n",
    "lyrics_df = spark.read.format('mongo').option(\"uri\", connection_string).load()"
   ]
  },
  {
   "cell_type": "code",
   "execution_count": null,
   "metadata": {
    "application/vnd.databricks.v1+cell": {
     "inputWidgets": {},
     "nuid": "5368da02-e5ea-4c43-a699-d25a28f04307",
     "showTitle": false,
     "title": ""
    }
   },
   "outputs": [
    {
     "data": {
      "text/html": [
       "<style scoped>\n",
       "  .ansiout {\n",
       "    display: block;\n",
       "    unicode-bidi: embed;\n",
       "    white-space: pre-wrap;\n",
       "    word-wrap: break-word;\n",
       "    word-break: break-all;\n",
       "    font-family: \"Source Code Pro\", \"Menlo\", monospace;;\n",
       "    font-size: 13px;\n",
       "    color: #555;\n",
       "    margin-left: 4px;\n",
       "    line-height: 19px;\n",
       "  }\n",
       "</style>\n",
       "<div class=\"ansiout\">+--------------------+--------------------+--------------------+--------------------+--------------------+\n",
       "                 _id|           embedding|              lyrics|           track_uri|               words|\n",
       "+--------------------+--------------------+--------------------+--------------------+--------------------+\n",
       "{622459103db08d29...|[-0.0680133402347...|get me in so much...|spotify:track:019...|[get, me, in, so,...|\n",
       "{622459103db08d29...|[-0.0028278413228...|I am neon\\nCold n...|spotify:track:02S...|[i, am, neon, col...|\n",
       "{622459103db08d29...|[-0.3783115446567...|Nin mun kèr’i la ...|spotify:track:038...|[nin, mun, kèri, ...|\n",
       "{622459103db08d29...|[-0.0389421209692...|Since you&#39;ve been...|spotify:track:054...|[since, youve, be...|\n",
       "{622459103db08d29...|[0.09178527444601...|The pipes, the pi...|spotify:track:05M...|[the, pipes, the,...|\n",
       "+--------------------+--------------------+--------------------+--------------------+--------------------+\n",
       "only showing top 5 rows\n",
       "\n",
       "</div>"
      ]
     },
     "metadata": {
      "application/vnd.databricks.v1+output": {
       "addedWidgets": {},
       "arguments": {},
       "data": "<div class=\"ansiout\">+--------------------+--------------------+--------------------+--------------------+--------------------+\n|                 _id|           embedding|              lyrics|           track_uri|               words|\n+--------------------+--------------------+--------------------+--------------------+--------------------+\n|{622459103db08d29...|[-0.0680133402347...|get me in so much...|spotify:track:019...|[get, me, in, so,...|\n|{622459103db08d29...|[-0.0028278413228...|I am neon\\nCold n...|spotify:track:02S...|[i, am, neon, col...|\n|{622459103db08d29...|[-0.3783115446567...|Nin mun kèr’i la ...|spotify:track:038...|[nin, mun, kèri, ...|\n|{622459103db08d29...|[-0.0389421209692...|Since you&#39;ve been...|spotify:track:054...|[since, youve, be...|\n|{622459103db08d29...|[0.09178527444601...|The pipes, the pi...|spotify:track:05M...|[the, pipes, the,...|\n+--------------------+--------------------+--------------------+--------------------+--------------------+\nonly showing top 5 rows\n\n</div>",
       "datasetInfos": [],
       "metadata": {},
       "removedWidgets": [],
       "type": "html"
      }
     },
     "output_type": "display_data"
    }
   ],
   "source": [
    "lyrics_df.show(5)"
   ]
  },
  {
   "cell_type": "code",
   "execution_count": null,
   "metadata": {
    "application/vnd.databricks.v1+cell": {
     "inputWidgets": {},
     "nuid": "0ad0faef-88da-49e5-9fe2-8b32a2fab349",
     "showTitle": false,
     "title": ""
    }
   },
   "outputs": [
    {
     "data": {
      "text/html": [
       "<style scoped>\n",
       "  .ansiout {\n",
       "    display: block;\n",
       "    unicode-bidi: embed;\n",
       "    white-space: pre-wrap;\n",
       "    word-wrap: break-word;\n",
       "    word-break: break-all;\n",
       "    font-family: \"Source Code Pro\", \"Menlo\", monospace;;\n",
       "    font-size: 13px;\n",
       "    color: #555;\n",
       "    margin-left: 4px;\n",
       "    line-height: 19px;\n",
       "  }\n",
       "</style>\n",
       "<div class=\"ansiout\">+--------------------+--------------------+\n",
       "           track_uri|           embedding|\n",
       "+--------------------+--------------------+\n",
       "spotify:track:019...|[-0.0680133402347...|\n",
       "spotify:track:02S...|[-0.0028278413228...|\n",
       "spotify:track:038...|[-0.3783115446567...|\n",
       "spotify:track:054...|[-0.0389421209692...|\n",
       "spotify:track:05M...|[0.09178527444601...|\n",
       "+--------------------+--------------------+\n",
       "only showing top 5 rows\n",
       "\n",
       "</div>"
      ]
     },
     "metadata": {
      "application/vnd.databricks.v1+output": {
       "addedWidgets": {},
       "arguments": {},
       "data": "<div class=\"ansiout\">+--------------------+--------------------+\n|           track_uri|           embedding|\n+--------------------+--------------------+\n|spotify:track:019...|[-0.0680133402347...|\n|spotify:track:02S...|[-0.0028278413228...|\n|spotify:track:038...|[-0.3783115446567...|\n|spotify:track:054...|[-0.0389421209692...|\n|spotify:track:05M...|[0.09178527444601...|\n+--------------------+--------------------+\nonly showing top 5 rows\n\n</div>",
       "datasetInfos": [],
       "metadata": {},
       "removedWidgets": [],
       "type": "html"
      }
     },
     "output_type": "display_data"
    }
   ],
   "source": [
    "lyrics_df = lyrics_df.select(\"track_uri\", \"embedding\")\n",
    "lyrics_df.show(5)"
   ]
  },
  {
   "cell_type": "code",
   "execution_count": null,
   "metadata": {
    "application/vnd.databricks.v1+cell": {
     "inputWidgets": {},
     "nuid": "4eb67976-c9cb-4102-b2df-24950d8ed96b",
     "showTitle": false,
     "title": ""
    }
   },
   "outputs": [
    {
     "data": {
      "text/html": [
       "<style scoped>\n",
       "  .ansiout {\n",
       "    display: block;\n",
       "    unicode-bidi: embed;\n",
       "    white-space: pre-wrap;\n",
       "    word-wrap: break-word;\n",
       "    word-break: break-all;\n",
       "    font-family: \"Source Code Pro\", \"Menlo\", monospace;;\n",
       "    font-size: 13px;\n",
       "    color: #555;\n",
       "    margin-left: 4px;\n",
       "    line-height: 19px;\n",
       "  }\n",
       "</style>\n",
       "<div class=\"ansiout\">Out[38]: 138123</div>"
      ]
     },
     "metadata": {
      "application/vnd.databricks.v1+output": {
       "addedWidgets": {},
       "arguments": {},
       "data": "<div class=\"ansiout\">Out[38]: 138123</div>",
       "datasetInfos": [],
       "metadata": {},
       "removedWidgets": [],
       "type": "html"
      }
     },
     "output_type": "display_data"
    }
   ],
   "source": [
    "lyrics_df.count()"
   ]
  },
  {
   "cell_type": "code",
   "execution_count": null,
   "metadata": {
    "application/vnd.databricks.v1+cell": {
     "inputWidgets": {},
     "nuid": "1119b5b6-ae81-4842-b744-ca2acf04cee0",
     "showTitle": false,
     "title": ""
    }
   },
   "outputs": [
    {
     "data": {
      "text/html": [
       "<style scoped>\n",
       "  .ansiout {\n",
       "    display: block;\n",
       "    unicode-bidi: embed;\n",
       "    white-space: pre-wrap;\n",
       "    word-wrap: break-word;\n",
       "    word-break: break-all;\n",
       "    font-family: \"Source Code Pro\", \"Menlo\", monospace;;\n",
       "    font-size: 13px;\n",
       "    color: #555;\n",
       "    margin-left: 4px;\n",
       "    line-height: 19px;\n",
       "  }\n",
       "</style>\n",
       "<div class=\"ansiout\">Out[39]: 9538912269</div>"
      ]
     },
     "metadata": {
      "application/vnd.databricks.v1+output": {
       "addedWidgets": {},
       "arguments": {},
       "data": "<div class=\"ansiout\">Out[39]: 9538912269</div>",
       "datasetInfos": [],
       "metadata": {},
       "removedWidgets": [],
       "type": "html"
      }
     },
     "output_type": "display_data"
    }
   ],
   "source": [
    "# Get all song, song pairs in dataframe\n",
    "pairs = lyrics_df.alias(\"left\")\\\n",
    "         .join(lyrics_df.alias(\"right\"), col(\"left.track_uri\") < col(\"right.track_uri\"), \"inner\")\\\n",
    "         .select(col(\"left.track_uri\").alias(\"track_1\"), col(\"right.track_uri\").alias(\"track_2\"))\n",
    "pairs.count()"
   ]
  },
  {
   "cell_type": "markdown",
   "metadata": {
    "application/vnd.databricks.v1+cell": {
     "inputWidgets": {},
     "nuid": "f47b2f73-0653-4ec8-a510-7e5869bff752",
     "showTitle": false,
     "title": ""
    }
   },
   "source": [
    "Initially, I attempted to run the analysis on all song, song pairs in the dataframe above (9.5 billion observations). This proved too computationally intensive, slow, and ultimately expensive. Instead, we will proceed by sampling 0.1% of song pairs, which will still give us a sizeable dataset of about 9.5 million pairs."
   ]
  },
  {
   "cell_type": "code",
   "execution_count": null,
   "metadata": {
    "application/vnd.databricks.v1+cell": {
     "inputWidgets": {},
     "nuid": "77a3ac24-a414-4551-af2d-318802ec0e75",
     "showTitle": false,
     "title": ""
    }
   },
   "outputs": [
    {
     "data": {
      "text/html": [
       "<style scoped>\n",
       "  .ansiout {\n",
       "    display: block;\n",
       "    unicode-bidi: embed;\n",
       "    white-space: pre-wrap;\n",
       "    word-wrap: break-word;\n",
       "    word-break: break-all;\n",
       "    font-family: \"Source Code Pro\", \"Menlo\", monospace;;\n",
       "    font-size: 13px;\n",
       "    color: #555;\n",
       "    margin-left: 4px;\n",
       "    line-height: 19px;\n",
       "  }\n",
       "</style>\n",
       "<div class=\"ansiout\">0.001048337558622744\n",
       "Out[40]: 9542654</div>"
      ]
     },
     "metadata": {
      "application/vnd.databricks.v1+output": {
       "addedWidgets": {},
       "arguments": {},
       "data": "<div class=\"ansiout\">0.001048337558622744\nOut[40]: 9542654</div>",
       "datasetInfos": [],
       "metadata": {},
       "removedWidgets": [],
       "type": "html"
      }
     },
     "output_type": "display_data"
    }
   ],
   "source": [
    "# Running the analysis on 10 billion word pairs is too slow, cumbersome, and expensive\n",
    "# Instead, sub-sample pairs dataframe 0.1% of dataframe (about 10M pairs)\n",
    "print(10_000_000 / 9_538_912_269)\n",
    "\n",
    "pairs = pairs.sample(fraction=0.001, seed=42)\n",
    "pairs.count()"
   ]
  },
  {
   "cell_type": "code",
   "execution_count": null,
   "metadata": {
    "application/vnd.databricks.v1+cell": {
     "inputWidgets": {},
     "nuid": "ab9ae065-fd42-42d5-a4f0-063c78bd7eae",
     "showTitle": false,
     "title": ""
    }
   },
   "outputs": [
    {
     "data": {
      "text/html": [
       "<style scoped>\n",
       "  .ansiout {\n",
       "    display: block;\n",
       "    unicode-bidi: embed;\n",
       "    white-space: pre-wrap;\n",
       "    word-wrap: break-word;\n",
       "    word-break: break-all;\n",
       "    font-family: \"Source Code Pro\", \"Menlo\", monospace;;\n",
       "    font-size: 13px;\n",
       "    color: #555;\n",
       "    margin-left: 4px;\n",
       "    line-height: 19px;\n",
       "  }\n",
       "</style>\n",
       "<div class=\"ansiout\">+--------------------+--------------------+\n",
       "             track_1|             track_2|\n",
       "+--------------------+--------------------+\n",
       "spotify:track:1Hb...|spotify:track:1JF...|\n",
       "spotify:track:019...|spotify:track:228...|\n",
       "spotify:track:019...|spotify:track:4oM...|\n",
       "spotify:track:019...|spotify:track:0PJ...|\n",
       "spotify:track:019...|spotify:track:2zq...|\n",
       "+--------------------+--------------------+\n",
       "only showing top 5 rows\n",
       "\n",
       "</div>"
      ]
     },
     "metadata": {
      "application/vnd.databricks.v1+output": {
       "addedWidgets": {},
       "arguments": {},
       "data": "<div class=\"ansiout\">+--------------------+--------------------+\n|             track_1|             track_2|\n+--------------------+--------------------+\n|spotify:track:1Hb...|spotify:track:1JF...|\n|spotify:track:019...|spotify:track:228...|\n|spotify:track:019...|spotify:track:4oM...|\n|spotify:track:019...|spotify:track:0PJ...|\n|spotify:track:019...|spotify:track:2zq...|\n+--------------------+--------------------+\nonly showing top 5 rows\n\n</div>",
       "datasetInfos": [],
       "metadata": {},
       "removedWidgets": [],
       "type": "html"
      }
     },
     "output_type": "display_data"
    }
   ],
   "source": [
    "pairs.show(5)"
   ]
  },
  {
   "cell_type": "markdown",
   "metadata": {
    "application/vnd.databricks.v1+cell": {
     "inputWidgets": {},
     "nuid": "c27c4307-e60f-44d4-9527-1823dd8a6704",
     "showTitle": false,
     "title": ""
    }
   },
   "source": [
    "Next, we join our pairs dataframe with the lyrical embeddings dataframe to add the lyrical embeddings for each track."
   ]
  },
  {
   "cell_type": "code",
   "execution_count": null,
   "metadata": {
    "application/vnd.databricks.v1+cell": {
     "inputWidgets": {},
     "nuid": "9a5d5605-d1c6-4edd-a28a-4067e1226cdd",
     "showTitle": false,
     "title": ""
    }
   },
   "outputs": [
    {
     "data": {
      "text/html": [
       "<style scoped>\n",
       "  .ansiout {\n",
       "    display: block;\n",
       "    unicode-bidi: embed;\n",
       "    white-space: pre-wrap;\n",
       "    word-wrap: break-word;\n",
       "    word-break: break-all;\n",
       "    font-family: \"Source Code Pro\", \"Menlo\", monospace;;\n",
       "    font-size: 13px;\n",
       "    color: #555;\n",
       "    margin-left: 4px;\n",
       "    line-height: 19px;\n",
       "  }\n",
       "</style>\n",
       "<div class=\"ansiout\"></div>"
      ]
     },
     "metadata": {
      "application/vnd.databricks.v1+output": {
       "addedWidgets": {},
       "arguments": {},
       "data": "<div class=\"ansiout\"></div>",
       "datasetInfos": [],
       "metadata": {},
       "removedWidgets": [],
       "type": "html"
      }
     },
     "output_type": "display_data"
    }
   ],
   "source": [
    "# Add track 1's lyrical embedding\n",
    "pairs_embs = pairs.alias(\"left\")\\\n",
    "                 .join(lyrics_df.alias(\"right\"), col(\"left.track_1\") == col(\"right.track_uri\"), \"left\")\\\n",
    "                 .select(col(\"left.track_1\").alias(\"track_1\"), col(\"left.track_2\").alias(\"track_2\"), \n",
    "                         col(\"right.embedding\").alias(\"track_1_lyrics_emb\"))"
   ]
  },
  {
   "cell_type": "code",
   "execution_count": null,
   "metadata": {
    "application/vnd.databricks.v1+cell": {
     "inputWidgets": {},
     "nuid": "fd390072-7ede-4f4f-a4c9-d9f54e435f2c",
     "showTitle": false,
     "title": ""
    }
   },
   "outputs": [
    {
     "data": {
      "text/html": [
       "<style scoped>\n",
       "  .ansiout {\n",
       "    display: block;\n",
       "    unicode-bidi: embed;\n",
       "    white-space: pre-wrap;\n",
       "    word-wrap: break-word;\n",
       "    word-break: break-all;\n",
       "    font-family: \"Source Code Pro\", \"Menlo\", monospace;;\n",
       "    font-size: 13px;\n",
       "    color: #555;\n",
       "    margin-left: 4px;\n",
       "    line-height: 19px;\n",
       "  }\n",
       "</style>\n",
       "<div class=\"ansiout\">+--------------------+--------------------+--------------------+--------------------+\n",
       "             track_1|             track_2|  track_1_lyrics_emb|  track_2_lyrics_emb|\n",
       "+--------------------+--------------------+--------------------+--------------------+\n",
       "spotify:track:0Fr...|spotify:track:1ar...|[-0.0369906239211...|[-0.0518029890954...|\n",
       "spotify:track:02L...|spotify:track:2Bn...|[-0.0070834341458...|[-0.0269077904522...|\n",
       "spotify:track:0pi...|spotify:track:3eE...|[0.16496370732784...|[-0.0343168675899...|\n",
       "spotify:track:3SV...|spotify:track:3mB...|[0.00585289811715...|[0.04230643436312...|\n",
       "spotify:track:3Ow...|spotify:track:3uv...|[0.00444365013390...|[-0.0629589706659...|\n",
       "spotify:track:1kY...|spotify:track:56E...|[-7.7373511157929...|[-0.0970294177532...|\n",
       "spotify:track:1kY...|spotify:track:5jL...|[-7.7373511157929...|[0.14133681356906...|\n",
       "spotify:track:02k...|spotify:track:6BK...|[-0.0214936435222...|[-0.0721251070499...|\n",
       "spotify:track:2j7...|spotify:track:6Xm...|[0.14461068809032...|[-0.0324538648128...|\n",
       "spotify:track:0mg...|spotify:track:7gB...|[-0.0287609733641...|[-0.0028592031449...|\n",
       "+--------------------+--------------------+--------------------+--------------------+\n",
       "only showing top 10 rows\n",
       "\n",
       "</div>"
      ]
     },
     "metadata": {
      "application/vnd.databricks.v1+output": {
       "addedWidgets": {},
       "arguments": {},
       "data": "<div class=\"ansiout\">+--------------------+--------------------+--------------------+--------------------+\n|             track_1|             track_2|  track_1_lyrics_emb|  track_2_lyrics_emb|\n+--------------------+--------------------+--------------------+--------------------+\n|spotify:track:0Fr...|spotify:track:1ar...|[-0.0369906239211...|[-0.0518029890954...|\n|spotify:track:02L...|spotify:track:2Bn...|[-0.0070834341458...|[-0.0269077904522...|\n|spotify:track:0pi...|spotify:track:3eE...|[0.16496370732784...|[-0.0343168675899...|\n|spotify:track:3SV...|spotify:track:3mB...|[0.00585289811715...|[0.04230643436312...|\n|spotify:track:3Ow...|spotify:track:3uv...|[0.00444365013390...|[-0.0629589706659...|\n|spotify:track:1kY...|spotify:track:56E...|[-7.7373511157929...|[-0.0970294177532...|\n|spotify:track:1kY...|spotify:track:5jL...|[-7.7373511157929...|[0.14133681356906...|\n|spotify:track:02k...|spotify:track:6BK...|[-0.0214936435222...|[-0.0721251070499...|\n|spotify:track:2j7...|spotify:track:6Xm...|[0.14461068809032...|[-0.0324538648128...|\n|spotify:track:0mg...|spotify:track:7gB...|[-0.0287609733641...|[-0.0028592031449...|\n+--------------------+--------------------+--------------------+--------------------+\nonly showing top 10 rows\n\n</div>",
       "datasetInfos": [],
       "metadata": {},
       "removedWidgets": [],
       "type": "html"
      }
     },
     "output_type": "display_data"
    }
   ],
   "source": [
    "# Add track 2's lyrical embedding\n",
    "pairs_embs = pairs_embs.alias(\"left\")\\\n",
    "                 .join(lyrics_df.alias(\"right\"), col(\"left.track_2\") == col(\"right.track_uri\"), \"left\")\\\n",
    "                 .select(col(\"left.track_1\").alias(\"track_1\"), col(\"left.track_2\").alias(\"track_2\"), \n",
    "                         col(\"left.track_1_lyrics_emb\").alias(\"track_1_lyrics_emb\"), col(\"right.embedding\").alias(\"track_2_lyrics_emb\"))\n",
    "pairs_embs.show(10)"
   ]
  },
  {
   "cell_type": "code",
   "execution_count": null,
   "metadata": {
    "application/vnd.databricks.v1+cell": {
     "inputWidgets": {},
     "nuid": "a7ceca70-903e-482d-a68c-e44cf8bcba23",
     "showTitle": false,
     "title": ""
    }
   },
   "outputs": [
    {
     "data": {
      "text/html": [
       "<style scoped>\n",
       "  .ansiout {\n",
       "    display: block;\n",
       "    unicode-bidi: embed;\n",
       "    white-space: pre-wrap;\n",
       "    word-wrap: break-word;\n",
       "    word-break: break-all;\n",
       "    font-family: \"Source Code Pro\", \"Menlo\", monospace;;\n",
       "    font-size: 13px;\n",
       "    color: #555;\n",
       "    margin-left: 4px;\n",
       "    line-height: 19px;\n",
       "  }\n",
       "</style>\n",
       "<div class=\"ansiout\">root\n",
       "-- track_1: string (nullable = true)\n",
       "-- track_2: string (nullable = true)\n",
       "-- track_1_lyrics_emb: array (nullable = true)\n",
       "    |-- element: double (containsNull = true)\n",
       "-- track_2_lyrics_emb: array (nullable = true)\n",
       "    |-- element: double (containsNull = true)\n",
       "\n",
       "</div>"
      ]
     },
     "metadata": {
      "application/vnd.databricks.v1+output": {
       "addedWidgets": {},
       "arguments": {},
       "data": "<div class=\"ansiout\">root\n |-- track_1: string (nullable = true)\n |-- track_2: string (nullable = true)\n |-- track_1_lyrics_emb: array (nullable = true)\n |    |-- element: double (containsNull = true)\n |-- track_2_lyrics_emb: array (nullable = true)\n |    |-- element: double (containsNull = true)\n\n</div>",
       "datasetInfos": [],
       "metadata": {},
       "removedWidgets": [],
       "type": "html"
      }
     },
     "output_type": "display_data"
    }
   ],
   "source": [
    "pairs_embs.printSchema()"
   ]
  },
  {
   "cell_type": "markdown",
   "metadata": {
    "application/vnd.databricks.v1+cell": {
     "inputWidgets": {},
     "nuid": "73b04277-f3aa-468e-ad46-d1d430e410ec",
     "showTitle": false,
     "title": ""
    }
   },
   "source": [
    "Somehow, the pipeline above produces nulls for the lyrics embeddings as shown in the schema above (these could be created in the Word2Vec pipeline and read from MongoDB). We verify if there are in fact nulls below:"
   ]
  },
  {
   "cell_type": "code",
   "execution_count": null,
   "metadata": {
    "application/vnd.databricks.v1+cell": {
     "inputWidgets": {},
     "nuid": "fbc33fb6-7b7e-4fb6-a32e-172f40162ec9",
     "showTitle": false,
     "title": ""
    }
   },
   "outputs": [
    {
     "data": {
      "text/html": [
       "<style scoped>\n",
       "  .ansiout {\n",
       "    display: block;\n",
       "    unicode-bidi: embed;\n",
       "    white-space: pre-wrap;\n",
       "    word-wrap: break-word;\n",
       "    word-break: break-all;\n",
       "    font-family: \"Source Code Pro\", \"Menlo\", monospace;;\n",
       "    font-size: 13px;\n",
       "    color: #555;\n",
       "    margin-left: 4px;\n",
       "    line-height: 19px;\n",
       "  }\n",
       "</style>\n",
       "<div class=\"ansiout\">+--------------------+--------------------+------------------+--------------------+\n",
       "             track_1|             track_2|track_1_lyrics_emb|  track_2_lyrics_emb|\n",
       "+--------------------+--------------------+------------------+--------------------+\n",
       "spotify:track:02t...|spotify:track:0CB...|              null|[-0.0920922830700...|\n",
       "spotify:track:00t...|spotify:track:0Wk...|              null|[3.09337997350667...|\n",
       "spotify:track:04E...|spotify:track:0bK...|              null|[-0.0686664879322...|\n",
       "spotify:track:0KO...|spotify:track:0y3...|              null|[-0.0103816539049...|\n",
       "spotify:track:0DH...|spotify:track:133...|              null|[0.18182462453842...|\n",
       "spotify:track:0DH...|spotify:track:170...|              null|[-0.0514278747141...|\n",
       "spotify:track:00H...|spotify:track:1d8...|              null|[-0.0513060539960...|\n",
       "spotify:track:04E...|spotify:track:26r...|              null|[-0.0604121275246...|\n",
       "spotify:track:0DH...|spotify:track:27k...|              null|[0.02145343460142...|\n",
       "spotify:track:08u...|spotify:track:2Jp...|              null|[-0.0656279847025...|\n",
       "spotify:track:0Sb...|spotify:track:2fc...|              null|[-0.0305886175483...|\n",
       "spotify:track:00t...|spotify:track:3Z5...|              null|[0.19431520998477...|\n",
       "spotify:track:08u...|spotify:track:4Pi...|              null|[0.01913289353251...|\n",
       "spotify:track:08u...|spotify:track:4XI...|              null|[-0.0057331896387...|\n",
       "spotify:track:04E...|spotify:track:5Hv...|              null|[-0.0645982697606...|\n",
       "spotify:track:0AE...|spotify:track:5L6...|              null|[-0.0225361920893...|\n",
       "spotify:track:0Sb...|spotify:track:5Qy...|              null|[-0.0632697120308...|\n",
       "spotify:track:04E...|spotify:track:5gu...|              null|[-0.0839612185955...|\n",
       "spotify:track:0AE...|spotify:track:6jp...|              null|[-0.0447404533624...|\n",
       "spotify:track:02t...|spotify:track:6oz...|              null|[-0.0152486367151...|\n",
       "+--------------------+--------------------+------------------+--------------------+\n",
       "only showing top 20 rows\n",
       "\n",
       "</div>"
      ]
     },
     "metadata": {
      "application/vnd.databricks.v1+output": {
       "addedWidgets": {},
       "arguments": {},
       "data": "<div class=\"ansiout\">+--------------------+--------------------+------------------+--------------------+\n|             track_1|             track_2|track_1_lyrics_emb|  track_2_lyrics_emb|\n+--------------------+--------------------+------------------+--------------------+\n|spotify:track:02t...|spotify:track:0CB...|              null|[-0.0920922830700...|\n|spotify:track:00t...|spotify:track:0Wk...|              null|[3.09337997350667...|\n|spotify:track:04E...|spotify:track:0bK...|              null|[-0.0686664879322...|\n|spotify:track:0KO...|spotify:track:0y3...|              null|[-0.0103816539049...|\n|spotify:track:0DH...|spotify:track:133...|              null|[0.18182462453842...|\n|spotify:track:0DH...|spotify:track:170...|              null|[-0.0514278747141...|\n|spotify:track:00H...|spotify:track:1d8...|              null|[-0.0513060539960...|\n|spotify:track:04E...|spotify:track:26r...|              null|[-0.0604121275246...|\n|spotify:track:0DH...|spotify:track:27k...|              null|[0.02145343460142...|\n|spotify:track:08u...|spotify:track:2Jp...|              null|[-0.0656279847025...|\n|spotify:track:0Sb...|spotify:track:2fc...|              null|[-0.0305886175483...|\n|spotify:track:00t...|spotify:track:3Z5...|              null|[0.19431520998477...|\n|spotify:track:08u...|spotify:track:4Pi...|              null|[0.01913289353251...|\n|spotify:track:08u...|spotify:track:4XI...|              null|[-0.0057331896387...|\n|spotify:track:04E...|spotify:track:5Hv...|              null|[-0.0645982697606...|\n|spotify:track:0AE...|spotify:track:5L6...|              null|[-0.0225361920893...|\n|spotify:track:0Sb...|spotify:track:5Qy...|              null|[-0.0632697120308...|\n|spotify:track:04E...|spotify:track:5gu...|              null|[-0.0839612185955...|\n|spotify:track:0AE...|spotify:track:6jp...|              null|[-0.0447404533624...|\n|spotify:track:02t...|spotify:track:6oz...|              null|[-0.0152486367151...|\n+--------------------+--------------------+------------------+--------------------+\nonly showing top 20 rows\n\n</div>",
       "datasetInfos": [],
       "metadata": {},
       "removedWidgets": [],
       "type": "html"
      }
     },
     "output_type": "display_data"
    }
   ],
   "source": [
    "pairs_embs.filter(\"track_1_lyrics_emb is NULL\").show()"
   ]
  },
  {
   "cell_type": "code",
   "execution_count": null,
   "metadata": {
    "application/vnd.databricks.v1+cell": {
     "inputWidgets": {},
     "nuid": "d63eefcc-3327-467c-8674-e3ac16935008",
     "showTitle": false,
     "title": ""
    }
   },
   "outputs": [
    {
     "data": {
      "text/html": [
       "<style scoped>\n",
       "  .ansiout {\n",
       "    display: block;\n",
       "    unicode-bidi: embed;\n",
       "    white-space: pre-wrap;\n",
       "    word-wrap: break-word;\n",
       "    word-break: break-all;\n",
       "    font-family: \"Source Code Pro\", \"Menlo\", monospace;;\n",
       "    font-size: 13px;\n",
       "    color: #555;\n",
       "    margin-left: 4px;\n",
       "    line-height: 19px;\n",
       "  }\n",
       "</style>\n",
       "<div class=\"ansiout\">+-------+-------+------------------+------------------+\n",
       "track_1|track_2|track_1_lyrics_emb|track_2_lyrics_emb|\n",
       "+-------+-------+------------------+------------------+\n",
       "+-------+-------+------------------+------------------+\n",
       "\n",
       "</div>"
      ]
     },
     "metadata": {
      "application/vnd.databricks.v1+output": {
       "addedWidgets": {},
       "arguments": {},
       "data": "<div class=\"ansiout\">+-------+-------+------------------+------------------+\n|track_1|track_2|track_1_lyrics_emb|track_2_lyrics_emb|\n+-------+-------+------------------+------------------+\n+-------+-------+------------------+------------------+\n\n</div>",
       "datasetInfos": [],
       "metadata": {},
       "removedWidgets": [],
       "type": "html"
      }
     },
     "output_type": "display_data"
    }
   ],
   "source": [
    "# Drop rows with nulls in any column\n",
    "pairs_embs = pairs_embs.na.drop(\"any\")\n",
    "pairs_embs.filter(\"track_1_lyrics_emb is NULL\").show()"
   ]
  },
  {
   "cell_type": "code",
   "execution_count": null,
   "metadata": {
    "application/vnd.databricks.v1+cell": {
     "inputWidgets": {},
     "nuid": "6dd9653d-0460-4449-8f64-36fef829f703",
     "showTitle": false,
     "title": ""
    }
   },
   "outputs": [
    {
     "data": {
      "text/html": [
       "<style scoped>\n",
       "  .ansiout {\n",
       "    display: block;\n",
       "    unicode-bidi: embed;\n",
       "    white-space: pre-wrap;\n",
       "    word-wrap: break-word;\n",
       "    word-break: break-all;\n",
       "    font-family: \"Source Code Pro\", \"Menlo\", monospace;;\n",
       "    font-size: 13px;\n",
       "    color: #555;\n",
       "    margin-left: 4px;\n",
       "    line-height: 19px;\n",
       "  }\n",
       "</style>\n",
       "<div class=\"ansiout\">+-------+-------+------------------+------------------+\n",
       "track_1|track_2|track_1_lyrics_emb|track_2_lyrics_emb|\n",
       "+-------+-------+------------------+------------------+\n",
       "+-------+-------+------------------+------------------+\n",
       "\n",
       "</div>"
      ]
     },
     "metadata": {
      "application/vnd.databricks.v1+output": {
       "addedWidgets": {},
       "arguments": {},
       "data": "<div class=\"ansiout\">+-------+-------+------------------+------------------+\n|track_1|track_2|track_1_lyrics_emb|track_2_lyrics_emb|\n+-------+-------+------------------+------------------+\n+-------+-------+------------------+------------------+\n\n</div>",
       "datasetInfos": [],
       "metadata": {},
       "removedWidgets": [],
       "type": "html"
      }
     },
     "output_type": "display_data"
    }
   ],
   "source": [
    "pairs_embs.filter(\"track_2_lyrics_emb is NULL\").show()"
   ]
  },
  {
   "cell_type": "code",
   "execution_count": null,
   "metadata": {
    "application/vnd.databricks.v1+cell": {
     "inputWidgets": {},
     "nuid": "5837f563-0573-4f1e-b1de-8e9fba2d1cd1",
     "showTitle": false,
     "title": ""
    }
   },
   "outputs": [
    {
     "data": {
      "text/html": [
       "<style scoped>\n",
       "  .ansiout {\n",
       "    display: block;\n",
       "    unicode-bidi: embed;\n",
       "    white-space: pre-wrap;\n",
       "    word-wrap: break-word;\n",
       "    word-break: break-all;\n",
       "    font-family: \"Source Code Pro\", \"Menlo\", monospace;;\n",
       "    font-size: 13px;\n",
       "    color: #555;\n",
       "    margin-left: 4px;\n",
       "    line-height: 19px;\n",
       "  }\n",
       "</style>\n",
       "<div class=\"ansiout\">Out[48]: 9458354</div>"
      ]
     },
     "metadata": {
      "application/vnd.databricks.v1+output": {
       "addedWidgets": {},
       "arguments": {},
       "data": "<div class=\"ansiout\">Out[48]: 9458354</div>",
       "datasetInfos": [],
       "metadata": {},
       "removedWidgets": [],
       "type": "html"
      }
     },
     "output_type": "display_data"
    }
   ],
   "source": [
    "# Check processed data size\n",
    "pairs_embs.count()"
   ]
  },
  {
   "cell_type": "code",
   "execution_count": null,
   "metadata": {
    "application/vnd.databricks.v1+cell": {
     "inputWidgets": {},
     "nuid": "5bc74813-c646-4479-8414-64233b78e610",
     "showTitle": false,
     "title": ""
    }
   },
   "outputs": [
    {
     "data": {
      "text/html": [
       "<style scoped>\n",
       "  .ansiout {\n",
       "    display: block;\n",
       "    unicode-bidi: embed;\n",
       "    white-space: pre-wrap;\n",
       "    word-wrap: break-word;\n",
       "    word-break: break-all;\n",
       "    font-family: \"Source Code Pro\", \"Menlo\", monospace;;\n",
       "    font-size: 13px;\n",
       "    color: #555;\n",
       "    margin-left: 4px;\n",
       "    line-height: 19px;\n",
       "  }\n",
       "</style>\n",
       "<div class=\"ansiout\">+--------------------+--------------------+--------------------+--------------------+\n",
       "             track_1|             track_2|  track_1_lyrics_emb|  track_2_lyrics_emb|\n",
       "+--------------------+--------------------+--------------------+--------------------+\n",
       "spotify:track:00L...|spotify:track:00e...|[-0.0721510648727...|[-0.0244157034903...|\n",
       "spotify:track:00I...|spotify:track:00e...|[-0.0179049242287...|[-0.0244157034903...|\n",
       "spotify:track:006...|spotify:track:01V...|[-0.0687494128942...|[0.05495329573750...|\n",
       "spotify:track:017...|spotify:track:01b...|[-0.0548606030642...|[-0.1526609361171...|\n",
       "spotify:track:015...|spotify:track:01b...|[0.03307503461837...|[-0.1526609361171...|\n",
       "spotify:track:015...|spotify:track:030...|[-0.0162511579692...|[-0.1133899688720...|\n",
       "spotify:track:00K...|spotify:track:03G...|[-0.0602876096963...|[-0.0122050959616...|\n",
       "spotify:track:02Q...|spotify:track:03J...|[0.10781918466091...|[0.05152385681867...|\n",
       "spotify:track:01P...|spotify:track:03Y...|[-0.0749082714319...|[0.00584124401211...|\n",
       "spotify:track:006...|spotify:track:03Y...|[-0.0415595024824...|[0.00584124401211...|\n",
       "+--------------------+--------------------+--------------------+--------------------+\n",
       "only showing top 10 rows\n",
       "\n",
       "</div>"
      ]
     },
     "metadata": {
      "application/vnd.databricks.v1+output": {
       "addedWidgets": {},
       "arguments": {},
       "data": "<div class=\"ansiout\">+--------------------+--------------------+--------------------+--------------------+\n|             track_1|             track_2|  track_1_lyrics_emb|  track_2_lyrics_emb|\n+--------------------+--------------------+--------------------+--------------------+\n|spotify:track:00L...|spotify:track:00e...|[-0.0721510648727...|[-0.0244157034903...|\n|spotify:track:00I...|spotify:track:00e...|[-0.0179049242287...|[-0.0244157034903...|\n|spotify:track:006...|spotify:track:01V...|[-0.0687494128942...|[0.05495329573750...|\n|spotify:track:017...|spotify:track:01b...|[-0.0548606030642...|[-0.1526609361171...|\n|spotify:track:015...|spotify:track:01b...|[0.03307503461837...|[-0.1526609361171...|\n|spotify:track:015...|spotify:track:030...|[-0.0162511579692...|[-0.1133899688720...|\n|spotify:track:00K...|spotify:track:03G...|[-0.0602876096963...|[-0.0122050959616...|\n|spotify:track:02Q...|spotify:track:03J...|[0.10781918466091...|[0.05152385681867...|\n|spotify:track:01P...|spotify:track:03Y...|[-0.0749082714319...|[0.00584124401211...|\n|spotify:track:006...|spotify:track:03Y...|[-0.0415595024824...|[0.00584124401211...|\n+--------------------+--------------------+--------------------+--------------------+\nonly showing top 10 rows\n\n</div>",
       "datasetInfos": [],
       "metadata": {},
       "removedWidgets": [],
       "type": "html"
      }
     },
     "output_type": "display_data"
    }
   ],
   "source": [
    "pairs_embs.show(10)"
   ]
  },
  {
   "cell_type": "markdown",
   "metadata": {
    "application/vnd.databricks.v1+cell": {
     "inputWidgets": {},
     "nuid": "446cc5fb-5aca-4fcb-8e1e-32c59506c67f",
     "showTitle": false,
     "title": ""
    }
   },
   "source": [
    "Victory! We were able to remove the null values and still maintain 9.46 million rows. Below, we calculate the distance between each pair's lyrics embeddings."
   ]
  },
  {
   "cell_type": "code",
   "execution_count": null,
   "metadata": {
    "application/vnd.databricks.v1+cell": {
     "inputWidgets": {},
     "nuid": "becbe91d-c95f-4cab-ba08-d7dfd50d8384",
     "showTitle": false,
     "title": ""
    }
   },
   "outputs": [
    {
     "data": {
      "text/html": [
       "<style scoped>\n",
       "  .ansiout {\n",
       "    display: block;\n",
       "    unicode-bidi: embed;\n",
       "    white-space: pre-wrap;\n",
       "    word-wrap: break-word;\n",
       "    word-break: break-all;\n",
       "    font-family: \"Source Code Pro\", \"Menlo\", monospace;;\n",
       "    font-size: 13px;\n",
       "    color: #555;\n",
       "    margin-left: 4px;\n",
       "    line-height: 19px;\n",
       "  }\n",
       "</style>\n",
       "<div class=\"ansiout\">+--------------------+--------------------+---------------+\n",
       "             track_1|             track_2|lyrics_distance|\n",
       "+--------------------+--------------------+---------------+\n",
       "spotify:track:00Y...|spotify:track:00f...|       0.658865|\n",
       "spotify:track:01E...|spotify:track:01U...|     0.30476514|\n",
       "spotify:track:00l...|spotify:track:01V...|      0.4378901|\n",
       "spotify:track:016...|spotify:track:01V...|      0.4129816|\n",
       "spotify:track:01l...|spotify:track:02Q...|      0.4081815|\n",
       "spotify:track:020...|spotify:track:02Q...|     0.44501796|\n",
       "spotify:track:00W...|spotify:track:02R...|     0.34712142|\n",
       "spotify:track:02Q...|spotify:track:030...|      0.5778875|\n",
       "spotify:track:01p...|spotify:track:030...|      0.5344382|\n",
       "spotify:track:006...|spotify:track:03G...|      0.3431269|\n",
       "+--------------------+--------------------+---------------+\n",
       "only showing top 10 rows\n",
       "\n",
       "</div>"
      ]
     },
     "metadata": {
      "application/vnd.databricks.v1+output": {
       "addedWidgets": {},
       "arguments": {},
       "data": "<div class=\"ansiout\">+--------------------+--------------------+---------------+\n|             track_1|             track_2|lyrics_distance|\n+--------------------+--------------------+---------------+\n|spotify:track:00Y...|spotify:track:00f...|       0.658865|\n|spotify:track:01E...|spotify:track:01U...|     0.30476514|\n|spotify:track:00l...|spotify:track:01V...|      0.4378901|\n|spotify:track:016...|spotify:track:01V...|      0.4129816|\n|spotify:track:01l...|spotify:track:02Q...|      0.4081815|\n|spotify:track:020...|spotify:track:02Q...|     0.44501796|\n|spotify:track:00W...|spotify:track:02R...|     0.34712142|\n|spotify:track:02Q...|spotify:track:030...|      0.5778875|\n|spotify:track:01p...|spotify:track:030...|      0.5344382|\n|spotify:track:006...|spotify:track:03G...|      0.3431269|\n+--------------------+--------------------+---------------+\nonly showing top 10 rows\n\n</div>",
       "datasetInfos": [],
       "metadata": {},
       "removedWidgets": [],
       "type": "html"
      }
     },
     "output_type": "display_data"
    }
   ],
   "source": [
    "import numpy as np\n",
    "\n",
    "def calculate_distance(arr_1, arr_2):\n",
    "    # Calculate the distance between two lists.\n",
    "    try:\n",
    "        arr_1, arr_2 = np.array(arr_1), np.array(arr_2)\n",
    "        return float(np.linalg.norm(arr_1 - arr_2))\n",
    "    except:\n",
    "        return -99999.99\n",
    "\n",
    "# Define distance UDF and calculate lyrics distance --> new dataframe\n",
    "distance = udf(lambda x, y: calculate_distance(x, y), FloatType())\n",
    "lyrics_dist = pairs_embs.select(\"track_1\", \"track_2\", \n",
    "                                distance(pairs_embs[\"track_1_lyrics_emb\"],\n",
    "                                         pairs_embs[\"track_2_lyrics_emb\"]).alias(\"lyrics_distance\")).cache()\n",
    "lyrics_dist.show(10)"
   ]
  },
  {
   "cell_type": "code",
   "execution_count": null,
   "metadata": {
    "application/vnd.databricks.v1+cell": {
     "inputWidgets": {},
     "nuid": "8498326c-0cde-4556-b6aa-4d1886507d90",
     "showTitle": false,
     "title": ""
    }
   },
   "outputs": [
    {
     "data": {
      "text/html": [
       "<style scoped>\n",
       "  .ansiout {\n",
       "    display: block;\n",
       "    unicode-bidi: embed;\n",
       "    white-space: pre-wrap;\n",
       "    word-wrap: break-word;\n",
       "    word-break: break-all;\n",
       "    font-family: \"Source Code Pro\", \"Menlo\", monospace;;\n",
       "    font-size: 13px;\n",
       "    color: #555;\n",
       "    margin-left: 4px;\n",
       "    line-height: 19px;\n",
       "  }\n",
       "</style>\n",
       "<div class=\"ansiout\">Out[51]: 9461314</div>"
      ]
     },
     "metadata": {
      "application/vnd.databricks.v1+output": {
       "addedWidgets": {},
       "arguments": {},
       "data": "<div class=\"ansiout\">Out[51]: 9461314</div>",
       "datasetInfos": [],
       "metadata": {},
       "removedWidgets": [],
       "type": "html"
      }
     },
     "output_type": "display_data"
    }
   ],
   "source": [
    "lyrics_dist.count()"
   ]
  },
  {
   "cell_type": "markdown",
   "metadata": {
    "application/vnd.databricks.v1+cell": {
     "inputWidgets": {},
     "nuid": "42a78696-a71c-4d53-9882-3bff951eff5a",
     "showTitle": false,
     "title": ""
    }
   },
   "source": [
    "## Load song embeddings from MongoDB\n",
    "\n",
    "Previously, Chandrish computed song embeddings using Word2Vec, which he saved in MongoDB. We will load this into a Spark DataFrame and join with the lyrics distance DataFrame."
   ]
  },
  {
   "cell_type": "code",
   "execution_count": null,
   "metadata": {
    "application/vnd.databricks.v1+cell": {
     "inputWidgets": {},
     "nuid": "85139ce7-cbec-4e80-a0a6-fbe8ada0946b",
     "showTitle": false,
     "title": ""
    }
   },
   "outputs": [
    {
     "data": {
      "text/html": [
       "<style scoped>\n",
       "  .ansiout {\n",
       "    display: block;\n",
       "    unicode-bidi: embed;\n",
       "    white-space: pre-wrap;\n",
       "    word-wrap: break-word;\n",
       "    word-break: break-all;\n",
       "    font-family: \"Source Code Pro\", \"Menlo\", monospace;;\n",
       "    font-size: 13px;\n",
       "    color: #555;\n",
       "    margin-left: 4px;\n",
       "    line-height: 19px;\n",
       "  }\n",
       "</style>\n",
       "<div class=\"ansiout\">+--------------------+--------------------+\n",
       "           track_uri|              values|\n",
       "+--------------------+--------------------+\n",
       "spotify:track:5EC...|[0.35091972351074...|\n",
       "spotify:track:6Tr...|[-0.1229294389486...|\n",
       "spotify:track:5yf...|[0.02834359928965...|\n",
       "spotify:track:0Ld...|[0.12241361290216...|\n",
       "spotify:track:1Yl...|[-0.1754425019025...|\n",
       "+--------------------+--------------------+\n",
       "only showing top 5 rows\n",
       "\n",
       "</div>"
      ]
     },
     "metadata": {
      "application/vnd.databricks.v1+output": {
       "addedWidgets": {},
       "arguments": {},
       "data": "<div class=\"ansiout\">+--------------------+--------------------+\n|           track_uri|              values|\n+--------------------+--------------------+\n|spotify:track:5EC...|[0.35091972351074...|\n|spotify:track:6Tr...|[-0.1229294389486...|\n|spotify:track:5yf...|[0.02834359928965...|\n|spotify:track:0Ld...|[0.12241361290216...|\n|spotify:track:1Yl...|[-0.1754425019025...|\n+--------------------+--------------------+\nonly showing top 5 rows\n\n</div>",
       "datasetInfos": [],
       "metadata": {},
       "removedWidgets": [],
       "type": "html"
      }
     },
     "output_type": "display_data"
    }
   ],
   "source": [
    "# Read song vectors from MongoDB\n",
    "collection = 'song_vectors'\n",
    "connection_string = f\"mongodb+srv://{user_name}:{password}@{address}/{database}.{collection}\"\n",
    "song_embs = spark.read.format('mongo').option(\"uri\", connection_string).load().select(\"track_uri\", \"values\")\n",
    "song_embs.show(5)"
   ]
  },
  {
   "cell_type": "code",
   "execution_count": null,
   "metadata": {
    "application/vnd.databricks.v1+cell": {
     "inputWidgets": {},
     "nuid": "2f9dda36-a406-4150-85ea-8a28fbe5fb9f",
     "showTitle": false,
     "title": ""
    }
   },
   "outputs": [
    {
     "data": {
      "text/html": [
       "<style scoped>\n",
       "  .ansiout {\n",
       "    display: block;\n",
       "    unicode-bidi: embed;\n",
       "    white-space: pre-wrap;\n",
       "    word-wrap: break-word;\n",
       "    word-break: break-all;\n",
       "    font-family: \"Source Code Pro\", \"Menlo\", monospace;;\n",
       "    font-size: 13px;\n",
       "    color: #555;\n",
       "    margin-left: 4px;\n",
       "    line-height: 19px;\n",
       "  }\n",
       "</style>\n",
       "<div class=\"ansiout\">+--------------------+--------------------+---------------+--------------------+\n",
       "             track_1|             track_2|lyrics_distance|    track_1_song_emb|\n",
       "+--------------------+--------------------+---------------+--------------------+\n",
       "spotify:track:002...|spotify:track:01j...|     0.36169654|[-0.3095772266387...|\n",
       "spotify:track:006...|spotify:track:00r...|      2.9032712|[-0.0910839736461...|\n",
       "spotify:track:006...|spotify:track:00N...|      2.5462215|[-0.0910839736461...|\n",
       "spotify:track:008...|spotify:track:00O...|     0.35543087|[0.01410138141363...|\n",
       "spotify:track:008...|spotify:track:00M...|      0.3265417|[0.27851784229278...|\n",
       "+--------------------+--------------------+---------------+--------------------+\n",
       "only showing top 5 rows\n",
       "\n",
       "</div>"
      ]
     },
     "metadata": {
      "application/vnd.databricks.v1+output": {
       "addedWidgets": {},
       "arguments": {},
       "data": "<div class=\"ansiout\">+--------------------+--------------------+---------------+--------------------+\n|             track_1|             track_2|lyrics_distance|    track_1_song_emb|\n+--------------------+--------------------+---------------+--------------------+\n|spotify:track:002...|spotify:track:01j...|     0.36169654|[-0.3095772266387...|\n|spotify:track:006...|spotify:track:00r...|      2.9032712|[-0.0910839736461...|\n|spotify:track:006...|spotify:track:00N...|      2.5462215|[-0.0910839736461...|\n|spotify:track:008...|spotify:track:00O...|     0.35543087|[0.01410138141363...|\n|spotify:track:008...|spotify:track:00M...|      0.3265417|[0.27851784229278...|\n+--------------------+--------------------+---------------+--------------------+\nonly showing top 5 rows\n\n</div>",
       "datasetInfos": [],
       "metadata": {},
       "removedWidgets": [],
       "type": "html"
      }
     },
     "output_type": "display_data"
    }
   ],
   "source": [
    "# Join with lyrical embeddings df (track 1)\n",
    "combined = lyrics_dist.alias(\"left\")\\\n",
    "                .join(song_embs.alias(\"right\"), col(\"left.track_1\") == col(\"right.track_uri\"), \"left\")\\\n",
    "                .select(col(\"left.track_1\").alias(\"track_1\"), col(\"left.track_2\").alias(\"track_2\"),\n",
    "                        col(\"left.lyrics_distance\").alias(\"lyrics_distance\"), col(\"right.values\").alias(\"track_1_song_emb\"))\n",
    "combined.show(5)"
   ]
  },
  {
   "cell_type": "code",
   "execution_count": null,
   "metadata": {
    "application/vnd.databricks.v1+cell": {
     "inputWidgets": {},
     "nuid": "a69f514e-3d1a-48e3-80e1-3603f581f100",
     "showTitle": false,
     "title": ""
    }
   },
   "outputs": [
    {
     "data": {
      "text/html": [
       "<style scoped>\n",
       "  .ansiout {\n",
       "    display: block;\n",
       "    unicode-bidi: embed;\n",
       "    white-space: pre-wrap;\n",
       "    word-wrap: break-word;\n",
       "    word-break: break-all;\n",
       "    font-family: \"Source Code Pro\", \"Menlo\", monospace;;\n",
       "    font-size: 13px;\n",
       "    color: #555;\n",
       "    margin-left: 4px;\n",
       "    line-height: 19px;\n",
       "  }\n",
       "</style>\n",
       "<div class=\"ansiout\">+--------------------+--------------------+---------------+--------------------+--------------------+\n",
       "             track_1|             track_2|lyrics_distance|    track_1_song_emb|    track_2_song_emb|\n",
       "+--------------------+--------------------+---------------+--------------------+--------------------+\n",
       "spotify:track:00Y...|spotify:track:00f...|       0.658865|[-0.0548955425620...|[-0.1701245158910...|\n",
       "spotify:track:01E...|spotify:track:01U...|     0.30476514|[0.28122106194496...|[-0.4792552292346...|\n",
       "spotify:track:016...|spotify:track:01V...|      0.4129816|[0.29193156957626...|[0.00648248475044...|\n",
       "spotify:track:00l...|spotify:track:01V...|      0.4378901|[-0.0685095563530...|[0.00648248475044...|\n",
       "spotify:track:020...|spotify:track:02Q...|     0.44501796|[-0.7943779230117...|[-0.8351961970329...|\n",
       "+--------------------+--------------------+---------------+--------------------+--------------------+\n",
       "only showing top 5 rows\n",
       "\n",
       "</div>"
      ]
     },
     "metadata": {
      "application/vnd.databricks.v1+output": {
       "addedWidgets": {},
       "arguments": {},
       "data": "<div class=\"ansiout\">+--------------------+--------------------+---------------+--------------------+--------------------+\n|             track_1|             track_2|lyrics_distance|    track_1_song_emb|    track_2_song_emb|\n+--------------------+--------------------+---------------+--------------------+--------------------+\n|spotify:track:00Y...|spotify:track:00f...|       0.658865|[-0.0548955425620...|[-0.1701245158910...|\n|spotify:track:01E...|spotify:track:01U...|     0.30476514|[0.28122106194496...|[-0.4792552292346...|\n|spotify:track:016...|spotify:track:01V...|      0.4129816|[0.29193156957626...|[0.00648248475044...|\n|spotify:track:00l...|spotify:track:01V...|      0.4378901|[-0.0685095563530...|[0.00648248475044...|\n|spotify:track:020...|spotify:track:02Q...|     0.44501796|[-0.7943779230117...|[-0.8351961970329...|\n+--------------------+--------------------+---------------+--------------------+--------------------+\nonly showing top 5 rows\n\n</div>",
       "datasetInfos": [],
       "metadata": {},
       "removedWidgets": [],
       "type": "html"
      }
     },
     "output_type": "display_data"
    }
   ],
   "source": [
    "# Join with track 2 embedding\n",
    "combined = combined.alias(\"left\")\\\n",
    "                .join(song_embs.alias(\"right\"), col(\"left.track_2\") == col(\"right.track_uri\"), \"left\")\\\n",
    "                .select(col(\"left.track_1\").alias(\"track_1\"), \n",
    "                        col(\"left.track_2\").alias(\"track_2\"),\n",
    "                        col(\"left.lyrics_distance\").alias(\"lyrics_distance\"),\n",
    "                        col(\"left.track_1_song_emb\").alias(\"track_1_song_emb\"),\n",
    "                        col(\"right.values\").alias(\"track_2_song_emb\"))\n",
    "combined.show(5)"
   ]
  },
  {
   "cell_type": "code",
   "execution_count": null,
   "metadata": {
    "application/vnd.databricks.v1+cell": {
     "inputWidgets": {},
     "nuid": "91940adc-26d4-40e0-beda-5f2f2f004d9a",
     "showTitle": false,
     "title": ""
    }
   },
   "outputs": [
    {
     "data": {
      "text/html": [
       "<style scoped>\n",
       "  .ansiout {\n",
       "    display: block;\n",
       "    unicode-bidi: embed;\n",
       "    white-space: pre-wrap;\n",
       "    word-wrap: break-word;\n",
       "    word-break: break-all;\n",
       "    font-family: \"Source Code Pro\", \"Menlo\", monospace;;\n",
       "    font-size: 13px;\n",
       "    color: #555;\n",
       "    margin-left: 4px;\n",
       "    line-height: 19px;\n",
       "  }\n",
       "</style>\n",
       "<div class=\"ansiout\">+--------------------+--------------------+---------------+-------------+\n",
       "             track_1|             track_2|lyrics_distance|song_distance|\n",
       "+--------------------+--------------------+---------------+-------------+\n",
       "spotify:track:00Y...|spotify:track:00f...|       0.658865|    2.9069214|\n",
       "spotify:track:01E...|spotify:track:01U...|     0.30476514|    3.9558227|\n",
       "spotify:track:016...|spotify:track:01V...|      0.4129816|    2.5016074|\n",
       "spotify:track:00l...|spotify:track:01V...|      0.4378901|    2.8883207|\n",
       "spotify:track:01l...|spotify:track:02Q...|      0.4081815|    3.2217238|\n",
       "spotify:track:020...|spotify:track:02Q...|     0.44501796|    2.1954544|\n",
       "spotify:track:00W...|spotify:track:02R...|     0.34712142|      2.99181|\n",
       "spotify:track:02Q...|spotify:track:030...|      0.5778875|    3.4185224|\n",
       "spotify:track:01p...|spotify:track:030...|      0.5344382|    2.3745182|\n",
       "spotify:track:006...|spotify:track:03G...|      0.3431269|    2.8963737|\n",
       "spotify:track:00p...|spotify:track:03X...|      0.2799113|    3.4106166|\n",
       "spotify:track:00v...|spotify:track:03X...|      0.3607634|    3.5515358|\n",
       "spotify:track:00j...|spotify:track:03X...|      0.2911445|    3.7463322|\n",
       "spotify:track:03C...|spotify:track:03Y...|     0.48592055|    3.5625875|\n",
       "spotify:track:00t...|spotify:track:03Y...|     0.33505994|    3.6853225|\n",
       "spotify:track:01Z...|spotify:track:03b...|      3.6529765|    3.2617724|\n",
       "spotify:track:00a...|spotify:track:040...|      0.3456389|    2.9332812|\n",
       "spotify:track:01E...|spotify:track:040...|      0.4409738|    2.4641602|\n",
       "spotify:track:01C...|spotify:track:04L...|      0.5208658|    4.8674474|\n",
       "spotify:track:01s...|spotify:track:04L...|     0.24642082|    2.9985151|\n",
       "+--------------------+--------------------+---------------+-------------+\n",
       "only showing top 20 rows\n",
       "\n",
       "</div>"
      ]
     },
     "metadata": {
      "application/vnd.databricks.v1+output": {
       "addedWidgets": {},
       "arguments": {},
       "data": "<div class=\"ansiout\">+--------------------+--------------------+---------------+-------------+\n|             track_1|             track_2|lyrics_distance|song_distance|\n+--------------------+--------------------+---------------+-------------+\n|spotify:track:00Y...|spotify:track:00f...|       0.658865|    2.9069214|\n|spotify:track:01E...|spotify:track:01U...|     0.30476514|    3.9558227|\n|spotify:track:016...|spotify:track:01V...|      0.4129816|    2.5016074|\n|spotify:track:00l...|spotify:track:01V...|      0.4378901|    2.8883207|\n|spotify:track:01l...|spotify:track:02Q...|      0.4081815|    3.2217238|\n|spotify:track:020...|spotify:track:02Q...|     0.44501796|    2.1954544|\n|spotify:track:00W...|spotify:track:02R...|     0.34712142|      2.99181|\n|spotify:track:02Q...|spotify:track:030...|      0.5778875|    3.4185224|\n|spotify:track:01p...|spotify:track:030...|      0.5344382|    2.3745182|\n|spotify:track:006...|spotify:track:03G...|      0.3431269|    2.8963737|\n|spotify:track:00p...|spotify:track:03X...|      0.2799113|    3.4106166|\n|spotify:track:00v...|spotify:track:03X...|      0.3607634|    3.5515358|\n|spotify:track:00j...|spotify:track:03X...|      0.2911445|    3.7463322|\n|spotify:track:03C...|spotify:track:03Y...|     0.48592055|    3.5625875|\n|spotify:track:00t...|spotify:track:03Y...|     0.33505994|    3.6853225|\n|spotify:track:01Z...|spotify:track:03b...|      3.6529765|    3.2617724|\n|spotify:track:00a...|spotify:track:040...|      0.3456389|    2.9332812|\n|spotify:track:01E...|spotify:track:040...|      0.4409738|    2.4641602|\n|spotify:track:01C...|spotify:track:04L...|      0.5208658|    4.8674474|\n|spotify:track:01s...|spotify:track:04L...|     0.24642082|    2.9985151|\n+--------------------+--------------------+---------------+-------------+\nonly showing top 20 rows\n\n</div>",
       "datasetInfos": [],
       "metadata": {},
       "removedWidgets": [],
       "type": "html"
      }
     },
     "output_type": "display_data"
    }
   ],
   "source": [
    "# Compute song vector distances\n",
    "ml_df = combined.select(\"track_1\", \"track_2\", \"lyrics_distance\",\n",
    "                          distance(combined[\"track_1_song_emb\"],\n",
    "                                   combined[\"track_2_song_emb\"]).alias(\"song_distance\")).cache()\n",
    "ml_df.show()"
   ]
  },
  {
   "cell_type": "code",
   "execution_count": null,
   "metadata": {
    "application/vnd.databricks.v1+cell": {
     "inputWidgets": {},
     "nuid": "59cc49ed-e9fe-4bb1-96e7-fe5d1c68743a",
     "showTitle": false,
     "title": ""
    }
   },
   "outputs": [
    {
     "data": {
      "text/html": [
       "<style scoped>\n",
       "  .ansiout {\n",
       "    display: block;\n",
       "    unicode-bidi: embed;\n",
       "    white-space: pre-wrap;\n",
       "    word-wrap: break-word;\n",
       "    word-break: break-all;\n",
       "    font-family: \"Source Code Pro\", \"Menlo\", monospace;;\n",
       "    font-size: 13px;\n",
       "    color: #555;\n",
       "    margin-left: 4px;\n",
       "    line-height: 19px;\n",
       "  }\n",
       "</style>\n",
       "<div class=\"ansiout\">Out[56]: 9461314</div>"
      ]
     },
     "metadata": {
      "application/vnd.databricks.v1+output": {
       "addedWidgets": {},
       "arguments": {},
       "data": "<div class=\"ansiout\">Out[56]: 9461314</div>",
       "datasetInfos": [],
       "metadata": {},
       "removedWidgets": [],
       "type": "html"
      }
     },
     "output_type": "display_data"
    }
   ],
   "source": [
    "ml_df.count()"
   ]
  },
  {
   "cell_type": "code",
   "execution_count": null,
   "metadata": {
    "application/vnd.databricks.v1+cell": {
     "inputWidgets": {},
     "nuid": "05a0024d-0fd0-4101-b9e3-7f156adea820",
     "showTitle": false,
     "title": ""
    }
   },
   "outputs": [
    {
     "data": {
      "text/html": [
       "<style scoped>\n",
       "  .ansiout {\n",
       "    display: block;\n",
       "    unicode-bidi: embed;\n",
       "    white-space: pre-wrap;\n",
       "    word-wrap: break-word;\n",
       "    word-break: break-all;\n",
       "    font-family: \"Source Code Pro\", \"Menlo\", monospace;;\n",
       "    font-size: 13px;\n",
       "    color: #555;\n",
       "    margin-left: 4px;\n",
       "    line-height: 19px;\n",
       "  }\n",
       "</style>\n",
       "<div class=\"ansiout\">Out[57]: 9461314</div>"
      ]
     },
     "metadata": {
      "application/vnd.databricks.v1+output": {
       "addedWidgets": {},
       "arguments": {},
       "data": "<div class=\"ansiout\">Out[57]: 9461314</div>",
       "datasetInfos": [],
       "metadata": {},
       "removedWidgets": [],
       "type": "html"
      }
     },
     "output_type": "display_data"
    }
   ],
   "source": [
    "# Drop any NAs that may exist\n",
    "ml_df = ml_df.na.drop(\"any\").cache()\n",
    "ml_df.count()"
   ]
  },
  {
   "cell_type": "code",
   "execution_count": null,
   "metadata": {
    "application/vnd.databricks.v1+cell": {
     "inputWidgets": {},
     "nuid": "26163e09-22c9-4474-87e9-d90fae117d5b",
     "showTitle": false,
     "title": ""
    }
   },
   "outputs": [
    {
     "data": {
      "text/html": [
       "<style scoped>\n",
       "  .ansiout {\n",
       "    display: block;\n",
       "    unicode-bidi: embed;\n",
       "    white-space: pre-wrap;\n",
       "    word-wrap: break-word;\n",
       "    word-break: break-all;\n",
       "    font-family: \"Source Code Pro\", \"Menlo\", monospace;;\n",
       "    font-size: 13px;\n",
       "    color: #555;\n",
       "    margin-left: 4px;\n",
       "    line-height: 19px;\n",
       "  }\n",
       "</style>\n",
       "<div class=\"ansiout\">+--------------------+--------------------+---------------+-------------+\n",
       "             track_1|             track_2|lyrics_distance|song_distance|\n",
       "+--------------------+--------------------+---------------+-------------+\n",
       "spotify:track:00Y...|spotify:track:00f...|       0.658865|    2.9069214|\n",
       "spotify:track:01E...|spotify:track:01U...|     0.30476514|    3.9558227|\n",
       "spotify:track:016...|spotify:track:01V...|      0.4129816|    2.5016074|\n",
       "spotify:track:00l...|spotify:track:01V...|      0.4378901|    2.8883207|\n",
       "spotify:track:01l...|spotify:track:02Q...|      0.4081815|    3.2217238|\n",
       "spotify:track:020...|spotify:track:02Q...|     0.44501796|    2.1954544|\n",
       "spotify:track:00W...|spotify:track:02R...|     0.34712142|      2.99181|\n",
       "spotify:track:02Q...|spotify:track:030...|      0.5778875|    3.4185224|\n",
       "spotify:track:01p...|spotify:track:030...|      0.5344382|    2.3745182|\n",
       "spotify:track:006...|spotify:track:03G...|      0.3431269|    2.8963737|\n",
       "spotify:track:00p...|spotify:track:03X...|      0.2799113|    3.4106166|\n",
       "spotify:track:00v...|spotify:track:03X...|      0.3607634|    3.5515358|\n",
       "spotify:track:00j...|spotify:track:03X...|      0.2911445|    3.7463322|\n",
       "spotify:track:03C...|spotify:track:03Y...|     0.48592055|    3.5625875|\n",
       "spotify:track:00t...|spotify:track:03Y...|     0.33505994|    3.6853225|\n",
       "spotify:track:01Z...|spotify:track:03b...|      3.6529765|    3.2617724|\n",
       "spotify:track:00a...|spotify:track:040...|      0.3456389|    2.9332812|\n",
       "spotify:track:01E...|spotify:track:040...|      0.4409738|    2.4641602|\n",
       "spotify:track:01C...|spotify:track:04L...|      0.5208658|    4.8674474|\n",
       "spotify:track:01s...|spotify:track:04L...|     0.24642082|    2.9985151|\n",
       "+--------------------+--------------------+---------------+-------------+\n",
       "only showing top 20 rows\n",
       "\n",
       "</div>"
      ]
     },
     "metadata": {
      "application/vnd.databricks.v1+output": {
       "addedWidgets": {},
       "arguments": {},
       "data": "<div class=\"ansiout\">+--------------------+--------------------+---------------+-------------+\n|             track_1|             track_2|lyrics_distance|song_distance|\n+--------------------+--------------------+---------------+-------------+\n|spotify:track:00Y...|spotify:track:00f...|       0.658865|    2.9069214|\n|spotify:track:01E...|spotify:track:01U...|     0.30476514|    3.9558227|\n|spotify:track:016...|spotify:track:01V...|      0.4129816|    2.5016074|\n|spotify:track:00l...|spotify:track:01V...|      0.4378901|    2.8883207|\n|spotify:track:01l...|spotify:track:02Q...|      0.4081815|    3.2217238|\n|spotify:track:020...|spotify:track:02Q...|     0.44501796|    2.1954544|\n|spotify:track:00W...|spotify:track:02R...|     0.34712142|      2.99181|\n|spotify:track:02Q...|spotify:track:030...|      0.5778875|    3.4185224|\n|spotify:track:01p...|spotify:track:030...|      0.5344382|    2.3745182|\n|spotify:track:006...|spotify:track:03G...|      0.3431269|    2.8963737|\n|spotify:track:00p...|spotify:track:03X...|      0.2799113|    3.4106166|\n|spotify:track:00v...|spotify:track:03X...|      0.3607634|    3.5515358|\n|spotify:track:00j...|spotify:track:03X...|      0.2911445|    3.7463322|\n|spotify:track:03C...|spotify:track:03Y...|     0.48592055|    3.5625875|\n|spotify:track:00t...|spotify:track:03Y...|     0.33505994|    3.6853225|\n|spotify:track:01Z...|spotify:track:03b...|      3.6529765|    3.2617724|\n|spotify:track:00a...|spotify:track:040...|      0.3456389|    2.9332812|\n|spotify:track:01E...|spotify:track:040...|      0.4409738|    2.4641602|\n|spotify:track:01C...|spotify:track:04L...|      0.5208658|    4.8674474|\n|spotify:track:01s...|spotify:track:04L...|     0.24642082|    2.9985151|\n+--------------------+--------------------+---------------+-------------+\nonly showing top 20 rows\n\n</div>",
       "datasetInfos": [],
       "metadata": {},
       "removedWidgets": [],
       "type": "html"
      }
     },
     "output_type": "display_data"
    }
   ],
   "source": [
    "ml_df.show()"
   ]
  },
  {
   "cell_type": "markdown",
   "metadata": {
    "application/vnd.databricks.v1+cell": {
     "inputWidgets": {},
     "nuid": "463e976f-0ddf-46ae-aa8b-6016b5c0826e",
     "showTitle": false,
     "title": ""
    }
   },
   "source": [
    "## Linear regression\n",
    "\n",
    "Finally, we're able to run the linear regression to see how much variance in song distance can be explained by changes in lyrics distance (or how much of song similarity is explained by lyrics similarity)."
   ]
  },
  {
   "cell_type": "code",
   "execution_count": null,
   "metadata": {
    "application/vnd.databricks.v1+cell": {
     "inputWidgets": {},
     "nuid": "5aaecf90-e209-4bb7-8ec2-6e1a9b58a7f4",
     "showTitle": false,
     "title": ""
    }
   },
   "outputs": [
    {
     "data": {
      "text/html": [
       "<style scoped>\n",
       "  .ansiout {\n",
       "    display: block;\n",
       "    unicode-bidi: embed;\n",
       "    white-space: pre-wrap;\n",
       "    word-wrap: break-word;\n",
       "    word-break: break-all;\n",
       "    font-family: \"Source Code Pro\", \"Menlo\", monospace;;\n",
       "    font-size: 13px;\n",
       "    color: #555;\n",
       "    margin-left: 4px;\n",
       "    line-height: 19px;\n",
       "  }\n",
       "</style>\n",
       "<div class=\"ansiout\"></div>"
      ]
     },
     "metadata": {
      "application/vnd.databricks.v1+output": {
       "addedWidgets": {},
       "arguments": {},
       "data": "<div class=\"ansiout\"></div>",
       "datasetInfos": [],
       "metadata": {},
       "removedWidgets": [],
       "type": "html"
      }
     },
     "output_type": "display_data"
    }
   ],
   "source": [
    "# Create training and test data\n",
    "splits = ml_df.randomSplit([0.8, 0.2], 1)\n",
    "train = splits[0].cache()\n",
    "valid = splits[1].cache()"
   ]
  },
  {
   "cell_type": "code",
   "execution_count": null,
   "metadata": {
    "application/vnd.databricks.v1+cell": {
     "inputWidgets": {},
     "nuid": "09676c96-b931-455c-904a-657b60293395",
     "showTitle": false,
     "title": ""
    }
   },
   "outputs": [
    {
     "data": {
      "text/html": [
       "<style scoped>\n",
       "  .ansiout {\n",
       "    display: block;\n",
       "    unicode-bidi: embed;\n",
       "    white-space: pre-wrap;\n",
       "    word-wrap: break-word;\n",
       "    word-break: break-all;\n",
       "    font-family: \"Source Code Pro\", \"Menlo\", monospace;;\n",
       "    font-size: 13px;\n",
       "    color: #555;\n",
       "    margin-left: 4px;\n",
       "    line-height: 19px;\n",
       "  }\n",
       "</style>\n",
       "<div class=\"ansiout\"></div>"
      ]
     },
     "metadata": {
      "application/vnd.databricks.v1+output": {
       "addedWidgets": {},
       "arguments": {},
       "data": "<div class=\"ansiout\"></div>",
       "datasetInfos": [],
       "metadata": {},
       "removedWidgets": [],
       "type": "html"
      }
     },
     "output_type": "display_data"
    }
   ],
   "source": [
    "from pyspark.ml.feature import VectorAssembler\n",
    "from pyspark.ml.regression import LinearRegression\n",
    "\n",
    "va = VectorAssembler(outputCol=\"features\", inputCols=[\"lyrics_distance\"])\n",
    "train_va = va.transform(train).select(\"features\", \"song_distance\").withColumnRenamed(\"song_distance\", \"label\").cache()\n",
    "valid_va = va.transform(valid).select(\"features\", \"song_distance\").withColumnRenamed(\"song_distance\", \"label\").cache()"
   ]
  },
  {
   "cell_type": "code",
   "execution_count": null,
   "metadata": {
    "application/vnd.databricks.v1+cell": {
     "inputWidgets": {},
     "nuid": "760573d0-40ee-4819-9001-e6ca3295fb0e",
     "showTitle": false,
     "title": ""
    }
   },
   "outputs": [
    {
     "data": {
      "text/html": [
       "<style scoped>\n",
       "  .ansiout {\n",
       "    display: block;\n",
       "    unicode-bidi: embed;\n",
       "    white-space: pre-wrap;\n",
       "    word-wrap: break-word;\n",
       "    word-break: break-all;\n",
       "    font-family: \"Source Code Pro\", \"Menlo\", monospace;;\n",
       "    font-size: 13px;\n",
       "    color: #555;\n",
       "    margin-left: 4px;\n",
       "    line-height: 19px;\n",
       "  }\n",
       "</style>\n",
       "<div class=\"ansiout\">+--------------------+---------+\n",
       "            features|    label|\n",
       "+--------------------+---------+\n",
       "[0.43925023078918...|3.6920695|\n",
       "[0.3891196846961975]|3.9978712|\n",
       "[0.4236740469932556]|2.9444509|\n",
       "[0.4685608148574829]|3.5022442|\n",
       "[3.1007516384124756]|4.9172974|\n",
       "[2.2533645629882812]| 4.860533|\n",
       "[3.0769996643066406]|4.1763406|\n",
       "[3.1457955837249756]| 4.500409|\n",
       "[3.1196353435516357]| 4.063187|\n",
       "[3.1241977214813232]|3.8657582|\n",
       " [3.111677646636963]|3.7619135|\n",
       "[3.1014678478240967]| 5.051492|\n",
       "[0.5590356588363647]|2.7080197|\n",
       "[3.1449007987976074]|2.9338021|\n",
       " [3.162168025970459]|3.6978698|\n",
       "[3.1895618438720703]|2.5055172|\n",
       "[0.4005802273750305]|3.6941667|\n",
       "[2.4325225353240967]|4.3587627|\n",
       "[0.42740556597709...|3.2281666|\n",
       "[0.3492421805858612]|2.4606647|\n",
       "+--------------------+---------+\n",
       "only showing top 20 rows\n",
       "\n",
       "</div>"
      ]
     },
     "metadata": {
      "application/vnd.databricks.v1+output": {
       "addedWidgets": {},
       "arguments": {},
       "data": "<div class=\"ansiout\">+--------------------+---------+\n|            features|    label|\n+--------------------+---------+\n|[0.43925023078918...|3.6920695|\n|[0.3891196846961975]|3.9978712|\n|[0.4236740469932556]|2.9444509|\n|[0.4685608148574829]|3.5022442|\n|[3.1007516384124756]|4.9172974|\n|[2.2533645629882812]| 4.860533|\n|[3.0769996643066406]|4.1763406|\n|[3.1457955837249756]| 4.500409|\n|[3.1196353435516357]| 4.063187|\n|[3.1241977214813232]|3.8657582|\n| [3.111677646636963]|3.7619135|\n|[3.1014678478240967]| 5.051492|\n|[0.5590356588363647]|2.7080197|\n|[3.1449007987976074]|2.9338021|\n| [3.162168025970459]|3.6978698|\n|[3.1895618438720703]|2.5055172|\n|[0.4005802273750305]|3.6941667|\n|[2.4325225353240967]|4.3587627|\n|[0.42740556597709...|3.2281666|\n|[0.3492421805858612]|2.4606647|\n+--------------------+---------+\nonly showing top 20 rows\n\n</div>",
       "datasetInfos": [],
       "metadata": {},
       "removedWidgets": [],
       "type": "html"
      }
     },
     "output_type": "display_data"
    }
   ],
   "source": [
    "train_va.show()"
   ]
  },
  {
   "cell_type": "code",
   "execution_count": null,
   "metadata": {
    "application/vnd.databricks.v1+cell": {
     "inputWidgets": {},
     "nuid": "c53b123b-a1e1-484c-ab34-0219ca942b75",
     "showTitle": false,
     "title": ""
    }
   },
   "outputs": [
    {
     "data": {
      "text/html": [
       "<style scoped>\n",
       "  .ansiout {\n",
       "    display: block;\n",
       "    unicode-bidi: embed;\n",
       "    white-space: pre-wrap;\n",
       "    word-wrap: break-word;\n",
       "    word-break: break-all;\n",
       "    font-family: \"Source Code Pro\", \"Menlo\", monospace;;\n",
       "    font-size: 13px;\n",
       "    color: #555;\n",
       "    margin-left: 4px;\n",
       "    line-height: 19px;\n",
       "  }\n",
       "</style>\n",
       "<div class=\"ansiout\"></div>"
      ]
     },
     "metadata": {
      "application/vnd.databricks.v1+output": {
       "addedWidgets": {},
       "arguments": {},
       "data": "<div class=\"ansiout\"></div>",
       "datasetInfos": [],
       "metadata": {},
       "removedWidgets": [],
       "type": "html"
      }
     },
     "output_type": "display_data"
    }
   ],
   "source": [
    "# Fit linear regression to data\n",
    "lr = LinearRegression(regParam=0.0)\n",
    "model = lr.fit(train_va)"
   ]
  },
  {
   "cell_type": "code",
   "execution_count": null,
   "metadata": {
    "application/vnd.databricks.v1+cell": {
     "inputWidgets": {},
     "nuid": "5fda4f4a-2146-4388-977c-a7447c807966",
     "showTitle": false,
     "title": ""
    }
   },
   "outputs": [
    {
     "data": {
      "text/html": [
       "<style scoped>\n",
       "  .ansiout {\n",
       "    display: block;\n",
       "    unicode-bidi: embed;\n",
       "    white-space: pre-wrap;\n",
       "    word-wrap: break-word;\n",
       "    word-break: break-all;\n",
       "    font-family: \"Source Code Pro\", \"Menlo\", monospace;;\n",
       "    font-size: 13px;\n",
       "    color: #555;\n",
       "    margin-left: 4px;\n",
       "    line-height: 19px;\n",
       "  }\n",
       "</style>\n",
       "<div class=\"ansiout\"></div>"
      ]
     },
     "metadata": {
      "application/vnd.databricks.v1+output": {
       "addedWidgets": {},
       "arguments": {},
       "data": "<div class=\"ansiout\"></div>",
       "datasetInfos": [],
       "metadata": {},
       "removedWidgets": [],
       "type": "html"
      }
     },
     "output_type": "display_data"
    }
   ],
   "source": [
    "# Get validation predictions\n",
    "valid_predictions = model.transform(valid_va)"
   ]
  },
  {
   "cell_type": "code",
   "execution_count": null,
   "metadata": {
    "application/vnd.databricks.v1+cell": {
     "inputWidgets": {},
     "nuid": "4ca2ba93-71d4-42e1-b777-9f6c97c30839",
     "showTitle": false,
     "title": ""
    }
   },
   "outputs": [
    {
     "data": {
      "text/html": [
       "<style scoped>\n",
       "  .ansiout {\n",
       "    display: block;\n",
       "    unicode-bidi: embed;\n",
       "    white-space: pre-wrap;\n",
       "    word-wrap: break-word;\n",
       "    word-break: break-all;\n",
       "    font-family: \"Source Code Pro\", \"Menlo\", monospace;;\n",
       "    font-size: 13px;\n",
       "    color: #555;\n",
       "    margin-left: 4px;\n",
       "    line-height: 19px;\n",
       "  }\n",
       "</style>\n",
       "<div class=\"ansiout\">+--------------------+---------+------------------+\n",
       "            features|    label|        prediction|\n",
       "+--------------------+---------+------------------+\n",
       "[3.1528313159942627]|3.6130002| 3.623285249556707|\n",
       " [3.098644971847534]|4.5739603| 3.615417318370832|\n",
       "[0.41371408104896...| 2.719344|3.2255616855488443|\n",
       "[0.2539471983909607]|2.9667482| 3.202363315953526|\n",
       "[0.4732712209224701]|2.6499662| 3.234209463610479|\n",
       " [2.447709560394287]| 5.058909| 3.520900607483399|\n",
       "[0.5843866467475891]|4.2461677| 3.250343575218265|\n",
       "[0.2652985453605652]|2.8399422| 3.204011547038871|\n",
       "[0.40662094950675...| 2.508804|3.2245317531600617|\n",
       "[2.5963921546936035]| 5.353708|3.5424895232684657|\n",
       "[0.4381134808063507]|3.6804113|3.2291045117219466|\n",
       "[0.7053680419921875]| 3.203352| 3.267910239062168|\n",
       "[2.5521392822265625]|4.3990326|3.5360639457390945|\n",
       "[0.27468061447143...| 4.147687| 3.205373836289195|\n",
       "[3.0692291259765625]|3.4542017|3.6111460973698284|\n",
       "[0.32819145917892...|2.3393183|3.2131436840337946|\n",
       "[0.6434056758880615]|3.1557837|3.2589132188664314|\n",
       "[2.1604671478271484]|3.9004805|3.4791926168202316|\n",
       "[2.4186792373657227]|3.6295848|3.5166853649257175|\n",
       "[0.3432964086532593]|3.8927882| 3.215336943330055|\n",
       "+--------------------+---------+------------------+\n",
       "only showing top 20 rows\n",
       "\n",
       "</div>"
      ]
     },
     "metadata": {
      "application/vnd.databricks.v1+output": {
       "addedWidgets": {},
       "arguments": {},
       "data": "<div class=\"ansiout\">+--------------------+---------+------------------+\n|            features|    label|        prediction|\n+--------------------+---------+------------------+\n|[3.1528313159942627]|3.6130002| 3.623285249556707|\n| [3.098644971847534]|4.5739603| 3.615417318370832|\n|[0.41371408104896...| 2.719344|3.2255616855488443|\n|[0.2539471983909607]|2.9667482| 3.202363315953526|\n|[0.4732712209224701]|2.6499662| 3.234209463610479|\n| [2.447709560394287]| 5.058909| 3.520900607483399|\n|[0.5843866467475891]|4.2461677| 3.250343575218265|\n|[0.2652985453605652]|2.8399422| 3.204011547038871|\n|[0.40662094950675...| 2.508804|3.2245317531600617|\n|[2.5963921546936035]| 5.353708|3.5424895232684657|\n|[0.4381134808063507]|3.6804113|3.2291045117219466|\n|[0.7053680419921875]| 3.203352| 3.267910239062168|\n|[2.5521392822265625]|4.3990326|3.5360639457390945|\n|[0.27468061447143...| 4.147687| 3.205373836289195|\n|[3.0692291259765625]|3.4542017|3.6111460973698284|\n|[0.32819145917892...|2.3393183|3.2131436840337946|\n|[0.6434056758880615]|3.1557837|3.2589132188664314|\n|[2.1604671478271484]|3.9004805|3.4791926168202316|\n|[2.4186792373657227]|3.6295848|3.5166853649257175|\n|[0.3432964086532593]|3.8927882| 3.215336943330055|\n+--------------------+---------+------------------+\nonly showing top 20 rows\n\n</div>",
       "datasetInfos": [],
       "metadata": {},
       "removedWidgets": [],
       "type": "html"
      }
     },
     "output_type": "display_data"
    }
   ],
   "source": [
    "valid_predictions.show()"
   ]
  },
  {
   "cell_type": "code",
   "execution_count": null,
   "metadata": {
    "application/vnd.databricks.v1+cell": {
     "inputWidgets": {},
     "nuid": "6d4a0b0b-6fd2-4cc5-a5a8-f9fb82f687a6",
     "showTitle": false,
     "title": ""
    }
   },
   "outputs": [
    {
     "data": {
      "text/html": [
       "<style scoped>\n",
       "  .ansiout {\n",
       "    display: block;\n",
       "    unicode-bidi: embed;\n",
       "    white-space: pre-wrap;\n",
       "    word-wrap: break-word;\n",
       "    word-break: break-all;\n",
       "    font-family: \"Source Code Pro\", \"Menlo\", monospace;;\n",
       "    font-size: 13px;\n",
       "    color: #555;\n",
       "    margin-left: 4px;\n",
       "    line-height: 19px;\n",
       "  }\n",
       "</style>\n",
       "<div class=\"ansiout\">rmse: 0.7535408027933982\n",
       "</div>"
      ]
     },
     "metadata": {
      "application/vnd.databricks.v1+output": {
       "addedWidgets": {},
       "arguments": {},
       "data": "<div class=\"ansiout\">rmse: 0.7535408027933982\n</div>",
       "datasetInfos": [],
       "metadata": {},
       "removedWidgets": [],
       "type": "html"
      }
     },
     "output_type": "display_data"
    }
   ],
   "source": [
    "from pyspark.ml.evaluation import RegressionEvaluator\n",
    "\n",
    "evaluator = RegressionEvaluator()\n",
    "print(evaluator.getMetricName() + \": \" + str(evaluator.evaluate(valid_predictions)))"
   ]
  },
  {
   "cell_type": "code",
   "execution_count": null,
   "metadata": {
    "application/vnd.databricks.v1+cell": {
     "inputWidgets": {},
     "nuid": "4a9ed934-d4bd-4d30-b4e3-37c7e456fdb9",
     "showTitle": false,
     "title": ""
    }
   },
   "outputs": [
    {
     "data": {
      "text/html": [
       "<style scoped>\n",
       "  .ansiout {\n",
       "    display: block;\n",
       "    unicode-bidi: embed;\n",
       "    white-space: pre-wrap;\n",
       "    word-wrap: break-word;\n",
       "    word-break: break-all;\n",
       "    font-family: \"Source Code Pro\", \"Menlo\", monospace;;\n",
       "    font-size: 13px;\n",
       "    color: #555;\n",
       "    margin-left: 4px;\n",
       "    line-height: 19px;\n",
       "  }\n",
       "</style>\n",
       "<div class=\"ansiout\">r2: 0.03442525194969537\n",
       "</div>"
      ]
     },
     "metadata": {
      "application/vnd.databricks.v1+output": {
       "addedWidgets": {},
       "arguments": {},
       "data": "<div class=\"ansiout\">r2: 0.03442525194969537\n</div>",
       "datasetInfos": [],
       "metadata": {},
       "removedWidgets": [],
       "type": "html"
      }
     },
     "output_type": "display_data"
    }
   ],
   "source": [
    "evaluator.setMetricName(\"r2\")\n",
    "print(evaluator.getMetricName() + \": \" + str(evaluator.evaluate(valid_predictions)))"
   ]
  },
  {
   "cell_type": "code",
   "execution_count": null,
   "metadata": {
    "application/vnd.databricks.v1+cell": {
     "inputWidgets": {},
     "nuid": "27aab799-f9c5-4213-960f-96a528f661ef",
     "showTitle": false,
     "title": ""
    }
   },
   "outputs": [
    {
     "data": {
      "text/html": [
       "<style scoped>\n",
       "  .ansiout {\n",
       "    display: block;\n",
       "    unicode-bidi: embed;\n",
       "    white-space: pre-wrap;\n",
       "    word-wrap: break-word;\n",
       "    word-break: break-all;\n",
       "    font-family: \"Source Code Pro\", \"Menlo\", monospace;;\n",
       "    font-size: 13px;\n",
       "    color: #555;\n",
       "    margin-left: 4px;\n",
       "    line-height: 19px;\n",
       "  }\n",
       "</style>\n",
       "<div class=\"ansiout\"></div>"
      ]
     },
     "metadata": {
      "application/vnd.databricks.v1+output": {
       "addedWidgets": {},
       "arguments": {},
       "data": "<div class=\"ansiout\"></div>",
       "datasetInfos": [],
       "metadata": {},
       "removedWidgets": [],
       "type": "html"
      }
     },
     "output_type": "display_data"
    }
   ],
   "source": [
    "# Scale and run regression again\n",
    "from pyspark.ml.feature import MinMaxScaler\n",
    "\n",
    "mmScaler = MinMaxScaler(outputCol=\"lyrics_dist_scaled\", inputCol=\"features\")\n",
    "\n",
    "lyrics_scaler = mmScaler.fit(train_va)"
   ]
  },
  {
   "cell_type": "code",
   "execution_count": null,
   "metadata": {
    "application/vnd.databricks.v1+cell": {
     "inputWidgets": {},
     "nuid": "d9c4704d-7ae2-4c63-814c-70870cf071b1",
     "showTitle": false,
     "title": ""
    }
   },
   "outputs": [
    {
     "data": {
      "text/html": [
       "<style scoped>\n",
       "  .ansiout {\n",
       "    display: block;\n",
       "    unicode-bidi: embed;\n",
       "    white-space: pre-wrap;\n",
       "    word-wrap: break-word;\n",
       "    word-break: break-all;\n",
       "    font-family: \"Source Code Pro\", \"Menlo\", monospace;;\n",
       "    font-size: 13px;\n",
       "    color: #555;\n",
       "    margin-left: 4px;\n",
       "    line-height: 19px;\n",
       "  }\n",
       "</style>\n",
       "<div class=\"ansiout\">Original lyrics (min, max): (DenseVector([0.0]), DenseVector([8.325]))\n",
       "</div>"
      ]
     },
     "metadata": {
      "application/vnd.databricks.v1+output": {
       "addedWidgets": {},
       "arguments": {},
       "data": "<div class=\"ansiout\">Original lyrics (min, max): (DenseVector([0.0]), DenseVector([8.325]))\n</div>",
       "datasetInfos": [],
       "metadata": {},
       "removedWidgets": [],
       "type": "html"
      }
     },
     "output_type": "display_data"
    }
   ],
   "source": [
    "print(\"Original lyrics (min, max):\", (lyrics_scaler.originalMin, lyrics_scaler.originalMax))"
   ]
  },
  {
   "cell_type": "code",
   "execution_count": null,
   "metadata": {
    "application/vnd.databricks.v1+cell": {
     "inputWidgets": {},
     "nuid": "7b36ad8a-7703-4bad-91a9-0ee4c65d6c99",
     "showTitle": false,
     "title": ""
    }
   },
   "outputs": [
    {
     "data": {
      "text/html": [
       "<style scoped>\n",
       "  .ansiout {\n",
       "    display: block;\n",
       "    unicode-bidi: embed;\n",
       "    white-space: pre-wrap;\n",
       "    word-wrap: break-word;\n",
       "    word-break: break-all;\n",
       "    font-family: \"Source Code Pro\", \"Menlo\", monospace;;\n",
       "    font-size: 13px;\n",
       "    color: #555;\n",
       "    margin-left: 4px;\n",
       "    line-height: 19px;\n",
       "  }\n",
       "</style>\n",
       "<div class=\"ansiout\">Row(max(song_distance)=7.888247489929199)\n",
       "</div>"
      ]
     },
     "metadata": {
      "application/vnd.databricks.v1+output": {
       "addedWidgets": {},
       "arguments": {},
       "data": "<div class=\"ansiout\">Row(max(song_distance)=7.888247489929199)\n</div>",
       "datasetInfos": [],
       "metadata": {},
       "removedWidgets": [],
       "type": "html"
      }
     },
     "output_type": "display_data"
    }
   ],
   "source": [
    "row1 = ml_df.agg({\"song_distance\": \"max\"}).collect()[0]\n",
    "print(row1)"
   ]
  },
  {
   "cell_type": "code",
   "execution_count": null,
   "metadata": {
    "application/vnd.databricks.v1+cell": {
     "inputWidgets": {},
     "nuid": "d4cb7703-e173-4a2a-91e8-424c5ad61780",
     "showTitle": false,
     "title": ""
    }
   },
   "outputs": [
    {
     "data": {
      "text/html": [
       "<style scoped>\n",
       "  .ansiout {\n",
       "    display: block;\n",
       "    unicode-bidi: embed;\n",
       "    white-space: pre-wrap;\n",
       "    word-wrap: break-word;\n",
       "    word-break: break-all;\n",
       "    font-family: \"Source Code Pro\", \"Menlo\", monospace;;\n",
       "    font-size: 13px;\n",
       "    color: #555;\n",
       "    margin-left: 4px;\n",
       "    line-height: 19px;\n",
       "  }\n",
       "</style>\n",
       "<div class=\"ansiout\">Row(min(song_distance)=0.3243006467819214)\n",
       "</div>"
      ]
     },
     "metadata": {
      "application/vnd.databricks.v1+output": {
       "addedWidgets": {},
       "arguments": {},
       "data": "<div class=\"ansiout\">Row(min(song_distance)=0.3243006467819214)\n</div>",
       "datasetInfos": [],
       "metadata": {},
       "removedWidgets": [],
       "type": "html"
      }
     },
     "output_type": "display_data"
    }
   ],
   "source": [
    "row1 = ml_df.agg({\"song_distance\": \"min\"}).collect()[0]\n",
    "print(row1)"
   ]
  },
  {
   "cell_type": "code",
   "execution_count": null,
   "metadata": {
    "application/vnd.databricks.v1+cell": {
     "inputWidgets": {},
     "nuid": "17be8679-9c8b-477b-9f20-c92a6d2ffd07",
     "showTitle": false,
     "title": ""
    }
   },
   "outputs": [
    {
     "data": {
      "text/html": [
       "<style scoped>\n",
       "  .ansiout {\n",
       "    display: block;\n",
       "    unicode-bidi: embed;\n",
       "    white-space: pre-wrap;\n",
       "    word-wrap: break-word;\n",
       "    word-break: break-all;\n",
       "    font-family: \"Source Code Pro\", \"Menlo\", monospace;;\n",
       "    font-size: 13px;\n",
       "    color: #555;\n",
       "    margin-left: 4px;\n",
       "    line-height: 19px;\n",
       "  }\n",
       "</style>\n",
       "<div class=\"ansiout\">+--------------------+---------+--------------------+\n",
       "            features|    label|  lyrics_dist_scaled|\n",
       "+--------------------+---------+--------------------+\n",
       "[0.43925023078918...|3.6920695|[0.05276277960550...|\n",
       "[0.3891196846961975]|3.9978712|[0.04674109362880...|\n",
       "[0.4236740469932556]|2.9444509|[0.05089176692273...|\n",
       "[0.4685608148574829]|3.5022442|[0.05628356975859...|\n",
       "[3.1007516384124756]|4.9172974|[0.3724625824670364]|\n",
       "[2.2533645629882812]| 4.860533|  [0.27067436616756]|\n",
       "[3.0769996643066406]|4.1763406|[0.3696094930726601]|\n",
       "[3.1457955837249756]| 4.500409| [0.377873265472976]|\n",
       "[3.1196353435516357]| 4.063187|[0.3747308949289396]|\n",
       "[3.1241977214813232]|3.8657582|[0.3752789282008826]|\n",
       " [3.111677646636963]|3.7619135|[0.37377501561677...|\n",
       "[3.1014678478240967]| 5.051492|[0.37254861360985...|\n",
       "[0.5590356588363647]|2.7080197|[0.06715141664424...|\n",
       "[3.1449007987976074]|2.9338021|[0.37776578382218...|\n",
       " [3.162168025970459]|3.6978698|[0.3798399247966383]|\n",
       "[3.1895618438720703]|2.5055172|[0.38313047281501...|\n",
       "[0.4005802273750305]|3.6941667|[0.04811773510816...|\n",
       "[2.4325225353240967]|4.3587627|[0.29219483888749...|\n",
       "[0.42740556597709...|3.2281666|[0.05133999733887...|\n",
       "[0.3492421805858612]|2.4606647|[0.0419510040326955]|\n",
       "+--------------------+---------+--------------------+\n",
       "only showing top 20 rows\n",
       "\n",
       "</div>"
      ]
     },
     "metadata": {
      "application/vnd.databricks.v1+output": {
       "addedWidgets": {},
       "arguments": {},
       "data": "<div class=\"ansiout\">+--------------------+---------+--------------------+\n|            features|    label|  lyrics_dist_scaled|\n+--------------------+---------+--------------------+\n|[0.43925023078918...|3.6920695|[0.05276277960550...|\n|[0.3891196846961975]|3.9978712|[0.04674109362880...|\n|[0.4236740469932556]|2.9444509|[0.05089176692273...|\n|[0.4685608148574829]|3.5022442|[0.05628356975859...|\n|[3.1007516384124756]|4.9172974|[0.3724625824670364]|\n|[2.2533645629882812]| 4.860533|  [0.27067436616756]|\n|[3.0769996643066406]|4.1763406|[0.3696094930726601]|\n|[3.1457955837249756]| 4.500409| [0.377873265472976]|\n|[3.1196353435516357]| 4.063187|[0.3747308949289396]|\n|[3.1241977214813232]|3.8657582|[0.3752789282008826]|\n| [3.111677646636963]|3.7619135|[0.37377501561677...|\n|[3.1014678478240967]| 5.051492|[0.37254861360985...|\n|[0.5590356588363647]|2.7080197|[0.06715141664424...|\n|[3.1449007987976074]|2.9338021|[0.37776578382218...|\n| [3.162168025970459]|3.6978698|[0.3798399247966383]|\n|[3.1895618438720703]|2.5055172|[0.38313047281501...|\n|[0.4005802273750305]|3.6941667|[0.04811773510816...|\n|[2.4325225353240967]|4.3587627|[0.29219483888749...|\n|[0.42740556597709...|3.2281666|[0.05133999733887...|\n|[0.3492421805858612]|2.4606647|[0.0419510040326955]|\n+--------------------+---------+--------------------+\nonly showing top 20 rows\n\n</div>",
       "datasetInfos": [],
       "metadata": {},
       "removedWidgets": [],
       "type": "html"
      }
     },
     "output_type": "display_data"
    }
   ],
   "source": [
    "train_va_scaled = lyrics_scaler.transform(train_va)\n",
    "train_va_scaled.show()"
   ]
  },
  {
   "cell_type": "code",
   "execution_count": null,
   "metadata": {
    "application/vnd.databricks.v1+cell": {
     "inputWidgets": {},
     "nuid": "369e2f2c-59f5-44c4-9a4c-18a0570ab47d",
     "showTitle": false,
     "title": ""
    }
   },
   "outputs": [
    {
     "data": {
      "text/html": [
       "<style scoped>\n",
       "  .ansiout {\n",
       "    display: block;\n",
       "    unicode-bidi: embed;\n",
       "    white-space: pre-wrap;\n",
       "    word-wrap: break-word;\n",
       "    word-break: break-all;\n",
       "    font-family: \"Source Code Pro\", \"Menlo\", monospace;;\n",
       "    font-size: 13px;\n",
       "    color: #555;\n",
       "    margin-left: 4px;\n",
       "    line-height: 19px;\n",
       "  }\n",
       "</style>\n",
       "<div class=\"ansiout\"></div>"
      ]
     },
     "metadata": {
      "application/vnd.databricks.v1+output": {
       "addedWidgets": {},
       "arguments": {},
       "data": "<div class=\"ansiout\"></div>",
       "datasetInfos": [],
       "metadata": {},
       "removedWidgets": [],
       "type": "html"
      }
     },
     "output_type": "display_data"
    }
   ],
   "source": [
    "train_va_scaled = train_va_scaled.select(\"lyrics_dist_scaled\", \"label\")\\\n",
    "                                 .withColumnRenamed(\"lyrics_dist_scaled\", \"features\")\\\n",
    "                                 .cache()"
   ]
  },
  {
   "cell_type": "code",
   "execution_count": null,
   "metadata": {
    "application/vnd.databricks.v1+cell": {
     "inputWidgets": {},
     "nuid": "b6aa60a2-8752-4c8c-b61f-9d61193a4dcf",
     "showTitle": false,
     "title": ""
    }
   },
   "outputs": [
    {
     "data": {
      "text/html": [
       "<style scoped>\n",
       "  .ansiout {\n",
       "    display: block;\n",
       "    unicode-bidi: embed;\n",
       "    white-space: pre-wrap;\n",
       "    word-wrap: break-word;\n",
       "    word-break: break-all;\n",
       "    font-family: \"Source Code Pro\", \"Menlo\", monospace;;\n",
       "    font-size: 13px;\n",
       "    color: #555;\n",
       "    margin-left: 4px;\n",
       "    line-height: 19px;\n",
       "  }\n",
       "</style>\n",
       "<div class=\"ansiout\">+--------------------+---------+\n",
       "            features|    label|\n",
       "+--------------------+---------+\n",
       "[0.05276277960550...|3.6920695|\n",
       "[0.04674109362880...|3.9978712|\n",
       "[0.05089176692273...|2.9444509|\n",
       "[0.05628356975859...|3.5022442|\n",
       "[0.3724625824670364]|4.9172974|\n",
       "  [0.27067436616756]| 4.860533|\n",
       "[0.3696094930726601]|4.1763406|\n",
       " [0.377873265472976]| 4.500409|\n",
       "[0.3747308949289396]| 4.063187|\n",
       "[0.3752789282008826]|3.8657582|\n",
       "[0.37377501561677...|3.7619135|\n",
       "[0.37254861360985...| 5.051492|\n",
       "[0.06715141664424...|2.7080197|\n",
       "[0.37776578382218...|2.9338021|\n",
       "[0.3798399247966383]|3.6978698|\n",
       "[0.38313047281501...|2.5055172|\n",
       "[0.04811773510816...|3.6941667|\n",
       "[0.29219483888749...|4.3587627|\n",
       "[0.05133999733887...|3.2281666|\n",
       "[0.0419510040326955]|2.4606647|\n",
       "+--------------------+---------+\n",
       "only showing top 20 rows\n",
       "\n",
       "</div>"
      ]
     },
     "metadata": {
      "application/vnd.databricks.v1+output": {
       "addedWidgets": {},
       "arguments": {},
       "data": "<div class=\"ansiout\">+--------------------+---------+\n|            features|    label|\n+--------------------+---------+\n|[0.05276277960550...|3.6920695|\n|[0.04674109362880...|3.9978712|\n|[0.05089176692273...|2.9444509|\n|[0.05628356975859...|3.5022442|\n|[0.3724625824670364]|4.9172974|\n|  [0.27067436616756]| 4.860533|\n|[0.3696094930726601]|4.1763406|\n| [0.377873265472976]| 4.500409|\n|[0.3747308949289396]| 4.063187|\n|[0.3752789282008826]|3.8657582|\n|[0.37377501561677...|3.7619135|\n|[0.37254861360985...| 5.051492|\n|[0.06715141664424...|2.7080197|\n|[0.37776578382218...|2.9338021|\n|[0.3798399247966383]|3.6978698|\n|[0.38313047281501...|2.5055172|\n|[0.04811773510816...|3.6941667|\n|[0.29219483888749...|4.3587627|\n|[0.05133999733887...|3.2281666|\n|[0.0419510040326955]|2.4606647|\n+--------------------+---------+\nonly showing top 20 rows\n\n</div>",
       "datasetInfos": [],
       "metadata": {},
       "removedWidgets": [],
       "type": "html"
      }
     },
     "output_type": "display_data"
    }
   ],
   "source": [
    "train_va_scaled.show()"
   ]
  },
  {
   "cell_type": "code",
   "execution_count": null,
   "metadata": {
    "application/vnd.databricks.v1+cell": {
     "inputWidgets": {},
     "nuid": "3e0316b9-fcae-4aa0-8ba3-9965626e2a04",
     "showTitle": false,
     "title": ""
    }
   },
   "outputs": [
    {
     "data": {
      "text/html": [
       "<style scoped>\n",
       "  .ansiout {\n",
       "    display: block;\n",
       "    unicode-bidi: embed;\n",
       "    white-space: pre-wrap;\n",
       "    word-wrap: break-word;\n",
       "    word-break: break-all;\n",
       "    font-family: \"Source Code Pro\", \"Menlo\", monospace;;\n",
       "    font-size: 13px;\n",
       "    color: #555;\n",
       "    margin-left: 4px;\n",
       "    line-height: 19px;\n",
       "  }\n",
       "</style>\n",
       "<div class=\"ansiout\"></div>"
      ]
     },
     "metadata": {
      "application/vnd.databricks.v1+output": {
       "addedWidgets": {},
       "arguments": {},
       "data": "<div class=\"ansiout\"></div>",
       "datasetInfos": [],
       "metadata": {},
       "removedWidgets": [],
       "type": "html"
      }
     },
     "output_type": "display_data"
    }
   ],
   "source": [
    "# Fit linear regression to *scaled* data\n",
    "lr = LinearRegression(regParam=0.0)\n",
    "model = lr.fit(train_va_scaled)"
   ]
  },
  {
   "cell_type": "code",
   "execution_count": null,
   "metadata": {
    "application/vnd.databricks.v1+cell": {
     "inputWidgets": {},
     "nuid": "fc55767e-13b1-41ea-8051-1825f90e267a",
     "showTitle": false,
     "title": ""
    }
   },
   "outputs": [
    {
     "data": {
      "text/html": [
       "<style scoped>\n",
       "  .ansiout {\n",
       "    display: block;\n",
       "    unicode-bidi: embed;\n",
       "    white-space: pre-wrap;\n",
       "    word-wrap: break-word;\n",
       "    word-break: break-all;\n",
       "    font-family: \"Source Code Pro\", \"Menlo\", monospace;;\n",
       "    font-size: 13px;\n",
       "    color: #555;\n",
       "    margin-left: 4px;\n",
       "    line-height: 19px;\n",
       "  }\n",
       "</style>\n",
       "<div class=\"ansiout\"></div>"
      ]
     },
     "metadata": {
      "application/vnd.databricks.v1+output": {
       "addedWidgets": {},
       "arguments": {},
       "data": "<div class=\"ansiout\"></div>",
       "datasetInfos": [],
       "metadata": {},
       "removedWidgets": [],
       "type": "html"
      }
     },
     "output_type": "display_data"
    }
   ],
   "source": [
    "valid_va_scaled = lyrics_scaler.transform(valid_va)\\\n",
    "                               .select(\"lyrics_dist_scaled\", \"label\")\\\n",
    "                               .withColumnRenamed(\"lyrics_dist_scaled\", \"features\")\\\n",
    "                               .cache()"
   ]
  },
  {
   "cell_type": "code",
   "execution_count": null,
   "metadata": {
    "application/vnd.databricks.v1+cell": {
     "inputWidgets": {},
     "nuid": "8ea37f5c-267a-4635-bce7-1697f5f53f73",
     "showTitle": false,
     "title": ""
    }
   },
   "outputs": [
    {
     "data": {
      "text/html": [
       "<style scoped>\n",
       "  .ansiout {\n",
       "    display: block;\n",
       "    unicode-bidi: embed;\n",
       "    white-space: pre-wrap;\n",
       "    word-wrap: break-word;\n",
       "    word-break: break-all;\n",
       "    font-family: \"Source Code Pro\", \"Menlo\", monospace;;\n",
       "    font-size: 13px;\n",
       "    color: #555;\n",
       "    margin-left: 4px;\n",
       "    line-height: 19px;\n",
       "  }\n",
       "</style>\n",
       "<div class=\"ansiout\"></div>"
      ]
     },
     "metadata": {
      "application/vnd.databricks.v1+output": {
       "addedWidgets": {},
       "arguments": {},
       "data": "<div class=\"ansiout\"></div>",
       "datasetInfos": [],
       "metadata": {},
       "removedWidgets": [],
       "type": "html"
      }
     },
     "output_type": "display_data"
    }
   ],
   "source": [
    "valid_preds_scaled = model.transform(valid_va_scaled)"
   ]
  },
  {
   "cell_type": "code",
   "execution_count": null,
   "metadata": {
    "application/vnd.databricks.v1+cell": {
     "inputWidgets": {},
     "nuid": "fd8dbbe1-e7b6-4a5c-a16d-a90530b7026a",
     "showTitle": false,
     "title": ""
    }
   },
   "outputs": [
    {
     "data": {
      "text/html": [
       "<style scoped>\n",
       "  .ansiout {\n",
       "    display: block;\n",
       "    unicode-bidi: embed;\n",
       "    white-space: pre-wrap;\n",
       "    word-wrap: break-word;\n",
       "    word-break: break-all;\n",
       "    font-family: \"Source Code Pro\", \"Menlo\", monospace;;\n",
       "    font-size: 13px;\n",
       "    color: #555;\n",
       "    margin-left: 4px;\n",
       "    line-height: 19px;\n",
       "  }\n",
       "</style>\n",
       "<div class=\"ansiout\">rmse: 0.753540802793398\n",
       "r2: 0.034425251949696034\n",
       "</div>"
      ]
     },
     "metadata": {
      "application/vnd.databricks.v1+output": {
       "addedWidgets": {},
       "arguments": {},
       "data": "<div class=\"ansiout\">rmse: 0.753540802793398\nr2: 0.034425251949696034\n</div>",
       "datasetInfos": [],
       "metadata": {},
       "removedWidgets": [],
       "type": "html"
      }
     },
     "output_type": "display_data"
    }
   ],
   "source": [
    "# Get results\n",
    "evaluator = RegressionEvaluator()\n",
    "print(evaluator.getMetricName() + \": \" + str(evaluator.evaluate(valid_preds_scaled)))\n",
    "evaluator.setMetricName(\"r2\")\n",
    "print(evaluator.getMetricName() + \": \" + str(evaluator.evaluate(valid_preds_scaled)))"
   ]
  },
  {
   "cell_type": "markdown",
   "metadata": {
    "application/vnd.databricks.v1+cell": {
     "inputWidgets": {},
     "nuid": "a862f13e-a3b6-4002-9630-f72a066153f9",
     "showTitle": false,
     "title": ""
    }
   },
   "source": [
    "So far linear regression seems to suggest no relationship on both scaled and unscaled lyrical distances. Next, fit with a Huber loss function and see if any better results arise."
   ]
  },
  {
   "cell_type": "code",
   "execution_count": null,
   "metadata": {
    "application/vnd.databricks.v1+cell": {
     "inputWidgets": {},
     "nuid": "ea76a13e-82ff-45e8-8394-948f99c4e541",
     "showTitle": false,
     "title": ""
    }
   },
   "outputs": [
    {
     "data": {
      "text/html": [
       "<style scoped>\n",
       "  .ansiout {\n",
       "    display: block;\n",
       "    unicode-bidi: embed;\n",
       "    white-space: pre-wrap;\n",
       "    word-wrap: break-word;\n",
       "    word-break: break-all;\n",
       "    font-family: \"Source Code Pro\", \"Menlo\", monospace;;\n",
       "    font-size: 13px;\n",
       "    color: #555;\n",
       "    margin-left: 4px;\n",
       "    line-height: 19px;\n",
       "  }\n",
       "</style>\n",
       "<div class=\"ansiout\"></div>"
      ]
     },
     "metadata": {
      "application/vnd.databricks.v1+output": {
       "addedWidgets": {},
       "arguments": {},
       "data": "<div class=\"ansiout\"></div>",
       "datasetInfos": [],
       "metadata": {},
       "removedWidgets": [],
       "type": "html"
      }
     },
     "output_type": "display_data"
    }
   ],
   "source": [
    "# Fit with huber loss\n",
    "lr_huber = LinearRegression(regParam=0.0, loss=\"huber\")\n",
    "model_huber = lr_huber.fit(train_va_scaled)"
   ]
  },
  {
   "cell_type": "code",
   "execution_count": null,
   "metadata": {
    "application/vnd.databricks.v1+cell": {
     "inputWidgets": {},
     "nuid": "f8ea4ff8-e618-47a7-a5b4-e148baf786d0",
     "showTitle": false,
     "title": ""
    }
   },
   "outputs": [
    {
     "data": {
      "text/html": [
       "<style scoped>\n",
       "  .ansiout {\n",
       "    display: block;\n",
       "    unicode-bidi: embed;\n",
       "    white-space: pre-wrap;\n",
       "    word-wrap: break-word;\n",
       "    word-break: break-all;\n",
       "    font-family: \"Source Code Pro\", \"Menlo\", monospace;;\n",
       "    font-size: 13px;\n",
       "    color: #555;\n",
       "    margin-left: 4px;\n",
       "    line-height: 19px;\n",
       "  }\n",
       "</style>\n",
       "<div class=\"ansiout\">rmse: 0.753540802793398\n",
       "r2: 0.034425251949696034\n",
       "</div>"
      ]
     },
     "metadata": {
      "application/vnd.databricks.v1+output": {
       "addedWidgets": {},
       "arguments": {},
       "data": "<div class=\"ansiout\">rmse: 0.753540802793398\nr2: 0.034425251949696034\n</div>",
       "datasetInfos": [],
       "metadata": {},
       "removedWidgets": [],
       "type": "html"
      }
     },
     "output_type": "display_data"
    }
   ],
   "source": [
    "# Predict on validation\n",
    "huber_preds = model_huber.transform(valid_va_scaled)\n",
    "# Evaluate and print results\n",
    "evaluator = RegressionEvaluator()\n",
    "print(evaluator.getMetricName() + \": \" + str(evaluator.evaluate(valid_preds_scaled)))\n",
    "evaluator.setMetricName(\"r2\")\n",
    "print(evaluator.getMetricName() + \": \" + str(evaluator.evaluate(valid_preds_scaled)))"
   ]
  },
  {
   "cell_type": "markdown",
   "metadata": {
    "application/vnd.databricks.v1+cell": {
     "inputWidgets": {},
     "nuid": "cd27ef13-fb49-4d84-a23e-7ffb5ce96621",
     "showTitle": false,
     "title": ""
    }
   },
   "source": [
    "## Conclusion\n",
    "\n",
    "Clearly the lyrics distances can only account for about 3% of the variance in the distance between songs. This intuitively makes sense when you consider the range of themes, dialects, and languages that often coincide in the same playlist.\n",
    "\n",
    "Future considerations of this question may weight the word embeddings by TFIDF score in the averaging process for lyrical embeddings. Also, other tree-based models or radius-based models (KNN regressors) could be implemented in case the relationship between lyrics and song placement is not linear.\n",
    "\n",
    "In truth, the lyrics embedding should be fed as input to a much more sophisticated model that takes into account other metrics in order to produce anything meaningful."
   ]
  },
  {
   "cell_type": "code",
   "execution_count": null,
   "metadata": {
    "application/vnd.databricks.v1+cell": {
     "inputWidgets": {},
     "nuid": "b5955396-0854-4b32-a5c1-4b19b678bb36",
     "showTitle": false,
     "title": ""
    }
   },
   "outputs": [
    {
     "data": {
      "text/html": [
       "<style scoped>\n",
       "  .ansiout {\n",
       "    display: block;\n",
       "    unicode-bidi: embed;\n",
       "    white-space: pre-wrap;\n",
       "    word-wrap: break-word;\n",
       "    word-break: break-all;\n",
       "    font-family: \"Source Code Pro\", \"Menlo\", monospace;;\n",
       "    font-size: 13px;\n",
       "    color: #555;\n",
       "    margin-left: 4px;\n",
       "    line-height: 19px;\n",
       "  }\n",
       "</style>"
      ]
     },
     "metadata": {
      "application/vnd.databricks.v1+output": {
       "arguments": {},
       "data": "",
       "errorSummary": "The spark context has stopped and the driver is restarting. Your notebook will be automatically reattached.",
       "errorTraceType": "html",
       "metadata": {},
       "type": "ipynbError"
      }
     },
     "output_type": "display_data"
    }
   ],
   "source": [
    "spark.stop()"
   ]
  },
  {
   "cell_type": "code",
   "execution_count": null,
   "metadata": {
    "application/vnd.databricks.v1+cell": {
     "inputWidgets": {},
     "nuid": "31a846fa-c861-4791-b80a-211aa6930a33",
     "showTitle": false,
     "title": ""
    }
   },
   "outputs": [],
   "source": []
  }
 ],
 "metadata": {
  "application/vnd.databricks.v1+notebook": {
   "dashboards": [],
   "language": "python",
   "notebookMetadata": {
    "pythonIndentUnit": 4
   },
   "notebookName": "Lucas",
   "notebookOrigID": 2484344498303680,
   "widgets": {}
  },
  "kernelspec": {
   "display_name": "",
   "name": ""
  },
  "language_info": {
   "name": ""
  }
 },
 "nbformat": 4,
 "nbformat_minor": 4
}
